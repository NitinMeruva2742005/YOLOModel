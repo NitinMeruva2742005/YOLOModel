{
  "nbformat": 4,
  "nbformat_minor": 0,
  "metadata": {
    "colab": {
      "provenance": [],
      "gpuType": "T4"
    },
    "kernelspec": {
      "name": "python3",
      "display_name": "Python 3"
    },
    "language_info": {
      "name": "python"
    },
    "accelerator": "GPU"
  },
  "cells": [
    {
      "cell_type": "code",
      "execution_count": 1,
      "metadata": {
        "colab": {
          "base_uri": "https://localhost:8080/"
        },
        "id": "q5oCGzMkLEKx",
        "outputId": "1c8e90f4-7931-4641-ea4f-abe6bd4eb6ac"
      },
      "outputs": [
        {
          "output_type": "stream",
          "name": "stdout",
          "text": [
            "Collecting ultralytics\n",
            "  Downloading ultralytics-8.3.162-py3-none-any.whl.metadata (37 kB)\n",
            "Requirement already satisfied: numpy>=1.23.0 in /usr/local/lib/python3.11/dist-packages (from ultralytics) (2.0.2)\n",
            "Requirement already satisfied: matplotlib>=3.3.0 in /usr/local/lib/python3.11/dist-packages (from ultralytics) (3.10.0)\n",
            "Requirement already satisfied: opencv-python>=4.6.0 in /usr/local/lib/python3.11/dist-packages (from ultralytics) (4.11.0.86)\n",
            "Requirement already satisfied: pillow>=7.1.2 in /usr/local/lib/python3.11/dist-packages (from ultralytics) (11.2.1)\n",
            "Requirement already satisfied: pyyaml>=5.3.1 in /usr/local/lib/python3.11/dist-packages (from ultralytics) (6.0.2)\n",
            "Requirement already satisfied: requests>=2.23.0 in /usr/local/lib/python3.11/dist-packages (from ultralytics) (2.32.3)\n",
            "Requirement already satisfied: scipy>=1.4.1 in /usr/local/lib/python3.11/dist-packages (from ultralytics) (1.15.3)\n",
            "Requirement already satisfied: torch>=1.8.0 in /usr/local/lib/python3.11/dist-packages (from ultralytics) (2.6.0+cu124)\n",
            "Requirement already satisfied: torchvision>=0.9.0 in /usr/local/lib/python3.11/dist-packages (from ultralytics) (0.21.0+cu124)\n",
            "Requirement already satisfied: tqdm>=4.64.0 in /usr/local/lib/python3.11/dist-packages (from ultralytics) (4.67.1)\n",
            "Requirement already satisfied: psutil in /usr/local/lib/python3.11/dist-packages (from ultralytics) (5.9.5)\n",
            "Requirement already satisfied: py-cpuinfo in /usr/local/lib/python3.11/dist-packages (from ultralytics) (9.0.0)\n",
            "Requirement already satisfied: pandas>=1.1.4 in /usr/local/lib/python3.11/dist-packages (from ultralytics) (2.2.2)\n",
            "Collecting ultralytics-thop>=2.0.0 (from ultralytics)\n",
            "  Downloading ultralytics_thop-2.0.14-py3-none-any.whl.metadata (9.4 kB)\n",
            "Requirement already satisfied: contourpy>=1.0.1 in /usr/local/lib/python3.11/dist-packages (from matplotlib>=3.3.0->ultralytics) (1.3.2)\n",
            "Requirement already satisfied: cycler>=0.10 in /usr/local/lib/python3.11/dist-packages (from matplotlib>=3.3.0->ultralytics) (0.12.1)\n",
            "Requirement already satisfied: fonttools>=4.22.0 in /usr/local/lib/python3.11/dist-packages (from matplotlib>=3.3.0->ultralytics) (4.58.4)\n",
            "Requirement already satisfied: kiwisolver>=1.3.1 in /usr/local/lib/python3.11/dist-packages (from matplotlib>=3.3.0->ultralytics) (1.4.8)\n",
            "Requirement already satisfied: packaging>=20.0 in /usr/local/lib/python3.11/dist-packages (from matplotlib>=3.3.0->ultralytics) (24.2)\n",
            "Requirement already satisfied: pyparsing>=2.3.1 in /usr/local/lib/python3.11/dist-packages (from matplotlib>=3.3.0->ultralytics) (3.2.3)\n",
            "Requirement already satisfied: python-dateutil>=2.7 in /usr/local/lib/python3.11/dist-packages (from matplotlib>=3.3.0->ultralytics) (2.9.0.post0)\n",
            "Requirement already satisfied: pytz>=2020.1 in /usr/local/lib/python3.11/dist-packages (from pandas>=1.1.4->ultralytics) (2025.2)\n",
            "Requirement already satisfied: tzdata>=2022.7 in /usr/local/lib/python3.11/dist-packages (from pandas>=1.1.4->ultralytics) (2025.2)\n",
            "Requirement already satisfied: charset-normalizer<4,>=2 in /usr/local/lib/python3.11/dist-packages (from requests>=2.23.0->ultralytics) (3.4.2)\n",
            "Requirement already satisfied: idna<4,>=2.5 in /usr/local/lib/python3.11/dist-packages (from requests>=2.23.0->ultralytics) (3.10)\n",
            "Requirement already satisfied: urllib3<3,>=1.21.1 in /usr/local/lib/python3.11/dist-packages (from requests>=2.23.0->ultralytics) (2.4.0)\n",
            "Requirement already satisfied: certifi>=2017.4.17 in /usr/local/lib/python3.11/dist-packages (from requests>=2.23.0->ultralytics) (2025.6.15)\n",
            "Requirement already satisfied: filelock in /usr/local/lib/python3.11/dist-packages (from torch>=1.8.0->ultralytics) (3.18.0)\n",
            "Requirement already satisfied: typing-extensions>=4.10.0 in /usr/local/lib/python3.11/dist-packages (from torch>=1.8.0->ultralytics) (4.14.0)\n",
            "Requirement already satisfied: networkx in /usr/local/lib/python3.11/dist-packages (from torch>=1.8.0->ultralytics) (3.5)\n",
            "Requirement already satisfied: jinja2 in /usr/local/lib/python3.11/dist-packages (from torch>=1.8.0->ultralytics) (3.1.6)\n",
            "Requirement already satisfied: fsspec in /usr/local/lib/python3.11/dist-packages (from torch>=1.8.0->ultralytics) (2025.3.2)\n",
            "Collecting nvidia-cuda-nvrtc-cu12==12.4.127 (from torch>=1.8.0->ultralytics)\n",
            "  Downloading nvidia_cuda_nvrtc_cu12-12.4.127-py3-none-manylinux2014_x86_64.whl.metadata (1.5 kB)\n",
            "Collecting nvidia-cuda-runtime-cu12==12.4.127 (from torch>=1.8.0->ultralytics)\n",
            "  Downloading nvidia_cuda_runtime_cu12-12.4.127-py3-none-manylinux2014_x86_64.whl.metadata (1.5 kB)\n",
            "Collecting nvidia-cuda-cupti-cu12==12.4.127 (from torch>=1.8.0->ultralytics)\n",
            "  Downloading nvidia_cuda_cupti_cu12-12.4.127-py3-none-manylinux2014_x86_64.whl.metadata (1.6 kB)\n",
            "Collecting nvidia-cudnn-cu12==9.1.0.70 (from torch>=1.8.0->ultralytics)\n",
            "  Downloading nvidia_cudnn_cu12-9.1.0.70-py3-none-manylinux2014_x86_64.whl.metadata (1.6 kB)\n",
            "Collecting nvidia-cublas-cu12==12.4.5.8 (from torch>=1.8.0->ultralytics)\n",
            "  Downloading nvidia_cublas_cu12-12.4.5.8-py3-none-manylinux2014_x86_64.whl.metadata (1.5 kB)\n",
            "Collecting nvidia-cufft-cu12==11.2.1.3 (from torch>=1.8.0->ultralytics)\n",
            "  Downloading nvidia_cufft_cu12-11.2.1.3-py3-none-manylinux2014_x86_64.whl.metadata (1.5 kB)\n",
            "Collecting nvidia-curand-cu12==10.3.5.147 (from torch>=1.8.0->ultralytics)\n",
            "  Downloading nvidia_curand_cu12-10.3.5.147-py3-none-manylinux2014_x86_64.whl.metadata (1.5 kB)\n",
            "Collecting nvidia-cusolver-cu12==11.6.1.9 (from torch>=1.8.0->ultralytics)\n",
            "  Downloading nvidia_cusolver_cu12-11.6.1.9-py3-none-manylinux2014_x86_64.whl.metadata (1.6 kB)\n",
            "Collecting nvidia-cusparse-cu12==12.3.1.170 (from torch>=1.8.0->ultralytics)\n",
            "  Downloading nvidia_cusparse_cu12-12.3.1.170-py3-none-manylinux2014_x86_64.whl.metadata (1.6 kB)\n",
            "Requirement already satisfied: nvidia-cusparselt-cu12==0.6.2 in /usr/local/lib/python3.11/dist-packages (from torch>=1.8.0->ultralytics) (0.6.2)\n",
            "Requirement already satisfied: nvidia-nccl-cu12==2.21.5 in /usr/local/lib/python3.11/dist-packages (from torch>=1.8.0->ultralytics) (2.21.5)\n",
            "Requirement already satisfied: nvidia-nvtx-cu12==12.4.127 in /usr/local/lib/python3.11/dist-packages (from torch>=1.8.0->ultralytics) (12.4.127)\n",
            "Collecting nvidia-nvjitlink-cu12==12.4.127 (from torch>=1.8.0->ultralytics)\n",
            "  Downloading nvidia_nvjitlink_cu12-12.4.127-py3-none-manylinux2014_x86_64.whl.metadata (1.5 kB)\n",
            "Requirement already satisfied: triton==3.2.0 in /usr/local/lib/python3.11/dist-packages (from torch>=1.8.0->ultralytics) (3.2.0)\n",
            "Requirement already satisfied: sympy==1.13.1 in /usr/local/lib/python3.11/dist-packages (from torch>=1.8.0->ultralytics) (1.13.1)\n",
            "Requirement already satisfied: mpmath<1.4,>=1.1.0 in /usr/local/lib/python3.11/dist-packages (from sympy==1.13.1->torch>=1.8.0->ultralytics) (1.3.0)\n",
            "Requirement already satisfied: six>=1.5 in /usr/local/lib/python3.11/dist-packages (from python-dateutil>=2.7->matplotlib>=3.3.0->ultralytics) (1.17.0)\n",
            "Requirement already satisfied: MarkupSafe>=2.0 in /usr/local/lib/python3.11/dist-packages (from jinja2->torch>=1.8.0->ultralytics) (3.0.2)\n",
            "Downloading ultralytics-8.3.162-py3-none-any.whl (1.0 MB)\n",
            "\u001b[2K   \u001b[90m━━━━━━━━━━━━━━━━━━━━━━━━━━━━━━━━━━━━━━━━\u001b[0m \u001b[32m1.0/1.0 MB\u001b[0m \u001b[31m54.2 MB/s\u001b[0m eta \u001b[36m0:00:00\u001b[0m\n",
            "\u001b[?25hDownloading nvidia_cublas_cu12-12.4.5.8-py3-none-manylinux2014_x86_64.whl (363.4 MB)\n",
            "\u001b[2K   \u001b[90m━━━━━━━━━━━━━━━━━━━━━━━━━━━━━━━━━━━━━━━━\u001b[0m \u001b[32m363.4/363.4 MB\u001b[0m \u001b[31m4.8 MB/s\u001b[0m eta \u001b[36m0:00:00\u001b[0m\n",
            "\u001b[?25hDownloading nvidia_cuda_cupti_cu12-12.4.127-py3-none-manylinux2014_x86_64.whl (13.8 MB)\n",
            "\u001b[2K   \u001b[90m━━━━━━━━━━━━━━━━━━━━━━━━━━━━━━━━━━━━━━━━\u001b[0m \u001b[32m13.8/13.8 MB\u001b[0m \u001b[31m101.7 MB/s\u001b[0m eta \u001b[36m0:00:00\u001b[0m\n",
            "\u001b[?25hDownloading nvidia_cuda_nvrtc_cu12-12.4.127-py3-none-manylinux2014_x86_64.whl (24.6 MB)\n",
            "\u001b[2K   \u001b[90m━━━━━━━━━━━━━━━━━━━━━━━━━━━━━━━━━━━━━━━━\u001b[0m \u001b[32m24.6/24.6 MB\u001b[0m \u001b[31m93.5 MB/s\u001b[0m eta \u001b[36m0:00:00\u001b[0m\n",
            "\u001b[?25hDownloading nvidia_cuda_runtime_cu12-12.4.127-py3-none-manylinux2014_x86_64.whl (883 kB)\n",
            "\u001b[2K   \u001b[90m━━━━━━━━━━━━━━━━━━━━━━━━━━━━━━━━━━━━━━━━\u001b[0m \u001b[32m883.7/883.7 kB\u001b[0m \u001b[31m58.1 MB/s\u001b[0m eta \u001b[36m0:00:00\u001b[0m\n",
            "\u001b[?25hDownloading nvidia_cudnn_cu12-9.1.0.70-py3-none-manylinux2014_x86_64.whl (664.8 MB)\n",
            "\u001b[2K   \u001b[90m━━━━━━━━━━━━━━━━━━━━━━━━━━━━━━━━━━━━━━━\u001b[0m \u001b[32m664.8/664.8 MB\u001b[0m \u001b[31m882.2 kB/s\u001b[0m eta \u001b[36m0:00:00\u001b[0m\n",
            "\u001b[?25hDownloading nvidia_cufft_cu12-11.2.1.3-py3-none-manylinux2014_x86_64.whl (211.5 MB)\n",
            "\u001b[2K   \u001b[90m━━━━━━━━━━━━━━━━━━━━━━━━━━━━━━━━━━━━━━━━\u001b[0m \u001b[32m211.5/211.5 MB\u001b[0m \u001b[31m5.7 MB/s\u001b[0m eta \u001b[36m0:00:00\u001b[0m\n",
            "\u001b[?25hDownloading nvidia_curand_cu12-10.3.5.147-py3-none-manylinux2014_x86_64.whl (56.3 MB)\n",
            "\u001b[2K   \u001b[90m━━━━━━━━━━━━━━━━━━━━━━━━━━━━━━━━━━━━━━━━\u001b[0m \u001b[32m56.3/56.3 MB\u001b[0m \u001b[31m12.8 MB/s\u001b[0m eta \u001b[36m0:00:00\u001b[0m\n",
            "\u001b[?25hDownloading nvidia_cusolver_cu12-11.6.1.9-py3-none-manylinux2014_x86_64.whl (127.9 MB)\n",
            "\u001b[2K   \u001b[90m━━━━━━━━━━━━━━━━━━━━━━━━━━━━━━━━━━━━━━━━\u001b[0m \u001b[32m127.9/127.9 MB\u001b[0m \u001b[31m7.4 MB/s\u001b[0m eta \u001b[36m0:00:00\u001b[0m\n",
            "\u001b[?25hDownloading nvidia_cusparse_cu12-12.3.1.170-py3-none-manylinux2014_x86_64.whl (207.5 MB)\n",
            "\u001b[2K   \u001b[90m━━━━━━━━━━━━━━━━━━━━━━━━━━━━━━━━━━━━━━━━\u001b[0m \u001b[32m207.5/207.5 MB\u001b[0m \u001b[31m5.7 MB/s\u001b[0m eta \u001b[36m0:00:00\u001b[0m\n",
            "\u001b[?25hDownloading nvidia_nvjitlink_cu12-12.4.127-py3-none-manylinux2014_x86_64.whl (21.1 MB)\n",
            "\u001b[2K   \u001b[90m━━━━━━━━━━━━━━━━━━━━━━━━━━━━━━━━━━━━━━━━\u001b[0m \u001b[32m21.1/21.1 MB\u001b[0m \u001b[31m105.3 MB/s\u001b[0m eta \u001b[36m0:00:00\u001b[0m\n",
            "\u001b[?25hDownloading ultralytics_thop-2.0.14-py3-none-any.whl (26 kB)\n",
            "Installing collected packages: nvidia-nvjitlink-cu12, nvidia-curand-cu12, nvidia-cufft-cu12, nvidia-cuda-runtime-cu12, nvidia-cuda-nvrtc-cu12, nvidia-cuda-cupti-cu12, nvidia-cublas-cu12, nvidia-cusparse-cu12, nvidia-cudnn-cu12, nvidia-cusolver-cu12, ultralytics-thop, ultralytics\n",
            "  Attempting uninstall: nvidia-nvjitlink-cu12\n",
            "    Found existing installation: nvidia-nvjitlink-cu12 12.5.82\n",
            "    Uninstalling nvidia-nvjitlink-cu12-12.5.82:\n",
            "      Successfully uninstalled nvidia-nvjitlink-cu12-12.5.82\n",
            "  Attempting uninstall: nvidia-curand-cu12\n",
            "    Found existing installation: nvidia-curand-cu12 10.3.6.82\n",
            "    Uninstalling nvidia-curand-cu12-10.3.6.82:\n",
            "      Successfully uninstalled nvidia-curand-cu12-10.3.6.82\n",
            "  Attempting uninstall: nvidia-cufft-cu12\n",
            "    Found existing installation: nvidia-cufft-cu12 11.2.3.61\n",
            "    Uninstalling nvidia-cufft-cu12-11.2.3.61:\n",
            "      Successfully uninstalled nvidia-cufft-cu12-11.2.3.61\n",
            "  Attempting uninstall: nvidia-cuda-runtime-cu12\n",
            "    Found existing installation: nvidia-cuda-runtime-cu12 12.5.82\n",
            "    Uninstalling nvidia-cuda-runtime-cu12-12.5.82:\n",
            "      Successfully uninstalled nvidia-cuda-runtime-cu12-12.5.82\n",
            "  Attempting uninstall: nvidia-cuda-nvrtc-cu12\n",
            "    Found existing installation: nvidia-cuda-nvrtc-cu12 12.5.82\n",
            "    Uninstalling nvidia-cuda-nvrtc-cu12-12.5.82:\n",
            "      Successfully uninstalled nvidia-cuda-nvrtc-cu12-12.5.82\n",
            "  Attempting uninstall: nvidia-cuda-cupti-cu12\n",
            "    Found existing installation: nvidia-cuda-cupti-cu12 12.5.82\n",
            "    Uninstalling nvidia-cuda-cupti-cu12-12.5.82:\n",
            "      Successfully uninstalled nvidia-cuda-cupti-cu12-12.5.82\n",
            "  Attempting uninstall: nvidia-cublas-cu12\n",
            "    Found existing installation: nvidia-cublas-cu12 12.5.3.2\n",
            "    Uninstalling nvidia-cublas-cu12-12.5.3.2:\n",
            "      Successfully uninstalled nvidia-cublas-cu12-12.5.3.2\n",
            "  Attempting uninstall: nvidia-cusparse-cu12\n",
            "    Found existing installation: nvidia-cusparse-cu12 12.5.1.3\n",
            "    Uninstalling nvidia-cusparse-cu12-12.5.1.3:\n",
            "      Successfully uninstalled nvidia-cusparse-cu12-12.5.1.3\n",
            "  Attempting uninstall: nvidia-cudnn-cu12\n",
            "    Found existing installation: nvidia-cudnn-cu12 9.3.0.75\n",
            "    Uninstalling nvidia-cudnn-cu12-9.3.0.75:\n",
            "      Successfully uninstalled nvidia-cudnn-cu12-9.3.0.75\n",
            "  Attempting uninstall: nvidia-cusolver-cu12\n",
            "    Found existing installation: nvidia-cusolver-cu12 11.6.3.83\n",
            "    Uninstalling nvidia-cusolver-cu12-11.6.3.83:\n",
            "      Successfully uninstalled nvidia-cusolver-cu12-11.6.3.83\n",
            "Successfully installed nvidia-cublas-cu12-12.4.5.8 nvidia-cuda-cupti-cu12-12.4.127 nvidia-cuda-nvrtc-cu12-12.4.127 nvidia-cuda-runtime-cu12-12.4.127 nvidia-cudnn-cu12-9.1.0.70 nvidia-cufft-cu12-11.2.1.3 nvidia-curand-cu12-10.3.5.147 nvidia-cusolver-cu12-11.6.1.9 nvidia-cusparse-cu12-12.3.1.170 nvidia-nvjitlink-cu12-12.4.127 ultralytics-8.3.162 ultralytics-thop-2.0.14\n"
          ]
        }
      ],
      "source": [
        "#install ultralytics into google colab for Yolo\n",
        "!pip install ultralytics"
      ]
    },
    {
      "cell_type": "code",
      "source": [
        "#training the model based on .yaml file\n",
        "from ultralytics import YOLO\n",
        "model=YOLO('yolov5m.yaml')#we can use yolov5 or yolov8 and its size s,m,x varies with performance and accuracy\n",
        "model.train(data='/content/drive/MyDrive/YOLO_Datasets/Drone-Object-Detection-2/data.yaml',epochs=100,imgsz=640)"
      ],
      "metadata": {
        "colab": {
          "base_uri": "https://localhost:8080/"
        },
        "id": "Y33FAGVKLlJ6",
        "outputId": "22ee46c5-20e4-42ba-a638-c5f569470a3b"
      },
      "execution_count": 2,
      "outputs": [
        {
          "output_type": "stream",
          "name": "stdout",
          "text": [
            "Creating new Ultralytics Settings v0.0.6 file ✅ \n",
            "View Ultralytics Settings with 'yolo settings' or at '/root/.config/Ultralytics/settings.json'\n",
            "Update Settings with 'yolo settings key=value', i.e. 'yolo settings runs_dir=path/to/dir'. For help see https://docs.ultralytics.com/quickstart/#ultralytics-settings.\n",
            "Ultralytics 8.3.162 🚀 Python-3.11.13 torch-2.6.0+cu124 CUDA:0 (Tesla T4, 15095MiB)\n",
            "\u001b[34m\u001b[1mengine/trainer: \u001b[0magnostic_nms=False, amp=True, augment=False, auto_augment=randaugment, batch=16, bgr=0.0, box=7.5, cache=False, cfg=None, classes=None, close_mosaic=10, cls=0.5, conf=None, copy_paste=0.0, copy_paste_mode=flip, cos_lr=False, cutmix=0.0, data=/content/drive/MyDrive/YOLO_Datasets/Drone-Object-Detection-2/data.yaml, degrees=0.0, deterministic=True, device=None, dfl=1.5, dnn=False, dropout=0.0, dynamic=False, embed=None, epochs=100, erasing=0.4, exist_ok=False, fliplr=0.5, flipud=0.0, format=torchscript, fraction=1.0, freeze=None, half=False, hsv_h=0.015, hsv_s=0.7, hsv_v=0.4, imgsz=640, int8=False, iou=0.7, keras=False, kobj=1.0, line_width=None, lr0=0.01, lrf=0.01, mask_ratio=4, max_det=300, mixup=0.0, mode=train, model=yolov5m.yaml, momentum=0.937, mosaic=1.0, multi_scale=False, name=train, nbs=64, nms=False, opset=None, optimize=False, optimizer=auto, overlap_mask=True, patience=100, perspective=0.0, plots=True, pose=12.0, pretrained=True, profile=False, project=None, rect=False, resume=False, retina_masks=False, save=True, save_conf=False, save_crop=False, save_dir=runs/detect/train, save_frames=False, save_json=False, save_period=-1, save_txt=False, scale=0.5, seed=0, shear=0.0, show=False, show_boxes=True, show_conf=True, show_labels=True, simplify=True, single_cls=False, source=None, split=val, stream_buffer=False, task=detect, time=None, tracker=botsort.yaml, translate=0.1, val=True, verbose=True, vid_stride=1, visualize=False, warmup_bias_lr=0.1, warmup_epochs=3.0, warmup_momentum=0.8, weight_decay=0.0005, workers=8, workspace=None\n",
            "Downloading https://ultralytics.com/assets/Arial.ttf to '/root/.config/Ultralytics/Arial.ttf'...\n"
          ]
        },
        {
          "output_type": "stream",
          "name": "stderr",
          "text": [
            "100%|██████████| 755k/755k [00:00<00:00, 98.5MB/s]"
          ]
        },
        {
          "output_type": "stream",
          "name": "stdout",
          "text": [
            "Overriding model.yaml nc=80 with nc=6\n",
            "\n",
            "                   from  n    params  module                                       arguments                     \n",
            "  0                  -1  1      5280  ultralytics.nn.modules.conv.Conv             [3, 48, 6, 2, 2]              \n",
            "  1                  -1  1     41664  ultralytics.nn.modules.conv.Conv             [48, 96, 3, 2]                \n",
            "  2                  -1  2     65280  ultralytics.nn.modules.block.C3              [96, 96, 2]                   \n",
            "  3                  -1  1    166272  ultralytics.nn.modules.conv.Conv             [96, 192, 3, 2]               \n",
            "  4                  -1  4    444672  ultralytics.nn.modules.block.C3              [192, 192, 4]                 \n",
            "  5                  -1  1    664320  ultralytics.nn.modules.conv.Conv             [192, 384, 3, 2]              \n",
            "  6                  -1  6   2512896  ultralytics.nn.modules.block.C3              [384, 384, 6]                 \n",
            "  7                  -1  1   2655744  ultralytics.nn.modules.conv.Conv             [384, 768, 3, 2]              \n",
            "  8                  -1  2   4134912  ultralytics.nn.modules.block.C3              [768, 768, 2]                 \n",
            "  9                  -1  1   1476864  ultralytics.nn.modules.block.SPPF            [768, 768, 5]                 \n",
            " 10                  -1  1    295680  ultralytics.nn.modules.conv.Conv             [768, 384, 1, 1]              \n",
            " 11                  -1  1         0  torch.nn.modules.upsampling.Upsample         [None, 2, 'nearest']          \n",
            " 12             [-1, 6]  1         0  ultralytics.nn.modules.conv.Concat           [1]                           \n"
          ]
        },
        {
          "output_type": "stream",
          "name": "stderr",
          "text": [
            "\n"
          ]
        },
        {
          "output_type": "stream",
          "name": "stdout",
          "text": [
            " 13                  -1  2   1182720  ultralytics.nn.modules.block.C3              [768, 384, 2, False]          \n",
            " 14                  -1  1     74112  ultralytics.nn.modules.conv.Conv             [384, 192, 1, 1]              \n",
            " 15                  -1  1         0  torch.nn.modules.upsampling.Upsample         [None, 2, 'nearest']          \n",
            " 16             [-1, 4]  1         0  ultralytics.nn.modules.conv.Concat           [1]                           \n",
            " 17                  -1  2    296448  ultralytics.nn.modules.block.C3              [384, 192, 2, False]          \n",
            " 18                  -1  1    332160  ultralytics.nn.modules.conv.Conv             [192, 192, 3, 2]              \n",
            " 19            [-1, 14]  1         0  ultralytics.nn.modules.conv.Concat           [1]                           \n",
            " 20                  -1  2   1035264  ultralytics.nn.modules.block.C3              [384, 384, 2, False]          \n",
            " 21                  -1  1   1327872  ultralytics.nn.modules.conv.Conv             [384, 384, 3, 2]              \n",
            " 22            [-1, 10]  1         0  ultralytics.nn.modules.conv.Concat           [1]                           \n",
            " 23                  -1  2   4134912  ultralytics.nn.modules.block.C3              [768, 768, 2, False]          \n",
            " 24        [17, 20, 23]  1   4221538  ultralytics.nn.modules.head.Detect           [6, [192, 384, 768]]          \n",
            "YOLOv5m summary: 197 layers, 25,068,610 parameters, 25,068,594 gradients, 64.4 GFLOPs\n",
            "\n",
            "Freezing layer 'model.24.dfl.conv.weight'\n",
            "\u001b[34m\u001b[1mAMP: \u001b[0mrunning Automatic Mixed Precision (AMP) checks...\n",
            "Downloading https://github.com/ultralytics/assets/releases/download/v8.3.0/yolo11n.pt to 'yolo11n.pt'...\n"
          ]
        },
        {
          "output_type": "stream",
          "name": "stderr",
          "text": [
            "100%|██████████| 5.35M/5.35M [00:00<00:00, 264MB/s]\n"
          ]
        },
        {
          "output_type": "stream",
          "name": "stdout",
          "text": [
            "\u001b[34m\u001b[1mAMP: \u001b[0mchecks passed ✅\n",
            "\u001b[34m\u001b[1mtrain: \u001b[0mFast image access ✅ (ping: 1.8±2.5 ms, read: 0.1±0.0 MB/s, size: 82.6 KB)\n"
          ]
        },
        {
          "output_type": "stream",
          "name": "stderr",
          "text": [
            "\u001b[34m\u001b[1mtrain: \u001b[0mScanning /content/drive/MyDrive/YOLO_Datasets/Drone-Object-Detection-2/train/labels.cache... 221 images, 0 backgrounds, 0 corrupt: 100%|██████████| 221/221 [00:00<?, ?it/s]\n"
          ]
        },
        {
          "output_type": "stream",
          "name": "stdout",
          "text": [
            "\u001b[34m\u001b[1malbumentations: \u001b[0mBlur(p=0.01, blur_limit=(3, 7)), MedianBlur(p=0.01, blur_limit=(3, 7)), ToGray(p=0.01, method='weighted_average', num_output_channels=3), CLAHE(p=0.01, clip_limit=(1.0, 4.0), tile_grid_size=(8, 8))\n",
            "\u001b[34m\u001b[1mval: \u001b[0mFast image access ✅ (ping: 0.9±0.9 ms, read: 0.1±0.0 MB/s, size: 82.5 KB)\n"
          ]
        },
        {
          "output_type": "stream",
          "name": "stderr",
          "text": [
            "\u001b[34m\u001b[1mval: \u001b[0mScanning /content/drive/MyDrive/YOLO_Datasets/Drone-Object-Detection-2/valid/labels.cache... 74 images, 0 backgrounds, 0 corrupt: 100%|██████████| 74/74 [00:00<?, ?it/s]\n"
          ]
        },
        {
          "output_type": "stream",
          "name": "stdout",
          "text": [
            "Plotting labels to runs/detect/train/labels.jpg... \n",
            "\u001b[34m\u001b[1moptimizer:\u001b[0m 'optimizer=auto' found, ignoring 'lr0=0.01' and 'momentum=0.937' and determining best 'optimizer', 'lr0' and 'momentum' automatically... \n",
            "\u001b[34m\u001b[1moptimizer:\u001b[0m AdamW(lr=0.001, momentum=0.9) with parameter groups 91 weight(decay=0.0), 98 weight(decay=0.0005), 97 bias(decay=0.0)\n",
            "Image sizes 640 train, 640 val\n",
            "Using 2 dataloader workers\n",
            "Logging results to \u001b[1mruns/detect/train\u001b[0m\n",
            "Starting training for 100 epochs...\n",
            "\n",
            "      Epoch    GPU_mem   box_loss   cls_loss   dfl_loss  Instances       Size\n"
          ]
        },
        {
          "output_type": "stream",
          "name": "stderr",
          "text": [
            "      1/100      9.86G      4.406      4.297      4.174       2427        640: 100%|██████████| 14/14 [00:10<00:00,  1.29it/s]\n",
            "                 Class     Images  Instances      Box(P          R      mAP50  mAP50-95): 100%|██████████| 3/3 [00:52<00:00, 17.40s/it]"
          ]
        },
        {
          "output_type": "stream",
          "name": "stdout",
          "text": [
            "                   all         74      10577    0.00622     0.0108    0.00371    0.00169\n"
          ]
        },
        {
          "output_type": "stream",
          "name": "stderr",
          "text": [
            "\n"
          ]
        },
        {
          "output_type": "stream",
          "name": "stdout",
          "text": [
            "\n",
            "      Epoch    GPU_mem   box_loss   cls_loss   dfl_loss  Instances       Size\n"
          ]
        },
        {
          "output_type": "stream",
          "name": "stderr",
          "text": [
            "      2/100      8.99G      4.274      2.985      4.022       2506        640: 100%|██████████| 14/14 [00:08<00:00,  1.75it/s]\n",
            "                 Class     Images  Instances      Box(P          R      mAP50  mAP50-95): 100%|██████████| 3/3 [00:01<00:00,  2.30it/s]"
          ]
        },
        {
          "output_type": "stream",
          "name": "stdout",
          "text": [
            "                   all         74      10577   6.01e-05   0.000661   3.16e-05   1.43e-05\n"
          ]
        },
        {
          "output_type": "stream",
          "name": "stderr",
          "text": [
            "\n"
          ]
        },
        {
          "output_type": "stream",
          "name": "stdout",
          "text": [
            "\n",
            "      Epoch    GPU_mem   box_loss   cls_loss   dfl_loss  Instances       Size\n"
          ]
        },
        {
          "output_type": "stream",
          "name": "stderr",
          "text": [
            "      3/100      11.7G       4.04      2.401       3.87       2631        640: 100%|██████████| 14/14 [00:07<00:00,  1.85it/s]\n",
            "                 Class     Images  Instances      Box(P          R      mAP50  mAP50-95): 100%|██████████| 3/3 [00:01<00:00,  1.77it/s]"
          ]
        },
        {
          "output_type": "stream",
          "name": "stdout",
          "text": [
            "                   all         74      10577     0.0289     0.0152     0.0183    0.00553\n"
          ]
        },
        {
          "output_type": "stream",
          "name": "stderr",
          "text": [
            "\n"
          ]
        },
        {
          "output_type": "stream",
          "name": "stdout",
          "text": [
            "\n",
            "      Epoch    GPU_mem   box_loss   cls_loss   dfl_loss  Instances       Size\n"
          ]
        },
        {
          "output_type": "stream",
          "name": "stderr",
          "text": [
            "      4/100      8.34G      3.767      2.218      3.659       2913        640: 100%|██████████| 14/14 [00:07<00:00,  1.88it/s]\n",
            "                 Class     Images  Instances      Box(P          R      mAP50  mAP50-95): 100%|██████████| 3/3 [00:01<00:00,  2.21it/s]"
          ]
        },
        {
          "output_type": "stream",
          "name": "stdout",
          "text": [
            "                   all         74      10577    0.00299     0.0182    0.00722    0.00185\n"
          ]
        },
        {
          "output_type": "stream",
          "name": "stderr",
          "text": [
            "\n"
          ]
        },
        {
          "output_type": "stream",
          "name": "stdout",
          "text": [
            "\n",
            "      Epoch    GPU_mem   box_loss   cls_loss   dfl_loss  Instances       Size\n"
          ]
        },
        {
          "output_type": "stream",
          "name": "stderr",
          "text": [
            "      5/100      9.84G      3.459      2.121      3.407       2754        640: 100%|██████████| 14/14 [00:07<00:00,  1.79it/s]\n",
            "                 Class     Images  Instances      Box(P          R      mAP50  mAP50-95): 100%|██████████| 3/3 [00:01<00:00,  2.25it/s]"
          ]
        },
        {
          "output_type": "stream",
          "name": "stdout",
          "text": [
            "                   all         74      10577    0.00491     0.0265    0.00978    0.00232\n"
          ]
        },
        {
          "output_type": "stream",
          "name": "stderr",
          "text": [
            "\n"
          ]
        },
        {
          "output_type": "stream",
          "name": "stdout",
          "text": [
            "\n",
            "      Epoch    GPU_mem   box_loss   cls_loss   dfl_loss  Instances       Size\n"
          ]
        },
        {
          "output_type": "stream",
          "name": "stderr",
          "text": [
            "      6/100      8.54G       3.23      1.958      3.145       1902        640: 100%|██████████| 14/14 [00:07<00:00,  1.77it/s]\n",
            "                 Class     Images  Instances      Box(P          R      mAP50  mAP50-95): 100%|██████████| 3/3 [00:01<00:00,  2.22it/s]"
          ]
        },
        {
          "output_type": "stream",
          "name": "stdout",
          "text": [
            "                   all         74      10577      0.105     0.0114     0.0165    0.00588\n"
          ]
        },
        {
          "output_type": "stream",
          "name": "stderr",
          "text": [
            "\n"
          ]
        },
        {
          "output_type": "stream",
          "name": "stdout",
          "text": [
            "\n",
            "      Epoch    GPU_mem   box_loss   cls_loss   dfl_loss  Instances       Size\n"
          ]
        },
        {
          "output_type": "stream",
          "name": "stderr",
          "text": [
            "      7/100      9.81G      3.035      1.821      2.898       2319        640: 100%|██████████| 14/14 [00:07<00:00,  1.84it/s]\n",
            "                 Class     Images  Instances      Box(P          R      mAP50  mAP50-95): 100%|██████████| 3/3 [00:01<00:00,  1.68it/s]"
          ]
        },
        {
          "output_type": "stream",
          "name": "stdout",
          "text": [
            "                   all         74      10577     0.0201     0.0218     0.0151    0.00484\n"
          ]
        },
        {
          "output_type": "stream",
          "name": "stderr",
          "text": [
            "\n"
          ]
        },
        {
          "output_type": "stream",
          "name": "stdout",
          "text": [
            "\n",
            "      Epoch    GPU_mem   box_loss   cls_loss   dfl_loss  Instances       Size\n"
          ]
        },
        {
          "output_type": "stream",
          "name": "stderr",
          "text": [
            "      8/100      8.17G      2.856       1.67      2.665       2469        640: 100%|██████████| 14/14 [00:07<00:00,  1.83it/s]\n",
            "                 Class     Images  Instances      Box(P          R      mAP50  mAP50-95): 100%|██████████| 3/3 [00:01<00:00,  2.33it/s]"
          ]
        },
        {
          "output_type": "stream",
          "name": "stdout",
          "text": [
            "                   all         74      10577      0.707     0.0164     0.0227    0.00707\n"
          ]
        },
        {
          "output_type": "stream",
          "name": "stderr",
          "text": [
            "\n"
          ]
        },
        {
          "output_type": "stream",
          "name": "stdout",
          "text": [
            "\n",
            "      Epoch    GPU_mem   box_loss   cls_loss   dfl_loss  Instances       Size\n"
          ]
        },
        {
          "output_type": "stream",
          "name": "stderr",
          "text": [
            "      9/100      10.2G      2.696      1.527      2.455       2308        640: 100%|██████████| 14/14 [00:07<00:00,  1.78it/s]\n",
            "                 Class     Images  Instances      Box(P          R      mAP50  mAP50-95): 100%|██████████| 3/3 [00:01<00:00,  2.25it/s]"
          ]
        },
        {
          "output_type": "stream",
          "name": "stdout",
          "text": [
            "                   all         74      10577     0.0278      0.108     0.0257    0.00949\n"
          ]
        },
        {
          "output_type": "stream",
          "name": "stderr",
          "text": [
            "\n"
          ]
        },
        {
          "output_type": "stream",
          "name": "stdout",
          "text": [
            "\n",
            "      Epoch    GPU_mem   box_loss   cls_loss   dfl_loss  Instances       Size\n"
          ]
        },
        {
          "output_type": "stream",
          "name": "stderr",
          "text": [
            "     10/100      8.86G       2.53      1.426      2.311       1936        640: 100%|██████████| 14/14 [00:07<00:00,  1.75it/s]\n",
            "                 Class     Images  Instances      Box(P          R      mAP50  mAP50-95): 100%|██████████| 3/3 [00:01<00:00,  2.32it/s]"
          ]
        },
        {
          "output_type": "stream",
          "name": "stdout",
          "text": [
            "                   all         74      10577      0.609       0.11     0.0882     0.0396\n"
          ]
        },
        {
          "output_type": "stream",
          "name": "stderr",
          "text": [
            "\n"
          ]
        },
        {
          "output_type": "stream",
          "name": "stdout",
          "text": [
            "\n",
            "      Epoch    GPU_mem   box_loss   cls_loss   dfl_loss  Instances       Size\n"
          ]
        },
        {
          "output_type": "stream",
          "name": "stderr",
          "text": [
            "     11/100      8.83G      2.417      1.318      2.148       2145        640: 100%|██████████| 14/14 [00:07<00:00,  1.79it/s]\n",
            "                 Class     Images  Instances      Box(P          R      mAP50  mAP50-95): 100%|██████████| 3/3 [00:01<00:00,  1.94it/s]"
          ]
        },
        {
          "output_type": "stream",
          "name": "stdout",
          "text": [
            "                   all         74      10577      0.383      0.145      0.123     0.0442\n"
          ]
        },
        {
          "output_type": "stream",
          "name": "stderr",
          "text": [
            "\n"
          ]
        },
        {
          "output_type": "stream",
          "name": "stdout",
          "text": [
            "\n",
            "      Epoch    GPU_mem   box_loss   cls_loss   dfl_loss  Instances       Size\n"
          ]
        },
        {
          "output_type": "stream",
          "name": "stderr",
          "text": [
            "     12/100      9.04G      2.255      1.245      2.033       2409        640: 100%|██████████| 14/14 [00:07<00:00,  1.82it/s]\n",
            "                 Class     Images  Instances      Box(P          R      mAP50  mAP50-95): 100%|██████████| 3/3 [00:01<00:00,  2.16it/s]"
          ]
        },
        {
          "output_type": "stream",
          "name": "stdout",
          "text": [
            "                   all         74      10577      0.402       0.15      0.153     0.0559\n"
          ]
        },
        {
          "output_type": "stream",
          "name": "stderr",
          "text": [
            "\n"
          ]
        },
        {
          "output_type": "stream",
          "name": "stdout",
          "text": [
            "\n",
            "      Epoch    GPU_mem   box_loss   cls_loss   dfl_loss  Instances       Size\n"
          ]
        },
        {
          "output_type": "stream",
          "name": "stderr",
          "text": [
            "     13/100      8.56G      2.176      1.181      1.935       2399        640: 100%|██████████| 14/14 [00:07<00:00,  1.82it/s]\n",
            "                 Class     Images  Instances      Box(P          R      mAP50  mAP50-95): 100%|██████████| 3/3 [00:01<00:00,  2.20it/s]"
          ]
        },
        {
          "output_type": "stream",
          "name": "stdout",
          "text": [
            "                   all         74      10577      0.397      0.244      0.281      0.131\n"
          ]
        },
        {
          "output_type": "stream",
          "name": "stderr",
          "text": [
            "\n"
          ]
        },
        {
          "output_type": "stream",
          "name": "stdout",
          "text": [
            "\n",
            "      Epoch    GPU_mem   box_loss   cls_loss   dfl_loss  Instances       Size\n"
          ]
        },
        {
          "output_type": "stream",
          "name": "stderr",
          "text": [
            "     14/100      9.92G      2.008      1.107       1.83       2539        640: 100%|██████████| 14/14 [00:08<00:00,  1.74it/s]\n",
            "                 Class     Images  Instances      Box(P          R      mAP50  mAP50-95): 100%|██████████| 3/3 [00:01<00:00,  2.22it/s]"
          ]
        },
        {
          "output_type": "stream",
          "name": "stdout",
          "text": [
            "                   all         74      10577      0.429      0.294      0.328      0.176\n"
          ]
        },
        {
          "output_type": "stream",
          "name": "stderr",
          "text": [
            "\n"
          ]
        },
        {
          "output_type": "stream",
          "name": "stdout",
          "text": [
            "\n",
            "      Epoch    GPU_mem   box_loss   cls_loss   dfl_loss  Instances       Size\n"
          ]
        },
        {
          "output_type": "stream",
          "name": "stderr",
          "text": [
            "     15/100      8.91G      1.937      1.066      1.759       2479        640: 100%|██████████| 14/14 [00:07<00:00,  1.80it/s]\n",
            "                 Class     Images  Instances      Box(P          R      mAP50  mAP50-95): 100%|██████████| 3/3 [00:01<00:00,  2.10it/s]"
          ]
        },
        {
          "output_type": "stream",
          "name": "stdout",
          "text": [
            "                   all         74      10577      0.297        0.3      0.339      0.196\n"
          ]
        },
        {
          "output_type": "stream",
          "name": "stderr",
          "text": [
            "\n"
          ]
        },
        {
          "output_type": "stream",
          "name": "stdout",
          "text": [
            "\n",
            "      Epoch    GPU_mem   box_loss   cls_loss   dfl_loss  Instances       Size\n"
          ]
        },
        {
          "output_type": "stream",
          "name": "stderr",
          "text": [
            "     16/100      9.82G      1.815      1.008      1.687       2687        640: 100%|██████████| 14/14 [00:07<00:00,  1.82it/s]\n",
            "                 Class     Images  Instances      Box(P          R      mAP50  mAP50-95): 100%|██████████| 3/3 [00:01<00:00,  1.93it/s]"
          ]
        },
        {
          "output_type": "stream",
          "name": "stdout",
          "text": [
            "                   all         74      10577      0.626       0.24      0.373      0.221\n"
          ]
        },
        {
          "output_type": "stream",
          "name": "stderr",
          "text": [
            "\n"
          ]
        },
        {
          "output_type": "stream",
          "name": "stdout",
          "text": [
            "\n",
            "      Epoch    GPU_mem   box_loss   cls_loss   dfl_loss  Instances       Size\n"
          ]
        },
        {
          "output_type": "stream",
          "name": "stderr",
          "text": [
            "     17/100      10.9G      1.738     0.9669      1.637       1865        640: 100%|██████████| 14/14 [00:07<00:00,  1.81it/s]\n",
            "                 Class     Images  Instances      Box(P          R      mAP50  mAP50-95): 100%|██████████| 3/3 [00:01<00:00,  2.22it/s]"
          ]
        },
        {
          "output_type": "stream",
          "name": "stdout",
          "text": [
            "                   all         74      10577      0.411      0.357      0.382      0.241\n"
          ]
        },
        {
          "output_type": "stream",
          "name": "stderr",
          "text": [
            "\n"
          ]
        },
        {
          "output_type": "stream",
          "name": "stdout",
          "text": [
            "\n",
            "      Epoch    GPU_mem   box_loss   cls_loss   dfl_loss  Instances       Size\n"
          ]
        },
        {
          "output_type": "stream",
          "name": "stderr",
          "text": [
            "     18/100       8.2G      1.748     0.9729      1.609       3156        640: 100%|██████████| 14/14 [00:09<00:00,  1.51it/s]\n",
            "                 Class     Images  Instances      Box(P          R      mAP50  mAP50-95): 100%|██████████| 3/3 [00:02<00:00,  1.47it/s]"
          ]
        },
        {
          "output_type": "stream",
          "name": "stdout",
          "text": [
            "                   all         74      10577      0.559       0.33      0.401      0.252\n"
          ]
        },
        {
          "output_type": "stream",
          "name": "stderr",
          "text": [
            "\n"
          ]
        },
        {
          "output_type": "stream",
          "name": "stdout",
          "text": [
            "\n",
            "      Epoch    GPU_mem   box_loss   cls_loss   dfl_loss  Instances       Size\n"
          ]
        },
        {
          "output_type": "stream",
          "name": "stderr",
          "text": [
            "     19/100      10.2G      1.653     0.9482      1.568       1942        640: 100%|██████████| 14/14 [00:07<00:00,  1.76it/s]\n",
            "                 Class     Images  Instances      Box(P          R      mAP50  mAP50-95): 100%|██████████| 3/3 [00:01<00:00,  2.22it/s]"
          ]
        },
        {
          "output_type": "stream",
          "name": "stdout",
          "text": [
            "                   all         74      10577      0.411      0.381      0.394      0.235\n"
          ]
        },
        {
          "output_type": "stream",
          "name": "stderr",
          "text": [
            "\n"
          ]
        },
        {
          "output_type": "stream",
          "name": "stdout",
          "text": [
            "\n",
            "      Epoch    GPU_mem   box_loss   cls_loss   dfl_loss  Instances       Size\n"
          ]
        },
        {
          "output_type": "stream",
          "name": "stderr",
          "text": [
            "     20/100      10.7G      1.581     0.8906      1.508       2854        640: 100%|██████████| 14/14 [00:07<00:00,  1.79it/s]\n",
            "                 Class     Images  Instances      Box(P          R      mAP50  mAP50-95): 100%|██████████| 3/3 [00:01<00:00,  1.90it/s]"
          ]
        },
        {
          "output_type": "stream",
          "name": "stdout",
          "text": [
            "                   all         74      10577      0.535      0.332      0.401      0.261\n"
          ]
        },
        {
          "output_type": "stream",
          "name": "stderr",
          "text": [
            "\n"
          ]
        },
        {
          "output_type": "stream",
          "name": "stdout",
          "text": [
            "\n",
            "      Epoch    GPU_mem   box_loss   cls_loss   dfl_loss  Instances       Size\n"
          ]
        },
        {
          "output_type": "stream",
          "name": "stderr",
          "text": [
            "     21/100      9.11G      1.527      0.867       1.48       2222        640: 100%|██████████| 14/14 [00:07<00:00,  1.84it/s]\n",
            "                 Class     Images  Instances      Box(P          R      mAP50  mAP50-95): 100%|██████████| 3/3 [00:01<00:00,  1.98it/s]"
          ]
        },
        {
          "output_type": "stream",
          "name": "stdout",
          "text": [
            "                   all         74      10577      0.517      0.353      0.405      0.245\n"
          ]
        },
        {
          "output_type": "stream",
          "name": "stderr",
          "text": [
            "\n"
          ]
        },
        {
          "output_type": "stream",
          "name": "stdout",
          "text": [
            "\n",
            "      Epoch    GPU_mem   box_loss   cls_loss   dfl_loss  Instances       Size\n"
          ]
        },
        {
          "output_type": "stream",
          "name": "stderr",
          "text": [
            "     22/100      10.3G       1.48     0.8364      1.443       2043        640: 100%|██████████| 14/14 [00:08<00:00,  1.67it/s]\n",
            "                 Class     Images  Instances      Box(P          R      mAP50  mAP50-95): 100%|██████████| 3/3 [00:01<00:00,  2.20it/s]"
          ]
        },
        {
          "output_type": "stream",
          "name": "stdout",
          "text": [
            "                   all         74      10577      0.497      0.382      0.415      0.276\n"
          ]
        },
        {
          "output_type": "stream",
          "name": "stderr",
          "text": [
            "\n"
          ]
        },
        {
          "output_type": "stream",
          "name": "stdout",
          "text": [
            "\n",
            "      Epoch    GPU_mem   box_loss   cls_loss   dfl_loss  Instances       Size\n"
          ]
        },
        {
          "output_type": "stream",
          "name": "stderr",
          "text": [
            "     23/100      9.91G       1.39     0.8216      1.427       3036        640: 100%|██████████| 14/14 [00:07<00:00,  1.77it/s]\n",
            "                 Class     Images  Instances      Box(P          R      mAP50  mAP50-95): 100%|██████████| 3/3 [00:01<00:00,  2.21it/s]"
          ]
        },
        {
          "output_type": "stream",
          "name": "stdout",
          "text": [
            "                   all         74      10577      0.497      0.396      0.428      0.307\n"
          ]
        },
        {
          "output_type": "stream",
          "name": "stderr",
          "text": [
            "\n"
          ]
        },
        {
          "output_type": "stream",
          "name": "stdout",
          "text": [
            "\n",
            "      Epoch    GPU_mem   box_loss   cls_loss   dfl_loss  Instances       Size\n"
          ]
        },
        {
          "output_type": "stream",
          "name": "stderr",
          "text": [
            "     24/100      9.13G      1.417     0.8129      1.405       2440        640: 100%|██████████| 14/14 [00:07<00:00,  1.79it/s]\n",
            "                 Class     Images  Instances      Box(P          R      mAP50  mAP50-95): 100%|██████████| 3/3 [00:01<00:00,  1.76it/s]"
          ]
        },
        {
          "output_type": "stream",
          "name": "stdout",
          "text": [
            "                   all         74      10577      0.467      0.377      0.418       0.26\n"
          ]
        },
        {
          "output_type": "stream",
          "name": "stderr",
          "text": [
            "\n"
          ]
        },
        {
          "output_type": "stream",
          "name": "stdout",
          "text": [
            "\n",
            "      Epoch    GPU_mem   box_loss   cls_loss   dfl_loss  Instances       Size\n"
          ]
        },
        {
          "output_type": "stream",
          "name": "stderr",
          "text": [
            "     25/100      7.99G      1.344      0.799      1.381       2329        640: 100%|██████████| 14/14 [00:07<00:00,  1.83it/s]\n",
            "                 Class     Images  Instances      Box(P          R      mAP50  mAP50-95): 100%|██████████| 3/3 [00:01<00:00,  2.14it/s]"
          ]
        },
        {
          "output_type": "stream",
          "name": "stdout",
          "text": [
            "                   all         74      10577      0.568      0.381      0.454      0.321\n"
          ]
        },
        {
          "output_type": "stream",
          "name": "stderr",
          "text": [
            "\n"
          ]
        },
        {
          "output_type": "stream",
          "name": "stdout",
          "text": [
            "\n",
            "      Epoch    GPU_mem   box_loss   cls_loss   dfl_loss  Instances       Size\n"
          ]
        },
        {
          "output_type": "stream",
          "name": "stderr",
          "text": [
            "     26/100      8.49G       1.36     0.7892       1.36       1800        640: 100%|██████████| 14/14 [00:07<00:00,  1.77it/s]\n",
            "                 Class     Images  Instances      Box(P          R      mAP50  mAP50-95): 100%|██████████| 3/3 [00:01<00:00,  2.23it/s]"
          ]
        },
        {
          "output_type": "stream",
          "name": "stdout",
          "text": [
            "                   all         74      10577      0.496      0.448      0.467      0.302\n"
          ]
        },
        {
          "output_type": "stream",
          "name": "stderr",
          "text": [
            "\n"
          ]
        },
        {
          "output_type": "stream",
          "name": "stdout",
          "text": [
            "\n",
            "      Epoch    GPU_mem   box_loss   cls_loss   dfl_loss  Instances       Size\n"
          ]
        },
        {
          "output_type": "stream",
          "name": "stderr",
          "text": [
            "     27/100      9.43G      1.306     0.7663      1.336       2242        640: 100%|██████████| 14/14 [00:07<00:00,  1.78it/s]\n",
            "                 Class     Images  Instances      Box(P          R      mAP50  mAP50-95): 100%|██████████| 3/3 [00:01<00:00,  2.12it/s]"
          ]
        },
        {
          "output_type": "stream",
          "name": "stdout",
          "text": [
            "                   all         74      10577      0.471      0.439       0.45      0.322\n"
          ]
        },
        {
          "output_type": "stream",
          "name": "stderr",
          "text": [
            "\n"
          ]
        },
        {
          "output_type": "stream",
          "name": "stdout",
          "text": [
            "\n",
            "      Epoch    GPU_mem   box_loss   cls_loss   dfl_loss  Instances       Size\n"
          ]
        },
        {
          "output_type": "stream",
          "name": "stderr",
          "text": [
            "     28/100        10G      1.285     0.7511      1.331       2792        640: 100%|██████████| 14/14 [00:07<00:00,  1.77it/s]\n",
            "                 Class     Images  Instances      Box(P          R      mAP50  mAP50-95): 100%|██████████| 3/3 [00:01<00:00,  1.99it/s]"
          ]
        },
        {
          "output_type": "stream",
          "name": "stdout",
          "text": [
            "                   all         74      10577      0.538      0.424      0.466      0.343\n"
          ]
        },
        {
          "output_type": "stream",
          "name": "stderr",
          "text": [
            "\n"
          ]
        },
        {
          "output_type": "stream",
          "name": "stdout",
          "text": [
            "\n",
            "      Epoch    GPU_mem   box_loss   cls_loss   dfl_loss  Instances       Size\n"
          ]
        },
        {
          "output_type": "stream",
          "name": "stderr",
          "text": [
            "     29/100      9.78G      1.227     0.7225        1.3       2309        640: 100%|██████████| 14/14 [00:07<00:00,  1.83it/s]\n",
            "                 Class     Images  Instances      Box(P          R      mAP50  mAP50-95): 100%|██████████| 3/3 [00:01<00:00,  1.96it/s]"
          ]
        },
        {
          "output_type": "stream",
          "name": "stdout",
          "text": [
            "                   all         74      10577      0.508      0.443      0.468      0.336\n"
          ]
        },
        {
          "output_type": "stream",
          "name": "stderr",
          "text": [
            "\n"
          ]
        },
        {
          "output_type": "stream",
          "name": "stdout",
          "text": [
            "\n",
            "      Epoch    GPU_mem   box_loss   cls_loss   dfl_loss  Instances       Size\n"
          ]
        },
        {
          "output_type": "stream",
          "name": "stderr",
          "text": [
            "     30/100      8.34G      1.193     0.7028       1.28       2178        640: 100%|██████████| 14/14 [00:07<00:00,  1.79it/s]\n",
            "                 Class     Images  Instances      Box(P          R      mAP50  mAP50-95): 100%|██████████| 3/3 [00:01<00:00,  2.23it/s]"
          ]
        },
        {
          "output_type": "stream",
          "name": "stdout",
          "text": [
            "                   all         74      10577      0.484      0.436      0.469      0.323\n"
          ]
        },
        {
          "output_type": "stream",
          "name": "stderr",
          "text": [
            "\n"
          ]
        },
        {
          "output_type": "stream",
          "name": "stdout",
          "text": [
            "\n",
            "      Epoch    GPU_mem   box_loss   cls_loss   dfl_loss  Instances       Size\n"
          ]
        },
        {
          "output_type": "stream",
          "name": "stderr",
          "text": [
            "     31/100      10.4G      1.185     0.6998      1.274       2328        640: 100%|██████████| 14/14 [00:07<00:00,  1.75it/s]\n",
            "                 Class     Images  Instances      Box(P          R      mAP50  mAP50-95): 100%|██████████| 3/3 [00:01<00:00,  2.23it/s]"
          ]
        },
        {
          "output_type": "stream",
          "name": "stdout",
          "text": [
            "                   all         74      10577        0.5      0.447       0.48      0.359\n"
          ]
        },
        {
          "output_type": "stream",
          "name": "stderr",
          "text": [
            "\n"
          ]
        },
        {
          "output_type": "stream",
          "name": "stdout",
          "text": [
            "\n",
            "      Epoch    GPU_mem   box_loss   cls_loss   dfl_loss  Instances       Size\n"
          ]
        },
        {
          "output_type": "stream",
          "name": "stderr",
          "text": [
            "     32/100      9.95G       1.15     0.6809      1.252       2253        640: 100%|██████████| 14/14 [00:07<00:00,  1.77it/s]\n",
            "                 Class     Images  Instances      Box(P          R      mAP50  mAP50-95): 100%|██████████| 3/3 [00:01<00:00,  2.12it/s]"
          ]
        },
        {
          "output_type": "stream",
          "name": "stdout",
          "text": [
            "                   all         74      10577      0.517      0.445      0.483      0.362\n"
          ]
        },
        {
          "output_type": "stream",
          "name": "stderr",
          "text": [
            "\n"
          ]
        },
        {
          "output_type": "stream",
          "name": "stdout",
          "text": [
            "\n",
            "      Epoch    GPU_mem   box_loss   cls_loss   dfl_loss  Instances       Size\n"
          ]
        },
        {
          "output_type": "stream",
          "name": "stderr",
          "text": [
            "     33/100      9.65G      1.132     0.6722      1.244       1754        640: 100%|██████████| 14/14 [00:07<00:00,  1.84it/s]\n",
            "                 Class     Images  Instances      Box(P          R      mAP50  mAP50-95): 100%|██████████| 3/3 [00:01<00:00,  1.65it/s]"
          ]
        },
        {
          "output_type": "stream",
          "name": "stdout",
          "text": [
            "                   all         74      10577      0.532      0.458      0.491      0.357\n"
          ]
        },
        {
          "output_type": "stream",
          "name": "stderr",
          "text": [
            "\n"
          ]
        },
        {
          "output_type": "stream",
          "name": "stdout",
          "text": [
            "\n",
            "      Epoch    GPU_mem   box_loss   cls_loss   dfl_loss  Instances       Size\n"
          ]
        },
        {
          "output_type": "stream",
          "name": "stderr",
          "text": [
            "     34/100      9.94G      1.118      0.671      1.236       2578        640: 100%|██████████| 14/14 [00:07<00:00,  1.82it/s]\n",
            "                 Class     Images  Instances      Box(P          R      mAP50  mAP50-95): 100%|██████████| 3/3 [00:01<00:00,  2.22it/s]"
          ]
        },
        {
          "output_type": "stream",
          "name": "stdout",
          "text": [
            "                   all         74      10577      0.527       0.45      0.491      0.374\n"
          ]
        },
        {
          "output_type": "stream",
          "name": "stderr",
          "text": [
            "\n"
          ]
        },
        {
          "output_type": "stream",
          "name": "stdout",
          "text": [
            "\n",
            "      Epoch    GPU_mem   box_loss   cls_loss   dfl_loss  Instances       Size\n"
          ]
        },
        {
          "output_type": "stream",
          "name": "stderr",
          "text": [
            "     35/100      9.29G      1.086     0.6595       1.22       2101        640: 100%|██████████| 14/14 [00:07<00:00,  1.80it/s]\n",
            "                 Class     Images  Instances      Box(P          R      mAP50  mAP50-95): 100%|██████████| 3/3 [00:01<00:00,  2.22it/s]"
          ]
        },
        {
          "output_type": "stream",
          "name": "stdout",
          "text": [
            "                   all         74      10577      0.554      0.469      0.498      0.373\n"
          ]
        },
        {
          "output_type": "stream",
          "name": "stderr",
          "text": [
            "\n"
          ]
        },
        {
          "output_type": "stream",
          "name": "stdout",
          "text": [
            "\n",
            "      Epoch    GPU_mem   box_loss   cls_loss   dfl_loss  Instances       Size\n"
          ]
        },
        {
          "output_type": "stream",
          "name": "stderr",
          "text": [
            "     36/100      8.21G      1.069     0.6596      1.221       2332        640: 100%|██████████| 14/14 [00:07<00:00,  1.78it/s]\n",
            "                 Class     Images  Instances      Box(P          R      mAP50  mAP50-95): 100%|██████████| 3/3 [00:01<00:00,  2.23it/s]"
          ]
        },
        {
          "output_type": "stream",
          "name": "stdout",
          "text": [
            "                   all         74      10577      0.519       0.46      0.495      0.382\n"
          ]
        },
        {
          "output_type": "stream",
          "name": "stderr",
          "text": [
            "\n"
          ]
        },
        {
          "output_type": "stream",
          "name": "stdout",
          "text": [
            "\n",
            "      Epoch    GPU_mem   box_loss   cls_loss   dfl_loss  Instances       Size\n"
          ]
        },
        {
          "output_type": "stream",
          "name": "stderr",
          "text": [
            "     37/100      8.83G      1.058     0.6448      1.205       2411        640: 100%|██████████| 14/14 [00:07<00:00,  1.78it/s]\n",
            "                 Class     Images  Instances      Box(P          R      mAP50  mAP50-95): 100%|██████████| 3/3 [00:01<00:00,  2.16it/s]"
          ]
        },
        {
          "output_type": "stream",
          "name": "stdout",
          "text": [
            "                   all         74      10577       0.56      0.456      0.502      0.365\n"
          ]
        },
        {
          "output_type": "stream",
          "name": "stderr",
          "text": [
            "\n"
          ]
        },
        {
          "output_type": "stream",
          "name": "stdout",
          "text": [
            "\n",
            "      Epoch    GPU_mem   box_loss   cls_loss   dfl_loss  Instances       Size\n"
          ]
        },
        {
          "output_type": "stream",
          "name": "stderr",
          "text": [
            "     38/100      9.48G      1.083     0.6384      1.189       2344        640: 100%|██████████| 14/14 [00:07<00:00,  1.83it/s]\n",
            "                 Class     Images  Instances      Box(P          R      mAP50  mAP50-95): 100%|██████████| 3/3 [00:01<00:00,  1.84it/s]"
          ]
        },
        {
          "output_type": "stream",
          "name": "stdout",
          "text": [
            "                   all         74      10577      0.549      0.468      0.504      0.383\n"
          ]
        },
        {
          "output_type": "stream",
          "name": "stderr",
          "text": [
            "\n"
          ]
        },
        {
          "output_type": "stream",
          "name": "stdout",
          "text": [
            "\n",
            "      Epoch    GPU_mem   box_loss   cls_loss   dfl_loss  Instances       Size\n"
          ]
        },
        {
          "output_type": "stream",
          "name": "stderr",
          "text": [
            "     39/100      9.07G      1.026     0.6286      1.183       2830        640: 100%|██████████| 14/14 [00:07<00:00,  1.83it/s]\n",
            "                 Class     Images  Instances      Box(P          R      mAP50  mAP50-95): 100%|██████████| 3/3 [00:01<00:00,  2.20it/s]"
          ]
        },
        {
          "output_type": "stream",
          "name": "stdout",
          "text": [
            "                   all         74      10577      0.557      0.453      0.504      0.378\n"
          ]
        },
        {
          "output_type": "stream",
          "name": "stderr",
          "text": [
            "\n"
          ]
        },
        {
          "output_type": "stream",
          "name": "stdout",
          "text": [
            "\n",
            "      Epoch    GPU_mem   box_loss   cls_loss   dfl_loss  Instances       Size\n"
          ]
        },
        {
          "output_type": "stream",
          "name": "stderr",
          "text": [
            "     40/100      8.77G      1.047     0.6311      1.185       2334        640: 100%|██████████| 14/14 [00:07<00:00,  1.76it/s]\n",
            "                 Class     Images  Instances      Box(P          R      mAP50  mAP50-95): 100%|██████████| 3/3 [00:01<00:00,  2.21it/s]"
          ]
        },
        {
          "output_type": "stream",
          "name": "stdout",
          "text": [
            "                   all         74      10577      0.569       0.46      0.515      0.396\n"
          ]
        },
        {
          "output_type": "stream",
          "name": "stderr",
          "text": [
            "\n"
          ]
        },
        {
          "output_type": "stream",
          "name": "stdout",
          "text": [
            "\n",
            "      Epoch    GPU_mem   box_loss   cls_loss   dfl_loss  Instances       Size\n"
          ]
        },
        {
          "output_type": "stream",
          "name": "stderr",
          "text": [
            "     41/100      8.54G      1.026      0.618      1.171       2046        640: 100%|██████████| 14/14 [00:08<00:00,  1.75it/s]\n",
            "                 Class     Images  Instances      Box(P          R      mAP50  mAP50-95): 100%|██████████| 3/3 [00:01<00:00,  2.23it/s]"
          ]
        },
        {
          "output_type": "stream",
          "name": "stdout",
          "text": [
            "                   all         74      10577      0.687      0.472      0.514      0.397\n"
          ]
        },
        {
          "output_type": "stream",
          "name": "stderr",
          "text": [
            "\n"
          ]
        },
        {
          "output_type": "stream",
          "name": "stdout",
          "text": [
            "\n",
            "      Epoch    GPU_mem   box_loss   cls_loss   dfl_loss  Instances       Size\n"
          ]
        },
        {
          "output_type": "stream",
          "name": "stderr",
          "text": [
            "     42/100      8.49G      1.014     0.6214      1.164       2955        640: 100%|██████████| 14/14 [00:07<00:00,  1.78it/s]\n",
            "                 Class     Images  Instances      Box(P          R      mAP50  mAP50-95): 100%|██████████| 3/3 [00:01<00:00,  1.88it/s]"
          ]
        },
        {
          "output_type": "stream",
          "name": "stdout",
          "text": [
            "                   all         74      10577      0.546      0.478      0.523      0.414\n"
          ]
        },
        {
          "output_type": "stream",
          "name": "stderr",
          "text": [
            "\n"
          ]
        },
        {
          "output_type": "stream",
          "name": "stdout",
          "text": [
            "\n",
            "      Epoch    GPU_mem   box_loss   cls_loss   dfl_loss  Instances       Size\n"
          ]
        },
        {
          "output_type": "stream",
          "name": "stderr",
          "text": [
            "     43/100      10.5G     0.9744     0.6065      1.153       2512        640: 100%|██████████| 14/14 [00:07<00:00,  1.84it/s]\n",
            "                 Class     Images  Instances      Box(P          R      mAP50  mAP50-95): 100%|██████████| 3/3 [00:01<00:00,  2.00it/s]"
          ]
        },
        {
          "output_type": "stream",
          "name": "stdout",
          "text": [
            "                   all         74      10577      0.722      0.468      0.521      0.406\n"
          ]
        },
        {
          "output_type": "stream",
          "name": "stderr",
          "text": [
            "\n"
          ]
        },
        {
          "output_type": "stream",
          "name": "stdout",
          "text": [
            "\n",
            "      Epoch    GPU_mem   box_loss   cls_loss   dfl_loss  Instances       Size\n"
          ]
        },
        {
          "output_type": "stream",
          "name": "stderr",
          "text": [
            "     44/100      9.88G     0.9869     0.6051      1.149       2797        640: 100%|██████████| 14/14 [00:08<00:00,  1.67it/s]\n",
            "                 Class     Images  Instances      Box(P          R      mAP50  mAP50-95): 100%|██████████| 3/3 [00:01<00:00,  2.21it/s]"
          ]
        },
        {
          "output_type": "stream",
          "name": "stdout",
          "text": [
            "                   all         74      10577      0.546      0.478      0.522      0.411\n"
          ]
        },
        {
          "output_type": "stream",
          "name": "stderr",
          "text": [
            "\n"
          ]
        },
        {
          "output_type": "stream",
          "name": "stdout",
          "text": [
            "\n",
            "      Epoch    GPU_mem   box_loss   cls_loss   dfl_loss  Instances       Size\n"
          ]
        },
        {
          "output_type": "stream",
          "name": "stderr",
          "text": [
            "     45/100      9.59G      0.962     0.5987      1.144       2349        640: 100%|██████████| 14/14 [00:07<00:00,  1.76it/s]\n",
            "                 Class     Images  Instances      Box(P          R      mAP50  mAP50-95): 100%|██████████| 3/3 [00:01<00:00,  2.20it/s]"
          ]
        },
        {
          "output_type": "stream",
          "name": "stdout",
          "text": [
            "                   all         74      10577      0.717      0.467       0.52      0.418\n"
          ]
        },
        {
          "output_type": "stream",
          "name": "stderr",
          "text": [
            "\n"
          ]
        },
        {
          "output_type": "stream",
          "name": "stdout",
          "text": [
            "\n",
            "      Epoch    GPU_mem   box_loss   cls_loss   dfl_loss  Instances       Size\n"
          ]
        },
        {
          "output_type": "stream",
          "name": "stderr",
          "text": [
            "     46/100      8.96G     0.9506     0.5921      1.136       1981        640: 100%|██████████| 14/14 [00:07<00:00,  1.81it/s]\n",
            "                 Class     Images  Instances      Box(P          R      mAP50  mAP50-95): 100%|██████████| 3/3 [00:01<00:00,  1.76it/s]"
          ]
        },
        {
          "output_type": "stream",
          "name": "stdout",
          "text": [
            "                   all         74      10577      0.732      0.475      0.533      0.414\n"
          ]
        },
        {
          "output_type": "stream",
          "name": "stderr",
          "text": [
            "\n"
          ]
        },
        {
          "output_type": "stream",
          "name": "stdout",
          "text": [
            "\n",
            "      Epoch    GPU_mem   box_loss   cls_loss   dfl_loss  Instances       Size\n"
          ]
        },
        {
          "output_type": "stream",
          "name": "stderr",
          "text": [
            "     47/100      9.17G     0.9689     0.5913       1.13       2769        640: 100%|██████████| 14/14 [00:07<00:00,  1.84it/s]\n",
            "                 Class     Images  Instances      Box(P          R      mAP50  mAP50-95): 100%|██████████| 3/3 [00:01<00:00,  2.19it/s]"
          ]
        },
        {
          "output_type": "stream",
          "name": "stdout",
          "text": [
            "                   all         74      10577      0.701      0.478      0.525      0.398\n"
          ]
        },
        {
          "output_type": "stream",
          "name": "stderr",
          "text": [
            "\n"
          ]
        },
        {
          "output_type": "stream",
          "name": "stdout",
          "text": [
            "\n",
            "      Epoch    GPU_mem   box_loss   cls_loss   dfl_loss  Instances       Size\n"
          ]
        },
        {
          "output_type": "stream",
          "name": "stderr",
          "text": [
            "     48/100      8.61G      0.946      0.584      1.128       2346        640: 100%|██████████| 14/14 [00:07<00:00,  1.77it/s]\n",
            "                 Class     Images  Instances      Box(P          R      mAP50  mAP50-95): 100%|██████████| 3/3 [00:01<00:00,  2.21it/s]"
          ]
        },
        {
          "output_type": "stream",
          "name": "stdout",
          "text": [
            "                   all         74      10577      0.728      0.473      0.532      0.425\n"
          ]
        },
        {
          "output_type": "stream",
          "name": "stderr",
          "text": [
            "\n"
          ]
        },
        {
          "output_type": "stream",
          "name": "stdout",
          "text": [
            "\n",
            "      Epoch    GPU_mem   box_loss   cls_loss   dfl_loss  Instances       Size\n"
          ]
        },
        {
          "output_type": "stream",
          "name": "stderr",
          "text": [
            "     49/100      9.91G     0.9402     0.5783      1.117       2414        640: 100%|██████████| 14/14 [00:08<00:00,  1.75it/s]\n",
            "                 Class     Images  Instances      Box(P          R      mAP50  mAP50-95): 100%|██████████| 3/3 [00:01<00:00,  2.21it/s]"
          ]
        },
        {
          "output_type": "stream",
          "name": "stdout",
          "text": [
            "                   all         74      10577      0.723      0.469      0.535        0.4\n"
          ]
        },
        {
          "output_type": "stream",
          "name": "stderr",
          "text": [
            "\n"
          ]
        },
        {
          "output_type": "stream",
          "name": "stdout",
          "text": [
            "\n",
            "      Epoch    GPU_mem   box_loss   cls_loss   dfl_loss  Instances       Size\n"
          ]
        },
        {
          "output_type": "stream",
          "name": "stderr",
          "text": [
            "     50/100      8.08G     0.9269     0.5761       1.12       2233        640: 100%|██████████| 14/14 [00:07<00:00,  1.78it/s]\n",
            "                 Class     Images  Instances      Box(P          R      mAP50  mAP50-95): 100%|██████████| 3/3 [00:01<00:00,  1.88it/s]"
          ]
        },
        {
          "output_type": "stream",
          "name": "stdout",
          "text": [
            "                   all         74      10577      0.734      0.469      0.534      0.411\n"
          ]
        },
        {
          "output_type": "stream",
          "name": "stderr",
          "text": [
            "\n"
          ]
        },
        {
          "output_type": "stream",
          "name": "stdout",
          "text": [
            "\n",
            "      Epoch    GPU_mem   box_loss   cls_loss   dfl_loss  Instances       Size\n"
          ]
        },
        {
          "output_type": "stream",
          "name": "stderr",
          "text": [
            "     51/100      9.51G     0.9334     0.5696      1.112       2502        640: 100%|██████████| 14/14 [00:07<00:00,  1.80it/s]\n",
            "                 Class     Images  Instances      Box(P          R      mAP50  mAP50-95): 100%|██████████| 3/3 [00:01<00:00,  2.08it/s]"
          ]
        },
        {
          "output_type": "stream",
          "name": "stdout",
          "text": [
            "                   all         74      10577      0.687      0.493      0.537      0.391\n"
          ]
        },
        {
          "output_type": "stream",
          "name": "stderr",
          "text": [
            "\n"
          ]
        },
        {
          "output_type": "stream",
          "name": "stdout",
          "text": [
            "\n",
            "      Epoch    GPU_mem   box_loss   cls_loss   dfl_loss  Instances       Size\n"
          ]
        },
        {
          "output_type": "stream",
          "name": "stderr",
          "text": [
            "     52/100      10.9G     0.9322     0.5749      1.107       2102        640: 100%|██████████| 14/14 [00:07<00:00,  1.78it/s]\n",
            "                 Class     Images  Instances      Box(P          R      mAP50  mAP50-95): 100%|██████████| 3/3 [00:01<00:00,  2.22it/s]"
          ]
        },
        {
          "output_type": "stream",
          "name": "stdout",
          "text": [
            "                   all         74      10577       0.74      0.474       0.54       0.43\n"
          ]
        },
        {
          "output_type": "stream",
          "name": "stderr",
          "text": [
            "\n"
          ]
        },
        {
          "output_type": "stream",
          "name": "stdout",
          "text": [
            "\n",
            "      Epoch    GPU_mem   box_loss   cls_loss   dfl_loss  Instances       Size\n"
          ]
        },
        {
          "output_type": "stream",
          "name": "stderr",
          "text": [
            "     53/100      8.39G     0.9086     0.5731      1.105       1925        640: 100%|██████████| 14/14 [00:07<00:00,  1.76it/s]\n",
            "                 Class     Images  Instances      Box(P          R      mAP50  mAP50-95): 100%|██████████| 3/3 [00:01<00:00,  2.22it/s]"
          ]
        },
        {
          "output_type": "stream",
          "name": "stdout",
          "text": [
            "                   all         74      10577      0.678      0.481       0.53      0.429\n"
          ]
        },
        {
          "output_type": "stream",
          "name": "stderr",
          "text": [
            "\n"
          ]
        },
        {
          "output_type": "stream",
          "name": "stdout",
          "text": [
            "\n",
            "      Epoch    GPU_mem   box_loss   cls_loss   dfl_loss  Instances       Size\n"
          ]
        },
        {
          "output_type": "stream",
          "name": "stderr",
          "text": [
            "     54/100      8.91G     0.8981     0.5592      1.099       2247        640: 100%|██████████| 14/14 [00:07<00:00,  1.79it/s]\n",
            "                 Class     Images  Instances      Box(P          R      mAP50  mAP50-95): 100%|██████████| 3/3 [00:01<00:00,  2.03it/s]"
          ]
        },
        {
          "output_type": "stream",
          "name": "stdout",
          "text": [
            "                   all         74      10577      0.706      0.496      0.547      0.443\n"
          ]
        },
        {
          "output_type": "stream",
          "name": "stderr",
          "text": [
            "\n"
          ]
        },
        {
          "output_type": "stream",
          "name": "stdout",
          "text": [
            "\n",
            "      Epoch    GPU_mem   box_loss   cls_loss   dfl_loss  Instances       Size\n"
          ]
        },
        {
          "output_type": "stream",
          "name": "stderr",
          "text": [
            "     55/100      10.7G     0.8872     0.5568      1.089       2241        640: 100%|██████████| 14/14 [00:07<00:00,  1.81it/s]\n",
            "                 Class     Images  Instances      Box(P          R      mAP50  mAP50-95): 100%|██████████| 3/3 [00:01<00:00,  1.73it/s]"
          ]
        },
        {
          "output_type": "stream",
          "name": "stdout",
          "text": [
            "                   all         74      10577      0.713      0.483      0.544      0.447\n"
          ]
        },
        {
          "output_type": "stream",
          "name": "stderr",
          "text": [
            "\n"
          ]
        },
        {
          "output_type": "stream",
          "name": "stdout",
          "text": [
            "\n",
            "      Epoch    GPU_mem   box_loss   cls_loss   dfl_loss  Instances       Size\n"
          ]
        },
        {
          "output_type": "stream",
          "name": "stderr",
          "text": [
            "     56/100        10G     0.8762      0.557      1.097       2366        640: 100%|██████████| 14/14 [00:07<00:00,  1.81it/s]\n",
            "                 Class     Images  Instances      Box(P          R      mAP50  mAP50-95): 100%|██████████| 3/3 [00:01<00:00,  2.23it/s]"
          ]
        },
        {
          "output_type": "stream",
          "name": "stdout",
          "text": [
            "                   all         74      10577      0.683      0.519      0.545      0.446\n"
          ]
        },
        {
          "output_type": "stream",
          "name": "stderr",
          "text": [
            "\n"
          ]
        },
        {
          "output_type": "stream",
          "name": "stdout",
          "text": [
            "\n",
            "      Epoch    GPU_mem   box_loss   cls_loss   dfl_loss  Instances       Size\n"
          ]
        },
        {
          "output_type": "stream",
          "name": "stderr",
          "text": [
            "     57/100      10.5G     0.8671     0.5488       1.09       2706        640: 100%|██████████| 14/14 [00:07<00:00,  1.75it/s]\n",
            "                 Class     Images  Instances      Box(P          R      mAP50  mAP50-95): 100%|██████████| 3/3 [00:01<00:00,  2.20it/s]"
          ]
        },
        {
          "output_type": "stream",
          "name": "stdout",
          "text": [
            "                   all         74      10577      0.738      0.478      0.548      0.447\n"
          ]
        },
        {
          "output_type": "stream",
          "name": "stderr",
          "text": [
            "\n"
          ]
        },
        {
          "output_type": "stream",
          "name": "stdout",
          "text": [
            "\n",
            "      Epoch    GPU_mem   box_loss   cls_loss   dfl_loss  Instances       Size\n"
          ]
        },
        {
          "output_type": "stream",
          "name": "stderr",
          "text": [
            "     58/100      7.88G     0.8494     0.5499      1.088       2073        640: 100%|██████████| 14/14 [00:07<00:00,  1.79it/s]\n",
            "                 Class     Images  Instances      Box(P          R      mAP50  mAP50-95): 100%|██████████| 3/3 [00:01<00:00,  2.21it/s]"
          ]
        },
        {
          "output_type": "stream",
          "name": "stdout",
          "text": [
            "                   all         74      10577      0.737      0.475      0.544      0.449\n"
          ]
        },
        {
          "output_type": "stream",
          "name": "stderr",
          "text": [
            "\n"
          ]
        },
        {
          "output_type": "stream",
          "name": "stdout",
          "text": [
            "\n",
            "      Epoch    GPU_mem   box_loss   cls_loss   dfl_loss  Instances       Size\n"
          ]
        },
        {
          "output_type": "stream",
          "name": "stderr",
          "text": [
            "     59/100      9.83G     0.8757     0.5534      1.083       2250        640: 100%|██████████| 14/14 [00:07<00:00,  1.82it/s]\n",
            "                 Class     Images  Instances      Box(P          R      mAP50  mAP50-95): 100%|██████████| 3/3 [00:01<00:00,  1.90it/s]"
          ]
        },
        {
          "output_type": "stream",
          "name": "stdout",
          "text": [
            "                   all         74      10577      0.741      0.467      0.543      0.429\n"
          ]
        },
        {
          "output_type": "stream",
          "name": "stderr",
          "text": [
            "\n"
          ]
        },
        {
          "output_type": "stream",
          "name": "stdout",
          "text": [
            "\n",
            "      Epoch    GPU_mem   box_loss   cls_loss   dfl_loss  Instances       Size\n"
          ]
        },
        {
          "output_type": "stream",
          "name": "stderr",
          "text": [
            "     60/100      10.4G     0.8715     0.5449      1.076       3043        640: 100%|██████████| 14/14 [00:07<00:00,  1.83it/s]\n",
            "                 Class     Images  Instances      Box(P          R      mAP50  mAP50-95): 100%|██████████| 3/3 [00:01<00:00,  2.23it/s]"
          ]
        },
        {
          "output_type": "stream",
          "name": "stdout",
          "text": [
            "                   all         74      10577      0.701      0.494      0.548      0.446\n"
          ]
        },
        {
          "output_type": "stream",
          "name": "stderr",
          "text": [
            "\n"
          ]
        },
        {
          "output_type": "stream",
          "name": "stdout",
          "text": [
            "\n",
            "      Epoch    GPU_mem   box_loss   cls_loss   dfl_loss  Instances       Size\n"
          ]
        },
        {
          "output_type": "stream",
          "name": "stderr",
          "text": [
            "     61/100      9.02G     0.8441     0.5391      1.078       1868        640: 100%|██████████| 14/14 [00:07<00:00,  1.78it/s]\n",
            "                 Class     Images  Instances      Box(P          R      mAP50  mAP50-95): 100%|██████████| 3/3 [00:01<00:00,  2.21it/s]"
          ]
        },
        {
          "output_type": "stream",
          "name": "stdout",
          "text": [
            "                   all         74      10577      0.848      0.522      0.551      0.454\n"
          ]
        },
        {
          "output_type": "stream",
          "name": "stderr",
          "text": [
            "\n"
          ]
        },
        {
          "output_type": "stream",
          "name": "stdout",
          "text": [
            "\n",
            "      Epoch    GPU_mem   box_loss   cls_loss   dfl_loss  Instances       Size\n"
          ]
        },
        {
          "output_type": "stream",
          "name": "stderr",
          "text": [
            "     62/100       8.6G     0.8631     0.5489      1.078       2110        640: 100%|██████████| 14/14 [00:08<00:00,  1.74it/s]\n",
            "                 Class     Images  Instances      Box(P          R      mAP50  mAP50-95): 100%|██████████| 3/3 [00:01<00:00,  2.20it/s]"
          ]
        },
        {
          "output_type": "stream",
          "name": "stdout",
          "text": [
            "                   all         74      10577      0.849      0.506      0.541      0.448\n"
          ]
        },
        {
          "output_type": "stream",
          "name": "stderr",
          "text": [
            "\n"
          ]
        },
        {
          "output_type": "stream",
          "name": "stdout",
          "text": [
            "\n",
            "      Epoch    GPU_mem   box_loss   cls_loss   dfl_loss  Instances       Size\n"
          ]
        },
        {
          "output_type": "stream",
          "name": "stderr",
          "text": [
            "     63/100        10G     0.8386     0.5398      1.072       2084        640: 100%|██████████| 14/14 [00:07<00:00,  1.83it/s]\n",
            "                 Class     Images  Instances      Box(P          R      mAP50  mAP50-95): 100%|██████████| 3/3 [00:01<00:00,  1.88it/s]"
          ]
        },
        {
          "output_type": "stream",
          "name": "stdout",
          "text": [
            "                   all         74      10577      0.731      0.492      0.549      0.451\n"
          ]
        },
        {
          "output_type": "stream",
          "name": "stderr",
          "text": [
            "\n"
          ]
        },
        {
          "output_type": "stream",
          "name": "stdout",
          "text": [
            "\n",
            "      Epoch    GPU_mem   box_loss   cls_loss   dfl_loss  Instances       Size\n"
          ]
        },
        {
          "output_type": "stream",
          "name": "stderr",
          "text": [
            "     64/100      8.22G     0.8191     0.5272      1.065       2864        640: 100%|██████████| 14/14 [00:07<00:00,  1.84it/s]\n",
            "                 Class     Images  Instances      Box(P          R      mAP50  mAP50-95): 100%|██████████| 3/3 [00:01<00:00,  2.19it/s]"
          ]
        },
        {
          "output_type": "stream",
          "name": "stdout",
          "text": [
            "                   all         74      10577      0.848      0.514      0.578      0.458\n"
          ]
        },
        {
          "output_type": "stream",
          "name": "stderr",
          "text": [
            "\n"
          ]
        },
        {
          "output_type": "stream",
          "name": "stdout",
          "text": [
            "\n",
            "      Epoch    GPU_mem   box_loss   cls_loss   dfl_loss  Instances       Size\n"
          ]
        },
        {
          "output_type": "stream",
          "name": "stderr",
          "text": [
            "     65/100       9.1G     0.8387      0.532      1.067       2024        640: 100%|██████████| 14/14 [00:07<00:00,  1.76it/s]\n",
            "                 Class     Images  Instances      Box(P          R      mAP50  mAP50-95): 100%|██████████| 3/3 [00:01<00:00,  2.21it/s]"
          ]
        },
        {
          "output_type": "stream",
          "name": "stdout",
          "text": [
            "                   all         74      10577      0.882      0.492      0.552      0.452\n"
          ]
        },
        {
          "output_type": "stream",
          "name": "stderr",
          "text": [
            "\n"
          ]
        },
        {
          "output_type": "stream",
          "name": "stdout",
          "text": [
            "\n",
            "      Epoch    GPU_mem   box_loss   cls_loss   dfl_loss  Instances       Size\n"
          ]
        },
        {
          "output_type": "stream",
          "name": "stderr",
          "text": [
            "     66/100      8.41G      0.824     0.5302      1.064       2940        640: 100%|██████████| 14/14 [00:08<00:00,  1.69it/s]\n",
            "                 Class     Images  Instances      Box(P          R      mAP50  mAP50-95): 100%|██████████| 3/3 [00:01<00:00,  1.76it/s]"
          ]
        },
        {
          "output_type": "stream",
          "name": "stdout",
          "text": [
            "                   all         74      10577      0.842      0.533      0.576      0.464\n"
          ]
        },
        {
          "output_type": "stream",
          "name": "stderr",
          "text": [
            "\n"
          ]
        },
        {
          "output_type": "stream",
          "name": "stdout",
          "text": [
            "\n",
            "      Epoch    GPU_mem   box_loss   cls_loss   dfl_loss  Instances       Size\n"
          ]
        },
        {
          "output_type": "stream",
          "name": "stderr",
          "text": [
            "     67/100       8.4G     0.8301     0.5235      1.056       2215        640: 100%|██████████| 14/14 [00:07<00:00,  1.81it/s]\n",
            "                 Class     Images  Instances      Box(P          R      mAP50  mAP50-95): 100%|██████████| 3/3 [00:01<00:00,  1.78it/s]"
          ]
        },
        {
          "output_type": "stream",
          "name": "stdout",
          "text": [
            "                   all         74      10577      0.908      0.475      0.575      0.464\n"
          ]
        },
        {
          "output_type": "stream",
          "name": "stderr",
          "text": [
            "\n"
          ]
        },
        {
          "output_type": "stream",
          "name": "stdout",
          "text": [
            "\n",
            "      Epoch    GPU_mem   box_loss   cls_loss   dfl_loss  Instances       Size\n"
          ]
        },
        {
          "output_type": "stream",
          "name": "stderr",
          "text": [
            "     68/100      11.3G     0.8089     0.5178      1.053       2383        640: 100%|██████████| 14/14 [00:07<00:00,  1.83it/s]\n",
            "                 Class     Images  Instances      Box(P          R      mAP50  mAP50-95): 100%|██████████| 3/3 [00:01<00:00,  2.17it/s]"
          ]
        },
        {
          "output_type": "stream",
          "name": "stdout",
          "text": [
            "                   all         74      10577      0.868      0.514      0.578      0.471\n"
          ]
        },
        {
          "output_type": "stream",
          "name": "stderr",
          "text": [
            "\n"
          ]
        },
        {
          "output_type": "stream",
          "name": "stdout",
          "text": [
            "\n",
            "      Epoch    GPU_mem   box_loss   cls_loss   dfl_loss  Instances       Size\n"
          ]
        },
        {
          "output_type": "stream",
          "name": "stderr",
          "text": [
            "     69/100      8.97G     0.8039     0.5207      1.056       1963        640: 100%|██████████| 14/14 [00:07<00:00,  1.80it/s]\n",
            "                 Class     Images  Instances      Box(P          R      mAP50  mAP50-95): 100%|██████████| 3/3 [00:01<00:00,  2.22it/s]"
          ]
        },
        {
          "output_type": "stream",
          "name": "stdout",
          "text": [
            "                   all         74      10577      0.863      0.523      0.578      0.472\n"
          ]
        },
        {
          "output_type": "stream",
          "name": "stderr",
          "text": [
            "\n"
          ]
        },
        {
          "output_type": "stream",
          "name": "stdout",
          "text": [
            "\n",
            "      Epoch    GPU_mem   box_loss   cls_loss   dfl_loss  Instances       Size\n"
          ]
        },
        {
          "output_type": "stream",
          "name": "stderr",
          "text": [
            "     70/100      9.99G     0.7919       0.52      1.049       2490        640: 100%|██████████| 14/14 [00:07<00:00,  1.76it/s]\n",
            "                 Class     Images  Instances      Box(P          R      mAP50  mAP50-95): 100%|██████████| 3/3 [00:01<00:00,  2.18it/s]"
          ]
        },
        {
          "output_type": "stream",
          "name": "stdout",
          "text": [
            "                   all         74      10577       0.79      0.543      0.582      0.473\n"
          ]
        },
        {
          "output_type": "stream",
          "name": "stderr",
          "text": [
            "\n"
          ]
        },
        {
          "output_type": "stream",
          "name": "stdout",
          "text": [
            "\n",
            "      Epoch    GPU_mem   box_loss   cls_loss   dfl_loss  Instances       Size\n"
          ]
        },
        {
          "output_type": "stream",
          "name": "stderr",
          "text": [
            "     71/100      9.22G     0.7978     0.5118       1.05       2844        640: 100%|██████████| 14/14 [00:07<00:00,  1.80it/s]\n",
            "                 Class     Images  Instances      Box(P          R      mAP50  mAP50-95): 100%|██████████| 3/3 [00:01<00:00,  1.99it/s]"
          ]
        },
        {
          "output_type": "stream",
          "name": "stdout",
          "text": [
            "                   all         74      10577       0.76      0.532      0.583      0.467\n"
          ]
        },
        {
          "output_type": "stream",
          "name": "stderr",
          "text": [
            "\n"
          ]
        },
        {
          "output_type": "stream",
          "name": "stdout",
          "text": [
            "\n",
            "      Epoch    GPU_mem   box_loss   cls_loss   dfl_loss  Instances       Size\n"
          ]
        },
        {
          "output_type": "stream",
          "name": "stderr",
          "text": [
            "     72/100      9.29G     0.7998     0.5144      1.045       2870        640: 100%|██████████| 14/14 [00:07<00:00,  1.82it/s]\n",
            "                 Class     Images  Instances      Box(P          R      mAP50  mAP50-95): 100%|██████████| 3/3 [00:01<00:00,  1.86it/s]"
          ]
        },
        {
          "output_type": "stream",
          "name": "stdout",
          "text": [
            "                   all         74      10577      0.727      0.547      0.572       0.46\n"
          ]
        },
        {
          "output_type": "stream",
          "name": "stderr",
          "text": [
            "\n"
          ]
        },
        {
          "output_type": "stream",
          "name": "stdout",
          "text": [
            "\n",
            "      Epoch    GPU_mem   box_loss   cls_loss   dfl_loss  Instances       Size\n"
          ]
        },
        {
          "output_type": "stream",
          "name": "stderr",
          "text": [
            "     73/100      11.4G     0.7981     0.5158      1.046       2296        640: 100%|██████████| 14/14 [00:07<00:00,  1.82it/s]\n",
            "                 Class     Images  Instances      Box(P          R      mAP50  mAP50-95): 100%|██████████| 3/3 [00:01<00:00,  2.18it/s]"
          ]
        },
        {
          "output_type": "stream",
          "name": "stdout",
          "text": [
            "                   all         74      10577       0.72      0.547      0.572      0.464\n"
          ]
        },
        {
          "output_type": "stream",
          "name": "stderr",
          "text": [
            "\n"
          ]
        },
        {
          "output_type": "stream",
          "name": "stdout",
          "text": [
            "\n",
            "      Epoch    GPU_mem   box_loss   cls_loss   dfl_loss  Instances       Size\n"
          ]
        },
        {
          "output_type": "stream",
          "name": "stderr",
          "text": [
            "     74/100      9.14G     0.7929       0.51      1.043       1906        640: 100%|██████████| 14/14 [00:08<00:00,  1.75it/s]\n",
            "                 Class     Images  Instances      Box(P          R      mAP50  mAP50-95): 100%|██████████| 3/3 [00:01<00:00,  2.20it/s]"
          ]
        },
        {
          "output_type": "stream",
          "name": "stdout",
          "text": [
            "                   all         74      10577      0.767      0.551      0.585      0.472\n"
          ]
        },
        {
          "output_type": "stream",
          "name": "stderr",
          "text": [
            "\n"
          ]
        },
        {
          "output_type": "stream",
          "name": "stdout",
          "text": [
            "\n",
            "      Epoch    GPU_mem   box_loss   cls_loss   dfl_loss  Instances       Size\n"
          ]
        },
        {
          "output_type": "stream",
          "name": "stderr",
          "text": [
            "     75/100      8.25G      0.782     0.5115      1.038       2407        640: 100%|██████████| 14/14 [00:07<00:00,  1.79it/s]\n",
            "                 Class     Images  Instances      Box(P          R      mAP50  mAP50-95): 100%|██████████| 3/3 [00:01<00:00,  1.94it/s]"
          ]
        },
        {
          "output_type": "stream",
          "name": "stdout",
          "text": [
            "                   all         74      10577      0.766      0.546       0.59      0.474\n"
          ]
        },
        {
          "output_type": "stream",
          "name": "stderr",
          "text": [
            "\n"
          ]
        },
        {
          "output_type": "stream",
          "name": "stdout",
          "text": [
            "\n",
            "      Epoch    GPU_mem   box_loss   cls_loss   dfl_loss  Instances       Size\n"
          ]
        },
        {
          "output_type": "stream",
          "name": "stderr",
          "text": [
            "     76/100      9.81G     0.7651     0.5011      1.035       2163        640: 100%|██████████| 14/14 [00:07<00:00,  1.83it/s]\n",
            "                 Class     Images  Instances      Box(P          R      mAP50  mAP50-95): 100%|██████████| 3/3 [00:01<00:00,  1.81it/s]"
          ]
        },
        {
          "output_type": "stream",
          "name": "stdout",
          "text": [
            "                   all         74      10577      0.754      0.558       0.59      0.482\n"
          ]
        },
        {
          "output_type": "stream",
          "name": "stderr",
          "text": [
            "\n"
          ]
        },
        {
          "output_type": "stream",
          "name": "stdout",
          "text": [
            "\n",
            "      Epoch    GPU_mem   box_loss   cls_loss   dfl_loss  Instances       Size\n"
          ]
        },
        {
          "output_type": "stream",
          "name": "stderr",
          "text": [
            "     77/100      9.11G     0.7753     0.5045      1.041       3241        640: 100%|██████████| 14/14 [00:07<00:00,  1.82it/s]\n",
            "                 Class     Images  Instances      Box(P          R      mAP50  mAP50-95): 100%|██████████| 3/3 [00:01<00:00,  1.70it/s]"
          ]
        },
        {
          "output_type": "stream",
          "name": "stdout",
          "text": [
            "                   all         74      10577      0.768       0.55      0.599      0.484\n"
          ]
        },
        {
          "output_type": "stream",
          "name": "stderr",
          "text": [
            "\n"
          ]
        },
        {
          "output_type": "stream",
          "name": "stdout",
          "text": [
            "\n",
            "      Epoch    GPU_mem   box_loss   cls_loss   dfl_loss  Instances       Size\n"
          ]
        },
        {
          "output_type": "stream",
          "name": "stderr",
          "text": [
            "     78/100      8.97G     0.7617     0.5004      1.035       2360        640: 100%|██████████| 14/14 [00:07<00:00,  1.82it/s]\n",
            "                 Class     Images  Instances      Box(P          R      mAP50  mAP50-95): 100%|██████████| 3/3 [00:01<00:00,  2.20it/s]"
          ]
        },
        {
          "output_type": "stream",
          "name": "stdout",
          "text": [
            "                   all         74      10577      0.784      0.533      0.594      0.482\n"
          ]
        },
        {
          "output_type": "stream",
          "name": "stderr",
          "text": [
            "\n"
          ]
        },
        {
          "output_type": "stream",
          "name": "stdout",
          "text": [
            "\n",
            "      Epoch    GPU_mem   box_loss   cls_loss   dfl_loss  Instances       Size\n"
          ]
        },
        {
          "output_type": "stream",
          "name": "stderr",
          "text": [
            "     79/100      10.2G     0.7624     0.4942       1.03       2863        640: 100%|██████████| 14/14 [00:07<00:00,  1.76it/s]\n",
            "                 Class     Images  Instances      Box(P          R      mAP50  mAP50-95): 100%|██████████| 3/3 [00:01<00:00,  2.22it/s]"
          ]
        },
        {
          "output_type": "stream",
          "name": "stdout",
          "text": [
            "                   all         74      10577      0.821      0.526      0.591      0.469\n"
          ]
        },
        {
          "output_type": "stream",
          "name": "stderr",
          "text": [
            "\n"
          ]
        },
        {
          "output_type": "stream",
          "name": "stdout",
          "text": [
            "\n",
            "      Epoch    GPU_mem   box_loss   cls_loss   dfl_loss  Instances       Size\n"
          ]
        },
        {
          "output_type": "stream",
          "name": "stderr",
          "text": [
            "     80/100      8.54G     0.7643     0.4958       1.03       2123        640: 100%|██████████| 14/14 [00:08<00:00,  1.74it/s]\n",
            "                 Class     Images  Instances      Box(P          R      mAP50  mAP50-95): 100%|██████████| 3/3 [00:01<00:00,  2.21it/s]"
          ]
        },
        {
          "output_type": "stream",
          "name": "stdout",
          "text": [
            "                   all         74      10577      0.782      0.545      0.601      0.483\n"
          ]
        },
        {
          "output_type": "stream",
          "name": "stderr",
          "text": [
            "\n"
          ]
        },
        {
          "output_type": "stream",
          "name": "stdout",
          "text": [
            "\n",
            "      Epoch    GPU_mem   box_loss   cls_loss   dfl_loss  Instances       Size\n"
          ]
        },
        {
          "output_type": "stream",
          "name": "stderr",
          "text": [
            "     81/100         9G     0.7509     0.4962      1.028       2464        640: 100%|██████████| 14/14 [00:07<00:00,  1.79it/s]\n",
            "                 Class     Images  Instances      Box(P          R      mAP50  mAP50-95): 100%|██████████| 3/3 [00:01<00:00,  1.81it/s]"
          ]
        },
        {
          "output_type": "stream",
          "name": "stdout",
          "text": [
            "                   all         74      10577       0.79      0.539      0.596      0.488\n"
          ]
        },
        {
          "output_type": "stream",
          "name": "stderr",
          "text": [
            "\n"
          ]
        },
        {
          "output_type": "stream",
          "name": "stdout",
          "text": [
            "\n",
            "      Epoch    GPU_mem   box_loss   cls_loss   dfl_loss  Instances       Size\n"
          ]
        },
        {
          "output_type": "stream",
          "name": "stderr",
          "text": [
            "     82/100      9.02G     0.7607     0.5019      1.031       2764        640: 100%|██████████| 14/14 [00:07<00:00,  1.82it/s]\n",
            "                 Class     Images  Instances      Box(P          R      mAP50  mAP50-95): 100%|██████████| 3/3 [00:01<00:00,  1.95it/s]"
          ]
        },
        {
          "output_type": "stream",
          "name": "stdout",
          "text": [
            "                   all         74      10577      0.778      0.548        0.6      0.487\n"
          ]
        },
        {
          "output_type": "stream",
          "name": "stderr",
          "text": [
            "\n"
          ]
        },
        {
          "output_type": "stream",
          "name": "stdout",
          "text": [
            "\n",
            "      Epoch    GPU_mem   box_loss   cls_loss   dfl_loss  Instances       Size\n"
          ]
        },
        {
          "output_type": "stream",
          "name": "stderr",
          "text": [
            "     83/100      10.3G     0.7534     0.4924      1.024       2607        640: 100%|██████████| 14/14 [00:07<00:00,  1.80it/s]\n",
            "                 Class     Images  Instances      Box(P          R      mAP50  mAP50-95): 100%|██████████| 3/3 [00:01<00:00,  1.82it/s]"
          ]
        },
        {
          "output_type": "stream",
          "name": "stdout",
          "text": [
            "                   all         74      10577      0.783      0.544        0.6      0.489\n"
          ]
        },
        {
          "output_type": "stream",
          "name": "stderr",
          "text": [
            "\n"
          ]
        },
        {
          "output_type": "stream",
          "name": "stdout",
          "text": [
            "\n",
            "      Epoch    GPU_mem   box_loss   cls_loss   dfl_loss  Instances       Size\n"
          ]
        },
        {
          "output_type": "stream",
          "name": "stderr",
          "text": [
            "     84/100      9.25G     0.7406     0.4858      1.023       2834        640: 100%|██████████| 14/14 [00:07<00:00,  1.81it/s]\n",
            "                 Class     Images  Instances      Box(P          R      mAP50  mAP50-95): 100%|██████████| 3/3 [00:01<00:00,  1.96it/s]"
          ]
        },
        {
          "output_type": "stream",
          "name": "stdout",
          "text": [
            "                   all         74      10577      0.781      0.549      0.599      0.489\n"
          ]
        },
        {
          "output_type": "stream",
          "name": "stderr",
          "text": [
            "\n"
          ]
        },
        {
          "output_type": "stream",
          "name": "stdout",
          "text": [
            "\n",
            "      Epoch    GPU_mem   box_loss   cls_loss   dfl_loss  Instances       Size\n"
          ]
        },
        {
          "output_type": "stream",
          "name": "stderr",
          "text": [
            "     85/100      8.57G     0.7383       0.49      1.025       2429        640: 100%|██████████| 14/14 [00:07<00:00,  1.79it/s]\n",
            "                 Class     Images  Instances      Box(P          R      mAP50  mAP50-95): 100%|██████████| 3/3 [00:01<00:00,  2.22it/s]"
          ]
        },
        {
          "output_type": "stream",
          "name": "stdout",
          "text": [
            "                   all         74      10577      0.801      0.543      0.593      0.485\n"
          ]
        },
        {
          "output_type": "stream",
          "name": "stderr",
          "text": [
            "\n"
          ]
        },
        {
          "output_type": "stream",
          "name": "stdout",
          "text": [
            "\n",
            "      Epoch    GPU_mem   box_loss   cls_loss   dfl_loss  Instances       Size\n"
          ]
        },
        {
          "output_type": "stream",
          "name": "stderr",
          "text": [
            "     86/100      10.8G     0.7424     0.4914      1.024       2189        640: 100%|██████████| 14/14 [00:07<00:00,  1.75it/s]\n",
            "                 Class     Images  Instances      Box(P          R      mAP50  mAP50-95): 100%|██████████| 3/3 [00:01<00:00,  2.19it/s]"
          ]
        },
        {
          "output_type": "stream",
          "name": "stdout",
          "text": [
            "                   all         74      10577      0.589      0.601      0.595      0.489\n"
          ]
        },
        {
          "output_type": "stream",
          "name": "stderr",
          "text": [
            "\n"
          ]
        },
        {
          "output_type": "stream",
          "name": "stdout",
          "text": [
            "\n",
            "      Epoch    GPU_mem   box_loss   cls_loss   dfl_loss  Instances       Size\n"
          ]
        },
        {
          "output_type": "stream",
          "name": "stderr",
          "text": [
            "     87/100      10.5G     0.7466     0.4883      1.022       3034        640: 100%|██████████| 14/14 [00:07<00:00,  1.78it/s]\n",
            "                 Class     Images  Instances      Box(P          R      mAP50  mAP50-95): 100%|██████████| 3/3 [00:01<00:00,  2.02it/s]"
          ]
        },
        {
          "output_type": "stream",
          "name": "stdout",
          "text": [
            "                   all         74      10577       0.65      0.589      0.601      0.492\n"
          ]
        },
        {
          "output_type": "stream",
          "name": "stderr",
          "text": [
            "\n"
          ]
        },
        {
          "output_type": "stream",
          "name": "stdout",
          "text": [
            "\n",
            "      Epoch    GPU_mem   box_loss   cls_loss   dfl_loss  Instances       Size\n"
          ]
        },
        {
          "output_type": "stream",
          "name": "stderr",
          "text": [
            "     88/100       8.6G     0.7488     0.4822      1.019       2446        640: 100%|██████████| 14/14 [00:08<00:00,  1.74it/s]\n",
            "                 Class     Images  Instances      Box(P          R      mAP50  mAP50-95): 100%|██████████| 3/3 [00:01<00:00,  1.69it/s]"
          ]
        },
        {
          "output_type": "stream",
          "name": "stdout",
          "text": [
            "                   all         74      10577      0.647      0.585      0.603      0.492\n"
          ]
        },
        {
          "output_type": "stream",
          "name": "stderr",
          "text": [
            "\n"
          ]
        },
        {
          "output_type": "stream",
          "name": "stdout",
          "text": [
            "\n",
            "      Epoch    GPU_mem   box_loss   cls_loss   dfl_loss  Instances       Size\n"
          ]
        },
        {
          "output_type": "stream",
          "name": "stderr",
          "text": [
            "     89/100      9.83G     0.7243     0.4878      1.022       2181        640: 100%|██████████| 14/14 [00:07<00:00,  1.83it/s]\n",
            "                 Class     Images  Instances      Box(P          R      mAP50  mAP50-95): 100%|██████████| 3/3 [00:01<00:00,  2.21it/s]"
          ]
        },
        {
          "output_type": "stream",
          "name": "stdout",
          "text": [
            "                   all         74      10577      0.814      0.541        0.6      0.494\n"
          ]
        },
        {
          "output_type": "stream",
          "name": "stderr",
          "text": [
            "\n"
          ]
        },
        {
          "output_type": "stream",
          "name": "stdout",
          "text": [
            "\n",
            "      Epoch    GPU_mem   box_loss   cls_loss   dfl_loss  Instances       Size\n"
          ]
        },
        {
          "output_type": "stream",
          "name": "stderr",
          "text": [
            "     90/100      8.94G     0.7367     0.4863      1.021       2803        640: 100%|██████████| 14/14 [00:07<00:00,  1.83it/s]\n",
            "                 Class     Images  Instances      Box(P          R      mAP50  mAP50-95): 100%|██████████| 3/3 [00:01<00:00,  1.90it/s]"
          ]
        },
        {
          "output_type": "stream",
          "name": "stdout",
          "text": [
            "                   all         74      10577      0.624      0.599      0.602      0.494\n"
          ]
        },
        {
          "output_type": "stream",
          "name": "stderr",
          "text": [
            "\n"
          ]
        },
        {
          "output_type": "stream",
          "name": "stdout",
          "text": [
            "Closing dataloader mosaic\n",
            "\u001b[34m\u001b[1malbumentations: \u001b[0mBlur(p=0.01, blur_limit=(3, 7)), MedianBlur(p=0.01, blur_limit=(3, 7)), ToGray(p=0.01, method='weighted_average', num_output_channels=3), CLAHE(p=0.01, clip_limit=(1.0, 4.0), tile_grid_size=(8, 8))\n",
            "\n",
            "      Epoch    GPU_mem   box_loss   cls_loss   dfl_loss  Instances       Size\n"
          ]
        },
        {
          "output_type": "stream",
          "name": "stderr",
          "text": [
            "     91/100      6.68G     0.7671     0.5324     0.9869       1474        640: 100%|██████████| 14/14 [00:08<00:00,  1.59it/s]\n",
            "                 Class     Images  Instances      Box(P          R      mAP50  mAP50-95): 100%|██████████| 3/3 [00:01<00:00,  2.23it/s]"
          ]
        },
        {
          "output_type": "stream",
          "name": "stdout",
          "text": [
            "                   all         74      10577       0.68      0.573      0.602      0.485\n"
          ]
        },
        {
          "output_type": "stream",
          "name": "stderr",
          "text": [
            "\n"
          ]
        },
        {
          "output_type": "stream",
          "name": "stdout",
          "text": [
            "\n",
            "      Epoch    GPU_mem   box_loss   cls_loss   dfl_loss  Instances       Size\n"
          ]
        },
        {
          "output_type": "stream",
          "name": "stderr",
          "text": [
            "     92/100      6.74G     0.7174     0.5023     0.9828       1532        640: 100%|██████████| 14/14 [00:07<00:00,  1.95it/s]\n",
            "                 Class     Images  Instances      Box(P          R      mAP50  mAP50-95): 100%|██████████| 3/3 [00:01<00:00,  2.25it/s]"
          ]
        },
        {
          "output_type": "stream",
          "name": "stdout",
          "text": [
            "                   all         74      10577      0.693      0.573      0.593      0.483\n"
          ]
        },
        {
          "output_type": "stream",
          "name": "stderr",
          "text": [
            "\n"
          ]
        },
        {
          "output_type": "stream",
          "name": "stdout",
          "text": [
            "\n",
            "      Epoch    GPU_mem   box_loss   cls_loss   dfl_loss  Instances       Size\n"
          ]
        },
        {
          "output_type": "stream",
          "name": "stderr",
          "text": [
            "     93/100       6.8G     0.7356     0.5017     0.9807       1498        640: 100%|██████████| 14/14 [00:07<00:00,  1.96it/s]\n",
            "                 Class     Images  Instances      Box(P          R      mAP50  mAP50-95): 100%|██████████| 3/3 [00:01<00:00,  1.99it/s]"
          ]
        },
        {
          "output_type": "stream",
          "name": "stdout",
          "text": [
            "                   all         74      10577       0.86      0.529      0.581      0.479\n"
          ]
        },
        {
          "output_type": "stream",
          "name": "stderr",
          "text": [
            "\n"
          ]
        },
        {
          "output_type": "stream",
          "name": "stdout",
          "text": [
            "\n",
            "      Epoch    GPU_mem   box_loss   cls_loss   dfl_loss  Instances       Size\n"
          ]
        },
        {
          "output_type": "stream",
          "name": "stderr",
          "text": [
            "     94/100      7.03G     0.6893     0.4822      0.975       1483        640: 100%|██████████| 14/14 [00:06<00:00,  2.02it/s]\n",
            "                 Class     Images  Instances      Box(P          R      mAP50  mAP50-95): 100%|██████████| 3/3 [00:01<00:00,  2.12it/s]"
          ]
        },
        {
          "output_type": "stream",
          "name": "stdout",
          "text": [
            "                   all         74      10577      0.696      0.573       0.59      0.486\n"
          ]
        },
        {
          "output_type": "stream",
          "name": "stderr",
          "text": [
            "\n"
          ]
        },
        {
          "output_type": "stream",
          "name": "stdout",
          "text": [
            "\n",
            "      Epoch    GPU_mem   box_loss   cls_loss   dfl_loss  Instances       Size\n"
          ]
        },
        {
          "output_type": "stream",
          "name": "stderr",
          "text": [
            "     95/100      6.54G     0.6925     0.4831     0.9765       1602        640: 100%|██████████| 14/14 [00:06<00:00,  2.01it/s]\n",
            "                 Class     Images  Instances      Box(P          R      mAP50  mAP50-95): 100%|██████████| 3/3 [00:01<00:00,  2.21it/s]"
          ]
        },
        {
          "output_type": "stream",
          "name": "stdout",
          "text": [
            "                   all         74      10577      0.606      0.605      0.599      0.491\n"
          ]
        },
        {
          "output_type": "stream",
          "name": "stderr",
          "text": [
            "\n"
          ]
        },
        {
          "output_type": "stream",
          "name": "stdout",
          "text": [
            "\n",
            "      Epoch    GPU_mem   box_loss   cls_loss   dfl_loss  Instances       Size\n"
          ]
        },
        {
          "output_type": "stream",
          "name": "stderr",
          "text": [
            "     96/100      6.96G     0.6935     0.4793     0.9686       1560        640: 100%|██████████| 14/14 [00:07<00:00,  1.94it/s]\n",
            "                 Class     Images  Instances      Box(P          R      mAP50  mAP50-95): 100%|██████████| 3/3 [00:01<00:00,  2.24it/s]"
          ]
        },
        {
          "output_type": "stream",
          "name": "stdout",
          "text": [
            "                   all         74      10577      0.599      0.601      0.598      0.491\n"
          ]
        },
        {
          "output_type": "stream",
          "name": "stderr",
          "text": [
            "\n"
          ]
        },
        {
          "output_type": "stream",
          "name": "stdout",
          "text": [
            "\n",
            "      Epoch    GPU_mem   box_loss   cls_loss   dfl_loss  Instances       Size\n"
          ]
        },
        {
          "output_type": "stream",
          "name": "stderr",
          "text": [
            "     97/100       7.2G     0.6843     0.4784     0.9695       1728        640: 100%|██████████| 14/14 [00:06<00:00,  2.03it/s]\n",
            "                 Class     Images  Instances      Box(P          R      mAP50  mAP50-95): 100%|██████████| 3/3 [00:01<00:00,  1.71it/s]"
          ]
        },
        {
          "output_type": "stream",
          "name": "stdout",
          "text": [
            "                   all         74      10577      0.595      0.581      0.596      0.489\n"
          ]
        },
        {
          "output_type": "stream",
          "name": "stderr",
          "text": [
            "\n"
          ]
        },
        {
          "output_type": "stream",
          "name": "stdout",
          "text": [
            "\n",
            "      Epoch    GPU_mem   box_loss   cls_loss   dfl_loss  Instances       Size\n"
          ]
        },
        {
          "output_type": "stream",
          "name": "stderr",
          "text": [
            "     98/100      7.54G     0.6689     0.4686     0.9679       1657        640: 100%|██████████| 14/14 [00:06<00:00,  2.03it/s]\n",
            "                 Class     Images  Instances      Box(P          R      mAP50  mAP50-95): 100%|██████████| 3/3 [00:01<00:00,  2.17it/s]"
          ]
        },
        {
          "output_type": "stream",
          "name": "stdout",
          "text": [
            "                   all         74      10577      0.823       0.55      0.601      0.494\n"
          ]
        },
        {
          "output_type": "stream",
          "name": "stderr",
          "text": [
            "\n"
          ]
        },
        {
          "output_type": "stream",
          "name": "stdout",
          "text": [
            "\n",
            "      Epoch    GPU_mem   box_loss   cls_loss   dfl_loss  Instances       Size\n"
          ]
        },
        {
          "output_type": "stream",
          "name": "stderr",
          "text": [
            "     99/100      6.67G      0.694     0.4808     0.9703       1751        640: 100%|██████████| 14/14 [00:07<00:00,  1.91it/s]\n",
            "                 Class     Images  Instances      Box(P          R      mAP50  mAP50-95): 100%|██████████| 3/3 [00:01<00:00,  2.24it/s]"
          ]
        },
        {
          "output_type": "stream",
          "name": "stdout",
          "text": [
            "                   all         74      10577      0.818       0.55      0.605      0.495\n"
          ]
        },
        {
          "output_type": "stream",
          "name": "stderr",
          "text": [
            "\n"
          ]
        },
        {
          "output_type": "stream",
          "name": "stdout",
          "text": [
            "\n",
            "      Epoch    GPU_mem   box_loss   cls_loss   dfl_loss  Instances       Size\n"
          ]
        },
        {
          "output_type": "stream",
          "name": "stderr",
          "text": [
            "    100/100      6.62G     0.6696     0.4674     0.9612       1618        640: 100%|██████████| 14/14 [00:07<00:00,  1.93it/s]\n",
            "                 Class     Images  Instances      Box(P          R      mAP50  mAP50-95): 100%|██████████| 3/3 [00:01<00:00,  2.18it/s]"
          ]
        },
        {
          "output_type": "stream",
          "name": "stdout",
          "text": [
            "                   all         74      10577      0.821      0.553      0.603      0.498\n"
          ]
        },
        {
          "output_type": "stream",
          "name": "stderr",
          "text": [
            "\n"
          ]
        },
        {
          "output_type": "stream",
          "name": "stdout",
          "text": [
            "\n",
            "100 epochs completed in 0.318 hours.\n",
            "Optimizer stripped from runs/detect/train/weights/last.pt, 50.5MB\n",
            "Optimizer stripped from runs/detect/train/weights/best.pt, 50.5MB\n",
            "\n",
            "Validating runs/detect/train/weights/best.pt...\n",
            "Ultralytics 8.3.162 🚀 Python-3.11.13 torch-2.6.0+cu124 CUDA:0 (Tesla T4, 15095MiB)\n",
            "YOLOv5m summary (fused): 106 layers, 25,048,690 parameters, 0 gradients, 64.0 GFLOPs\n"
          ]
        },
        {
          "output_type": "stream",
          "name": "stderr",
          "text": [
            "                 Class     Images  Instances      Box(P          R      mAP50  mAP50-95): 100%|██████████| 3/3 [00:05<00:00,  1.84s/it]\n"
          ]
        },
        {
          "output_type": "stream",
          "name": "stdout",
          "text": [
            "                   all         74      10577      0.821      0.553      0.603      0.498\n",
            "                   bus         56        128      0.705      0.758      0.788       0.72\n",
            "                   car         74       5480      0.918      0.848      0.901      0.761\n",
            "                person         74       1222      0.734     0.0588      0.124      0.054\n",
            "         traffic light         24         35          1          0      0.144     0.0648\n",
            "                  tree         74       3208      0.877       0.94       0.96      0.846\n",
            "                 truck         74        504      0.694      0.712      0.703      0.543\n",
            "Speed: 0.3ms preprocess, 9.7ms inference, 0.0ms loss, 3.5ms postprocess per image\n",
            "Results saved to \u001b[1mruns/detect/train\u001b[0m\n"
          ]
        },
        {
          "output_type": "execute_result",
          "data": {
            "text/plain": [
              "ultralytics.utils.metrics.DetMetrics object with attributes:\n",
              "\n",
              "ap_class_index: array([0, 1, 2, 3, 4, 5])\n",
              "box: ultralytics.utils.metrics.Metric object\n",
              "confusion_matrix: <ultralytics.utils.metrics.ConfusionMatrix object at 0x7974fcaa80d0>\n",
              "curves: ['Precision-Recall(B)', 'F1-Confidence(B)', 'Precision-Confidence(B)', 'Recall-Confidence(B)']\n",
              "curves_results: [[array([          0,    0.001001,    0.002002,    0.003003,    0.004004,    0.005005,    0.006006,    0.007007,    0.008008,    0.009009,     0.01001,    0.011011,    0.012012,    0.013013,    0.014014,    0.015015,    0.016016,    0.017017,    0.018018,    0.019019,     0.02002,    0.021021,    0.022022,    0.023023,\n",
              "          0.024024,    0.025025,    0.026026,    0.027027,    0.028028,    0.029029,     0.03003,    0.031031,    0.032032,    0.033033,    0.034034,    0.035035,    0.036036,    0.037037,    0.038038,    0.039039,     0.04004,    0.041041,    0.042042,    0.043043,    0.044044,    0.045045,    0.046046,    0.047047,\n",
              "          0.048048,    0.049049,     0.05005,    0.051051,    0.052052,    0.053053,    0.054054,    0.055055,    0.056056,    0.057057,    0.058058,    0.059059,     0.06006,    0.061061,    0.062062,    0.063063,    0.064064,    0.065065,    0.066066,    0.067067,    0.068068,    0.069069,     0.07007,    0.071071,\n",
              "          0.072072,    0.073073,    0.074074,    0.075075,    0.076076,    0.077077,    0.078078,    0.079079,     0.08008,    0.081081,    0.082082,    0.083083,    0.084084,    0.085085,    0.086086,    0.087087,    0.088088,    0.089089,     0.09009,    0.091091,    0.092092,    0.093093,    0.094094,    0.095095,\n",
              "          0.096096,    0.097097,    0.098098,    0.099099,      0.1001,      0.1011,      0.1021,      0.1031,      0.1041,     0.10511,     0.10611,     0.10711,     0.10811,     0.10911,     0.11011,     0.11111,     0.11211,     0.11311,     0.11411,     0.11512,     0.11612,     0.11712,     0.11812,     0.11912,\n",
              "           0.12012,     0.12112,     0.12212,     0.12312,     0.12412,     0.12513,     0.12613,     0.12713,     0.12813,     0.12913,     0.13013,     0.13113,     0.13213,     0.13313,     0.13413,     0.13514,     0.13614,     0.13714,     0.13814,     0.13914,     0.14014,     0.14114,     0.14214,     0.14314,\n",
              "           0.14414,     0.14515,     0.14615,     0.14715,     0.14815,     0.14915,     0.15015,     0.15115,     0.15215,     0.15315,     0.15415,     0.15516,     0.15616,     0.15716,     0.15816,     0.15916,     0.16016,     0.16116,     0.16216,     0.16316,     0.16416,     0.16517,     0.16617,     0.16717,\n",
              "           0.16817,     0.16917,     0.17017,     0.17117,     0.17217,     0.17317,     0.17417,     0.17518,     0.17618,     0.17718,     0.17818,     0.17918,     0.18018,     0.18118,     0.18218,     0.18318,     0.18418,     0.18519,     0.18619,     0.18719,     0.18819,     0.18919,     0.19019,     0.19119,\n",
              "           0.19219,     0.19319,     0.19419,      0.1952,      0.1962,      0.1972,      0.1982,      0.1992,      0.2002,      0.2012,      0.2022,      0.2032,      0.2042,     0.20521,     0.20621,     0.20721,     0.20821,     0.20921,     0.21021,     0.21121,     0.21221,     0.21321,     0.21421,     0.21522,\n",
              "           0.21622,     0.21722,     0.21822,     0.21922,     0.22022,     0.22122,     0.22222,     0.22322,     0.22422,     0.22523,     0.22623,     0.22723,     0.22823,     0.22923,     0.23023,     0.23123,     0.23223,     0.23323,     0.23423,     0.23524,     0.23624,     0.23724,     0.23824,     0.23924,\n",
              "           0.24024,     0.24124,     0.24224,     0.24324,     0.24424,     0.24525,     0.24625,     0.24725,     0.24825,     0.24925,     0.25025,     0.25125,     0.25225,     0.25325,     0.25425,     0.25526,     0.25626,     0.25726,     0.25826,     0.25926,     0.26026,     0.26126,     0.26226,     0.26326,\n",
              "           0.26426,     0.26527,     0.26627,     0.26727,     0.26827,     0.26927,     0.27027,     0.27127,     0.27227,     0.27327,     0.27427,     0.27528,     0.27628,     0.27728,     0.27828,     0.27928,     0.28028,     0.28128,     0.28228,     0.28328,     0.28428,     0.28529,     0.28629,     0.28729,\n",
              "           0.28829,     0.28929,     0.29029,     0.29129,     0.29229,     0.29329,     0.29429,      0.2953,      0.2963,      0.2973,      0.2983,      0.2993,      0.3003,      0.3013,      0.3023,      0.3033,      0.3043,     0.30531,     0.30631,     0.30731,     0.30831,     0.30931,     0.31031,     0.31131,\n",
              "           0.31231,     0.31331,     0.31431,     0.31532,     0.31632,     0.31732,     0.31832,     0.31932,     0.32032,     0.32132,     0.32232,     0.32332,     0.32432,     0.32533,     0.32633,     0.32733,     0.32833,     0.32933,     0.33033,     0.33133,     0.33233,     0.33333,     0.33433,     0.33534,\n",
              "           0.33634,     0.33734,     0.33834,     0.33934,     0.34034,     0.34134,     0.34234,     0.34334,     0.34434,     0.34535,     0.34635,     0.34735,     0.34835,     0.34935,     0.35035,     0.35135,     0.35235,     0.35335,     0.35435,     0.35536,     0.35636,     0.35736,     0.35836,     0.35936,\n",
              "           0.36036,     0.36136,     0.36236,     0.36336,     0.36436,     0.36537,     0.36637,     0.36737,     0.36837,     0.36937,     0.37037,     0.37137,     0.37237,     0.37337,     0.37437,     0.37538,     0.37638,     0.37738,     0.37838,     0.37938,     0.38038,     0.38138,     0.38238,     0.38338,\n",
              "           0.38438,     0.38539,     0.38639,     0.38739,     0.38839,     0.38939,     0.39039,     0.39139,     0.39239,     0.39339,     0.39439,      0.3954,      0.3964,      0.3974,      0.3984,      0.3994,      0.4004,      0.4014,      0.4024,      0.4034,      0.4044,     0.40541,     0.40641,     0.40741,\n",
              "           0.40841,     0.40941,     0.41041,     0.41141,     0.41241,     0.41341,     0.41441,     0.41542,     0.41642,     0.41742,     0.41842,     0.41942,     0.42042,     0.42142,     0.42242,     0.42342,     0.42442,     0.42543,     0.42643,     0.42743,     0.42843,     0.42943,     0.43043,     0.43143,\n",
              "           0.43243,     0.43343,     0.43443,     0.43544,     0.43644,     0.43744,     0.43844,     0.43944,     0.44044,     0.44144,     0.44244,     0.44344,     0.44444,     0.44545,     0.44645,     0.44745,     0.44845,     0.44945,     0.45045,     0.45145,     0.45245,     0.45345,     0.45445,     0.45546,\n",
              "           0.45646,     0.45746,     0.45846,     0.45946,     0.46046,     0.46146,     0.46246,     0.46346,     0.46446,     0.46547,     0.46647,     0.46747,     0.46847,     0.46947,     0.47047,     0.47147,     0.47247,     0.47347,     0.47447,     0.47548,     0.47648,     0.47748,     0.47848,     0.47948,\n",
              "           0.48048,     0.48148,     0.48248,     0.48348,     0.48448,     0.48549,     0.48649,     0.48749,     0.48849,     0.48949,     0.49049,     0.49149,     0.49249,     0.49349,     0.49449,      0.4955,      0.4965,      0.4975,      0.4985,      0.4995,      0.5005,      0.5015,      0.5025,      0.5035,\n",
              "            0.5045,     0.50551,     0.50651,     0.50751,     0.50851,     0.50951,     0.51051,     0.51151,     0.51251,     0.51351,     0.51451,     0.51552,     0.51652,     0.51752,     0.51852,     0.51952,     0.52052,     0.52152,     0.52252,     0.52352,     0.52452,     0.52553,     0.52653,     0.52753,\n",
              "           0.52853,     0.52953,     0.53053,     0.53153,     0.53253,     0.53353,     0.53453,     0.53554,     0.53654,     0.53754,     0.53854,     0.53954,     0.54054,     0.54154,     0.54254,     0.54354,     0.54454,     0.54555,     0.54655,     0.54755,     0.54855,     0.54955,     0.55055,     0.55155,\n",
              "           0.55255,     0.55355,     0.55455,     0.55556,     0.55656,     0.55756,     0.55856,     0.55956,     0.56056,     0.56156,     0.56256,     0.56356,     0.56456,     0.56557,     0.56657,     0.56757,     0.56857,     0.56957,     0.57057,     0.57157,     0.57257,     0.57357,     0.57457,     0.57558,\n",
              "           0.57658,     0.57758,     0.57858,     0.57958,     0.58058,     0.58158,     0.58258,     0.58358,     0.58458,     0.58559,     0.58659,     0.58759,     0.58859,     0.58959,     0.59059,     0.59159,     0.59259,     0.59359,     0.59459,      0.5956,      0.5966,      0.5976,      0.5986,      0.5996,\n",
              "            0.6006,      0.6016,      0.6026,      0.6036,      0.6046,     0.60561,     0.60661,     0.60761,     0.60861,     0.60961,     0.61061,     0.61161,     0.61261,     0.61361,     0.61461,     0.61562,     0.61662,     0.61762,     0.61862,     0.61962,     0.62062,     0.62162,     0.62262,     0.62362,\n",
              "           0.62462,     0.62563,     0.62663,     0.62763,     0.62863,     0.62963,     0.63063,     0.63163,     0.63263,     0.63363,     0.63463,     0.63564,     0.63664,     0.63764,     0.63864,     0.63964,     0.64064,     0.64164,     0.64264,     0.64364,     0.64464,     0.64565,     0.64665,     0.64765,\n",
              "           0.64865,     0.64965,     0.65065,     0.65165,     0.65265,     0.65365,     0.65465,     0.65566,     0.65666,     0.65766,     0.65866,     0.65966,     0.66066,     0.66166,     0.66266,     0.66366,     0.66466,     0.66567,     0.66667,     0.66767,     0.66867,     0.66967,     0.67067,     0.67167,\n",
              "           0.67267,     0.67367,     0.67467,     0.67568,     0.67668,     0.67768,     0.67868,     0.67968,     0.68068,     0.68168,     0.68268,     0.68368,     0.68468,     0.68569,     0.68669,     0.68769,     0.68869,     0.68969,     0.69069,     0.69169,     0.69269,     0.69369,     0.69469,      0.6957,\n",
              "            0.6967,      0.6977,      0.6987,      0.6997,      0.7007,      0.7017,      0.7027,      0.7037,      0.7047,     0.70571,     0.70671,     0.70771,     0.70871,     0.70971,     0.71071,     0.71171,     0.71271,     0.71371,     0.71471,     0.71572,     0.71672,     0.71772,     0.71872,     0.71972,\n",
              "           0.72072,     0.72172,     0.72272,     0.72372,     0.72472,     0.72573,     0.72673,     0.72773,     0.72873,     0.72973,     0.73073,     0.73173,     0.73273,     0.73373,     0.73473,     0.73574,     0.73674,     0.73774,     0.73874,     0.73974,     0.74074,     0.74174,     0.74274,     0.74374,\n",
              "           0.74474,     0.74575,     0.74675,     0.74775,     0.74875,     0.74975,     0.75075,     0.75175,     0.75275,     0.75375,     0.75475,     0.75576,     0.75676,     0.75776,     0.75876,     0.75976,     0.76076,     0.76176,     0.76276,     0.76376,     0.76476,     0.76577,     0.76677,     0.76777,\n",
              "           0.76877,     0.76977,     0.77077,     0.77177,     0.77277,     0.77377,     0.77477,     0.77578,     0.77678,     0.77778,     0.77878,     0.77978,     0.78078,     0.78178,     0.78278,     0.78378,     0.78478,     0.78579,     0.78679,     0.78779,     0.78879,     0.78979,     0.79079,     0.79179,\n",
              "           0.79279,     0.79379,     0.79479,      0.7958,      0.7968,      0.7978,      0.7988,      0.7998,      0.8008,      0.8018,      0.8028,      0.8038,      0.8048,     0.80581,     0.80681,     0.80781,     0.80881,     0.80981,     0.81081,     0.81181,     0.81281,     0.81381,     0.81481,     0.81582,\n",
              "           0.81682,     0.81782,     0.81882,     0.81982,     0.82082,     0.82182,     0.82282,     0.82382,     0.82482,     0.82583,     0.82683,     0.82783,     0.82883,     0.82983,     0.83083,     0.83183,     0.83283,     0.83383,     0.83483,     0.83584,     0.83684,     0.83784,     0.83884,     0.83984,\n",
              "           0.84084,     0.84184,     0.84284,     0.84384,     0.84484,     0.84585,     0.84685,     0.84785,     0.84885,     0.84985,     0.85085,     0.85185,     0.85285,     0.85385,     0.85485,     0.85586,     0.85686,     0.85786,     0.85886,     0.85986,     0.86086,     0.86186,     0.86286,     0.86386,\n",
              "           0.86486,     0.86587,     0.86687,     0.86787,     0.86887,     0.86987,     0.87087,     0.87187,     0.87287,     0.87387,     0.87487,     0.87588,     0.87688,     0.87788,     0.87888,     0.87988,     0.88088,     0.88188,     0.88288,     0.88388,     0.88488,     0.88589,     0.88689,     0.88789,\n",
              "           0.88889,     0.88989,     0.89089,     0.89189,     0.89289,     0.89389,     0.89489,      0.8959,      0.8969,      0.8979,      0.8989,      0.8999,      0.9009,      0.9019,      0.9029,      0.9039,      0.9049,     0.90591,     0.90691,     0.90791,     0.90891,     0.90991,     0.91091,     0.91191,\n",
              "           0.91291,     0.91391,     0.91491,     0.91592,     0.91692,     0.91792,     0.91892,     0.91992,     0.92092,     0.92192,     0.92292,     0.92392,     0.92492,     0.92593,     0.92693,     0.92793,     0.92893,     0.92993,     0.93093,     0.93193,     0.93293,     0.93393,     0.93493,     0.93594,\n",
              "           0.93694,     0.93794,     0.93894,     0.93994,     0.94094,     0.94194,     0.94294,     0.94394,     0.94494,     0.94595,     0.94695,     0.94795,     0.94895,     0.94995,     0.95095,     0.95195,     0.95295,     0.95395,     0.95495,     0.95596,     0.95696,     0.95796,     0.95896,     0.95996,\n",
              "           0.96096,     0.96196,     0.96296,     0.96396,     0.96496,     0.96597,     0.96697,     0.96797,     0.96897,     0.96997,     0.97097,     0.97197,     0.97297,     0.97397,     0.97497,     0.97598,     0.97698,     0.97798,     0.97898,     0.97998,     0.98098,     0.98198,     0.98298,     0.98398,\n",
              "           0.98498,     0.98599,     0.98699,     0.98799,     0.98899,     0.98999,     0.99099,     0.99199,     0.99299,     0.99399,     0.99499,       0.996,       0.997,       0.998,       0.999,           1]), array([[          1,           1,           1, ...,   0.0036536,   0.0018268,           0],\n",
              "       [          1,           1,           1, ...,   0.0081782,   0.0040891,           0],\n",
              "       [          1,           1,           1, ...,  0.00020397,  0.00010199,           0],\n",
              "       [          1,           1,           1, ...,  0.00020157,  0.00010078,           0],\n",
              "       [          1,           1,           1, ...,    0.028924,    0.014462,           0],\n",
              "       [          1,           1,           1, ...,   0.0018611,  0.00093054,           0]]), 'Recall', 'Precision'], [array([          0,    0.001001,    0.002002,    0.003003,    0.004004,    0.005005,    0.006006,    0.007007,    0.008008,    0.009009,     0.01001,    0.011011,    0.012012,    0.013013,    0.014014,    0.015015,    0.016016,    0.017017,    0.018018,    0.019019,     0.02002,    0.021021,    0.022022,    0.023023,\n",
              "          0.024024,    0.025025,    0.026026,    0.027027,    0.028028,    0.029029,     0.03003,    0.031031,    0.032032,    0.033033,    0.034034,    0.035035,    0.036036,    0.037037,    0.038038,    0.039039,     0.04004,    0.041041,    0.042042,    0.043043,    0.044044,    0.045045,    0.046046,    0.047047,\n",
              "          0.048048,    0.049049,     0.05005,    0.051051,    0.052052,    0.053053,    0.054054,    0.055055,    0.056056,    0.057057,    0.058058,    0.059059,     0.06006,    0.061061,    0.062062,    0.063063,    0.064064,    0.065065,    0.066066,    0.067067,    0.068068,    0.069069,     0.07007,    0.071071,\n",
              "          0.072072,    0.073073,    0.074074,    0.075075,    0.076076,    0.077077,    0.078078,    0.079079,     0.08008,    0.081081,    0.082082,    0.083083,    0.084084,    0.085085,    0.086086,    0.087087,    0.088088,    0.089089,     0.09009,    0.091091,    0.092092,    0.093093,    0.094094,    0.095095,\n",
              "          0.096096,    0.097097,    0.098098,    0.099099,      0.1001,      0.1011,      0.1021,      0.1031,      0.1041,     0.10511,     0.10611,     0.10711,     0.10811,     0.10911,     0.11011,     0.11111,     0.11211,     0.11311,     0.11411,     0.11512,     0.11612,     0.11712,     0.11812,     0.11912,\n",
              "           0.12012,     0.12112,     0.12212,     0.12312,     0.12412,     0.12513,     0.12613,     0.12713,     0.12813,     0.12913,     0.13013,     0.13113,     0.13213,     0.13313,     0.13413,     0.13514,     0.13614,     0.13714,     0.13814,     0.13914,     0.14014,     0.14114,     0.14214,     0.14314,\n",
              "           0.14414,     0.14515,     0.14615,     0.14715,     0.14815,     0.14915,     0.15015,     0.15115,     0.15215,     0.15315,     0.15415,     0.15516,     0.15616,     0.15716,     0.15816,     0.15916,     0.16016,     0.16116,     0.16216,     0.16316,     0.16416,     0.16517,     0.16617,     0.16717,\n",
              "           0.16817,     0.16917,     0.17017,     0.17117,     0.17217,     0.17317,     0.17417,     0.17518,     0.17618,     0.17718,     0.17818,     0.17918,     0.18018,     0.18118,     0.18218,     0.18318,     0.18418,     0.18519,     0.18619,     0.18719,     0.18819,     0.18919,     0.19019,     0.19119,\n",
              "           0.19219,     0.19319,     0.19419,      0.1952,      0.1962,      0.1972,      0.1982,      0.1992,      0.2002,      0.2012,      0.2022,      0.2032,      0.2042,     0.20521,     0.20621,     0.20721,     0.20821,     0.20921,     0.21021,     0.21121,     0.21221,     0.21321,     0.21421,     0.21522,\n",
              "           0.21622,     0.21722,     0.21822,     0.21922,     0.22022,     0.22122,     0.22222,     0.22322,     0.22422,     0.22523,     0.22623,     0.22723,     0.22823,     0.22923,     0.23023,     0.23123,     0.23223,     0.23323,     0.23423,     0.23524,     0.23624,     0.23724,     0.23824,     0.23924,\n",
              "           0.24024,     0.24124,     0.24224,     0.24324,     0.24424,     0.24525,     0.24625,     0.24725,     0.24825,     0.24925,     0.25025,     0.25125,     0.25225,     0.25325,     0.25425,     0.25526,     0.25626,     0.25726,     0.25826,     0.25926,     0.26026,     0.26126,     0.26226,     0.26326,\n",
              "           0.26426,     0.26527,     0.26627,     0.26727,     0.26827,     0.26927,     0.27027,     0.27127,     0.27227,     0.27327,     0.27427,     0.27528,     0.27628,     0.27728,     0.27828,     0.27928,     0.28028,     0.28128,     0.28228,     0.28328,     0.28428,     0.28529,     0.28629,     0.28729,\n",
              "           0.28829,     0.28929,     0.29029,     0.29129,     0.29229,     0.29329,     0.29429,      0.2953,      0.2963,      0.2973,      0.2983,      0.2993,      0.3003,      0.3013,      0.3023,      0.3033,      0.3043,     0.30531,     0.30631,     0.30731,     0.30831,     0.30931,     0.31031,     0.31131,\n",
              "           0.31231,     0.31331,     0.31431,     0.31532,     0.31632,     0.31732,     0.31832,     0.31932,     0.32032,     0.32132,     0.32232,     0.32332,     0.32432,     0.32533,     0.32633,     0.32733,     0.32833,     0.32933,     0.33033,     0.33133,     0.33233,     0.33333,     0.33433,     0.33534,\n",
              "           0.33634,     0.33734,     0.33834,     0.33934,     0.34034,     0.34134,     0.34234,     0.34334,     0.34434,     0.34535,     0.34635,     0.34735,     0.34835,     0.34935,     0.35035,     0.35135,     0.35235,     0.35335,     0.35435,     0.35536,     0.35636,     0.35736,     0.35836,     0.35936,\n",
              "           0.36036,     0.36136,     0.36236,     0.36336,     0.36436,     0.36537,     0.36637,     0.36737,     0.36837,     0.36937,     0.37037,     0.37137,     0.37237,     0.37337,     0.37437,     0.37538,     0.37638,     0.37738,     0.37838,     0.37938,     0.38038,     0.38138,     0.38238,     0.38338,\n",
              "           0.38438,     0.38539,     0.38639,     0.38739,     0.38839,     0.38939,     0.39039,     0.39139,     0.39239,     0.39339,     0.39439,      0.3954,      0.3964,      0.3974,      0.3984,      0.3994,      0.4004,      0.4014,      0.4024,      0.4034,      0.4044,     0.40541,     0.40641,     0.40741,\n",
              "           0.40841,     0.40941,     0.41041,     0.41141,     0.41241,     0.41341,     0.41441,     0.41542,     0.41642,     0.41742,     0.41842,     0.41942,     0.42042,     0.42142,     0.42242,     0.42342,     0.42442,     0.42543,     0.42643,     0.42743,     0.42843,     0.42943,     0.43043,     0.43143,\n",
              "           0.43243,     0.43343,     0.43443,     0.43544,     0.43644,     0.43744,     0.43844,     0.43944,     0.44044,     0.44144,     0.44244,     0.44344,     0.44444,     0.44545,     0.44645,     0.44745,     0.44845,     0.44945,     0.45045,     0.45145,     0.45245,     0.45345,     0.45445,     0.45546,\n",
              "           0.45646,     0.45746,     0.45846,     0.45946,     0.46046,     0.46146,     0.46246,     0.46346,     0.46446,     0.46547,     0.46647,     0.46747,     0.46847,     0.46947,     0.47047,     0.47147,     0.47247,     0.47347,     0.47447,     0.47548,     0.47648,     0.47748,     0.47848,     0.47948,\n",
              "           0.48048,     0.48148,     0.48248,     0.48348,     0.48448,     0.48549,     0.48649,     0.48749,     0.48849,     0.48949,     0.49049,     0.49149,     0.49249,     0.49349,     0.49449,      0.4955,      0.4965,      0.4975,      0.4985,      0.4995,      0.5005,      0.5015,      0.5025,      0.5035,\n",
              "            0.5045,     0.50551,     0.50651,     0.50751,     0.50851,     0.50951,     0.51051,     0.51151,     0.51251,     0.51351,     0.51451,     0.51552,     0.51652,     0.51752,     0.51852,     0.51952,     0.52052,     0.52152,     0.52252,     0.52352,     0.52452,     0.52553,     0.52653,     0.52753,\n",
              "           0.52853,     0.52953,     0.53053,     0.53153,     0.53253,     0.53353,     0.53453,     0.53554,     0.53654,     0.53754,     0.53854,     0.53954,     0.54054,     0.54154,     0.54254,     0.54354,     0.54454,     0.54555,     0.54655,     0.54755,     0.54855,     0.54955,     0.55055,     0.55155,\n",
              "           0.55255,     0.55355,     0.55455,     0.55556,     0.55656,     0.55756,     0.55856,     0.55956,     0.56056,     0.56156,     0.56256,     0.56356,     0.56456,     0.56557,     0.56657,     0.56757,     0.56857,     0.56957,     0.57057,     0.57157,     0.57257,     0.57357,     0.57457,     0.57558,\n",
              "           0.57658,     0.57758,     0.57858,     0.57958,     0.58058,     0.58158,     0.58258,     0.58358,     0.58458,     0.58559,     0.58659,     0.58759,     0.58859,     0.58959,     0.59059,     0.59159,     0.59259,     0.59359,     0.59459,      0.5956,      0.5966,      0.5976,      0.5986,      0.5996,\n",
              "            0.6006,      0.6016,      0.6026,      0.6036,      0.6046,     0.60561,     0.60661,     0.60761,     0.60861,     0.60961,     0.61061,     0.61161,     0.61261,     0.61361,     0.61461,     0.61562,     0.61662,     0.61762,     0.61862,     0.61962,     0.62062,     0.62162,     0.62262,     0.62362,\n",
              "           0.62462,     0.62563,     0.62663,     0.62763,     0.62863,     0.62963,     0.63063,     0.63163,     0.63263,     0.63363,     0.63463,     0.63564,     0.63664,     0.63764,     0.63864,     0.63964,     0.64064,     0.64164,     0.64264,     0.64364,     0.64464,     0.64565,     0.64665,     0.64765,\n",
              "           0.64865,     0.64965,     0.65065,     0.65165,     0.65265,     0.65365,     0.65465,     0.65566,     0.65666,     0.65766,     0.65866,     0.65966,     0.66066,     0.66166,     0.66266,     0.66366,     0.66466,     0.66567,     0.66667,     0.66767,     0.66867,     0.66967,     0.67067,     0.67167,\n",
              "           0.67267,     0.67367,     0.67467,     0.67568,     0.67668,     0.67768,     0.67868,     0.67968,     0.68068,     0.68168,     0.68268,     0.68368,     0.68468,     0.68569,     0.68669,     0.68769,     0.68869,     0.68969,     0.69069,     0.69169,     0.69269,     0.69369,     0.69469,      0.6957,\n",
              "            0.6967,      0.6977,      0.6987,      0.6997,      0.7007,      0.7017,      0.7027,      0.7037,      0.7047,     0.70571,     0.70671,     0.70771,     0.70871,     0.70971,     0.71071,     0.71171,     0.71271,     0.71371,     0.71471,     0.71572,     0.71672,     0.71772,     0.71872,     0.71972,\n",
              "           0.72072,     0.72172,     0.72272,     0.72372,     0.72472,     0.72573,     0.72673,     0.72773,     0.72873,     0.72973,     0.73073,     0.73173,     0.73273,     0.73373,     0.73473,     0.73574,     0.73674,     0.73774,     0.73874,     0.73974,     0.74074,     0.74174,     0.74274,     0.74374,\n",
              "           0.74474,     0.74575,     0.74675,     0.74775,     0.74875,     0.74975,     0.75075,     0.75175,     0.75275,     0.75375,     0.75475,     0.75576,     0.75676,     0.75776,     0.75876,     0.75976,     0.76076,     0.76176,     0.76276,     0.76376,     0.76476,     0.76577,     0.76677,     0.76777,\n",
              "           0.76877,     0.76977,     0.77077,     0.77177,     0.77277,     0.77377,     0.77477,     0.77578,     0.77678,     0.77778,     0.77878,     0.77978,     0.78078,     0.78178,     0.78278,     0.78378,     0.78478,     0.78579,     0.78679,     0.78779,     0.78879,     0.78979,     0.79079,     0.79179,\n",
              "           0.79279,     0.79379,     0.79479,      0.7958,      0.7968,      0.7978,      0.7988,      0.7998,      0.8008,      0.8018,      0.8028,      0.8038,      0.8048,     0.80581,     0.80681,     0.80781,     0.80881,     0.80981,     0.81081,     0.81181,     0.81281,     0.81381,     0.81481,     0.81582,\n",
              "           0.81682,     0.81782,     0.81882,     0.81982,     0.82082,     0.82182,     0.82282,     0.82382,     0.82482,     0.82583,     0.82683,     0.82783,     0.82883,     0.82983,     0.83083,     0.83183,     0.83283,     0.83383,     0.83483,     0.83584,     0.83684,     0.83784,     0.83884,     0.83984,\n",
              "           0.84084,     0.84184,     0.84284,     0.84384,     0.84484,     0.84585,     0.84685,     0.84785,     0.84885,     0.84985,     0.85085,     0.85185,     0.85285,     0.85385,     0.85485,     0.85586,     0.85686,     0.85786,     0.85886,     0.85986,     0.86086,     0.86186,     0.86286,     0.86386,\n",
              "           0.86486,     0.86587,     0.86687,     0.86787,     0.86887,     0.86987,     0.87087,     0.87187,     0.87287,     0.87387,     0.87487,     0.87588,     0.87688,     0.87788,     0.87888,     0.87988,     0.88088,     0.88188,     0.88288,     0.88388,     0.88488,     0.88589,     0.88689,     0.88789,\n",
              "           0.88889,     0.88989,     0.89089,     0.89189,     0.89289,     0.89389,     0.89489,      0.8959,      0.8969,      0.8979,      0.8989,      0.8999,      0.9009,      0.9019,      0.9029,      0.9039,      0.9049,     0.90591,     0.90691,     0.90791,     0.90891,     0.90991,     0.91091,     0.91191,\n",
              "           0.91291,     0.91391,     0.91491,     0.91592,     0.91692,     0.91792,     0.91892,     0.91992,     0.92092,     0.92192,     0.92292,     0.92392,     0.92492,     0.92593,     0.92693,     0.92793,     0.92893,     0.92993,     0.93093,     0.93193,     0.93293,     0.93393,     0.93493,     0.93594,\n",
              "           0.93694,     0.93794,     0.93894,     0.93994,     0.94094,     0.94194,     0.94294,     0.94394,     0.94494,     0.94595,     0.94695,     0.94795,     0.94895,     0.94995,     0.95095,     0.95195,     0.95295,     0.95395,     0.95495,     0.95596,     0.95696,     0.95796,     0.95896,     0.95996,\n",
              "           0.96096,     0.96196,     0.96296,     0.96396,     0.96496,     0.96597,     0.96697,     0.96797,     0.96897,     0.96997,     0.97097,     0.97197,     0.97297,     0.97397,     0.97497,     0.97598,     0.97698,     0.97798,     0.97898,     0.97998,     0.98098,     0.98198,     0.98298,     0.98398,\n",
              "           0.98498,     0.98599,     0.98699,     0.98799,     0.98899,     0.98999,     0.99099,     0.99199,     0.99299,     0.99399,     0.99499,       0.996,       0.997,       0.998,       0.999,           1]), array([[    0.28784,     0.28784,     0.28784, ...,           0,           0,           0],\n",
              "       [    0.62243,     0.62243,     0.62243, ...,           0,           0,           0],\n",
              "       [    0.10565,     0.10565,     0.10565, ...,           0,           0,           0],\n",
              "       [    0.11594,     0.11594,     0.11594, ...,           0,           0,           0],\n",
              "       [    0.66253,     0.66253,     0.66253, ...,           0,           0,           0],\n",
              "       [    0.22183,     0.22183,     0.22183, ...,           0,           0,           0]]), 'Confidence', 'F1'], [array([          0,    0.001001,    0.002002,    0.003003,    0.004004,    0.005005,    0.006006,    0.007007,    0.008008,    0.009009,     0.01001,    0.011011,    0.012012,    0.013013,    0.014014,    0.015015,    0.016016,    0.017017,    0.018018,    0.019019,     0.02002,    0.021021,    0.022022,    0.023023,\n",
              "          0.024024,    0.025025,    0.026026,    0.027027,    0.028028,    0.029029,     0.03003,    0.031031,    0.032032,    0.033033,    0.034034,    0.035035,    0.036036,    0.037037,    0.038038,    0.039039,     0.04004,    0.041041,    0.042042,    0.043043,    0.044044,    0.045045,    0.046046,    0.047047,\n",
              "          0.048048,    0.049049,     0.05005,    0.051051,    0.052052,    0.053053,    0.054054,    0.055055,    0.056056,    0.057057,    0.058058,    0.059059,     0.06006,    0.061061,    0.062062,    0.063063,    0.064064,    0.065065,    0.066066,    0.067067,    0.068068,    0.069069,     0.07007,    0.071071,\n",
              "          0.072072,    0.073073,    0.074074,    0.075075,    0.076076,    0.077077,    0.078078,    0.079079,     0.08008,    0.081081,    0.082082,    0.083083,    0.084084,    0.085085,    0.086086,    0.087087,    0.088088,    0.089089,     0.09009,    0.091091,    0.092092,    0.093093,    0.094094,    0.095095,\n",
              "          0.096096,    0.097097,    0.098098,    0.099099,      0.1001,      0.1011,      0.1021,      0.1031,      0.1041,     0.10511,     0.10611,     0.10711,     0.10811,     0.10911,     0.11011,     0.11111,     0.11211,     0.11311,     0.11411,     0.11512,     0.11612,     0.11712,     0.11812,     0.11912,\n",
              "           0.12012,     0.12112,     0.12212,     0.12312,     0.12412,     0.12513,     0.12613,     0.12713,     0.12813,     0.12913,     0.13013,     0.13113,     0.13213,     0.13313,     0.13413,     0.13514,     0.13614,     0.13714,     0.13814,     0.13914,     0.14014,     0.14114,     0.14214,     0.14314,\n",
              "           0.14414,     0.14515,     0.14615,     0.14715,     0.14815,     0.14915,     0.15015,     0.15115,     0.15215,     0.15315,     0.15415,     0.15516,     0.15616,     0.15716,     0.15816,     0.15916,     0.16016,     0.16116,     0.16216,     0.16316,     0.16416,     0.16517,     0.16617,     0.16717,\n",
              "           0.16817,     0.16917,     0.17017,     0.17117,     0.17217,     0.17317,     0.17417,     0.17518,     0.17618,     0.17718,     0.17818,     0.17918,     0.18018,     0.18118,     0.18218,     0.18318,     0.18418,     0.18519,     0.18619,     0.18719,     0.18819,     0.18919,     0.19019,     0.19119,\n",
              "           0.19219,     0.19319,     0.19419,      0.1952,      0.1962,      0.1972,      0.1982,      0.1992,      0.2002,      0.2012,      0.2022,      0.2032,      0.2042,     0.20521,     0.20621,     0.20721,     0.20821,     0.20921,     0.21021,     0.21121,     0.21221,     0.21321,     0.21421,     0.21522,\n",
              "           0.21622,     0.21722,     0.21822,     0.21922,     0.22022,     0.22122,     0.22222,     0.22322,     0.22422,     0.22523,     0.22623,     0.22723,     0.22823,     0.22923,     0.23023,     0.23123,     0.23223,     0.23323,     0.23423,     0.23524,     0.23624,     0.23724,     0.23824,     0.23924,\n",
              "           0.24024,     0.24124,     0.24224,     0.24324,     0.24424,     0.24525,     0.24625,     0.24725,     0.24825,     0.24925,     0.25025,     0.25125,     0.25225,     0.25325,     0.25425,     0.25526,     0.25626,     0.25726,     0.25826,     0.25926,     0.26026,     0.26126,     0.26226,     0.26326,\n",
              "           0.26426,     0.26527,     0.26627,     0.26727,     0.26827,     0.26927,     0.27027,     0.27127,     0.27227,     0.27327,     0.27427,     0.27528,     0.27628,     0.27728,     0.27828,     0.27928,     0.28028,     0.28128,     0.28228,     0.28328,     0.28428,     0.28529,     0.28629,     0.28729,\n",
              "           0.28829,     0.28929,     0.29029,     0.29129,     0.29229,     0.29329,     0.29429,      0.2953,      0.2963,      0.2973,      0.2983,      0.2993,      0.3003,      0.3013,      0.3023,      0.3033,      0.3043,     0.30531,     0.30631,     0.30731,     0.30831,     0.30931,     0.31031,     0.31131,\n",
              "           0.31231,     0.31331,     0.31431,     0.31532,     0.31632,     0.31732,     0.31832,     0.31932,     0.32032,     0.32132,     0.32232,     0.32332,     0.32432,     0.32533,     0.32633,     0.32733,     0.32833,     0.32933,     0.33033,     0.33133,     0.33233,     0.33333,     0.33433,     0.33534,\n",
              "           0.33634,     0.33734,     0.33834,     0.33934,     0.34034,     0.34134,     0.34234,     0.34334,     0.34434,     0.34535,     0.34635,     0.34735,     0.34835,     0.34935,     0.35035,     0.35135,     0.35235,     0.35335,     0.35435,     0.35536,     0.35636,     0.35736,     0.35836,     0.35936,\n",
              "           0.36036,     0.36136,     0.36236,     0.36336,     0.36436,     0.36537,     0.36637,     0.36737,     0.36837,     0.36937,     0.37037,     0.37137,     0.37237,     0.37337,     0.37437,     0.37538,     0.37638,     0.37738,     0.37838,     0.37938,     0.38038,     0.38138,     0.38238,     0.38338,\n",
              "           0.38438,     0.38539,     0.38639,     0.38739,     0.38839,     0.38939,     0.39039,     0.39139,     0.39239,     0.39339,     0.39439,      0.3954,      0.3964,      0.3974,      0.3984,      0.3994,      0.4004,      0.4014,      0.4024,      0.4034,      0.4044,     0.40541,     0.40641,     0.40741,\n",
              "           0.40841,     0.40941,     0.41041,     0.41141,     0.41241,     0.41341,     0.41441,     0.41542,     0.41642,     0.41742,     0.41842,     0.41942,     0.42042,     0.42142,     0.42242,     0.42342,     0.42442,     0.42543,     0.42643,     0.42743,     0.42843,     0.42943,     0.43043,     0.43143,\n",
              "           0.43243,     0.43343,     0.43443,     0.43544,     0.43644,     0.43744,     0.43844,     0.43944,     0.44044,     0.44144,     0.44244,     0.44344,     0.44444,     0.44545,     0.44645,     0.44745,     0.44845,     0.44945,     0.45045,     0.45145,     0.45245,     0.45345,     0.45445,     0.45546,\n",
              "           0.45646,     0.45746,     0.45846,     0.45946,     0.46046,     0.46146,     0.46246,     0.46346,     0.46446,     0.46547,     0.46647,     0.46747,     0.46847,     0.46947,     0.47047,     0.47147,     0.47247,     0.47347,     0.47447,     0.47548,     0.47648,     0.47748,     0.47848,     0.47948,\n",
              "           0.48048,     0.48148,     0.48248,     0.48348,     0.48448,     0.48549,     0.48649,     0.48749,     0.48849,     0.48949,     0.49049,     0.49149,     0.49249,     0.49349,     0.49449,      0.4955,      0.4965,      0.4975,      0.4985,      0.4995,      0.5005,      0.5015,      0.5025,      0.5035,\n",
              "            0.5045,     0.50551,     0.50651,     0.50751,     0.50851,     0.50951,     0.51051,     0.51151,     0.51251,     0.51351,     0.51451,     0.51552,     0.51652,     0.51752,     0.51852,     0.51952,     0.52052,     0.52152,     0.52252,     0.52352,     0.52452,     0.52553,     0.52653,     0.52753,\n",
              "           0.52853,     0.52953,     0.53053,     0.53153,     0.53253,     0.53353,     0.53453,     0.53554,     0.53654,     0.53754,     0.53854,     0.53954,     0.54054,     0.54154,     0.54254,     0.54354,     0.54454,     0.54555,     0.54655,     0.54755,     0.54855,     0.54955,     0.55055,     0.55155,\n",
              "           0.55255,     0.55355,     0.55455,     0.55556,     0.55656,     0.55756,     0.55856,     0.55956,     0.56056,     0.56156,     0.56256,     0.56356,     0.56456,     0.56557,     0.56657,     0.56757,     0.56857,     0.56957,     0.57057,     0.57157,     0.57257,     0.57357,     0.57457,     0.57558,\n",
              "           0.57658,     0.57758,     0.57858,     0.57958,     0.58058,     0.58158,     0.58258,     0.58358,     0.58458,     0.58559,     0.58659,     0.58759,     0.58859,     0.58959,     0.59059,     0.59159,     0.59259,     0.59359,     0.59459,      0.5956,      0.5966,      0.5976,      0.5986,      0.5996,\n",
              "            0.6006,      0.6016,      0.6026,      0.6036,      0.6046,     0.60561,     0.60661,     0.60761,     0.60861,     0.60961,     0.61061,     0.61161,     0.61261,     0.61361,     0.61461,     0.61562,     0.61662,     0.61762,     0.61862,     0.61962,     0.62062,     0.62162,     0.62262,     0.62362,\n",
              "           0.62462,     0.62563,     0.62663,     0.62763,     0.62863,     0.62963,     0.63063,     0.63163,     0.63263,     0.63363,     0.63463,     0.63564,     0.63664,     0.63764,     0.63864,     0.63964,     0.64064,     0.64164,     0.64264,     0.64364,     0.64464,     0.64565,     0.64665,     0.64765,\n",
              "           0.64865,     0.64965,     0.65065,     0.65165,     0.65265,     0.65365,     0.65465,     0.65566,     0.65666,     0.65766,     0.65866,     0.65966,     0.66066,     0.66166,     0.66266,     0.66366,     0.66466,     0.66567,     0.66667,     0.66767,     0.66867,     0.66967,     0.67067,     0.67167,\n",
              "           0.67267,     0.67367,     0.67467,     0.67568,     0.67668,     0.67768,     0.67868,     0.67968,     0.68068,     0.68168,     0.68268,     0.68368,     0.68468,     0.68569,     0.68669,     0.68769,     0.68869,     0.68969,     0.69069,     0.69169,     0.69269,     0.69369,     0.69469,      0.6957,\n",
              "            0.6967,      0.6977,      0.6987,      0.6997,      0.7007,      0.7017,      0.7027,      0.7037,      0.7047,     0.70571,     0.70671,     0.70771,     0.70871,     0.70971,     0.71071,     0.71171,     0.71271,     0.71371,     0.71471,     0.71572,     0.71672,     0.71772,     0.71872,     0.71972,\n",
              "           0.72072,     0.72172,     0.72272,     0.72372,     0.72472,     0.72573,     0.72673,     0.72773,     0.72873,     0.72973,     0.73073,     0.73173,     0.73273,     0.73373,     0.73473,     0.73574,     0.73674,     0.73774,     0.73874,     0.73974,     0.74074,     0.74174,     0.74274,     0.74374,\n",
              "           0.74474,     0.74575,     0.74675,     0.74775,     0.74875,     0.74975,     0.75075,     0.75175,     0.75275,     0.75375,     0.75475,     0.75576,     0.75676,     0.75776,     0.75876,     0.75976,     0.76076,     0.76176,     0.76276,     0.76376,     0.76476,     0.76577,     0.76677,     0.76777,\n",
              "           0.76877,     0.76977,     0.77077,     0.77177,     0.77277,     0.77377,     0.77477,     0.77578,     0.77678,     0.77778,     0.77878,     0.77978,     0.78078,     0.78178,     0.78278,     0.78378,     0.78478,     0.78579,     0.78679,     0.78779,     0.78879,     0.78979,     0.79079,     0.79179,\n",
              "           0.79279,     0.79379,     0.79479,      0.7958,      0.7968,      0.7978,      0.7988,      0.7998,      0.8008,      0.8018,      0.8028,      0.8038,      0.8048,     0.80581,     0.80681,     0.80781,     0.80881,     0.80981,     0.81081,     0.81181,     0.81281,     0.81381,     0.81481,     0.81582,\n",
              "           0.81682,     0.81782,     0.81882,     0.81982,     0.82082,     0.82182,     0.82282,     0.82382,     0.82482,     0.82583,     0.82683,     0.82783,     0.82883,     0.82983,     0.83083,     0.83183,     0.83283,     0.83383,     0.83483,     0.83584,     0.83684,     0.83784,     0.83884,     0.83984,\n",
              "           0.84084,     0.84184,     0.84284,     0.84384,     0.84484,     0.84585,     0.84685,     0.84785,     0.84885,     0.84985,     0.85085,     0.85185,     0.85285,     0.85385,     0.85485,     0.85586,     0.85686,     0.85786,     0.85886,     0.85986,     0.86086,     0.86186,     0.86286,     0.86386,\n",
              "           0.86486,     0.86587,     0.86687,     0.86787,     0.86887,     0.86987,     0.87087,     0.87187,     0.87287,     0.87387,     0.87487,     0.87588,     0.87688,     0.87788,     0.87888,     0.87988,     0.88088,     0.88188,     0.88288,     0.88388,     0.88488,     0.88589,     0.88689,     0.88789,\n",
              "           0.88889,     0.88989,     0.89089,     0.89189,     0.89289,     0.89389,     0.89489,      0.8959,      0.8969,      0.8979,      0.8989,      0.8999,      0.9009,      0.9019,      0.9029,      0.9039,      0.9049,     0.90591,     0.90691,     0.90791,     0.90891,     0.90991,     0.91091,     0.91191,\n",
              "           0.91291,     0.91391,     0.91491,     0.91592,     0.91692,     0.91792,     0.91892,     0.91992,     0.92092,     0.92192,     0.92292,     0.92392,     0.92492,     0.92593,     0.92693,     0.92793,     0.92893,     0.92993,     0.93093,     0.93193,     0.93293,     0.93393,     0.93493,     0.93594,\n",
              "           0.93694,     0.93794,     0.93894,     0.93994,     0.94094,     0.94194,     0.94294,     0.94394,     0.94494,     0.94595,     0.94695,     0.94795,     0.94895,     0.94995,     0.95095,     0.95195,     0.95295,     0.95395,     0.95495,     0.95596,     0.95696,     0.95796,     0.95896,     0.95996,\n",
              "           0.96096,     0.96196,     0.96296,     0.96396,     0.96496,     0.96597,     0.96697,     0.96797,     0.96897,     0.96997,     0.97097,     0.97197,     0.97297,     0.97397,     0.97497,     0.97598,     0.97698,     0.97798,     0.97898,     0.97998,     0.98098,     0.98198,     0.98298,     0.98398,\n",
              "           0.98498,     0.98599,     0.98699,     0.98799,     0.98899,     0.98999,     0.99099,     0.99199,     0.99299,     0.99399,     0.99499,       0.996,       0.997,       0.998,       0.999,           1]), array([[    0.17109,     0.17109,     0.17109, ...,           1,           1,           1],\n",
              "       [    0.48081,     0.48081,     0.48081, ...,           1,           1,           1],\n",
              "       [   0.088545,    0.088545,    0.088545, ...,           1,           1,           1],\n",
              "       [    0.07767,     0.07767,     0.07767, ...,           1,           1,           1],\n",
              "       [     0.5044,      0.5044,      0.5044, ...,           1,           1,           1],\n",
              "       [    0.12727,     0.12727,     0.12727, ...,           1,           1,           1]]), 'Confidence', 'Precision'], [array([          0,    0.001001,    0.002002,    0.003003,    0.004004,    0.005005,    0.006006,    0.007007,    0.008008,    0.009009,     0.01001,    0.011011,    0.012012,    0.013013,    0.014014,    0.015015,    0.016016,    0.017017,    0.018018,    0.019019,     0.02002,    0.021021,    0.022022,    0.023023,\n",
              "          0.024024,    0.025025,    0.026026,    0.027027,    0.028028,    0.029029,     0.03003,    0.031031,    0.032032,    0.033033,    0.034034,    0.035035,    0.036036,    0.037037,    0.038038,    0.039039,     0.04004,    0.041041,    0.042042,    0.043043,    0.044044,    0.045045,    0.046046,    0.047047,\n",
              "          0.048048,    0.049049,     0.05005,    0.051051,    0.052052,    0.053053,    0.054054,    0.055055,    0.056056,    0.057057,    0.058058,    0.059059,     0.06006,    0.061061,    0.062062,    0.063063,    0.064064,    0.065065,    0.066066,    0.067067,    0.068068,    0.069069,     0.07007,    0.071071,\n",
              "          0.072072,    0.073073,    0.074074,    0.075075,    0.076076,    0.077077,    0.078078,    0.079079,     0.08008,    0.081081,    0.082082,    0.083083,    0.084084,    0.085085,    0.086086,    0.087087,    0.088088,    0.089089,     0.09009,    0.091091,    0.092092,    0.093093,    0.094094,    0.095095,\n",
              "          0.096096,    0.097097,    0.098098,    0.099099,      0.1001,      0.1011,      0.1021,      0.1031,      0.1041,     0.10511,     0.10611,     0.10711,     0.10811,     0.10911,     0.11011,     0.11111,     0.11211,     0.11311,     0.11411,     0.11512,     0.11612,     0.11712,     0.11812,     0.11912,\n",
              "           0.12012,     0.12112,     0.12212,     0.12312,     0.12412,     0.12513,     0.12613,     0.12713,     0.12813,     0.12913,     0.13013,     0.13113,     0.13213,     0.13313,     0.13413,     0.13514,     0.13614,     0.13714,     0.13814,     0.13914,     0.14014,     0.14114,     0.14214,     0.14314,\n",
              "           0.14414,     0.14515,     0.14615,     0.14715,     0.14815,     0.14915,     0.15015,     0.15115,     0.15215,     0.15315,     0.15415,     0.15516,     0.15616,     0.15716,     0.15816,     0.15916,     0.16016,     0.16116,     0.16216,     0.16316,     0.16416,     0.16517,     0.16617,     0.16717,\n",
              "           0.16817,     0.16917,     0.17017,     0.17117,     0.17217,     0.17317,     0.17417,     0.17518,     0.17618,     0.17718,     0.17818,     0.17918,     0.18018,     0.18118,     0.18218,     0.18318,     0.18418,     0.18519,     0.18619,     0.18719,     0.18819,     0.18919,     0.19019,     0.19119,\n",
              "           0.19219,     0.19319,     0.19419,      0.1952,      0.1962,      0.1972,      0.1982,      0.1992,      0.2002,      0.2012,      0.2022,      0.2032,      0.2042,     0.20521,     0.20621,     0.20721,     0.20821,     0.20921,     0.21021,     0.21121,     0.21221,     0.21321,     0.21421,     0.21522,\n",
              "           0.21622,     0.21722,     0.21822,     0.21922,     0.22022,     0.22122,     0.22222,     0.22322,     0.22422,     0.22523,     0.22623,     0.22723,     0.22823,     0.22923,     0.23023,     0.23123,     0.23223,     0.23323,     0.23423,     0.23524,     0.23624,     0.23724,     0.23824,     0.23924,\n",
              "           0.24024,     0.24124,     0.24224,     0.24324,     0.24424,     0.24525,     0.24625,     0.24725,     0.24825,     0.24925,     0.25025,     0.25125,     0.25225,     0.25325,     0.25425,     0.25526,     0.25626,     0.25726,     0.25826,     0.25926,     0.26026,     0.26126,     0.26226,     0.26326,\n",
              "           0.26426,     0.26527,     0.26627,     0.26727,     0.26827,     0.26927,     0.27027,     0.27127,     0.27227,     0.27327,     0.27427,     0.27528,     0.27628,     0.27728,     0.27828,     0.27928,     0.28028,     0.28128,     0.28228,     0.28328,     0.28428,     0.28529,     0.28629,     0.28729,\n",
              "           0.28829,     0.28929,     0.29029,     0.29129,     0.29229,     0.29329,     0.29429,      0.2953,      0.2963,      0.2973,      0.2983,      0.2993,      0.3003,      0.3013,      0.3023,      0.3033,      0.3043,     0.30531,     0.30631,     0.30731,     0.30831,     0.30931,     0.31031,     0.31131,\n",
              "           0.31231,     0.31331,     0.31431,     0.31532,     0.31632,     0.31732,     0.31832,     0.31932,     0.32032,     0.32132,     0.32232,     0.32332,     0.32432,     0.32533,     0.32633,     0.32733,     0.32833,     0.32933,     0.33033,     0.33133,     0.33233,     0.33333,     0.33433,     0.33534,\n",
              "           0.33634,     0.33734,     0.33834,     0.33934,     0.34034,     0.34134,     0.34234,     0.34334,     0.34434,     0.34535,     0.34635,     0.34735,     0.34835,     0.34935,     0.35035,     0.35135,     0.35235,     0.35335,     0.35435,     0.35536,     0.35636,     0.35736,     0.35836,     0.35936,\n",
              "           0.36036,     0.36136,     0.36236,     0.36336,     0.36436,     0.36537,     0.36637,     0.36737,     0.36837,     0.36937,     0.37037,     0.37137,     0.37237,     0.37337,     0.37437,     0.37538,     0.37638,     0.37738,     0.37838,     0.37938,     0.38038,     0.38138,     0.38238,     0.38338,\n",
              "           0.38438,     0.38539,     0.38639,     0.38739,     0.38839,     0.38939,     0.39039,     0.39139,     0.39239,     0.39339,     0.39439,      0.3954,      0.3964,      0.3974,      0.3984,      0.3994,      0.4004,      0.4014,      0.4024,      0.4034,      0.4044,     0.40541,     0.40641,     0.40741,\n",
              "           0.40841,     0.40941,     0.41041,     0.41141,     0.41241,     0.41341,     0.41441,     0.41542,     0.41642,     0.41742,     0.41842,     0.41942,     0.42042,     0.42142,     0.42242,     0.42342,     0.42442,     0.42543,     0.42643,     0.42743,     0.42843,     0.42943,     0.43043,     0.43143,\n",
              "           0.43243,     0.43343,     0.43443,     0.43544,     0.43644,     0.43744,     0.43844,     0.43944,     0.44044,     0.44144,     0.44244,     0.44344,     0.44444,     0.44545,     0.44645,     0.44745,     0.44845,     0.44945,     0.45045,     0.45145,     0.45245,     0.45345,     0.45445,     0.45546,\n",
              "           0.45646,     0.45746,     0.45846,     0.45946,     0.46046,     0.46146,     0.46246,     0.46346,     0.46446,     0.46547,     0.46647,     0.46747,     0.46847,     0.46947,     0.47047,     0.47147,     0.47247,     0.47347,     0.47447,     0.47548,     0.47648,     0.47748,     0.47848,     0.47948,\n",
              "           0.48048,     0.48148,     0.48248,     0.48348,     0.48448,     0.48549,     0.48649,     0.48749,     0.48849,     0.48949,     0.49049,     0.49149,     0.49249,     0.49349,     0.49449,      0.4955,      0.4965,      0.4975,      0.4985,      0.4995,      0.5005,      0.5015,      0.5025,      0.5035,\n",
              "            0.5045,     0.50551,     0.50651,     0.50751,     0.50851,     0.50951,     0.51051,     0.51151,     0.51251,     0.51351,     0.51451,     0.51552,     0.51652,     0.51752,     0.51852,     0.51952,     0.52052,     0.52152,     0.52252,     0.52352,     0.52452,     0.52553,     0.52653,     0.52753,\n",
              "           0.52853,     0.52953,     0.53053,     0.53153,     0.53253,     0.53353,     0.53453,     0.53554,     0.53654,     0.53754,     0.53854,     0.53954,     0.54054,     0.54154,     0.54254,     0.54354,     0.54454,     0.54555,     0.54655,     0.54755,     0.54855,     0.54955,     0.55055,     0.55155,\n",
              "           0.55255,     0.55355,     0.55455,     0.55556,     0.55656,     0.55756,     0.55856,     0.55956,     0.56056,     0.56156,     0.56256,     0.56356,     0.56456,     0.56557,     0.56657,     0.56757,     0.56857,     0.56957,     0.57057,     0.57157,     0.57257,     0.57357,     0.57457,     0.57558,\n",
              "           0.57658,     0.57758,     0.57858,     0.57958,     0.58058,     0.58158,     0.58258,     0.58358,     0.58458,     0.58559,     0.58659,     0.58759,     0.58859,     0.58959,     0.59059,     0.59159,     0.59259,     0.59359,     0.59459,      0.5956,      0.5966,      0.5976,      0.5986,      0.5996,\n",
              "            0.6006,      0.6016,      0.6026,      0.6036,      0.6046,     0.60561,     0.60661,     0.60761,     0.60861,     0.60961,     0.61061,     0.61161,     0.61261,     0.61361,     0.61461,     0.61562,     0.61662,     0.61762,     0.61862,     0.61962,     0.62062,     0.62162,     0.62262,     0.62362,\n",
              "           0.62462,     0.62563,     0.62663,     0.62763,     0.62863,     0.62963,     0.63063,     0.63163,     0.63263,     0.63363,     0.63463,     0.63564,     0.63664,     0.63764,     0.63864,     0.63964,     0.64064,     0.64164,     0.64264,     0.64364,     0.64464,     0.64565,     0.64665,     0.64765,\n",
              "           0.64865,     0.64965,     0.65065,     0.65165,     0.65265,     0.65365,     0.65465,     0.65566,     0.65666,     0.65766,     0.65866,     0.65966,     0.66066,     0.66166,     0.66266,     0.66366,     0.66466,     0.66567,     0.66667,     0.66767,     0.66867,     0.66967,     0.67067,     0.67167,\n",
              "           0.67267,     0.67367,     0.67467,     0.67568,     0.67668,     0.67768,     0.67868,     0.67968,     0.68068,     0.68168,     0.68268,     0.68368,     0.68468,     0.68569,     0.68669,     0.68769,     0.68869,     0.68969,     0.69069,     0.69169,     0.69269,     0.69369,     0.69469,      0.6957,\n",
              "            0.6967,      0.6977,      0.6987,      0.6997,      0.7007,      0.7017,      0.7027,      0.7037,      0.7047,     0.70571,     0.70671,     0.70771,     0.70871,     0.70971,     0.71071,     0.71171,     0.71271,     0.71371,     0.71471,     0.71572,     0.71672,     0.71772,     0.71872,     0.71972,\n",
              "           0.72072,     0.72172,     0.72272,     0.72372,     0.72472,     0.72573,     0.72673,     0.72773,     0.72873,     0.72973,     0.73073,     0.73173,     0.73273,     0.73373,     0.73473,     0.73574,     0.73674,     0.73774,     0.73874,     0.73974,     0.74074,     0.74174,     0.74274,     0.74374,\n",
              "           0.74474,     0.74575,     0.74675,     0.74775,     0.74875,     0.74975,     0.75075,     0.75175,     0.75275,     0.75375,     0.75475,     0.75576,     0.75676,     0.75776,     0.75876,     0.75976,     0.76076,     0.76176,     0.76276,     0.76376,     0.76476,     0.76577,     0.76677,     0.76777,\n",
              "           0.76877,     0.76977,     0.77077,     0.77177,     0.77277,     0.77377,     0.77477,     0.77578,     0.77678,     0.77778,     0.77878,     0.77978,     0.78078,     0.78178,     0.78278,     0.78378,     0.78478,     0.78579,     0.78679,     0.78779,     0.78879,     0.78979,     0.79079,     0.79179,\n",
              "           0.79279,     0.79379,     0.79479,      0.7958,      0.7968,      0.7978,      0.7988,      0.7998,      0.8008,      0.8018,      0.8028,      0.8038,      0.8048,     0.80581,     0.80681,     0.80781,     0.80881,     0.80981,     0.81081,     0.81181,     0.81281,     0.81381,     0.81481,     0.81582,\n",
              "           0.81682,     0.81782,     0.81882,     0.81982,     0.82082,     0.82182,     0.82282,     0.82382,     0.82482,     0.82583,     0.82683,     0.82783,     0.82883,     0.82983,     0.83083,     0.83183,     0.83283,     0.83383,     0.83483,     0.83584,     0.83684,     0.83784,     0.83884,     0.83984,\n",
              "           0.84084,     0.84184,     0.84284,     0.84384,     0.84484,     0.84585,     0.84685,     0.84785,     0.84885,     0.84985,     0.85085,     0.85185,     0.85285,     0.85385,     0.85485,     0.85586,     0.85686,     0.85786,     0.85886,     0.85986,     0.86086,     0.86186,     0.86286,     0.86386,\n",
              "           0.86486,     0.86587,     0.86687,     0.86787,     0.86887,     0.86987,     0.87087,     0.87187,     0.87287,     0.87387,     0.87487,     0.87588,     0.87688,     0.87788,     0.87888,     0.87988,     0.88088,     0.88188,     0.88288,     0.88388,     0.88488,     0.88589,     0.88689,     0.88789,\n",
              "           0.88889,     0.88989,     0.89089,     0.89189,     0.89289,     0.89389,     0.89489,      0.8959,      0.8969,      0.8979,      0.8989,      0.8999,      0.9009,      0.9019,      0.9029,      0.9039,      0.9049,     0.90591,     0.90691,     0.90791,     0.90891,     0.90991,     0.91091,     0.91191,\n",
              "           0.91291,     0.91391,     0.91491,     0.91592,     0.91692,     0.91792,     0.91892,     0.91992,     0.92092,     0.92192,     0.92292,     0.92392,     0.92492,     0.92593,     0.92693,     0.92793,     0.92893,     0.92993,     0.93093,     0.93193,     0.93293,     0.93393,     0.93493,     0.93594,\n",
              "           0.93694,     0.93794,     0.93894,     0.93994,     0.94094,     0.94194,     0.94294,     0.94394,     0.94494,     0.94595,     0.94695,     0.94795,     0.94895,     0.94995,     0.95095,     0.95195,     0.95295,     0.95395,     0.95495,     0.95596,     0.95696,     0.95796,     0.95896,     0.95996,\n",
              "           0.96096,     0.96196,     0.96296,     0.96396,     0.96496,     0.96597,     0.96697,     0.96797,     0.96897,     0.96997,     0.97097,     0.97197,     0.97297,     0.97397,     0.97497,     0.97598,     0.97698,     0.97798,     0.97898,     0.97998,     0.98098,     0.98198,     0.98298,     0.98398,\n",
              "           0.98498,     0.98599,     0.98699,     0.98799,     0.98899,     0.98999,     0.99099,     0.99199,     0.99299,     0.99399,     0.99499,       0.996,       0.997,       0.998,       0.999,           1]), array([[    0.90625,     0.90625,     0.90625, ...,           0,           0,           0],\n",
              "       [     0.8823,      0.8823,      0.8823, ...,           0,           0,           0],\n",
              "       [    0.13093,     0.13093,     0.13093, ...,           0,           0,           0],\n",
              "       [    0.22857,     0.22857,     0.22857, ...,           0,           0,           0],\n",
              "       [    0.96509,     0.96509,     0.96509, ...,           0,           0,           0],\n",
              "       [     0.8631,      0.8631,      0.8631, ...,           0,           0,           0]]), 'Confidence', 'Recall']]\n",
              "fitness: np.float64(0.5087441996571802)\n",
              "keys: ['metrics/precision(B)', 'metrics/recall(B)', 'metrics/mAP50(B)', 'metrics/mAP50-95(B)']\n",
              "maps: array([    0.71999,     0.76135,    0.053957,    0.064844,     0.84622,     0.54307])\n",
              "names: {0: 'bus', 1: 'car', 2: 'person', 3: 'traffic light', 4: 'tree', 5: 'truck'}\n",
              "nt_per_class: array([ 128, 5480, 1222,   35, 3208,  504])\n",
              "nt_per_image: array([56, 74, 74, 24, 74, 74])\n",
              "results_dict: {'metrics/precision(B)': np.float64(0.8213755690828398), 'metrics/recall(B)': np.float64(0.5529229919666393), 'metrics/mAP50(B)': np.float64(0.6032932109483827), 'metrics/mAP50-95(B)': np.float64(0.4982387539581577), 'fitness': np.float64(0.5087441996571802)}\n",
              "save_dir: PosixPath('runs/detect/train')\n",
              "speed: {'preprocess': 0.2536711891891812, 'inference': 9.68306924324384, 'loss': 0.000513770269331085, 'postprocess': 3.5034754189167425}\n",
              "stats: {'tp': [], 'conf': [], 'pred_cls': [], 'target_cls': [], 'target_img': []}\n",
              "task: 'detect'"
            ]
          },
          "metadata": {},
          "execution_count": 2
        }
      ]
    },
    {
      "cell_type": "code",
      "source": [
        "#validating the model\n",
        "model.val()"
      ],
      "metadata": {
        "colab": {
          "base_uri": "https://localhost:8080/"
        },
        "id": "_-ErYWryaozM",
        "outputId": "4abddcbb-f61c-4e1c-a354-24d93b645ed8"
      },
      "execution_count": 6,
      "outputs": [
        {
          "output_type": "stream",
          "name": "stdout",
          "text": [
            "Ultralytics 8.3.162 🚀 Python-3.11.13 torch-2.6.0+cu124 CUDA:0 (Tesla T4, 15095MiB)\n",
            "\u001b[34m\u001b[1mval: \u001b[0mFast image access ✅ (ping: 0.3±0.1 ms, read: 42.6±2.1 MB/s, size: 83.1 KB)\n"
          ]
        },
        {
          "output_type": "stream",
          "name": "stderr",
          "text": [
            "\u001b[34m\u001b[1mval: \u001b[0mScanning /content/drive/MyDrive/YOLO_Datasets/Drone-Object-Detection-2/valid/labels.cache... 74 images, 0 backgrounds, 0 corrupt: 100%|██████████| 74/74 [00:00<?, ?it/s]\n",
            "                 Class     Images  Instances      Box(P          R      mAP50  mAP50-95): 100%|██████████| 5/5 [00:10<00:00,  2.17s/it]\n"
          ]
        },
        {
          "output_type": "stream",
          "name": "stdout",
          "text": [
            "                   all         74      10577      0.822      0.553      0.603      0.499\n",
            "                   bus         56        128      0.705      0.758      0.787      0.715\n",
            "                   car         74       5480      0.919      0.849      0.901      0.765\n",
            "                person         74       1222      0.734     0.0588      0.124     0.0556\n",
            "         traffic light         24         35          1          0      0.144     0.0691\n",
            "                  tree         74       3208      0.877       0.94       0.96      0.848\n",
            "                 truck         74        504      0.696      0.714      0.703      0.545\n",
            "Speed: 4.3ms preprocess, 28.3ms inference, 0.1ms loss, 13.5ms postprocess per image\n",
            "Results saved to \u001b[1mruns/detect/val2\u001b[0m\n"
          ]
        },
        {
          "output_type": "execute_result",
          "data": {
            "text/plain": [
              "ultralytics.utils.metrics.DetMetrics object with attributes:\n",
              "\n",
              "ap_class_index: array([0, 1, 2, 3, 4, 5])\n",
              "box: ultralytics.utils.metrics.Metric object\n",
              "confusion_matrix: <ultralytics.utils.metrics.ConfusionMatrix object at 0x7974fccee650>\n",
              "curves: ['Precision-Recall(B)', 'F1-Confidence(B)', 'Precision-Confidence(B)', 'Recall-Confidence(B)']\n",
              "curves_results: [[array([          0,    0.001001,    0.002002,    0.003003,    0.004004,    0.005005,    0.006006,    0.007007,    0.008008,    0.009009,     0.01001,    0.011011,    0.012012,    0.013013,    0.014014,    0.015015,    0.016016,    0.017017,    0.018018,    0.019019,     0.02002,    0.021021,    0.022022,    0.023023,\n",
              "          0.024024,    0.025025,    0.026026,    0.027027,    0.028028,    0.029029,     0.03003,    0.031031,    0.032032,    0.033033,    0.034034,    0.035035,    0.036036,    0.037037,    0.038038,    0.039039,     0.04004,    0.041041,    0.042042,    0.043043,    0.044044,    0.045045,    0.046046,    0.047047,\n",
              "          0.048048,    0.049049,     0.05005,    0.051051,    0.052052,    0.053053,    0.054054,    0.055055,    0.056056,    0.057057,    0.058058,    0.059059,     0.06006,    0.061061,    0.062062,    0.063063,    0.064064,    0.065065,    0.066066,    0.067067,    0.068068,    0.069069,     0.07007,    0.071071,\n",
              "          0.072072,    0.073073,    0.074074,    0.075075,    0.076076,    0.077077,    0.078078,    0.079079,     0.08008,    0.081081,    0.082082,    0.083083,    0.084084,    0.085085,    0.086086,    0.087087,    0.088088,    0.089089,     0.09009,    0.091091,    0.092092,    0.093093,    0.094094,    0.095095,\n",
              "          0.096096,    0.097097,    0.098098,    0.099099,      0.1001,      0.1011,      0.1021,      0.1031,      0.1041,     0.10511,     0.10611,     0.10711,     0.10811,     0.10911,     0.11011,     0.11111,     0.11211,     0.11311,     0.11411,     0.11512,     0.11612,     0.11712,     0.11812,     0.11912,\n",
              "           0.12012,     0.12112,     0.12212,     0.12312,     0.12412,     0.12513,     0.12613,     0.12713,     0.12813,     0.12913,     0.13013,     0.13113,     0.13213,     0.13313,     0.13413,     0.13514,     0.13614,     0.13714,     0.13814,     0.13914,     0.14014,     0.14114,     0.14214,     0.14314,\n",
              "           0.14414,     0.14515,     0.14615,     0.14715,     0.14815,     0.14915,     0.15015,     0.15115,     0.15215,     0.15315,     0.15415,     0.15516,     0.15616,     0.15716,     0.15816,     0.15916,     0.16016,     0.16116,     0.16216,     0.16316,     0.16416,     0.16517,     0.16617,     0.16717,\n",
              "           0.16817,     0.16917,     0.17017,     0.17117,     0.17217,     0.17317,     0.17417,     0.17518,     0.17618,     0.17718,     0.17818,     0.17918,     0.18018,     0.18118,     0.18218,     0.18318,     0.18418,     0.18519,     0.18619,     0.18719,     0.18819,     0.18919,     0.19019,     0.19119,\n",
              "           0.19219,     0.19319,     0.19419,      0.1952,      0.1962,      0.1972,      0.1982,      0.1992,      0.2002,      0.2012,      0.2022,      0.2032,      0.2042,     0.20521,     0.20621,     0.20721,     0.20821,     0.20921,     0.21021,     0.21121,     0.21221,     0.21321,     0.21421,     0.21522,\n",
              "           0.21622,     0.21722,     0.21822,     0.21922,     0.22022,     0.22122,     0.22222,     0.22322,     0.22422,     0.22523,     0.22623,     0.22723,     0.22823,     0.22923,     0.23023,     0.23123,     0.23223,     0.23323,     0.23423,     0.23524,     0.23624,     0.23724,     0.23824,     0.23924,\n",
              "           0.24024,     0.24124,     0.24224,     0.24324,     0.24424,     0.24525,     0.24625,     0.24725,     0.24825,     0.24925,     0.25025,     0.25125,     0.25225,     0.25325,     0.25425,     0.25526,     0.25626,     0.25726,     0.25826,     0.25926,     0.26026,     0.26126,     0.26226,     0.26326,\n",
              "           0.26426,     0.26527,     0.26627,     0.26727,     0.26827,     0.26927,     0.27027,     0.27127,     0.27227,     0.27327,     0.27427,     0.27528,     0.27628,     0.27728,     0.27828,     0.27928,     0.28028,     0.28128,     0.28228,     0.28328,     0.28428,     0.28529,     0.28629,     0.28729,\n",
              "           0.28829,     0.28929,     0.29029,     0.29129,     0.29229,     0.29329,     0.29429,      0.2953,      0.2963,      0.2973,      0.2983,      0.2993,      0.3003,      0.3013,      0.3023,      0.3033,      0.3043,     0.30531,     0.30631,     0.30731,     0.30831,     0.30931,     0.31031,     0.31131,\n",
              "           0.31231,     0.31331,     0.31431,     0.31532,     0.31632,     0.31732,     0.31832,     0.31932,     0.32032,     0.32132,     0.32232,     0.32332,     0.32432,     0.32533,     0.32633,     0.32733,     0.32833,     0.32933,     0.33033,     0.33133,     0.33233,     0.33333,     0.33433,     0.33534,\n",
              "           0.33634,     0.33734,     0.33834,     0.33934,     0.34034,     0.34134,     0.34234,     0.34334,     0.34434,     0.34535,     0.34635,     0.34735,     0.34835,     0.34935,     0.35035,     0.35135,     0.35235,     0.35335,     0.35435,     0.35536,     0.35636,     0.35736,     0.35836,     0.35936,\n",
              "           0.36036,     0.36136,     0.36236,     0.36336,     0.36436,     0.36537,     0.36637,     0.36737,     0.36837,     0.36937,     0.37037,     0.37137,     0.37237,     0.37337,     0.37437,     0.37538,     0.37638,     0.37738,     0.37838,     0.37938,     0.38038,     0.38138,     0.38238,     0.38338,\n",
              "           0.38438,     0.38539,     0.38639,     0.38739,     0.38839,     0.38939,     0.39039,     0.39139,     0.39239,     0.39339,     0.39439,      0.3954,      0.3964,      0.3974,      0.3984,      0.3994,      0.4004,      0.4014,      0.4024,      0.4034,      0.4044,     0.40541,     0.40641,     0.40741,\n",
              "           0.40841,     0.40941,     0.41041,     0.41141,     0.41241,     0.41341,     0.41441,     0.41542,     0.41642,     0.41742,     0.41842,     0.41942,     0.42042,     0.42142,     0.42242,     0.42342,     0.42442,     0.42543,     0.42643,     0.42743,     0.42843,     0.42943,     0.43043,     0.43143,\n",
              "           0.43243,     0.43343,     0.43443,     0.43544,     0.43644,     0.43744,     0.43844,     0.43944,     0.44044,     0.44144,     0.44244,     0.44344,     0.44444,     0.44545,     0.44645,     0.44745,     0.44845,     0.44945,     0.45045,     0.45145,     0.45245,     0.45345,     0.45445,     0.45546,\n",
              "           0.45646,     0.45746,     0.45846,     0.45946,     0.46046,     0.46146,     0.46246,     0.46346,     0.46446,     0.46547,     0.46647,     0.46747,     0.46847,     0.46947,     0.47047,     0.47147,     0.47247,     0.47347,     0.47447,     0.47548,     0.47648,     0.47748,     0.47848,     0.47948,\n",
              "           0.48048,     0.48148,     0.48248,     0.48348,     0.48448,     0.48549,     0.48649,     0.48749,     0.48849,     0.48949,     0.49049,     0.49149,     0.49249,     0.49349,     0.49449,      0.4955,      0.4965,      0.4975,      0.4985,      0.4995,      0.5005,      0.5015,      0.5025,      0.5035,\n",
              "            0.5045,     0.50551,     0.50651,     0.50751,     0.50851,     0.50951,     0.51051,     0.51151,     0.51251,     0.51351,     0.51451,     0.51552,     0.51652,     0.51752,     0.51852,     0.51952,     0.52052,     0.52152,     0.52252,     0.52352,     0.52452,     0.52553,     0.52653,     0.52753,\n",
              "           0.52853,     0.52953,     0.53053,     0.53153,     0.53253,     0.53353,     0.53453,     0.53554,     0.53654,     0.53754,     0.53854,     0.53954,     0.54054,     0.54154,     0.54254,     0.54354,     0.54454,     0.54555,     0.54655,     0.54755,     0.54855,     0.54955,     0.55055,     0.55155,\n",
              "           0.55255,     0.55355,     0.55455,     0.55556,     0.55656,     0.55756,     0.55856,     0.55956,     0.56056,     0.56156,     0.56256,     0.56356,     0.56456,     0.56557,     0.56657,     0.56757,     0.56857,     0.56957,     0.57057,     0.57157,     0.57257,     0.57357,     0.57457,     0.57558,\n",
              "           0.57658,     0.57758,     0.57858,     0.57958,     0.58058,     0.58158,     0.58258,     0.58358,     0.58458,     0.58559,     0.58659,     0.58759,     0.58859,     0.58959,     0.59059,     0.59159,     0.59259,     0.59359,     0.59459,      0.5956,      0.5966,      0.5976,      0.5986,      0.5996,\n",
              "            0.6006,      0.6016,      0.6026,      0.6036,      0.6046,     0.60561,     0.60661,     0.60761,     0.60861,     0.60961,     0.61061,     0.61161,     0.61261,     0.61361,     0.61461,     0.61562,     0.61662,     0.61762,     0.61862,     0.61962,     0.62062,     0.62162,     0.62262,     0.62362,\n",
              "           0.62462,     0.62563,     0.62663,     0.62763,     0.62863,     0.62963,     0.63063,     0.63163,     0.63263,     0.63363,     0.63463,     0.63564,     0.63664,     0.63764,     0.63864,     0.63964,     0.64064,     0.64164,     0.64264,     0.64364,     0.64464,     0.64565,     0.64665,     0.64765,\n",
              "           0.64865,     0.64965,     0.65065,     0.65165,     0.65265,     0.65365,     0.65465,     0.65566,     0.65666,     0.65766,     0.65866,     0.65966,     0.66066,     0.66166,     0.66266,     0.66366,     0.66466,     0.66567,     0.66667,     0.66767,     0.66867,     0.66967,     0.67067,     0.67167,\n",
              "           0.67267,     0.67367,     0.67467,     0.67568,     0.67668,     0.67768,     0.67868,     0.67968,     0.68068,     0.68168,     0.68268,     0.68368,     0.68468,     0.68569,     0.68669,     0.68769,     0.68869,     0.68969,     0.69069,     0.69169,     0.69269,     0.69369,     0.69469,      0.6957,\n",
              "            0.6967,      0.6977,      0.6987,      0.6997,      0.7007,      0.7017,      0.7027,      0.7037,      0.7047,     0.70571,     0.70671,     0.70771,     0.70871,     0.70971,     0.71071,     0.71171,     0.71271,     0.71371,     0.71471,     0.71572,     0.71672,     0.71772,     0.71872,     0.71972,\n",
              "           0.72072,     0.72172,     0.72272,     0.72372,     0.72472,     0.72573,     0.72673,     0.72773,     0.72873,     0.72973,     0.73073,     0.73173,     0.73273,     0.73373,     0.73473,     0.73574,     0.73674,     0.73774,     0.73874,     0.73974,     0.74074,     0.74174,     0.74274,     0.74374,\n",
              "           0.74474,     0.74575,     0.74675,     0.74775,     0.74875,     0.74975,     0.75075,     0.75175,     0.75275,     0.75375,     0.75475,     0.75576,     0.75676,     0.75776,     0.75876,     0.75976,     0.76076,     0.76176,     0.76276,     0.76376,     0.76476,     0.76577,     0.76677,     0.76777,\n",
              "           0.76877,     0.76977,     0.77077,     0.77177,     0.77277,     0.77377,     0.77477,     0.77578,     0.77678,     0.77778,     0.77878,     0.77978,     0.78078,     0.78178,     0.78278,     0.78378,     0.78478,     0.78579,     0.78679,     0.78779,     0.78879,     0.78979,     0.79079,     0.79179,\n",
              "           0.79279,     0.79379,     0.79479,      0.7958,      0.7968,      0.7978,      0.7988,      0.7998,      0.8008,      0.8018,      0.8028,      0.8038,      0.8048,     0.80581,     0.80681,     0.80781,     0.80881,     0.80981,     0.81081,     0.81181,     0.81281,     0.81381,     0.81481,     0.81582,\n",
              "           0.81682,     0.81782,     0.81882,     0.81982,     0.82082,     0.82182,     0.82282,     0.82382,     0.82482,     0.82583,     0.82683,     0.82783,     0.82883,     0.82983,     0.83083,     0.83183,     0.83283,     0.83383,     0.83483,     0.83584,     0.83684,     0.83784,     0.83884,     0.83984,\n",
              "           0.84084,     0.84184,     0.84284,     0.84384,     0.84484,     0.84585,     0.84685,     0.84785,     0.84885,     0.84985,     0.85085,     0.85185,     0.85285,     0.85385,     0.85485,     0.85586,     0.85686,     0.85786,     0.85886,     0.85986,     0.86086,     0.86186,     0.86286,     0.86386,\n",
              "           0.86486,     0.86587,     0.86687,     0.86787,     0.86887,     0.86987,     0.87087,     0.87187,     0.87287,     0.87387,     0.87487,     0.87588,     0.87688,     0.87788,     0.87888,     0.87988,     0.88088,     0.88188,     0.88288,     0.88388,     0.88488,     0.88589,     0.88689,     0.88789,\n",
              "           0.88889,     0.88989,     0.89089,     0.89189,     0.89289,     0.89389,     0.89489,      0.8959,      0.8969,      0.8979,      0.8989,      0.8999,      0.9009,      0.9019,      0.9029,      0.9039,      0.9049,     0.90591,     0.90691,     0.90791,     0.90891,     0.90991,     0.91091,     0.91191,\n",
              "           0.91291,     0.91391,     0.91491,     0.91592,     0.91692,     0.91792,     0.91892,     0.91992,     0.92092,     0.92192,     0.92292,     0.92392,     0.92492,     0.92593,     0.92693,     0.92793,     0.92893,     0.92993,     0.93093,     0.93193,     0.93293,     0.93393,     0.93493,     0.93594,\n",
              "           0.93694,     0.93794,     0.93894,     0.93994,     0.94094,     0.94194,     0.94294,     0.94394,     0.94494,     0.94595,     0.94695,     0.94795,     0.94895,     0.94995,     0.95095,     0.95195,     0.95295,     0.95395,     0.95495,     0.95596,     0.95696,     0.95796,     0.95896,     0.95996,\n",
              "           0.96096,     0.96196,     0.96296,     0.96396,     0.96496,     0.96597,     0.96697,     0.96797,     0.96897,     0.96997,     0.97097,     0.97197,     0.97297,     0.97397,     0.97497,     0.97598,     0.97698,     0.97798,     0.97898,     0.97998,     0.98098,     0.98198,     0.98298,     0.98398,\n",
              "           0.98498,     0.98599,     0.98699,     0.98799,     0.98899,     0.98999,     0.99099,     0.99199,     0.99299,     0.99399,     0.99499,       0.996,       0.997,       0.998,       0.999,           1]), array([[          1,           1,           1, ...,   0.0033337,   0.0016668,           0],\n",
              "       [          1,           1,           1, ...,   0.0081495,   0.0040748,           0],\n",
              "       [          1,           1,           1, ...,  0.00020341,  0.00010171,           0],\n",
              "       [          1,           1,           1, ...,  0.00020354,  0.00010177,           0],\n",
              "       [          1,           1,           1, ...,    0.028947,    0.014474,           0],\n",
              "       [          1,           1,           1, ...,   0.0018616,  0.00093081,           0]]), 'Recall', 'Precision'], [array([          0,    0.001001,    0.002002,    0.003003,    0.004004,    0.005005,    0.006006,    0.007007,    0.008008,    0.009009,     0.01001,    0.011011,    0.012012,    0.013013,    0.014014,    0.015015,    0.016016,    0.017017,    0.018018,    0.019019,     0.02002,    0.021021,    0.022022,    0.023023,\n",
              "          0.024024,    0.025025,    0.026026,    0.027027,    0.028028,    0.029029,     0.03003,    0.031031,    0.032032,    0.033033,    0.034034,    0.035035,    0.036036,    0.037037,    0.038038,    0.039039,     0.04004,    0.041041,    0.042042,    0.043043,    0.044044,    0.045045,    0.046046,    0.047047,\n",
              "          0.048048,    0.049049,     0.05005,    0.051051,    0.052052,    0.053053,    0.054054,    0.055055,    0.056056,    0.057057,    0.058058,    0.059059,     0.06006,    0.061061,    0.062062,    0.063063,    0.064064,    0.065065,    0.066066,    0.067067,    0.068068,    0.069069,     0.07007,    0.071071,\n",
              "          0.072072,    0.073073,    0.074074,    0.075075,    0.076076,    0.077077,    0.078078,    0.079079,     0.08008,    0.081081,    0.082082,    0.083083,    0.084084,    0.085085,    0.086086,    0.087087,    0.088088,    0.089089,     0.09009,    0.091091,    0.092092,    0.093093,    0.094094,    0.095095,\n",
              "          0.096096,    0.097097,    0.098098,    0.099099,      0.1001,      0.1011,      0.1021,      0.1031,      0.1041,     0.10511,     0.10611,     0.10711,     0.10811,     0.10911,     0.11011,     0.11111,     0.11211,     0.11311,     0.11411,     0.11512,     0.11612,     0.11712,     0.11812,     0.11912,\n",
              "           0.12012,     0.12112,     0.12212,     0.12312,     0.12412,     0.12513,     0.12613,     0.12713,     0.12813,     0.12913,     0.13013,     0.13113,     0.13213,     0.13313,     0.13413,     0.13514,     0.13614,     0.13714,     0.13814,     0.13914,     0.14014,     0.14114,     0.14214,     0.14314,\n",
              "           0.14414,     0.14515,     0.14615,     0.14715,     0.14815,     0.14915,     0.15015,     0.15115,     0.15215,     0.15315,     0.15415,     0.15516,     0.15616,     0.15716,     0.15816,     0.15916,     0.16016,     0.16116,     0.16216,     0.16316,     0.16416,     0.16517,     0.16617,     0.16717,\n",
              "           0.16817,     0.16917,     0.17017,     0.17117,     0.17217,     0.17317,     0.17417,     0.17518,     0.17618,     0.17718,     0.17818,     0.17918,     0.18018,     0.18118,     0.18218,     0.18318,     0.18418,     0.18519,     0.18619,     0.18719,     0.18819,     0.18919,     0.19019,     0.19119,\n",
              "           0.19219,     0.19319,     0.19419,      0.1952,      0.1962,      0.1972,      0.1982,      0.1992,      0.2002,      0.2012,      0.2022,      0.2032,      0.2042,     0.20521,     0.20621,     0.20721,     0.20821,     0.20921,     0.21021,     0.21121,     0.21221,     0.21321,     0.21421,     0.21522,\n",
              "           0.21622,     0.21722,     0.21822,     0.21922,     0.22022,     0.22122,     0.22222,     0.22322,     0.22422,     0.22523,     0.22623,     0.22723,     0.22823,     0.22923,     0.23023,     0.23123,     0.23223,     0.23323,     0.23423,     0.23524,     0.23624,     0.23724,     0.23824,     0.23924,\n",
              "           0.24024,     0.24124,     0.24224,     0.24324,     0.24424,     0.24525,     0.24625,     0.24725,     0.24825,     0.24925,     0.25025,     0.25125,     0.25225,     0.25325,     0.25425,     0.25526,     0.25626,     0.25726,     0.25826,     0.25926,     0.26026,     0.26126,     0.26226,     0.26326,\n",
              "           0.26426,     0.26527,     0.26627,     0.26727,     0.26827,     0.26927,     0.27027,     0.27127,     0.27227,     0.27327,     0.27427,     0.27528,     0.27628,     0.27728,     0.27828,     0.27928,     0.28028,     0.28128,     0.28228,     0.28328,     0.28428,     0.28529,     0.28629,     0.28729,\n",
              "           0.28829,     0.28929,     0.29029,     0.29129,     0.29229,     0.29329,     0.29429,      0.2953,      0.2963,      0.2973,      0.2983,      0.2993,      0.3003,      0.3013,      0.3023,      0.3033,      0.3043,     0.30531,     0.30631,     0.30731,     0.30831,     0.30931,     0.31031,     0.31131,\n",
              "           0.31231,     0.31331,     0.31431,     0.31532,     0.31632,     0.31732,     0.31832,     0.31932,     0.32032,     0.32132,     0.32232,     0.32332,     0.32432,     0.32533,     0.32633,     0.32733,     0.32833,     0.32933,     0.33033,     0.33133,     0.33233,     0.33333,     0.33433,     0.33534,\n",
              "           0.33634,     0.33734,     0.33834,     0.33934,     0.34034,     0.34134,     0.34234,     0.34334,     0.34434,     0.34535,     0.34635,     0.34735,     0.34835,     0.34935,     0.35035,     0.35135,     0.35235,     0.35335,     0.35435,     0.35536,     0.35636,     0.35736,     0.35836,     0.35936,\n",
              "           0.36036,     0.36136,     0.36236,     0.36336,     0.36436,     0.36537,     0.36637,     0.36737,     0.36837,     0.36937,     0.37037,     0.37137,     0.37237,     0.37337,     0.37437,     0.37538,     0.37638,     0.37738,     0.37838,     0.37938,     0.38038,     0.38138,     0.38238,     0.38338,\n",
              "           0.38438,     0.38539,     0.38639,     0.38739,     0.38839,     0.38939,     0.39039,     0.39139,     0.39239,     0.39339,     0.39439,      0.3954,      0.3964,      0.3974,      0.3984,      0.3994,      0.4004,      0.4014,      0.4024,      0.4034,      0.4044,     0.40541,     0.40641,     0.40741,\n",
              "           0.40841,     0.40941,     0.41041,     0.41141,     0.41241,     0.41341,     0.41441,     0.41542,     0.41642,     0.41742,     0.41842,     0.41942,     0.42042,     0.42142,     0.42242,     0.42342,     0.42442,     0.42543,     0.42643,     0.42743,     0.42843,     0.42943,     0.43043,     0.43143,\n",
              "           0.43243,     0.43343,     0.43443,     0.43544,     0.43644,     0.43744,     0.43844,     0.43944,     0.44044,     0.44144,     0.44244,     0.44344,     0.44444,     0.44545,     0.44645,     0.44745,     0.44845,     0.44945,     0.45045,     0.45145,     0.45245,     0.45345,     0.45445,     0.45546,\n",
              "           0.45646,     0.45746,     0.45846,     0.45946,     0.46046,     0.46146,     0.46246,     0.46346,     0.46446,     0.46547,     0.46647,     0.46747,     0.46847,     0.46947,     0.47047,     0.47147,     0.47247,     0.47347,     0.47447,     0.47548,     0.47648,     0.47748,     0.47848,     0.47948,\n",
              "           0.48048,     0.48148,     0.48248,     0.48348,     0.48448,     0.48549,     0.48649,     0.48749,     0.48849,     0.48949,     0.49049,     0.49149,     0.49249,     0.49349,     0.49449,      0.4955,      0.4965,      0.4975,      0.4985,      0.4995,      0.5005,      0.5015,      0.5025,      0.5035,\n",
              "            0.5045,     0.50551,     0.50651,     0.50751,     0.50851,     0.50951,     0.51051,     0.51151,     0.51251,     0.51351,     0.51451,     0.51552,     0.51652,     0.51752,     0.51852,     0.51952,     0.52052,     0.52152,     0.52252,     0.52352,     0.52452,     0.52553,     0.52653,     0.52753,\n",
              "           0.52853,     0.52953,     0.53053,     0.53153,     0.53253,     0.53353,     0.53453,     0.53554,     0.53654,     0.53754,     0.53854,     0.53954,     0.54054,     0.54154,     0.54254,     0.54354,     0.54454,     0.54555,     0.54655,     0.54755,     0.54855,     0.54955,     0.55055,     0.55155,\n",
              "           0.55255,     0.55355,     0.55455,     0.55556,     0.55656,     0.55756,     0.55856,     0.55956,     0.56056,     0.56156,     0.56256,     0.56356,     0.56456,     0.56557,     0.56657,     0.56757,     0.56857,     0.56957,     0.57057,     0.57157,     0.57257,     0.57357,     0.57457,     0.57558,\n",
              "           0.57658,     0.57758,     0.57858,     0.57958,     0.58058,     0.58158,     0.58258,     0.58358,     0.58458,     0.58559,     0.58659,     0.58759,     0.58859,     0.58959,     0.59059,     0.59159,     0.59259,     0.59359,     0.59459,      0.5956,      0.5966,      0.5976,      0.5986,      0.5996,\n",
              "            0.6006,      0.6016,      0.6026,      0.6036,      0.6046,     0.60561,     0.60661,     0.60761,     0.60861,     0.60961,     0.61061,     0.61161,     0.61261,     0.61361,     0.61461,     0.61562,     0.61662,     0.61762,     0.61862,     0.61962,     0.62062,     0.62162,     0.62262,     0.62362,\n",
              "           0.62462,     0.62563,     0.62663,     0.62763,     0.62863,     0.62963,     0.63063,     0.63163,     0.63263,     0.63363,     0.63463,     0.63564,     0.63664,     0.63764,     0.63864,     0.63964,     0.64064,     0.64164,     0.64264,     0.64364,     0.64464,     0.64565,     0.64665,     0.64765,\n",
              "           0.64865,     0.64965,     0.65065,     0.65165,     0.65265,     0.65365,     0.65465,     0.65566,     0.65666,     0.65766,     0.65866,     0.65966,     0.66066,     0.66166,     0.66266,     0.66366,     0.66466,     0.66567,     0.66667,     0.66767,     0.66867,     0.66967,     0.67067,     0.67167,\n",
              "           0.67267,     0.67367,     0.67467,     0.67568,     0.67668,     0.67768,     0.67868,     0.67968,     0.68068,     0.68168,     0.68268,     0.68368,     0.68468,     0.68569,     0.68669,     0.68769,     0.68869,     0.68969,     0.69069,     0.69169,     0.69269,     0.69369,     0.69469,      0.6957,\n",
              "            0.6967,      0.6977,      0.6987,      0.6997,      0.7007,      0.7017,      0.7027,      0.7037,      0.7047,     0.70571,     0.70671,     0.70771,     0.70871,     0.70971,     0.71071,     0.71171,     0.71271,     0.71371,     0.71471,     0.71572,     0.71672,     0.71772,     0.71872,     0.71972,\n",
              "           0.72072,     0.72172,     0.72272,     0.72372,     0.72472,     0.72573,     0.72673,     0.72773,     0.72873,     0.72973,     0.73073,     0.73173,     0.73273,     0.73373,     0.73473,     0.73574,     0.73674,     0.73774,     0.73874,     0.73974,     0.74074,     0.74174,     0.74274,     0.74374,\n",
              "           0.74474,     0.74575,     0.74675,     0.74775,     0.74875,     0.74975,     0.75075,     0.75175,     0.75275,     0.75375,     0.75475,     0.75576,     0.75676,     0.75776,     0.75876,     0.75976,     0.76076,     0.76176,     0.76276,     0.76376,     0.76476,     0.76577,     0.76677,     0.76777,\n",
              "           0.76877,     0.76977,     0.77077,     0.77177,     0.77277,     0.77377,     0.77477,     0.77578,     0.77678,     0.77778,     0.77878,     0.77978,     0.78078,     0.78178,     0.78278,     0.78378,     0.78478,     0.78579,     0.78679,     0.78779,     0.78879,     0.78979,     0.79079,     0.79179,\n",
              "           0.79279,     0.79379,     0.79479,      0.7958,      0.7968,      0.7978,      0.7988,      0.7998,      0.8008,      0.8018,      0.8028,      0.8038,      0.8048,     0.80581,     0.80681,     0.80781,     0.80881,     0.80981,     0.81081,     0.81181,     0.81281,     0.81381,     0.81481,     0.81582,\n",
              "           0.81682,     0.81782,     0.81882,     0.81982,     0.82082,     0.82182,     0.82282,     0.82382,     0.82482,     0.82583,     0.82683,     0.82783,     0.82883,     0.82983,     0.83083,     0.83183,     0.83283,     0.83383,     0.83483,     0.83584,     0.83684,     0.83784,     0.83884,     0.83984,\n",
              "           0.84084,     0.84184,     0.84284,     0.84384,     0.84484,     0.84585,     0.84685,     0.84785,     0.84885,     0.84985,     0.85085,     0.85185,     0.85285,     0.85385,     0.85485,     0.85586,     0.85686,     0.85786,     0.85886,     0.85986,     0.86086,     0.86186,     0.86286,     0.86386,\n",
              "           0.86486,     0.86587,     0.86687,     0.86787,     0.86887,     0.86987,     0.87087,     0.87187,     0.87287,     0.87387,     0.87487,     0.87588,     0.87688,     0.87788,     0.87888,     0.87988,     0.88088,     0.88188,     0.88288,     0.88388,     0.88488,     0.88589,     0.88689,     0.88789,\n",
              "           0.88889,     0.88989,     0.89089,     0.89189,     0.89289,     0.89389,     0.89489,      0.8959,      0.8969,      0.8979,      0.8989,      0.8999,      0.9009,      0.9019,      0.9029,      0.9039,      0.9049,     0.90591,     0.90691,     0.90791,     0.90891,     0.90991,     0.91091,     0.91191,\n",
              "           0.91291,     0.91391,     0.91491,     0.91592,     0.91692,     0.91792,     0.91892,     0.91992,     0.92092,     0.92192,     0.92292,     0.92392,     0.92492,     0.92593,     0.92693,     0.92793,     0.92893,     0.92993,     0.93093,     0.93193,     0.93293,     0.93393,     0.93493,     0.93594,\n",
              "           0.93694,     0.93794,     0.93894,     0.93994,     0.94094,     0.94194,     0.94294,     0.94394,     0.94494,     0.94595,     0.94695,     0.94795,     0.94895,     0.94995,     0.95095,     0.95195,     0.95295,     0.95395,     0.95495,     0.95596,     0.95696,     0.95796,     0.95896,     0.95996,\n",
              "           0.96096,     0.96196,     0.96296,     0.96396,     0.96496,     0.96597,     0.96697,     0.96797,     0.96897,     0.96997,     0.97097,     0.97197,     0.97297,     0.97397,     0.97497,     0.97598,     0.97698,     0.97798,     0.97898,     0.97998,     0.98098,     0.98198,     0.98298,     0.98398,\n",
              "           0.98498,     0.98599,     0.98699,     0.98799,     0.98899,     0.98999,     0.99099,     0.99199,     0.99299,     0.99399,     0.99499,       0.996,       0.997,       0.998,       0.999,           1]), array([[    0.28465,     0.28465,     0.28465, ...,           0,           0,           0],\n",
              "       [    0.62217,     0.62217,     0.62217, ...,           0,           0,           0],\n",
              "       [    0.10547,     0.10547,     0.10547, ...,           0,           0,           0],\n",
              "       [    0.11679,     0.11679,     0.11679, ...,           0,           0,           0],\n",
              "       [    0.66288,     0.66288,     0.66288, ...,           0,           0,           0],\n",
              "       [    0.22188,     0.22188,     0.22188, ...,           0,           0,           0]]), 'Confidence', 'F1'], [array([          0,    0.001001,    0.002002,    0.003003,    0.004004,    0.005005,    0.006006,    0.007007,    0.008008,    0.009009,     0.01001,    0.011011,    0.012012,    0.013013,    0.014014,    0.015015,    0.016016,    0.017017,    0.018018,    0.019019,     0.02002,    0.021021,    0.022022,    0.023023,\n",
              "          0.024024,    0.025025,    0.026026,    0.027027,    0.028028,    0.029029,     0.03003,    0.031031,    0.032032,    0.033033,    0.034034,    0.035035,    0.036036,    0.037037,    0.038038,    0.039039,     0.04004,    0.041041,    0.042042,    0.043043,    0.044044,    0.045045,    0.046046,    0.047047,\n",
              "          0.048048,    0.049049,     0.05005,    0.051051,    0.052052,    0.053053,    0.054054,    0.055055,    0.056056,    0.057057,    0.058058,    0.059059,     0.06006,    0.061061,    0.062062,    0.063063,    0.064064,    0.065065,    0.066066,    0.067067,    0.068068,    0.069069,     0.07007,    0.071071,\n",
              "          0.072072,    0.073073,    0.074074,    0.075075,    0.076076,    0.077077,    0.078078,    0.079079,     0.08008,    0.081081,    0.082082,    0.083083,    0.084084,    0.085085,    0.086086,    0.087087,    0.088088,    0.089089,     0.09009,    0.091091,    0.092092,    0.093093,    0.094094,    0.095095,\n",
              "          0.096096,    0.097097,    0.098098,    0.099099,      0.1001,      0.1011,      0.1021,      0.1031,      0.1041,     0.10511,     0.10611,     0.10711,     0.10811,     0.10911,     0.11011,     0.11111,     0.11211,     0.11311,     0.11411,     0.11512,     0.11612,     0.11712,     0.11812,     0.11912,\n",
              "           0.12012,     0.12112,     0.12212,     0.12312,     0.12412,     0.12513,     0.12613,     0.12713,     0.12813,     0.12913,     0.13013,     0.13113,     0.13213,     0.13313,     0.13413,     0.13514,     0.13614,     0.13714,     0.13814,     0.13914,     0.14014,     0.14114,     0.14214,     0.14314,\n",
              "           0.14414,     0.14515,     0.14615,     0.14715,     0.14815,     0.14915,     0.15015,     0.15115,     0.15215,     0.15315,     0.15415,     0.15516,     0.15616,     0.15716,     0.15816,     0.15916,     0.16016,     0.16116,     0.16216,     0.16316,     0.16416,     0.16517,     0.16617,     0.16717,\n",
              "           0.16817,     0.16917,     0.17017,     0.17117,     0.17217,     0.17317,     0.17417,     0.17518,     0.17618,     0.17718,     0.17818,     0.17918,     0.18018,     0.18118,     0.18218,     0.18318,     0.18418,     0.18519,     0.18619,     0.18719,     0.18819,     0.18919,     0.19019,     0.19119,\n",
              "           0.19219,     0.19319,     0.19419,      0.1952,      0.1962,      0.1972,      0.1982,      0.1992,      0.2002,      0.2012,      0.2022,      0.2032,      0.2042,     0.20521,     0.20621,     0.20721,     0.20821,     0.20921,     0.21021,     0.21121,     0.21221,     0.21321,     0.21421,     0.21522,\n",
              "           0.21622,     0.21722,     0.21822,     0.21922,     0.22022,     0.22122,     0.22222,     0.22322,     0.22422,     0.22523,     0.22623,     0.22723,     0.22823,     0.22923,     0.23023,     0.23123,     0.23223,     0.23323,     0.23423,     0.23524,     0.23624,     0.23724,     0.23824,     0.23924,\n",
              "           0.24024,     0.24124,     0.24224,     0.24324,     0.24424,     0.24525,     0.24625,     0.24725,     0.24825,     0.24925,     0.25025,     0.25125,     0.25225,     0.25325,     0.25425,     0.25526,     0.25626,     0.25726,     0.25826,     0.25926,     0.26026,     0.26126,     0.26226,     0.26326,\n",
              "           0.26426,     0.26527,     0.26627,     0.26727,     0.26827,     0.26927,     0.27027,     0.27127,     0.27227,     0.27327,     0.27427,     0.27528,     0.27628,     0.27728,     0.27828,     0.27928,     0.28028,     0.28128,     0.28228,     0.28328,     0.28428,     0.28529,     0.28629,     0.28729,\n",
              "           0.28829,     0.28929,     0.29029,     0.29129,     0.29229,     0.29329,     0.29429,      0.2953,      0.2963,      0.2973,      0.2983,      0.2993,      0.3003,      0.3013,      0.3023,      0.3033,      0.3043,     0.30531,     0.30631,     0.30731,     0.30831,     0.30931,     0.31031,     0.31131,\n",
              "           0.31231,     0.31331,     0.31431,     0.31532,     0.31632,     0.31732,     0.31832,     0.31932,     0.32032,     0.32132,     0.32232,     0.32332,     0.32432,     0.32533,     0.32633,     0.32733,     0.32833,     0.32933,     0.33033,     0.33133,     0.33233,     0.33333,     0.33433,     0.33534,\n",
              "           0.33634,     0.33734,     0.33834,     0.33934,     0.34034,     0.34134,     0.34234,     0.34334,     0.34434,     0.34535,     0.34635,     0.34735,     0.34835,     0.34935,     0.35035,     0.35135,     0.35235,     0.35335,     0.35435,     0.35536,     0.35636,     0.35736,     0.35836,     0.35936,\n",
              "           0.36036,     0.36136,     0.36236,     0.36336,     0.36436,     0.36537,     0.36637,     0.36737,     0.36837,     0.36937,     0.37037,     0.37137,     0.37237,     0.37337,     0.37437,     0.37538,     0.37638,     0.37738,     0.37838,     0.37938,     0.38038,     0.38138,     0.38238,     0.38338,\n",
              "           0.38438,     0.38539,     0.38639,     0.38739,     0.38839,     0.38939,     0.39039,     0.39139,     0.39239,     0.39339,     0.39439,      0.3954,      0.3964,      0.3974,      0.3984,      0.3994,      0.4004,      0.4014,      0.4024,      0.4034,      0.4044,     0.40541,     0.40641,     0.40741,\n",
              "           0.40841,     0.40941,     0.41041,     0.41141,     0.41241,     0.41341,     0.41441,     0.41542,     0.41642,     0.41742,     0.41842,     0.41942,     0.42042,     0.42142,     0.42242,     0.42342,     0.42442,     0.42543,     0.42643,     0.42743,     0.42843,     0.42943,     0.43043,     0.43143,\n",
              "           0.43243,     0.43343,     0.43443,     0.43544,     0.43644,     0.43744,     0.43844,     0.43944,     0.44044,     0.44144,     0.44244,     0.44344,     0.44444,     0.44545,     0.44645,     0.44745,     0.44845,     0.44945,     0.45045,     0.45145,     0.45245,     0.45345,     0.45445,     0.45546,\n",
              "           0.45646,     0.45746,     0.45846,     0.45946,     0.46046,     0.46146,     0.46246,     0.46346,     0.46446,     0.46547,     0.46647,     0.46747,     0.46847,     0.46947,     0.47047,     0.47147,     0.47247,     0.47347,     0.47447,     0.47548,     0.47648,     0.47748,     0.47848,     0.47948,\n",
              "           0.48048,     0.48148,     0.48248,     0.48348,     0.48448,     0.48549,     0.48649,     0.48749,     0.48849,     0.48949,     0.49049,     0.49149,     0.49249,     0.49349,     0.49449,      0.4955,      0.4965,      0.4975,      0.4985,      0.4995,      0.5005,      0.5015,      0.5025,      0.5035,\n",
              "            0.5045,     0.50551,     0.50651,     0.50751,     0.50851,     0.50951,     0.51051,     0.51151,     0.51251,     0.51351,     0.51451,     0.51552,     0.51652,     0.51752,     0.51852,     0.51952,     0.52052,     0.52152,     0.52252,     0.52352,     0.52452,     0.52553,     0.52653,     0.52753,\n",
              "           0.52853,     0.52953,     0.53053,     0.53153,     0.53253,     0.53353,     0.53453,     0.53554,     0.53654,     0.53754,     0.53854,     0.53954,     0.54054,     0.54154,     0.54254,     0.54354,     0.54454,     0.54555,     0.54655,     0.54755,     0.54855,     0.54955,     0.55055,     0.55155,\n",
              "           0.55255,     0.55355,     0.55455,     0.55556,     0.55656,     0.55756,     0.55856,     0.55956,     0.56056,     0.56156,     0.56256,     0.56356,     0.56456,     0.56557,     0.56657,     0.56757,     0.56857,     0.56957,     0.57057,     0.57157,     0.57257,     0.57357,     0.57457,     0.57558,\n",
              "           0.57658,     0.57758,     0.57858,     0.57958,     0.58058,     0.58158,     0.58258,     0.58358,     0.58458,     0.58559,     0.58659,     0.58759,     0.58859,     0.58959,     0.59059,     0.59159,     0.59259,     0.59359,     0.59459,      0.5956,      0.5966,      0.5976,      0.5986,      0.5996,\n",
              "            0.6006,      0.6016,      0.6026,      0.6036,      0.6046,     0.60561,     0.60661,     0.60761,     0.60861,     0.60961,     0.61061,     0.61161,     0.61261,     0.61361,     0.61461,     0.61562,     0.61662,     0.61762,     0.61862,     0.61962,     0.62062,     0.62162,     0.62262,     0.62362,\n",
              "           0.62462,     0.62563,     0.62663,     0.62763,     0.62863,     0.62963,     0.63063,     0.63163,     0.63263,     0.63363,     0.63463,     0.63564,     0.63664,     0.63764,     0.63864,     0.63964,     0.64064,     0.64164,     0.64264,     0.64364,     0.64464,     0.64565,     0.64665,     0.64765,\n",
              "           0.64865,     0.64965,     0.65065,     0.65165,     0.65265,     0.65365,     0.65465,     0.65566,     0.65666,     0.65766,     0.65866,     0.65966,     0.66066,     0.66166,     0.66266,     0.66366,     0.66466,     0.66567,     0.66667,     0.66767,     0.66867,     0.66967,     0.67067,     0.67167,\n",
              "           0.67267,     0.67367,     0.67467,     0.67568,     0.67668,     0.67768,     0.67868,     0.67968,     0.68068,     0.68168,     0.68268,     0.68368,     0.68468,     0.68569,     0.68669,     0.68769,     0.68869,     0.68969,     0.69069,     0.69169,     0.69269,     0.69369,     0.69469,      0.6957,\n",
              "            0.6967,      0.6977,      0.6987,      0.6997,      0.7007,      0.7017,      0.7027,      0.7037,      0.7047,     0.70571,     0.70671,     0.70771,     0.70871,     0.70971,     0.71071,     0.71171,     0.71271,     0.71371,     0.71471,     0.71572,     0.71672,     0.71772,     0.71872,     0.71972,\n",
              "           0.72072,     0.72172,     0.72272,     0.72372,     0.72472,     0.72573,     0.72673,     0.72773,     0.72873,     0.72973,     0.73073,     0.73173,     0.73273,     0.73373,     0.73473,     0.73574,     0.73674,     0.73774,     0.73874,     0.73974,     0.74074,     0.74174,     0.74274,     0.74374,\n",
              "           0.74474,     0.74575,     0.74675,     0.74775,     0.74875,     0.74975,     0.75075,     0.75175,     0.75275,     0.75375,     0.75475,     0.75576,     0.75676,     0.75776,     0.75876,     0.75976,     0.76076,     0.76176,     0.76276,     0.76376,     0.76476,     0.76577,     0.76677,     0.76777,\n",
              "           0.76877,     0.76977,     0.77077,     0.77177,     0.77277,     0.77377,     0.77477,     0.77578,     0.77678,     0.77778,     0.77878,     0.77978,     0.78078,     0.78178,     0.78278,     0.78378,     0.78478,     0.78579,     0.78679,     0.78779,     0.78879,     0.78979,     0.79079,     0.79179,\n",
              "           0.79279,     0.79379,     0.79479,      0.7958,      0.7968,      0.7978,      0.7988,      0.7998,      0.8008,      0.8018,      0.8028,      0.8038,      0.8048,     0.80581,     0.80681,     0.80781,     0.80881,     0.80981,     0.81081,     0.81181,     0.81281,     0.81381,     0.81481,     0.81582,\n",
              "           0.81682,     0.81782,     0.81882,     0.81982,     0.82082,     0.82182,     0.82282,     0.82382,     0.82482,     0.82583,     0.82683,     0.82783,     0.82883,     0.82983,     0.83083,     0.83183,     0.83283,     0.83383,     0.83483,     0.83584,     0.83684,     0.83784,     0.83884,     0.83984,\n",
              "           0.84084,     0.84184,     0.84284,     0.84384,     0.84484,     0.84585,     0.84685,     0.84785,     0.84885,     0.84985,     0.85085,     0.85185,     0.85285,     0.85385,     0.85485,     0.85586,     0.85686,     0.85786,     0.85886,     0.85986,     0.86086,     0.86186,     0.86286,     0.86386,\n",
              "           0.86486,     0.86587,     0.86687,     0.86787,     0.86887,     0.86987,     0.87087,     0.87187,     0.87287,     0.87387,     0.87487,     0.87588,     0.87688,     0.87788,     0.87888,     0.87988,     0.88088,     0.88188,     0.88288,     0.88388,     0.88488,     0.88589,     0.88689,     0.88789,\n",
              "           0.88889,     0.88989,     0.89089,     0.89189,     0.89289,     0.89389,     0.89489,      0.8959,      0.8969,      0.8979,      0.8989,      0.8999,      0.9009,      0.9019,      0.9029,      0.9039,      0.9049,     0.90591,     0.90691,     0.90791,     0.90891,     0.90991,     0.91091,     0.91191,\n",
              "           0.91291,     0.91391,     0.91491,     0.91592,     0.91692,     0.91792,     0.91892,     0.91992,     0.92092,     0.92192,     0.92292,     0.92392,     0.92492,     0.92593,     0.92693,     0.92793,     0.92893,     0.92993,     0.93093,     0.93193,     0.93293,     0.93393,     0.93493,     0.93594,\n",
              "           0.93694,     0.93794,     0.93894,     0.93994,     0.94094,     0.94194,     0.94294,     0.94394,     0.94494,     0.94595,     0.94695,     0.94795,     0.94895,     0.94995,     0.95095,     0.95195,     0.95295,     0.95395,     0.95495,     0.95596,     0.95696,     0.95796,     0.95896,     0.95996,\n",
              "           0.96096,     0.96196,     0.96296,     0.96396,     0.96496,     0.96597,     0.96697,     0.96797,     0.96897,     0.96997,     0.97097,     0.97197,     0.97297,     0.97397,     0.97497,     0.97598,     0.97698,     0.97798,     0.97898,     0.97998,     0.98098,     0.98198,     0.98298,     0.98398,\n",
              "           0.98498,     0.98599,     0.98699,     0.98799,     0.98899,     0.98999,     0.99099,     0.99199,     0.99299,     0.99399,     0.99499,       0.996,       0.997,       0.998,       0.999,           1]), array([[    0.16912,     0.16912,     0.16912, ...,           1,           1,           1],\n",
              "       [    0.48061,     0.48061,     0.48061, ...,           1,           1,           1],\n",
              "       [     0.0883,      0.0883,      0.0883, ...,           1,           1,           1],\n",
              "       [   0.078431,    0.078431,    0.078431, ...,           1,           1,           1],\n",
              "       [    0.50481,     0.50481,     0.50481, ...,           1,           1,           1],\n",
              "       [     0.1273,      0.1273,      0.1273, ...,           1,           1,           1]]), 'Confidence', 'Precision'], [array([          0,    0.001001,    0.002002,    0.003003,    0.004004,    0.005005,    0.006006,    0.007007,    0.008008,    0.009009,     0.01001,    0.011011,    0.012012,    0.013013,    0.014014,    0.015015,    0.016016,    0.017017,    0.018018,    0.019019,     0.02002,    0.021021,    0.022022,    0.023023,\n",
              "          0.024024,    0.025025,    0.026026,    0.027027,    0.028028,    0.029029,     0.03003,    0.031031,    0.032032,    0.033033,    0.034034,    0.035035,    0.036036,    0.037037,    0.038038,    0.039039,     0.04004,    0.041041,    0.042042,    0.043043,    0.044044,    0.045045,    0.046046,    0.047047,\n",
              "          0.048048,    0.049049,     0.05005,    0.051051,    0.052052,    0.053053,    0.054054,    0.055055,    0.056056,    0.057057,    0.058058,    0.059059,     0.06006,    0.061061,    0.062062,    0.063063,    0.064064,    0.065065,    0.066066,    0.067067,    0.068068,    0.069069,     0.07007,    0.071071,\n",
              "          0.072072,    0.073073,    0.074074,    0.075075,    0.076076,    0.077077,    0.078078,    0.079079,     0.08008,    0.081081,    0.082082,    0.083083,    0.084084,    0.085085,    0.086086,    0.087087,    0.088088,    0.089089,     0.09009,    0.091091,    0.092092,    0.093093,    0.094094,    0.095095,\n",
              "          0.096096,    0.097097,    0.098098,    0.099099,      0.1001,      0.1011,      0.1021,      0.1031,      0.1041,     0.10511,     0.10611,     0.10711,     0.10811,     0.10911,     0.11011,     0.11111,     0.11211,     0.11311,     0.11411,     0.11512,     0.11612,     0.11712,     0.11812,     0.11912,\n",
              "           0.12012,     0.12112,     0.12212,     0.12312,     0.12412,     0.12513,     0.12613,     0.12713,     0.12813,     0.12913,     0.13013,     0.13113,     0.13213,     0.13313,     0.13413,     0.13514,     0.13614,     0.13714,     0.13814,     0.13914,     0.14014,     0.14114,     0.14214,     0.14314,\n",
              "           0.14414,     0.14515,     0.14615,     0.14715,     0.14815,     0.14915,     0.15015,     0.15115,     0.15215,     0.15315,     0.15415,     0.15516,     0.15616,     0.15716,     0.15816,     0.15916,     0.16016,     0.16116,     0.16216,     0.16316,     0.16416,     0.16517,     0.16617,     0.16717,\n",
              "           0.16817,     0.16917,     0.17017,     0.17117,     0.17217,     0.17317,     0.17417,     0.17518,     0.17618,     0.17718,     0.17818,     0.17918,     0.18018,     0.18118,     0.18218,     0.18318,     0.18418,     0.18519,     0.18619,     0.18719,     0.18819,     0.18919,     0.19019,     0.19119,\n",
              "           0.19219,     0.19319,     0.19419,      0.1952,      0.1962,      0.1972,      0.1982,      0.1992,      0.2002,      0.2012,      0.2022,      0.2032,      0.2042,     0.20521,     0.20621,     0.20721,     0.20821,     0.20921,     0.21021,     0.21121,     0.21221,     0.21321,     0.21421,     0.21522,\n",
              "           0.21622,     0.21722,     0.21822,     0.21922,     0.22022,     0.22122,     0.22222,     0.22322,     0.22422,     0.22523,     0.22623,     0.22723,     0.22823,     0.22923,     0.23023,     0.23123,     0.23223,     0.23323,     0.23423,     0.23524,     0.23624,     0.23724,     0.23824,     0.23924,\n",
              "           0.24024,     0.24124,     0.24224,     0.24324,     0.24424,     0.24525,     0.24625,     0.24725,     0.24825,     0.24925,     0.25025,     0.25125,     0.25225,     0.25325,     0.25425,     0.25526,     0.25626,     0.25726,     0.25826,     0.25926,     0.26026,     0.26126,     0.26226,     0.26326,\n",
              "           0.26426,     0.26527,     0.26627,     0.26727,     0.26827,     0.26927,     0.27027,     0.27127,     0.27227,     0.27327,     0.27427,     0.27528,     0.27628,     0.27728,     0.27828,     0.27928,     0.28028,     0.28128,     0.28228,     0.28328,     0.28428,     0.28529,     0.28629,     0.28729,\n",
              "           0.28829,     0.28929,     0.29029,     0.29129,     0.29229,     0.29329,     0.29429,      0.2953,      0.2963,      0.2973,      0.2983,      0.2993,      0.3003,      0.3013,      0.3023,      0.3033,      0.3043,     0.30531,     0.30631,     0.30731,     0.30831,     0.30931,     0.31031,     0.31131,\n",
              "           0.31231,     0.31331,     0.31431,     0.31532,     0.31632,     0.31732,     0.31832,     0.31932,     0.32032,     0.32132,     0.32232,     0.32332,     0.32432,     0.32533,     0.32633,     0.32733,     0.32833,     0.32933,     0.33033,     0.33133,     0.33233,     0.33333,     0.33433,     0.33534,\n",
              "           0.33634,     0.33734,     0.33834,     0.33934,     0.34034,     0.34134,     0.34234,     0.34334,     0.34434,     0.34535,     0.34635,     0.34735,     0.34835,     0.34935,     0.35035,     0.35135,     0.35235,     0.35335,     0.35435,     0.35536,     0.35636,     0.35736,     0.35836,     0.35936,\n",
              "           0.36036,     0.36136,     0.36236,     0.36336,     0.36436,     0.36537,     0.36637,     0.36737,     0.36837,     0.36937,     0.37037,     0.37137,     0.37237,     0.37337,     0.37437,     0.37538,     0.37638,     0.37738,     0.37838,     0.37938,     0.38038,     0.38138,     0.38238,     0.38338,\n",
              "           0.38438,     0.38539,     0.38639,     0.38739,     0.38839,     0.38939,     0.39039,     0.39139,     0.39239,     0.39339,     0.39439,      0.3954,      0.3964,      0.3974,      0.3984,      0.3994,      0.4004,      0.4014,      0.4024,      0.4034,      0.4044,     0.40541,     0.40641,     0.40741,\n",
              "           0.40841,     0.40941,     0.41041,     0.41141,     0.41241,     0.41341,     0.41441,     0.41542,     0.41642,     0.41742,     0.41842,     0.41942,     0.42042,     0.42142,     0.42242,     0.42342,     0.42442,     0.42543,     0.42643,     0.42743,     0.42843,     0.42943,     0.43043,     0.43143,\n",
              "           0.43243,     0.43343,     0.43443,     0.43544,     0.43644,     0.43744,     0.43844,     0.43944,     0.44044,     0.44144,     0.44244,     0.44344,     0.44444,     0.44545,     0.44645,     0.44745,     0.44845,     0.44945,     0.45045,     0.45145,     0.45245,     0.45345,     0.45445,     0.45546,\n",
              "           0.45646,     0.45746,     0.45846,     0.45946,     0.46046,     0.46146,     0.46246,     0.46346,     0.46446,     0.46547,     0.46647,     0.46747,     0.46847,     0.46947,     0.47047,     0.47147,     0.47247,     0.47347,     0.47447,     0.47548,     0.47648,     0.47748,     0.47848,     0.47948,\n",
              "           0.48048,     0.48148,     0.48248,     0.48348,     0.48448,     0.48549,     0.48649,     0.48749,     0.48849,     0.48949,     0.49049,     0.49149,     0.49249,     0.49349,     0.49449,      0.4955,      0.4965,      0.4975,      0.4985,      0.4995,      0.5005,      0.5015,      0.5025,      0.5035,\n",
              "            0.5045,     0.50551,     0.50651,     0.50751,     0.50851,     0.50951,     0.51051,     0.51151,     0.51251,     0.51351,     0.51451,     0.51552,     0.51652,     0.51752,     0.51852,     0.51952,     0.52052,     0.52152,     0.52252,     0.52352,     0.52452,     0.52553,     0.52653,     0.52753,\n",
              "           0.52853,     0.52953,     0.53053,     0.53153,     0.53253,     0.53353,     0.53453,     0.53554,     0.53654,     0.53754,     0.53854,     0.53954,     0.54054,     0.54154,     0.54254,     0.54354,     0.54454,     0.54555,     0.54655,     0.54755,     0.54855,     0.54955,     0.55055,     0.55155,\n",
              "           0.55255,     0.55355,     0.55455,     0.55556,     0.55656,     0.55756,     0.55856,     0.55956,     0.56056,     0.56156,     0.56256,     0.56356,     0.56456,     0.56557,     0.56657,     0.56757,     0.56857,     0.56957,     0.57057,     0.57157,     0.57257,     0.57357,     0.57457,     0.57558,\n",
              "           0.57658,     0.57758,     0.57858,     0.57958,     0.58058,     0.58158,     0.58258,     0.58358,     0.58458,     0.58559,     0.58659,     0.58759,     0.58859,     0.58959,     0.59059,     0.59159,     0.59259,     0.59359,     0.59459,      0.5956,      0.5966,      0.5976,      0.5986,      0.5996,\n",
              "            0.6006,      0.6016,      0.6026,      0.6036,      0.6046,     0.60561,     0.60661,     0.60761,     0.60861,     0.60961,     0.61061,     0.61161,     0.61261,     0.61361,     0.61461,     0.61562,     0.61662,     0.61762,     0.61862,     0.61962,     0.62062,     0.62162,     0.62262,     0.62362,\n",
              "           0.62462,     0.62563,     0.62663,     0.62763,     0.62863,     0.62963,     0.63063,     0.63163,     0.63263,     0.63363,     0.63463,     0.63564,     0.63664,     0.63764,     0.63864,     0.63964,     0.64064,     0.64164,     0.64264,     0.64364,     0.64464,     0.64565,     0.64665,     0.64765,\n",
              "           0.64865,     0.64965,     0.65065,     0.65165,     0.65265,     0.65365,     0.65465,     0.65566,     0.65666,     0.65766,     0.65866,     0.65966,     0.66066,     0.66166,     0.66266,     0.66366,     0.66466,     0.66567,     0.66667,     0.66767,     0.66867,     0.66967,     0.67067,     0.67167,\n",
              "           0.67267,     0.67367,     0.67467,     0.67568,     0.67668,     0.67768,     0.67868,     0.67968,     0.68068,     0.68168,     0.68268,     0.68368,     0.68468,     0.68569,     0.68669,     0.68769,     0.68869,     0.68969,     0.69069,     0.69169,     0.69269,     0.69369,     0.69469,      0.6957,\n",
              "            0.6967,      0.6977,      0.6987,      0.6997,      0.7007,      0.7017,      0.7027,      0.7037,      0.7047,     0.70571,     0.70671,     0.70771,     0.70871,     0.70971,     0.71071,     0.71171,     0.71271,     0.71371,     0.71471,     0.71572,     0.71672,     0.71772,     0.71872,     0.71972,\n",
              "           0.72072,     0.72172,     0.72272,     0.72372,     0.72472,     0.72573,     0.72673,     0.72773,     0.72873,     0.72973,     0.73073,     0.73173,     0.73273,     0.73373,     0.73473,     0.73574,     0.73674,     0.73774,     0.73874,     0.73974,     0.74074,     0.74174,     0.74274,     0.74374,\n",
              "           0.74474,     0.74575,     0.74675,     0.74775,     0.74875,     0.74975,     0.75075,     0.75175,     0.75275,     0.75375,     0.75475,     0.75576,     0.75676,     0.75776,     0.75876,     0.75976,     0.76076,     0.76176,     0.76276,     0.76376,     0.76476,     0.76577,     0.76677,     0.76777,\n",
              "           0.76877,     0.76977,     0.77077,     0.77177,     0.77277,     0.77377,     0.77477,     0.77578,     0.77678,     0.77778,     0.77878,     0.77978,     0.78078,     0.78178,     0.78278,     0.78378,     0.78478,     0.78579,     0.78679,     0.78779,     0.78879,     0.78979,     0.79079,     0.79179,\n",
              "           0.79279,     0.79379,     0.79479,      0.7958,      0.7968,      0.7978,      0.7988,      0.7998,      0.8008,      0.8018,      0.8028,      0.8038,      0.8048,     0.80581,     0.80681,     0.80781,     0.80881,     0.80981,     0.81081,     0.81181,     0.81281,     0.81381,     0.81481,     0.81582,\n",
              "           0.81682,     0.81782,     0.81882,     0.81982,     0.82082,     0.82182,     0.82282,     0.82382,     0.82482,     0.82583,     0.82683,     0.82783,     0.82883,     0.82983,     0.83083,     0.83183,     0.83283,     0.83383,     0.83483,     0.83584,     0.83684,     0.83784,     0.83884,     0.83984,\n",
              "           0.84084,     0.84184,     0.84284,     0.84384,     0.84484,     0.84585,     0.84685,     0.84785,     0.84885,     0.84985,     0.85085,     0.85185,     0.85285,     0.85385,     0.85485,     0.85586,     0.85686,     0.85786,     0.85886,     0.85986,     0.86086,     0.86186,     0.86286,     0.86386,\n",
              "           0.86486,     0.86587,     0.86687,     0.86787,     0.86887,     0.86987,     0.87087,     0.87187,     0.87287,     0.87387,     0.87487,     0.87588,     0.87688,     0.87788,     0.87888,     0.87988,     0.88088,     0.88188,     0.88288,     0.88388,     0.88488,     0.88589,     0.88689,     0.88789,\n",
              "           0.88889,     0.88989,     0.89089,     0.89189,     0.89289,     0.89389,     0.89489,      0.8959,      0.8969,      0.8979,      0.8989,      0.8999,      0.9009,      0.9019,      0.9029,      0.9039,      0.9049,     0.90591,     0.90691,     0.90791,     0.90891,     0.90991,     0.91091,     0.91191,\n",
              "           0.91291,     0.91391,     0.91491,     0.91592,     0.91692,     0.91792,     0.91892,     0.91992,     0.92092,     0.92192,     0.92292,     0.92392,     0.92492,     0.92593,     0.92693,     0.92793,     0.92893,     0.92993,     0.93093,     0.93193,     0.93293,     0.93393,     0.93493,     0.93594,\n",
              "           0.93694,     0.93794,     0.93894,     0.93994,     0.94094,     0.94194,     0.94294,     0.94394,     0.94494,     0.94595,     0.94695,     0.94795,     0.94895,     0.94995,     0.95095,     0.95195,     0.95295,     0.95395,     0.95495,     0.95596,     0.95696,     0.95796,     0.95896,     0.95996,\n",
              "           0.96096,     0.96196,     0.96296,     0.96396,     0.96496,     0.96597,     0.96697,     0.96797,     0.96897,     0.96997,     0.97097,     0.97197,     0.97297,     0.97397,     0.97497,     0.97598,     0.97698,     0.97798,     0.97898,     0.97998,     0.98098,     0.98198,     0.98298,     0.98398,\n",
              "           0.98498,     0.98599,     0.98699,     0.98799,     0.98899,     0.98999,     0.99099,     0.99199,     0.99299,     0.99399,     0.99499,       0.996,       0.997,       0.998,       0.999,           1]), array([[    0.89844,     0.89844,     0.89844, ...,           0,           0,           0],\n",
              "       [    0.88193,     0.88193,     0.88193, ...,           0,           0,           0],\n",
              "       [    0.13093,     0.13093,     0.13093, ...,           0,           0,           0],\n",
              "       [    0.22857,     0.22857,     0.22857, ...,           0,           0,           0],\n",
              "       [    0.96509,     0.96509,     0.96509, ...,           0,           0,           0],\n",
              "       [     0.8631,      0.8631,      0.8631, ...,           0,           0,           0]]), 'Confidence', 'Recall']]\n",
              "fitness: np.float64(0.5098647650979877)\n",
              "keys: ['metrics/precision(B)', 'metrics/recall(B)', 'metrics/mAP50(B)', 'metrics/mAP50-95(B)']\n",
              "maps: array([     0.7148,     0.76455,    0.055561,    0.069135,     0.84768,     0.54525])\n",
              "names: {0: 'bus', 1: 'car', 2: 'person', 3: 'traffic light', 4: 'tree', 5: 'truck'}\n",
              "nt_per_class: array([ 128, 5480, 1222,   35, 3208,  504])\n",
              "nt_per_image: array([56, 74, 74, 24, 74, 74])\n",
              "results_dict: {'metrics/precision(B)': np.float64(0.8217180154522862), 'metrics/recall(B)': np.float64(0.553319588470817), 'metrics/mAP50(B)': np.float64(0.6031929562927846), 'metrics/mAP50-95(B)': np.float64(0.4994949660763436), 'fitness': np.float64(0.5098647650979877)}\n",
              "save_dir: PosixPath('runs/detect/val2')\n",
              "speed: {'preprocess': 4.3336086486478225, 'inference': 28.321688135133012, 'loss': 0.0563549459469426, 'postprocess': 13.537637297298028}\n",
              "stats: {'tp': [], 'conf': [], 'pred_cls': [], 'target_cls': [], 'target_img': []}\n",
              "task: 'detect'"
            ]
          },
          "metadata": {},
          "execution_count": 6
        }
      ]
    },
    {
      "cell_type": "code",
      "source": [
        "#predicting the objects using the model and save the results\n",
        "model=YOLO('/content/runs/detect/train/weights/best.pt')\n",
        "model.predict('/content/drive/MyDrive/YOLO_Datasets/Drone-Object-Detection-2/test/images',save=True)"
      ],
      "metadata": {
        "colab": {
          "base_uri": "https://localhost:8080/"
        },
        "id": "BzDEcxYUTUjw",
        "outputId": "6af8608f-ba0d-42e5-feec-be7c5f8e9d5c"
      },
      "execution_count": 3,
      "outputs": [
        {
          "output_type": "stream",
          "name": "stdout",
          "text": [
            "\n",
            "image 1/74 /content/drive/MyDrive/YOLO_Datasets/Drone-Object-Detection-2/test/images/0000012_jpg.rf.0d48976c4f3f2b398e708d1c5b50c20f.jpg: 640x640 2 buss, 69 cars, 4 persons, 48 trees, 9 trucks, 32.9ms\n",
            "image 2/74 /content/drive/MyDrive/YOLO_Datasets/Drone-Object-Detection-2/test/images/0000018_jpg.rf.c427f521a39f024c9a05ef07fa5f0d87.jpg: 640x640 2 buss, 68 cars, 3 persons, 47 trees, 9 trucks, 46.7ms\n",
            "image 3/74 /content/drive/MyDrive/YOLO_Datasets/Drone-Object-Detection-2/test/images/0000019_jpg.rf.3aa035b59bc09ad95e82a522843f048e.jpg: 640x640 2 buss, 69 cars, 4 persons, 49 trees, 10 trucks, 33.0ms\n",
            "image 4/74 /content/drive/MyDrive/YOLO_Datasets/Drone-Object-Detection-2/test/images/0000027_jpg.rf.e112b0cb8b741d352c03242d4532bc06.jpg: 640x640 3 buss, 66 cars, 3 persons, 49 trees, 10 trucks, 32.9ms\n",
            "image 5/74 /content/drive/MyDrive/YOLO_Datasets/Drone-Object-Detection-2/test/images/0000036_jpg.rf.4d60893ceedbe6838faa7ce45ab90ec6.jpg: 640x640 4 buss, 67 cars, 3 persons, 49 trees, 9 trucks, 32.9ms\n",
            "image 6/74 /content/drive/MyDrive/YOLO_Datasets/Drone-Object-Detection-2/test/images/0000041_jpg.rf.bde3bdeaa2f67d047a13d1ac69514abf.jpg: 640x640 4 buss, 68 cars, 3 persons, 50 trees, 10 trucks, 33.6ms\n",
            "image 7/74 /content/drive/MyDrive/YOLO_Datasets/Drone-Object-Detection-2/test/images/0000042_jpg.rf.8708c51db0decd791bbe79673db1458c.jpg: 640x640 4 buss, 65 cars, 3 persons, 50 trees, 10 trucks, 32.9ms\n",
            "image 8/74 /content/drive/MyDrive/YOLO_Datasets/Drone-Object-Detection-2/test/images/0000044_jpg.rf.30e061391c0f290ed17e5537f81a3cc6.jpg: 640x640 4 buss, 69 cars, 3 persons, 49 trees, 11 trucks, 32.9ms\n",
            "image 9/74 /content/drive/MyDrive/YOLO_Datasets/Drone-Object-Detection-2/test/images/0000045_jpg.rf.15560fe74ab03c7e2b663b520ad068de.jpg: 640x640 3 buss, 70 cars, 2 persons, 51 trees, 10 trucks, 33.0ms\n",
            "image 10/74 /content/drive/MyDrive/YOLO_Datasets/Drone-Object-Detection-2/test/images/0000047_jpg.rf.109ecc4efa077dad04505b75b3edb6e0.jpg: 640x640 4 buss, 70 cars, 2 persons, 52 trees, 10 trucks, 32.9ms\n",
            "image 11/74 /content/drive/MyDrive/YOLO_Datasets/Drone-Object-Detection-2/test/images/0000050_jpg.rf.d0ae64d7815277765dadad2fafa3322a.jpg: 640x640 3 buss, 69 cars, 3 persons, 50 trees, 10 trucks, 32.9ms\n",
            "image 12/74 /content/drive/MyDrive/YOLO_Datasets/Drone-Object-Detection-2/test/images/0000053_jpg.rf.416bd18d0941726a784122952761cf20.jpg: 640x640 3 buss, 69 cars, 3 persons, 50 trees, 10 trucks, 32.9ms\n",
            "image 13/74 /content/drive/MyDrive/YOLO_Datasets/Drone-Object-Detection-2/test/images/0000054_jpg.rf.dc295a4d1e8eced14e936f1f091d6c55.jpg: 640x640 3 buss, 73 cars, 2 persons, 51 trees, 10 trucks, 32.9ms\n",
            "image 14/74 /content/drive/MyDrive/YOLO_Datasets/Drone-Object-Detection-2/test/images/0000058_jpg.rf.b0991729618c471ecf32a1e5b613479b.jpg: 640x640 3 buss, 67 cars, 2 persons, 50 trees, 10 trucks, 32.9ms\n",
            "image 15/74 /content/drive/MyDrive/YOLO_Datasets/Drone-Object-Detection-2/test/images/0000059_jpg.rf.5cf6c8430b27a63834a7c127b8a76acf.jpg: 640x640 3 buss, 72 cars, 2 persons, 49 trees, 10 trucks, 32.9ms\n",
            "image 16/74 /content/drive/MyDrive/YOLO_Datasets/Drone-Object-Detection-2/test/images/0000072_jpg.rf.12c5b6828d2e8729690a7b42b4aab504.jpg: 640x640 3 buss, 66 cars, 2 persons, 49 trees, 10 trucks, 33.0ms\n",
            "image 17/74 /content/drive/MyDrive/YOLO_Datasets/Drone-Object-Detection-2/test/images/0000073_jpg.rf.036b7e78f97437f44d6fa1f33496e9b4.jpg: 640x640 3 buss, 66 cars, 2 persons, 49 trees, 10 trucks, 32.9ms\n",
            "image 18/74 /content/drive/MyDrive/YOLO_Datasets/Drone-Object-Detection-2/test/images/0000078_jpg.rf.58be3f0959c9dcad6b2366e6a5a50fa0.jpg: 640x640 3 buss, 67 cars, 2 persons, 48 trees, 10 trucks, 32.9ms\n",
            "image 19/74 /content/drive/MyDrive/YOLO_Datasets/Drone-Object-Detection-2/test/images/0000085_jpg.rf.b5a78c4113d45ae5b49e354a268ea79d.jpg: 640x640 2 buss, 69 cars, 2 persons, 49 trees, 10 trucks, 32.9ms\n",
            "image 20/74 /content/drive/MyDrive/YOLO_Datasets/Drone-Object-Detection-2/test/images/0000087_jpg.rf.75cd85cc93bf4f206a5be1059475fc0c.jpg: 640x640 2 buss, 69 cars, 2 persons, 49 trees, 9 trucks, 32.9ms\n",
            "image 21/74 /content/drive/MyDrive/YOLO_Datasets/Drone-Object-Detection-2/test/images/0000088_jpg.rf.d5eede1e05fd8d6fc01b7273b85b59e7.jpg: 640x640 2 buss, 66 cars, 3 persons, 48 trees, 9 trucks, 32.9ms\n",
            "image 22/74 /content/drive/MyDrive/YOLO_Datasets/Drone-Object-Detection-2/test/images/0000091_jpg.rf.c3e3ef0c38b3c782b24fae268f7ff282.jpg: 640x640 2 buss, 69 cars, 3 persons, 47 trees, 8 trucks, 33.0ms\n",
            "image 23/74 /content/drive/MyDrive/YOLO_Datasets/Drone-Object-Detection-2/test/images/0000106_jpg.rf.b36328d6a1524b3ae9a1331a223d822f.jpg: 640x640 2 buss, 70 cars, 3 persons, 49 trees, 9 trucks, 32.9ms\n",
            "image 24/74 /content/drive/MyDrive/YOLO_Datasets/Drone-Object-Detection-2/test/images/0000111_jpg.rf.bbda04d507fa460bd52fbba06f990339.jpg: 640x640 2 buss, 74 cars, 3 persons, 50 trees, 9 trucks, 32.9ms\n",
            "image 25/74 /content/drive/MyDrive/YOLO_Datasets/Drone-Object-Detection-2/test/images/0000112_jpg.rf.51fd740be839e6c6b65542115be8fe98.jpg: 640x640 2 buss, 74 cars, 3 persons, 49 trees, 9 trucks, 32.9ms\n",
            "image 26/74 /content/drive/MyDrive/YOLO_Datasets/Drone-Object-Detection-2/test/images/0000117_jpg.rf.d89976bd0c0ce8a8ad29f240ed563313.jpg: 640x640 2 buss, 73 cars, 3 persons, 50 trees, 10 trucks, 32.9ms\n",
            "image 27/74 /content/drive/MyDrive/YOLO_Datasets/Drone-Object-Detection-2/test/images/0000118_jpg.rf.feba2628cf48fe236e0d9d021a61a104.jpg: 640x640 2 buss, 75 cars, 3 persons, 49 trees, 8 trucks, 32.9ms\n",
            "image 28/74 /content/drive/MyDrive/YOLO_Datasets/Drone-Object-Detection-2/test/images/0000122_jpg.rf.f74a60a34bd5555fa21b6afe7585681b.jpg: 640x640 2 buss, 76 cars, 3 persons, 49 trees, 9 trucks, 32.9ms\n",
            "image 29/74 /content/drive/MyDrive/YOLO_Datasets/Drone-Object-Detection-2/test/images/0000130_jpg.rf.05721e3a1a6b78a07a7af14efeac9e74.jpg: 640x640 3 buss, 75 cars, 3 persons, 52 trees, 10 trucks, 32.9ms\n",
            "image 30/74 /content/drive/MyDrive/YOLO_Datasets/Drone-Object-Detection-2/test/images/0000135_jpg.rf.7d7868f6f097391b069334ac3cf130d5.jpg: 640x640 3 buss, 78 cars, 3 persons, 50 trees, 10 trucks, 32.9ms\n",
            "image 31/74 /content/drive/MyDrive/YOLO_Datasets/Drone-Object-Detection-2/test/images/0000136_jpg.rf.bc43548a2d18e256a62bbc1ab71ae622.jpg: 640x640 3 buss, 78 cars, 3 persons, 52 trees, 9 trucks, 32.9ms\n",
            "image 32/74 /content/drive/MyDrive/YOLO_Datasets/Drone-Object-Detection-2/test/images/0000138_jpg.rf.7e4ff3495fe422a7509a406f97f1f04b.jpg: 640x640 3 buss, 75 cars, 3 persons, 52 trees, 8 trucks, 32.9ms\n",
            "image 33/74 /content/drive/MyDrive/YOLO_Datasets/Drone-Object-Detection-2/test/images/0000142_jpg.rf.93467af57edb95ca38f01c915ea2013b.jpg: 640x640 3 buss, 78 cars, 3 persons, 52 trees, 10 trucks, 32.9ms\n",
            "image 34/74 /content/drive/MyDrive/YOLO_Datasets/Drone-Object-Detection-2/test/images/0000147_jpg.rf.db6fa8f3c89ef511c24a52cacc73a172.jpg: 640x640 2 buss, 79 cars, 3 persons, 51 trees, 8 trucks, 32.9ms\n",
            "image 35/74 /content/drive/MyDrive/YOLO_Datasets/Drone-Object-Detection-2/test/images/0000151_jpg.rf.212aaba40cb0db53b5d5caf1b7ae22d7.jpg: 640x640 3 buss, 77 cars, 3 persons, 50 trees, 7 trucks, 32.9ms\n",
            "image 36/74 /content/drive/MyDrive/YOLO_Datasets/Drone-Object-Detection-2/test/images/0000153_jpg.rf.c916a22b659006ca05b3cec663e50859.jpg: 640x640 3 buss, 77 cars, 4 persons, 51 trees, 7 trucks, 32.9ms\n",
            "image 37/74 /content/drive/MyDrive/YOLO_Datasets/Drone-Object-Detection-2/test/images/0000157_jpg.rf.4b482ff0fb8fd61faf88cb37fa688d64.jpg: 640x640 3 buss, 75 cars, 3 persons, 51 trees, 7 trucks, 33.0ms\n",
            "image 38/74 /content/drive/MyDrive/YOLO_Datasets/Drone-Object-Detection-2/test/images/0000160_jpg.rf.32ee0d592653b4c6a5b1f1ddbb689a58.jpg: 640x640 3 buss, 76 cars, 3 persons, 50 trees, 7 trucks, 32.9ms\n",
            "image 39/74 /content/drive/MyDrive/YOLO_Datasets/Drone-Object-Detection-2/test/images/0000169_jpg.rf.e0a06b5ba420fdb22b48b6566b8177d9.jpg: 640x640 3 buss, 81 cars, 3 persons, 50 trees, 7 trucks, 32.9ms\n",
            "image 40/74 /content/drive/MyDrive/YOLO_Datasets/Drone-Object-Detection-2/test/images/0000182_jpg.rf.ed863c015e405c5822712d19ed7024e3.jpg: 640x640 3 buss, 78 cars, 3 persons, 49 trees, 8 trucks, 32.9ms\n",
            "image 41/74 /content/drive/MyDrive/YOLO_Datasets/Drone-Object-Detection-2/test/images/0000210_jpg.rf.6acdb0ab8486101b7aaa076f08ff78e1.jpg: 640x640 3 buss, 76 cars, 3 persons, 50 trees, 7 trucks, 32.9ms\n",
            "image 42/74 /content/drive/MyDrive/YOLO_Datasets/Drone-Object-Detection-2/test/images/0000216_jpg.rf.5f73ea44c445c75fe2196d06e803afa5.jpg: 640x640 3 buss, 78 cars, 3 persons, 51 trees, 10 trucks, 33.0ms\n",
            "image 43/74 /content/drive/MyDrive/YOLO_Datasets/Drone-Object-Detection-2/test/images/0000220_jpg.rf.7f17bfc8e7e9aba0fa0a6da8022b612d.jpg: 640x640 2 buss, 74 cars, 3 persons, 49 trees, 9 trucks, 32.9ms\n",
            "image 44/74 /content/drive/MyDrive/YOLO_Datasets/Drone-Object-Detection-2/test/images/0000224_jpg.rf.fdf2a39eb7cc0d34258e96a5042531eb.jpg: 640x640 2 buss, 73 cars, 3 persons, 48 trees, 9 trucks, 32.9ms\n",
            "image 45/74 /content/drive/MyDrive/YOLO_Datasets/Drone-Object-Detection-2/test/images/0000233_jpg.rf.9bc12ece415b5d450325b95853247712.jpg: 640x640 2 buss, 74 cars, 3 persons, 51 trees, 10 trucks, 33.0ms\n",
            "image 46/74 /content/drive/MyDrive/YOLO_Datasets/Drone-Object-Detection-2/test/images/0000238_jpg.rf.7d07a4bd24603561ab0d79b55c4bc1ea.jpg: 640x640 2 buss, 71 cars, 3 persons, 52 trees, 10 trucks, 32.9ms\n",
            "image 47/74 /content/drive/MyDrive/YOLO_Datasets/Drone-Object-Detection-2/test/images/0000246_jpg.rf.ecc114313376074c3126a63e7d7cc2cc.jpg: 640x640 1 bus, 79 cars, 3 persons, 48 trees, 10 trucks, 37.1ms\n",
            "image 48/74 /content/drive/MyDrive/YOLO_Datasets/Drone-Object-Detection-2/test/images/0000256_jpg.rf.5e09703dc23f207bb83ff14b73f6e5fc.jpg: 640x640 2 buss, 72 cars, 3 persons, 48 trees, 8 trucks, 32.9ms\n",
            "image 49/74 /content/drive/MyDrive/YOLO_Datasets/Drone-Object-Detection-2/test/images/0000257_jpg.rf.3b68a828e7d3c44cceacb87ec222115d.jpg: 640x640 2 buss, 72 cars, 3 persons, 48 trees, 9 trucks, 32.9ms\n",
            "image 50/74 /content/drive/MyDrive/YOLO_Datasets/Drone-Object-Detection-2/test/images/0000258_jpg.rf.2b6b8810329dd61dad892af98cefb810.jpg: 640x640 2 buss, 74 cars, 3 persons, 48 trees, 8 trucks, 34.6ms\n",
            "image 51/74 /content/drive/MyDrive/YOLO_Datasets/Drone-Object-Detection-2/test/images/0000260_jpg.rf.3f818bc84622d75661fb38c2fcae26c3.jpg: 640x640 2 buss, 71 cars, 3 persons, 48 trees, 8 trucks, 32.9ms\n",
            "image 52/74 /content/drive/MyDrive/YOLO_Datasets/Drone-Object-Detection-2/test/images/0000261_jpg.rf.99da704df8f93756ed13a0e5fc9820cc.jpg: 640x640 2 buss, 72 cars, 3 persons, 48 trees, 8 trucks, 33.0ms\n",
            "image 53/74 /content/drive/MyDrive/YOLO_Datasets/Drone-Object-Detection-2/test/images/0000273_jpg.rf.1fb29e1e2b4aa0c7555e47df564d1320.jpg: 640x640 1 bus, 72 cars, 3 persons, 47 trees, 8 trucks, 32.9ms\n",
            "image 54/74 /content/drive/MyDrive/YOLO_Datasets/Drone-Object-Detection-2/test/images/0000276_jpg.rf.0211cb784bdb20edc5f2c8687d7dcca0.jpg: 640x640 1 bus, 73 cars, 3 persons, 48 trees, 9 trucks, 32.9ms\n",
            "image 55/74 /content/drive/MyDrive/YOLO_Datasets/Drone-Object-Detection-2/test/images/0000280_jpg.rf.844a76794ed9ba52f11dad6b68fe693f.jpg: 640x640 70 cars, 4 persons, 47 trees, 8 trucks, 32.9ms\n",
            "image 56/74 /content/drive/MyDrive/YOLO_Datasets/Drone-Object-Detection-2/test/images/0000291_jpg.rf.b0b5dd411e3c539ba616d7dc9e2459da.jpg: 640x640 69 cars, 3 persons, 44 trees, 9 trucks, 32.9ms\n",
            "image 57/74 /content/drive/MyDrive/YOLO_Datasets/Drone-Object-Detection-2/test/images/0000295_jpg.rf.1d9a7d46b1fcc89711208104000b510a.jpg: 640x640 68 cars, 3 persons, 44 trees, 7 trucks, 32.9ms\n",
            "image 58/74 /content/drive/MyDrive/YOLO_Datasets/Drone-Object-Detection-2/test/images/0000300_jpg.rf.3b98c7435ca49d3caec6dcd38869508a.jpg: 640x640 67 cars, 4 persons, 43 trees, 6 trucks, 33.0ms\n",
            "image 59/74 /content/drive/MyDrive/YOLO_Datasets/Drone-Object-Detection-2/test/images/0000303_jpg.rf.a6786ba58122284268c0696e2b3c1cf7.jpg: 640x640 64 cars, 4 persons, 44 trees, 5 trucks, 32.9ms\n",
            "image 60/74 /content/drive/MyDrive/YOLO_Datasets/Drone-Object-Detection-2/test/images/0000305_jpg.rf.a6984011c1f01537169091d4fda0e172.jpg: 640x640 64 cars, 4 persons, 45 trees, 4 trucks, 32.9ms\n",
            "image 61/74 /content/drive/MyDrive/YOLO_Datasets/Drone-Object-Detection-2/test/images/0000306_jpg.rf.b602a553e3e79d33f502fe9cf113b517.jpg: 640x640 63 cars, 3 persons, 44 trees, 4 trucks, 32.9ms\n",
            "image 62/74 /content/drive/MyDrive/YOLO_Datasets/Drone-Object-Detection-2/test/images/0000311_jpg.rf.847af2777260a6232a9dbd35300ad201.jpg: 640x640 64 cars, 2 persons, 45 trees, 4 trucks, 32.9ms\n",
            "image 63/74 /content/drive/MyDrive/YOLO_Datasets/Drone-Object-Detection-2/test/images/0000324_jpg.rf.40279f3b745e587bf4acc98e2708c867.jpg: 640x640 62 cars, 2 persons, 46 trees, 4 trucks, 32.8ms\n",
            "image 64/74 /content/drive/MyDrive/YOLO_Datasets/Drone-Object-Detection-2/test/images/0000329_jpg.rf.bb7d2bfec8d47559dd769ea95fa44fae.jpg: 640x640 65 cars, 3 persons, 46 trees, 3 trucks, 32.9ms\n",
            "image 65/74 /content/drive/MyDrive/YOLO_Datasets/Drone-Object-Detection-2/test/images/0000331_jpg.rf.863f827419582d7596e6c5985c9b81e9.jpg: 640x640 65 cars, 3 persons, 48 trees, 3 trucks, 34.1ms\n",
            "image 66/74 /content/drive/MyDrive/YOLO_Datasets/Drone-Object-Detection-2/test/images/0000333_jpg.rf.fdf97b385a19412d6496582b7208e936.jpg: 640x640 64 cars, 3 persons, 46 trees, 3 trucks, 32.9ms\n",
            "image 67/74 /content/drive/MyDrive/YOLO_Datasets/Drone-Object-Detection-2/test/images/0000334_jpg.rf.0167af1740f341e6903b3dd2fa3a1fd5.jpg: 640x640 62 cars, 1 person, 46 trees, 3 trucks, 32.9ms\n",
            "image 68/74 /content/drive/MyDrive/YOLO_Datasets/Drone-Object-Detection-2/test/images/0000337_jpg.rf.704cbef20758bd1f94e667fad827b153.jpg: 640x640 60 cars, 3 persons, 46 trees, 3 trucks, 32.9ms\n",
            "image 69/74 /content/drive/MyDrive/YOLO_Datasets/Drone-Object-Detection-2/test/images/0000339_jpg.rf.a75c41fd6b82454c79737ac57f1f173b.jpg: 640x640 63 cars, 3 persons, 47 trees, 3 trucks, 32.9ms\n",
            "image 70/74 /content/drive/MyDrive/YOLO_Datasets/Drone-Object-Detection-2/test/images/0000345_jpg.rf.7b4cd5e55888290968ea20b541d4385f.jpg: 640x640 65 cars, 47 trees, 3 trucks, 32.9ms\n",
            "image 71/74 /content/drive/MyDrive/YOLO_Datasets/Drone-Object-Detection-2/test/images/0000364_jpg.rf.de160e3c3b6d61162c5dce911964a539.jpg: 640x640 63 cars, 2 persons, 48 trees, 3 trucks, 32.9ms\n",
            "image 72/74 /content/drive/MyDrive/YOLO_Datasets/Drone-Object-Detection-2/test/images/0000366_jpg.rf.b7e396744e6797a54e5641dc081c9092.jpg: 640x640 65 cars, 2 persons, 48 trees, 3 trucks, 32.9ms\n",
            "image 73/74 /content/drive/MyDrive/YOLO_Datasets/Drone-Object-Detection-2/test/images/0000368_jpg.rf.4de5fdae35612af89d4be00f81bda2ba.jpg: 640x640 66 cars, 2 persons, 46 trees, 3 trucks, 32.9ms\n",
            "image 74/74 /content/drive/MyDrive/YOLO_Datasets/Drone-Object-Detection-2/test/images/0000369_jpg.rf.d5a528a066a75649006fbe7638e61adf.jpg: 640x640 64 cars, 2 persons, 45 trees, 3 trucks, 32.9ms\n",
            "Speed: 2.4ms preprocess, 33.2ms inference, 2.2ms postprocess per image at shape (1, 3, 640, 640)\n",
            "Results saved to \u001b[1mruns/detect/predict\u001b[0m\n"
          ]
        },
        {
          "output_type": "execute_result",
          "data": {
            "text/plain": [
              "[ultralytics.engine.results.Results object with attributes:\n",
              " \n",
              " boxes: ultralytics.engine.results.Boxes object\n",
              " keypoints: None\n",
              " masks: None\n",
              " names: {0: 'bus', 1: 'car', 2: 'person', 3: 'traffic light', 4: 'tree', 5: 'truck'}\n",
              " obb: None\n",
              " orig_img: array([[[ 50,  70,  65],\n",
              "         [ 80,  99,  96],\n",
              "         [106, 124, 123],\n",
              "         ...,\n",
              "         [169, 170, 166],\n",
              "         [183, 184, 180],\n",
              "         [185, 186, 182]],\n",
              " \n",
              "        [[ 62,  82,  77],\n",
              "         [ 88, 107, 104],\n",
              "         [109, 127, 126],\n",
              "         ...,\n",
              "         [173, 174, 170],\n",
              "         [183, 184, 180],\n",
              "         [181, 182, 178]],\n",
              " \n",
              "        [[ 79,  98,  95],\n",
              "         [ 98, 117, 114],\n",
              "         [116, 132, 131],\n",
              "         ...,\n",
              "         [177, 178, 174],\n",
              "         [183, 184, 180],\n",
              "         [177, 178, 174]],\n",
              " \n",
              "        ...,\n",
              " \n",
              "        [[ 15,  51,  34],\n",
              "         [ 21,  58,  42],\n",
              "         [ 17,  56,  41],\n",
              "         ...,\n",
              "         [ 77,  72,  73],\n",
              "         [ 76,  71,  72],\n",
              "         [ 83,  78,  79]],\n",
              " \n",
              "        [[ 14,  51,  35],\n",
              "         [ 23,  60,  44],\n",
              "         [ 18,  57,  42],\n",
              "         ...,\n",
              "         [ 75,  70,  71],\n",
              "         [ 80,  75,  76],\n",
              "         [ 90,  85,  86]],\n",
              " \n",
              "        [[ 12,  49,  33],\n",
              "         [ 21,  60,  44],\n",
              "         [ 17,  55,  43],\n",
              "         ...,\n",
              "         [ 72,  67,  68],\n",
              "         [ 81,  76,  77],\n",
              "         [ 95,  90,  91]]], dtype=uint8)\n",
              " orig_shape: (640, 640)\n",
              " path: '/content/drive/MyDrive/YOLO_Datasets/Drone-Object-Detection-2/test/images/0000012_jpg.rf.0d48976c4f3f2b398e708d1c5b50c20f.jpg'\n",
              " probs: None\n",
              " save_dir: 'runs/detect/predict'\n",
              " speed: {'preprocess': 2.9578339999716263, 'inference': 32.930318999888186, 'postprocess': 2.440756999931182},\n",
              " ultralytics.engine.results.Results object with attributes:\n",
              " \n",
              " boxes: ultralytics.engine.results.Boxes object\n",
              " keypoints: None\n",
              " masks: None\n",
              " names: {0: 'bus', 1: 'car', 2: 'person', 3: 'traffic light', 4: 'tree', 5: 'truck'}\n",
              " obb: None\n",
              " orig_img: array([[[ 61,  75,  81],\n",
              "         [ 84,  98, 104],\n",
              "         [108, 120, 126],\n",
              "         ...,\n",
              "         [170, 171, 167],\n",
              "         [182, 183, 179],\n",
              "         [182, 183, 179]],\n",
              " \n",
              "        [[ 72,  86,  92],\n",
              "         [ 91, 105, 111],\n",
              "         [111, 123, 129],\n",
              "         ...,\n",
              "         [174, 175, 171],\n",
              "         [182, 183, 179],\n",
              "         [178, 179, 175]],\n",
              " \n",
              "        [[ 90, 102, 108],\n",
              "         [103, 115, 121],\n",
              "         [116, 128, 134],\n",
              "         ...,\n",
              "         [178, 179, 175],\n",
              "         [182, 183, 179],\n",
              "         [173, 174, 170]],\n",
              " \n",
              "        ...,\n",
              " \n",
              "        [[ 12,  48,  32],\n",
              "         [ 20,  56,  42],\n",
              "         [ 14,  52,  40],\n",
              "         ...,\n",
              "         [ 75,  73,  73],\n",
              "         [ 81,  79,  79],\n",
              "         [ 91,  89,  89]],\n",
              " \n",
              "        [[ 12,  48,  34],\n",
              "         [ 21,  57,  43],\n",
              "         [ 18,  56,  44],\n",
              "         ...,\n",
              "         [ 74,  72,  72],\n",
              "         [ 84,  82,  82],\n",
              "         [ 96,  94,  94]],\n",
              " \n",
              "        [[ 12,  48,  34],\n",
              "         [ 19,  58,  43],\n",
              "         [ 18,  55,  45],\n",
              "         ...,\n",
              "         [ 72,  70,  70],\n",
              "         [ 79,  77,  77],\n",
              "         [ 88,  86,  86]]], dtype=uint8)\n",
              " orig_shape: (640, 640)\n",
              " path: '/content/drive/MyDrive/YOLO_Datasets/Drone-Object-Detection-2/test/images/0000018_jpg.rf.c427f521a39f024c9a05ef07fa5f0d87.jpg'\n",
              " probs: None\n",
              " save_dir: 'runs/detect/predict'\n",
              " speed: {'preprocess': 7.394559000204026, 'inference': 46.65006400000493, 'postprocess': 7.612299000129497},\n",
              " ultralytics.engine.results.Results object with attributes:\n",
              " \n",
              " boxes: ultralytics.engine.results.Boxes object\n",
              " keypoints: None\n",
              " masks: None\n",
              " names: {0: 'bus', 1: 'car', 2: 'person', 3: 'traffic light', 4: 'tree', 5: 'truck'}\n",
              " obb: None\n",
              " orig_img: array([[[ 65,  77,  87],\n",
              "         [ 87,  99, 109],\n",
              "         [110, 120, 130],\n",
              "         ...,\n",
              "         [174, 175, 171],\n",
              "         [184, 185, 181],\n",
              "         [181, 182, 178]],\n",
              " \n",
              "        [[ 76,  88,  98],\n",
              "         [ 94, 106, 116],\n",
              "         [113, 123, 133],\n",
              "         ...,\n",
              "         [177, 178, 174],\n",
              "         [182, 183, 179],\n",
              "         [176, 177, 173]],\n",
              " \n",
              "        [[ 93, 104, 112],\n",
              "         [106, 117, 125],\n",
              "         [118, 129, 137],\n",
              "         ...,\n",
              "         [179, 180, 176],\n",
              "         [181, 182, 178],\n",
              "         [171, 172, 168]],\n",
              " \n",
              "        ...,\n",
              " \n",
              "        [[ 12,  48,  32],\n",
              "         [ 23,  59,  45],\n",
              "         [ 11,  49,  37],\n",
              "         ...,\n",
              "         [ 78,  73,  74],\n",
              "         [ 84,  79,  80],\n",
              "         [ 93,  88,  89]],\n",
              " \n",
              "        [[ 12,  48,  34],\n",
              "         [ 25,  61,  47],\n",
              "         [ 13,  51,  39],\n",
              "         ...,\n",
              "         [ 73,  68,  69],\n",
              "         [ 84,  79,  80],\n",
              "         [ 96,  91,  92]],\n",
              " \n",
              "        [[ 11,  47,  33],\n",
              "         [ 23,  62,  47],\n",
              "         [ 12,  49,  39],\n",
              "         ...,\n",
              "         [ 68,  63,  64],\n",
              "         [ 76,  71,  72],\n",
              "         [ 87,  82,  83]]], dtype=uint8)\n",
              " orig_shape: (640, 640)\n",
              " path: '/content/drive/MyDrive/YOLO_Datasets/Drone-Object-Detection-2/test/images/0000019_jpg.rf.3aa035b59bc09ad95e82a522843f048e.jpg'\n",
              " probs: None\n",
              " save_dir: 'runs/detect/predict'\n",
              " speed: {'preprocess': 3.938658000151918, 'inference': 32.98120299996299, 'postprocess': 2.191417999938494},\n",
              " ultralytics.engine.results.Results object with attributes:\n",
              " \n",
              " boxes: ultralytics.engine.results.Boxes object\n",
              " keypoints: None\n",
              " masks: None\n",
              " names: {0: 'bus', 1: 'car', 2: 'person', 3: 'traffic light', 4: 'tree', 5: 'truck'}\n",
              " obb: None\n",
              " orig_img: array([[[ 78,  94, 100],\n",
              "         [ 93, 109, 115],\n",
              "         [107, 123, 129],\n",
              "         ...,\n",
              "         [181, 183, 177],\n",
              "         [179, 181, 175],\n",
              "         [171, 173, 167]],\n",
              " \n",
              "        [[ 86, 102, 108],\n",
              "         [ 99, 115, 121],\n",
              "         [111, 127, 133],\n",
              "         ...,\n",
              "         [184, 186, 180],\n",
              "         [178, 180, 174],\n",
              "         [168, 170, 164]],\n",
              " \n",
              "        [[ 98, 114, 120],\n",
              "         [108, 124, 130],\n",
              "         [118, 132, 138],\n",
              "         ...,\n",
              "         [186, 188, 182],\n",
              "         [178, 180, 174],\n",
              "         [166, 168, 162]],\n",
              " \n",
              "        ...,\n",
              " \n",
              "        [[ 14,  50,  34],\n",
              "         [ 21,  57,  43],\n",
              "         [  9,  47,  35],\n",
              "         ...,\n",
              "         [ 75,  73,  73],\n",
              "         [ 84,  82,  82],\n",
              "         [ 95,  93,  93]],\n",
              " \n",
              "        [[ 12,  48,  34],\n",
              "         [ 20,  56,  42],\n",
              "         [  7,  45,  33],\n",
              "         ...,\n",
              "         [ 73,  71,  71],\n",
              "         [ 82,  80,  80],\n",
              "         [ 93,  91,  91]],\n",
              " \n",
              "        [[ 16,  52,  38],\n",
              "         [ 21,  60,  45],\n",
              "         [  9,  46,  36],\n",
              "         ...,\n",
              "         [ 70,  68,  68],\n",
              "         [ 73,  71,  71],\n",
              "         [ 79,  77,  77]]], dtype=uint8)\n",
              " orig_shape: (640, 640)\n",
              " path: '/content/drive/MyDrive/YOLO_Datasets/Drone-Object-Detection-2/test/images/0000027_jpg.rf.e112b0cb8b741d352c03242d4532bc06.jpg'\n",
              " probs: None\n",
              " save_dir: 'runs/detect/predict'\n",
              " speed: {'preprocess': 2.0129439999436727, 'inference': 32.9122240000288, 'postprocess': 1.709879999907571},\n",
              " ultralytics.engine.results.Results object with attributes:\n",
              " \n",
              " boxes: ultralytics.engine.results.Boxes object\n",
              " keypoints: None\n",
              " masks: None\n",
              " names: {0: 'bus', 1: 'car', 2: 'person', 3: 'traffic light', 4: 'tree', 5: 'truck'}\n",
              " obb: None\n",
              " orig_img: array([[[ 80,  93, 107],\n",
              "         [100, 113, 127],\n",
              "         [112, 125, 139],\n",
              "         ...,\n",
              "         [181, 182, 178],\n",
              "         [178, 179, 175],\n",
              "         [166, 167, 163]],\n",
              " \n",
              "        [[ 89, 102, 116],\n",
              "         [104, 118, 130],\n",
              "         [114, 127, 141],\n",
              "         ...,\n",
              "         [187, 188, 184],\n",
              "         [180, 181, 177],\n",
              "         [165, 166, 162]],\n",
              " \n",
              "        [[101, 115, 127],\n",
              "         [108, 123, 132],\n",
              "         [118, 130, 142],\n",
              "         ...,\n",
              "         [190, 191, 187],\n",
              "         [180, 181, 177],\n",
              "         [163, 164, 160]],\n",
              " \n",
              "        ...,\n",
              " \n",
              "        [[ 19,  49,  38],\n",
              "         [ 26,  57,  48],\n",
              "         [ 13,  47,  40],\n",
              "         ...,\n",
              "         [ 73,  70,  72],\n",
              "         [ 86,  83,  85],\n",
              "         [100,  97,  99]],\n",
              " \n",
              "        [[ 19,  49,  38],\n",
              "         [ 25,  56,  47],\n",
              "         [ 11,  45,  38],\n",
              "         ...,\n",
              "         [ 72,  69,  71],\n",
              "         [ 80,  77,  79],\n",
              "         [ 90,  87,  89]],\n",
              " \n",
              "        [[ 20,  50,  39],\n",
              "         [ 26,  57,  48],\n",
              "         [ 10,  44,  37],\n",
              "         ...,\n",
              "         [ 73,  70,  72],\n",
              "         [ 70,  67,  69],\n",
              "         [ 71,  68,  70]]], dtype=uint8)\n",
              " orig_shape: (640, 640)\n",
              " path: '/content/drive/MyDrive/YOLO_Datasets/Drone-Object-Detection-2/test/images/0000036_jpg.rf.4d60893ceedbe6838faa7ce45ab90ec6.jpg'\n",
              " probs: None\n",
              " save_dir: 'runs/detect/predict'\n",
              " speed: {'preprocess': 2.026910000040516, 'inference': 32.86309099985374, 'postprocess': 1.6856210002060834},\n",
              " ultralytics.engine.results.Results object with attributes:\n",
              " \n",
              " boxes: ultralytics.engine.results.Boxes object\n",
              " keypoints: None\n",
              " masks: None\n",
              " names: {0: 'bus', 1: 'car', 2: 'person', 3: 'traffic light', 4: 'tree', 5: 'truck'}\n",
              " obb: None\n",
              " orig_img: array([[[ 93, 111, 110],\n",
              "         [102, 120, 119],\n",
              "         [111, 128, 131],\n",
              "         ...,\n",
              "         [180, 181, 177],\n",
              "         [180, 181, 177],\n",
              "         [157, 158, 154]],\n",
              " \n",
              "        [[ 99, 117, 116],\n",
              "         [107, 125, 126],\n",
              "         [114, 131, 134],\n",
              "         ...,\n",
              "         [183, 184, 180],\n",
              "         [182, 183, 179],\n",
              "         [160, 161, 157]],\n",
              " \n",
              "        [[107, 125, 126],\n",
              "         [113, 131, 132],\n",
              "         [120, 135, 138],\n",
              "         ...,\n",
              "         [185, 186, 182],\n",
              "         [180, 181, 177],\n",
              "         [161, 162, 158]],\n",
              " \n",
              "        ...,\n",
              " \n",
              "        [[ 18,  49,  34],\n",
              "         [ 23,  56,  42],\n",
              "         [ 12,  48,  36],\n",
              "         ...,\n",
              "         [ 67,  65,  65],\n",
              "         [ 78,  76,  76],\n",
              "         [ 94,  92,  92]],\n",
              " \n",
              "        [[ 21,  51,  38],\n",
              "         [ 26,  59,  45],\n",
              "         [ 14,  50,  38],\n",
              "         ...,\n",
              "         [ 70,  68,  68],\n",
              "         [ 75,  73,  73],\n",
              "         [ 81,  79,  79]],\n",
              " \n",
              "        [[ 22,  52,  39],\n",
              "         [ 26,  59,  45],\n",
              "         [ 11,  46,  36],\n",
              "         ...,\n",
              "         [ 75,  73,  73],\n",
              "         [ 75,  73,  73],\n",
              "         [ 72,  70,  70]]], dtype=uint8)\n",
              " orig_shape: (640, 640)\n",
              " path: '/content/drive/MyDrive/YOLO_Datasets/Drone-Object-Detection-2/test/images/0000041_jpg.rf.bde3bdeaa2f67d047a13d1ac69514abf.jpg'\n",
              " probs: None\n",
              " save_dir: 'runs/detect/predict'\n",
              " speed: {'preprocess': 2.6780830000916467, 'inference': 33.63745799993012, 'postprocess': 1.8688899999688147},\n",
              " ultralytics.engine.results.Results object with attributes:\n",
              " \n",
              " boxes: ultralytics.engine.results.Boxes object\n",
              " keypoints: None\n",
              " masks: None\n",
              " names: {0: 'bus', 1: 'car', 2: 'person', 3: 'traffic light', 4: 'tree', 5: 'truck'}\n",
              " obb: None\n",
              " orig_img: array([[[ 94, 110, 116],\n",
              "         [103, 119, 125],\n",
              "         [111, 127, 133],\n",
              "         ...,\n",
              "         [179, 183, 178],\n",
              "         [177, 183, 178],\n",
              "         [147, 153, 148]],\n",
              " \n",
              "        [[ 99, 115, 121],\n",
              "         [108, 124, 130],\n",
              "         [114, 130, 136],\n",
              "         ...,\n",
              "         [182, 186, 181],\n",
              "         [178, 184, 179],\n",
              "         [153, 159, 154]],\n",
              " \n",
              "        [[107, 123, 129],\n",
              "         [114, 130, 136],\n",
              "         [121, 135, 141],\n",
              "         ...,\n",
              "         [182, 186, 181],\n",
              "         [176, 182, 177],\n",
              "         [159, 165, 160]],\n",
              " \n",
              "        ...,\n",
              " \n",
              "        [[ 15,  51,  35],\n",
              "         [ 24,  60,  46],\n",
              "         [ 14,  52,  40],\n",
              "         ...,\n",
              "         [ 71,  69,  69],\n",
              "         [ 82,  80,  80],\n",
              "         [ 95,  93,  93]],\n",
              " \n",
              "        [[ 16,  52,  38],\n",
              "         [ 26,  62,  48],\n",
              "         [ 15,  53,  41],\n",
              "         ...,\n",
              "         [ 69,  67,  67],\n",
              "         [ 75,  73,  73],\n",
              "         [ 83,  81,  81]],\n",
              " \n",
              "        [[ 14,  50,  36],\n",
              "         [ 22,  61,  46],\n",
              "         [ 11,  48,  38],\n",
              "         ...,\n",
              "         [ 71,  69,  69],\n",
              "         [ 70,  68,  68],\n",
              "         [ 73,  71,  71]]], dtype=uint8)\n",
              " orig_shape: (640, 640)\n",
              " path: '/content/drive/MyDrive/YOLO_Datasets/Drone-Object-Detection-2/test/images/0000042_jpg.rf.8708c51db0decd791bbe79673db1458c.jpg'\n",
              " probs: None\n",
              " save_dir: 'runs/detect/predict'\n",
              " speed: {'preprocess': 2.1868159999485215, 'inference': 32.88285400003588, 'postprocess': 1.7130589999396761},\n",
              " ultralytics.engine.results.Results object with attributes:\n",
              " \n",
              " boxes: ultralytics.engine.results.Boxes object\n",
              " keypoints: None\n",
              " masks: None\n",
              " names: {0: 'bus', 1: 'car', 2: 'person', 3: 'traffic light', 4: 'tree', 5: 'truck'}\n",
              " obb: None\n",
              " orig_img: array([[[ 97, 115, 114],\n",
              "         [104, 122, 121],\n",
              "         [111, 128, 131],\n",
              "         ...,\n",
              "         [182, 183, 179],\n",
              "         [184, 185, 181],\n",
              "         [162, 163, 159]],\n",
              " \n",
              "        [[103, 121, 120],\n",
              "         [108, 126, 127],\n",
              "         [114, 131, 134],\n",
              "         ...,\n",
              "         [184, 185, 181],\n",
              "         [184, 185, 181],\n",
              "         [163, 164, 160]],\n",
              " \n",
              "        [[110, 128, 129],\n",
              "         [114, 132, 133],\n",
              "         [120, 135, 138],\n",
              "         ...,\n",
              "         [184, 185, 181],\n",
              "         [180, 181, 177],\n",
              "         [161, 162, 158]],\n",
              " \n",
              "        ...,\n",
              " \n",
              "        [[ 16,  47,  32],\n",
              "         [ 24,  57,  43],\n",
              "         [ 13,  49,  37],\n",
              "         ...,\n",
              "         [ 70,  68,  68],\n",
              "         [ 77,  75,  75],\n",
              "         [ 90,  88,  88]],\n",
              " \n",
              "        [[ 19,  49,  36],\n",
              "         [ 27,  60,  46],\n",
              "         [ 15,  51,  39],\n",
              "         ...,\n",
              "         [ 72,  70,  70],\n",
              "         [ 75,  73,  73],\n",
              "         [ 77,  75,  75]],\n",
              " \n",
              "        [[ 18,  48,  35],\n",
              "         [ 26,  59,  45],\n",
              "         [ 12,  47,  37],\n",
              "         ...,\n",
              "         [ 76,  74,  74],\n",
              "         [ 75,  73,  73],\n",
              "         [ 70,  68,  68]]], dtype=uint8)\n",
              " orig_shape: (640, 640)\n",
              " path: '/content/drive/MyDrive/YOLO_Datasets/Drone-Object-Detection-2/test/images/0000044_jpg.rf.30e061391c0f290ed17e5537f81a3cc6.jpg'\n",
              " probs: None\n",
              " save_dir: 'runs/detect/predict'\n",
              " speed: {'preprocess': 2.1387350000168226, 'inference': 32.91918600007193, 'postprocess': 1.877771000181383},\n",
              " ultralytics.engine.results.Results object with attributes:\n",
              " \n",
              " boxes: ultralytics.engine.results.Boxes object\n",
              " keypoints: None\n",
              " masks: None\n",
              " names: {0: 'bus', 1: 'car', 2: 'person', 3: 'traffic light', 4: 'tree', 5: 'truck'}\n",
              " obb: None\n",
              " orig_img: array([[[ 98, 115, 118],\n",
              "         [104, 121, 124],\n",
              "         [111, 128, 131],\n",
              "         ...,\n",
              "         [180, 182, 176],\n",
              "         [182, 184, 178],\n",
              "         [160, 162, 156]],\n",
              " \n",
              "        [[101, 118, 121],\n",
              "         [107, 124, 127],\n",
              "         [113, 130, 133],\n",
              "         ...,\n",
              "         [183, 185, 179],\n",
              "         [183, 185, 179],\n",
              "         [162, 164, 158]],\n",
              " \n",
              "        [[106, 123, 126],\n",
              "         [111, 128, 131],\n",
              "         [119, 134, 137],\n",
              "         ...,\n",
              "         [185, 187, 181],\n",
              "         [182, 184, 178],\n",
              "         [163, 165, 159]],\n",
              " \n",
              "        ...,\n",
              " \n",
              "        [[ 20,  51,  36],\n",
              "         [ 25,  58,  44],\n",
              "         [ 14,  50,  38],\n",
              "         ...,\n",
              "         [ 70,  68,  68],\n",
              "         [ 80,  78,  78],\n",
              "         [ 91,  89,  89]],\n",
              " \n",
              "        [[ 22,  52,  39],\n",
              "         [ 27,  60,  46],\n",
              "         [ 15,  51,  39],\n",
              "         ...,\n",
              "         [ 73,  71,  71],\n",
              "         [ 76,  74,  74],\n",
              "         [ 76,  74,  74]],\n",
              " \n",
              "        [[ 20,  50,  37],\n",
              "         [ 25,  58,  44],\n",
              "         [ 11,  46,  36],\n",
              "         ...,\n",
              "         [ 79,  77,  77],\n",
              "         [ 75,  73,  73],\n",
              "         [ 66,  64,  64]]], dtype=uint8)\n",
              " orig_shape: (640, 640)\n",
              " path: '/content/drive/MyDrive/YOLO_Datasets/Drone-Object-Detection-2/test/images/0000045_jpg.rf.15560fe74ab03c7e2b663b520ad068de.jpg'\n",
              " probs: None\n",
              " save_dir: 'runs/detect/predict'\n",
              " speed: {'preprocess': 2.7489540000260604, 'inference': 32.97312899985627, 'postprocess': 2.531197000052998},\n",
              " ultralytics.engine.results.Results object with attributes:\n",
              " \n",
              " boxes: ultralytics.engine.results.Boxes object\n",
              " keypoints: None\n",
              " masks: None\n",
              " names: {0: 'bus', 1: 'car', 2: 'person', 3: 'traffic light', 4: 'tree', 5: 'truck'}\n",
              " obb: None\n",
              " orig_img: array([[[103, 116, 124],\n",
              "         [109, 122, 130],\n",
              "         [117, 128, 136],\n",
              "         ...,\n",
              "         [181, 182, 178],\n",
              "         [183, 184, 180],\n",
              "         [161, 162, 158]],\n",
              " \n",
              "        [[105, 118, 126],\n",
              "         [110, 123, 131],\n",
              "         [118, 129, 137],\n",
              "         ...,\n",
              "         [183, 184, 180],\n",
              "         [183, 184, 180],\n",
              "         [162, 163, 159]],\n",
              " \n",
              "        [[109, 123, 129],\n",
              "         [114, 128, 134],\n",
              "         [121, 133, 139],\n",
              "         ...,\n",
              "         [184, 185, 181],\n",
              "         [180, 181, 177],\n",
              "         [161, 162, 158]],\n",
              " \n",
              "        ...,\n",
              " \n",
              "        [[ 15,  51,  35],\n",
              "         [ 24,  60,  46],\n",
              "         [ 15,  53,  41],\n",
              "         ...,\n",
              "         [ 72,  70,  70],\n",
              "         [ 82,  80,  80],\n",
              "         [ 90,  88,  88]],\n",
              " \n",
              "        [[ 15,  51,  37],\n",
              "         [ 26,  62,  48],\n",
              "         [ 15,  53,  41],\n",
              "         ...,\n",
              "         [ 72,  70,  70],\n",
              "         [ 75,  73,  73],\n",
              "         [ 78,  76,  76]],\n",
              " \n",
              "        [[ 13,  49,  35],\n",
              "         [ 21,  60,  45],\n",
              "         [ 11,  48,  38],\n",
              "         ...,\n",
              "         [ 75,  73,  73],\n",
              "         [ 72,  70,  70],\n",
              "         [ 70,  68,  68]]], dtype=uint8)\n",
              " orig_shape: (640, 640)\n",
              " path: '/content/drive/MyDrive/YOLO_Datasets/Drone-Object-Detection-2/test/images/0000047_jpg.rf.109ecc4efa077dad04505b75b3edb6e0.jpg'\n",
              " probs: None\n",
              " save_dir: 'runs/detect/predict'\n",
              " speed: {'preprocess': 2.173001000073782, 'inference': 32.93626300001051, 'postprocess': 1.6661929998917913},\n",
              " ultralytics.engine.results.Results object with attributes:\n",
              " \n",
              " boxes: ultralytics.engine.results.Boxes object\n",
              " keypoints: None\n",
              " masks: None\n",
              " names: {0: 'bus', 1: 'car', 2: 'person', 3: 'traffic light', 4: 'tree', 5: 'truck'}\n",
              " obb: None\n",
              " orig_img: array([[[104, 117, 133],\n",
              "         [106, 119, 135],\n",
              "         [109, 122, 136],\n",
              "         ...,\n",
              "         [181, 183, 177],\n",
              "         [172, 174, 168],\n",
              "         [159, 161, 155]],\n",
              " \n",
              "        [[103, 116, 132],\n",
              "         [109, 122, 136],\n",
              "         [115, 128, 142],\n",
              "         ...,\n",
              "         [184, 186, 180],\n",
              "         [175, 177, 171],\n",
              "         [162, 164, 158]],\n",
              " \n",
              "        [[105, 118, 132],\n",
              "         [114, 128, 140],\n",
              "         [124, 136, 148],\n",
              "         ...,\n",
              "         [186, 188, 182],\n",
              "         [177, 179, 173],\n",
              "         [164, 166, 160]],\n",
              " \n",
              "        ...,\n",
              " \n",
              "        [[ 12,  48,  31],\n",
              "         [ 19,  56,  40],\n",
              "         [ 10,  49,  34],\n",
              "         ...,\n",
              "         [ 73,  68,  69],\n",
              "         [ 82,  77,  78],\n",
              "         [ 94,  89,  90]],\n",
              " \n",
              "        [[ 15,  52,  36],\n",
              "         [ 22,  59,  43],\n",
              "         [ 11,  50,  35],\n",
              "         ...,\n",
              "         [ 76,  71,  72],\n",
              "         [ 78,  73,  74],\n",
              "         [ 80,  75,  76]],\n",
              " \n",
              "        [[ 15,  52,  36],\n",
              "         [ 19,  58,  42],\n",
              "         [  9,  47,  35],\n",
              "         ...,\n",
              "         [ 81,  76,  77],\n",
              "         [ 77,  72,  73],\n",
              "         [ 70,  65,  66]]], dtype=uint8)\n",
              " orig_shape: (640, 640)\n",
              " path: '/content/drive/MyDrive/YOLO_Datasets/Drone-Object-Detection-2/test/images/0000050_jpg.rf.d0ae64d7815277765dadad2fafa3322a.jpg'\n",
              " probs: None\n",
              " save_dir: 'runs/detect/predict'\n",
              " speed: {'preprocess': 1.9940869999572897, 'inference': 32.88103900013084, 'postprocess': 1.678520000041317},\n",
              " ultralytics.engine.results.Results object with attributes:\n",
              " \n",
              " boxes: ultralytics.engine.results.Boxes object\n",
              " keypoints: None\n",
              " masks: None\n",
              " names: {0: 'bus', 1: 'car', 2: 'person', 3: 'traffic light', 4: 'tree', 5: 'truck'}\n",
              " obb: None\n",
              " orig_img: array([[[107, 117, 124],\n",
              "         [110, 120, 127],\n",
              "         [113, 125, 131],\n",
              "         ...,\n",
              "         [177, 181, 176],\n",
              "         [176, 182, 177],\n",
              "         [155, 161, 156]],\n",
              " \n",
              "        [[111, 121, 128],\n",
              "         [114, 124, 131],\n",
              "         [117, 129, 135],\n",
              "         ...,\n",
              "         [179, 183, 178],\n",
              "         [176, 182, 177],\n",
              "         [157, 163, 158]],\n",
              " \n",
              "        [[117, 127, 134],\n",
              "         [119, 129, 136],\n",
              "         [122, 134, 140],\n",
              "         ...,\n",
              "         [180, 184, 179],\n",
              "         [173, 179, 174],\n",
              "         [157, 163, 158]],\n",
              " \n",
              "        ...,\n",
              " \n",
              "        [[ 13,  48,  34],\n",
              "         [ 20,  56,  42],\n",
              "         [ 11,  48,  38],\n",
              "         ...,\n",
              "         [ 68,  66,  66],\n",
              "         [ 73,  71,  71],\n",
              "         [ 84,  82,  82]],\n",
              " \n",
              "        [[ 15,  51,  37],\n",
              "         [ 23,  59,  45],\n",
              "         [ 13,  50,  40],\n",
              "         ...,\n",
              "         [ 72,  70,  70],\n",
              "         [ 72,  70,  70],\n",
              "         [ 72,  70,  70]],\n",
              " \n",
              "        [[ 14,  50,  36],\n",
              "         [ 19,  58,  43],\n",
              "         [ 10,  47,  37],\n",
              "         ...,\n",
              "         [ 77,  75,  75],\n",
              "         [ 77,  75,  75],\n",
              "         [ 73,  71,  71]]], dtype=uint8)\n",
              " orig_shape: (640, 640)\n",
              " path: '/content/drive/MyDrive/YOLO_Datasets/Drone-Object-Detection-2/test/images/0000053_jpg.rf.416bd18d0941726a784122952761cf20.jpg'\n",
              " probs: None\n",
              " save_dir: 'runs/detect/predict'\n",
              " speed: {'preprocess': 1.9884759999513335, 'inference': 32.88449999990917, 'postprocess': 1.6728059999877587},\n",
              " ultralytics.engine.results.Results object with attributes:\n",
              " \n",
              " boxes: ultralytics.engine.results.Boxes object\n",
              " keypoints: None\n",
              " masks: None\n",
              " names: {0: 'bus', 1: 'car', 2: 'person', 3: 'traffic light', 4: 'tree', 5: 'truck'}\n",
              " obb: None\n",
              " orig_img: array([[[102, 114, 126],\n",
              "         [107, 119, 131],\n",
              "         [114, 124, 134],\n",
              "         ...,\n",
              "         [185, 186, 182],\n",
              "         [173, 174, 170],\n",
              "         [160, 161, 157]],\n",
              " \n",
              "        [[106, 118, 130],\n",
              "         [111, 123, 135],\n",
              "         [118, 128, 138],\n",
              "         ...,\n",
              "         [185, 186, 182],\n",
              "         [176, 177, 173],\n",
              "         [164, 165, 161]],\n",
              " \n",
              "        [[114, 124, 134],\n",
              "         [118, 128, 138],\n",
              "         [122, 132, 142],\n",
              "         ...,\n",
              "         [184, 185, 181],\n",
              "         [176, 177, 173],\n",
              "         [166, 167, 163]],\n",
              " \n",
              "        ...,\n",
              " \n",
              "        [[ 13,  49,  33],\n",
              "         [ 20,  56,  42],\n",
              "         [ 10,  48,  36],\n",
              "         ...,\n",
              "         [ 73,  71,  71],\n",
              "         [ 78,  76,  76],\n",
              "         [ 85,  83,  83]],\n",
              " \n",
              "        [[ 15,  51,  37],\n",
              "         [ 22,  58,  44],\n",
              "         [ 11,  49,  37],\n",
              "         ...,\n",
              "         [ 75,  73,  73],\n",
              "         [ 73,  71,  71],\n",
              "         [ 70,  68,  68]],\n",
              " \n",
              "        [[ 14,  50,  36],\n",
              "         [ 19,  58,  43],\n",
              "         [  8,  45,  35],\n",
              "         ...,\n",
              "         [ 79,  77,  77],\n",
              "         [ 79,  77,  77],\n",
              "         [ 71,  69,  69]]], dtype=uint8)\n",
              " orig_shape: (640, 640)\n",
              " path: '/content/drive/MyDrive/YOLO_Datasets/Drone-Object-Detection-2/test/images/0000054_jpg.rf.dc295a4d1e8eced14e936f1f091d6c55.jpg'\n",
              " probs: None\n",
              " save_dir: 'runs/detect/predict'\n",
              " speed: {'preprocess': 2.2938360000352986, 'inference': 32.86651799999163, 'postprocess': 1.880215000028329},\n",
              " ultralytics.engine.results.Results object with attributes:\n",
              " \n",
              " boxes: ultralytics.engine.results.Boxes object\n",
              " keypoints: None\n",
              " masks: None\n",
              " names: {0: 'bus', 1: 'car', 2: 'person', 3: 'traffic light', 4: 'tree', 5: 'truck'}\n",
              " obb: None\n",
              " orig_img: array([[[108, 123, 132],\n",
              "         [110, 125, 134],\n",
              "         [113, 129, 136],\n",
              "         ...,\n",
              "         [180, 181, 177],\n",
              "         [168, 169, 165],\n",
              "         [163, 164, 160]],\n",
              " \n",
              "        [[111, 126, 135],\n",
              "         [113, 128, 137],\n",
              "         [115, 131, 138],\n",
              "         ...,\n",
              "         [183, 184, 180],\n",
              "         [170, 171, 167],\n",
              "         [165, 166, 162]],\n",
              " \n",
              "        [[114, 130, 137],\n",
              "         [116, 132, 139],\n",
              "         [121, 134, 142],\n",
              "         ...,\n",
              "         [183, 184, 180],\n",
              "         [170, 171, 167],\n",
              "         [165, 166, 162]],\n",
              " \n",
              "        ...,\n",
              " \n",
              "        [[ 20,  50,  37],\n",
              "         [ 20,  55,  41],\n",
              "         [ 13,  53,  42],\n",
              "         ...,\n",
              "         [ 74,  71,  73],\n",
              "         [ 78,  75,  77],\n",
              "         [ 81,  78,  80]],\n",
              " \n",
              "        [[ 21,  54,  40],\n",
              "         [ 22,  57,  43],\n",
              "         [ 14,  54,  43],\n",
              "         ...,\n",
              "         [ 73,  70,  72],\n",
              "         [ 72,  69,  71],\n",
              "         [ 72,  69,  71]],\n",
              " \n",
              "        [[ 20,  53,  39],\n",
              "         [ 20,  56,  42],\n",
              "         [ 11,  51,  40],\n",
              "         ...,\n",
              "         [ 73,  70,  72],\n",
              "         [ 74,  71,  73],\n",
              "         [ 74,  71,  73]]], dtype=uint8)\n",
              " orig_shape: (640, 640)\n",
              " path: '/content/drive/MyDrive/YOLO_Datasets/Drone-Object-Detection-2/test/images/0000058_jpg.rf.b0991729618c471ecf32a1e5b613479b.jpg'\n",
              " probs: None\n",
              " save_dir: 'runs/detect/predict'\n",
              " speed: {'preprocess': 1.9913819999146654, 'inference': 32.8895069999362, 'postprocess': 1.7358069999318104},\n",
              " ultralytics.engine.results.Results object with attributes:\n",
              " \n",
              " boxes: ultralytics.engine.results.Boxes object\n",
              " keypoints: None\n",
              " masks: None\n",
              " names: {0: 'bus', 1: 'car', 2: 'person', 3: 'traffic light', 4: 'tree', 5: 'truck'}\n",
              " obb: None\n",
              " orig_img: array([[[109, 124, 133],\n",
              "         [111, 126, 135],\n",
              "         [113, 129, 136],\n",
              "         ...,\n",
              "         [180, 181, 177],\n",
              "         [167, 168, 164],\n",
              "         [165, 166, 162]],\n",
              " \n",
              "        [[110, 125, 134],\n",
              "         [112, 127, 136],\n",
              "         [115, 131, 138],\n",
              "         ...,\n",
              "         [183, 184, 180],\n",
              "         [169, 170, 166],\n",
              "         [167, 168, 164]],\n",
              " \n",
              "        [[112, 128, 135],\n",
              "         [115, 131, 138],\n",
              "         [120, 133, 141],\n",
              "         ...,\n",
              "         [184, 185, 181],\n",
              "         [170, 171, 167],\n",
              "         [166, 167, 163]],\n",
              " \n",
              "        ...,\n",
              " \n",
              "        [[ 24,  50,  37],\n",
              "         [ 27,  57,  44],\n",
              "         [ 10,  47,  37],\n",
              "         ...,\n",
              "         [ 71,  68,  70],\n",
              "         [ 75,  72,  74],\n",
              "         [ 81,  78,  80]],\n",
              " \n",
              "        [[ 23,  49,  36],\n",
              "         [ 28,  58,  45],\n",
              "         [  6,  43,  33],\n",
              "         ...,\n",
              "         [ 74,  71,  73],\n",
              "         [ 72,  69,  71],\n",
              "         [ 69,  66,  68]],\n",
              " \n",
              "        [[ 26,  52,  39],\n",
              "         [ 30,  60,  47],\n",
              "         [  5,  42,  32],\n",
              "         ...,\n",
              "         [ 76,  73,  75],\n",
              "         [ 77,  74,  76],\n",
              "         [ 71,  68,  70]]], dtype=uint8)\n",
              " orig_shape: (640, 640)\n",
              " path: '/content/drive/MyDrive/YOLO_Datasets/Drone-Object-Detection-2/test/images/0000059_jpg.rf.5cf6c8430b27a63834a7c127b8a76acf.jpg'\n",
              " probs: None\n",
              " save_dir: 'runs/detect/predict'\n",
              " speed: {'preprocess': 2.0492060000378842, 'inference': 32.89246700001058, 'postprocess': 1.652815000170449},\n",
              " ultralytics.engine.results.Results object with attributes:\n",
              " \n",
              " boxes: ultralytics.engine.results.Boxes object\n",
              " keypoints: None\n",
              " masks: None\n",
              " names: {0: 'bus', 1: 'car', 2: 'person', 3: 'traffic light', 4: 'tree', 5: 'truck'}\n",
              " obb: None\n",
              " orig_img: array([[[108, 123, 132],\n",
              "         [113, 128, 137],\n",
              "         [117, 133, 140],\n",
              "         ...,\n",
              "         [182, 186, 181],\n",
              "         [175, 181, 176],\n",
              "         [160, 166, 161]],\n",
              " \n",
              "        [[109, 124, 133],\n",
              "         [116, 131, 140],\n",
              "         [119, 135, 142],\n",
              "         ...,\n",
              "         [178, 182, 177],\n",
              "         [166, 172, 167],\n",
              "         [158, 164, 159]],\n",
              " \n",
              "        [[111, 127, 134],\n",
              "         [119, 135, 142],\n",
              "         [124, 137, 145],\n",
              "         ...,\n",
              "         [178, 182, 177],\n",
              "         [158, 164, 159],\n",
              "         [160, 166, 161]],\n",
              " \n",
              "        ...,\n",
              " \n",
              "        [[ 14,  48,  38],\n",
              "         [ 21,  56,  46],\n",
              "         [ 12,  49,  41],\n",
              "         ...,\n",
              "         [ 71,  68,  70],\n",
              "         [ 72,  69,  71],\n",
              "         [ 74,  71,  73]],\n",
              " \n",
              "        [[ 17,  52,  42],\n",
              "         [ 23,  58,  48],\n",
              "         [ 12,  49,  41],\n",
              "         ...,\n",
              "         [ 75,  72,  74],\n",
              "         [ 77,  74,  76],\n",
              "         [ 77,  74,  76]],\n",
              " \n",
              "        [[ 18,  53,  43],\n",
              "         [ 22,  59,  49],\n",
              "         [ 10,  47,  39],\n",
              "         ...,\n",
              "         [ 72,  69,  71],\n",
              "         [ 74,  71,  73],\n",
              "         [ 75,  72,  74]]], dtype=uint8)\n",
              " orig_shape: (640, 640)\n",
              " path: '/content/drive/MyDrive/YOLO_Datasets/Drone-Object-Detection-2/test/images/0000072_jpg.rf.12c5b6828d2e8729690a7b42b4aab504.jpg'\n",
              " probs: None\n",
              " save_dir: 'runs/detect/predict'\n",
              " speed: {'preprocess': 4.481527000052665, 'inference': 32.97497099993052, 'postprocess': 2.428592999876855},\n",
              " ultralytics.engine.results.Results object with attributes:\n",
              " \n",
              " boxes: ultralytics.engine.results.Boxes object\n",
              " keypoints: None\n",
              " masks: None\n",
              " names: {0: 'bus', 1: 'car', 2: 'person', 3: 'traffic light', 4: 'tree', 5: 'truck'}\n",
              " obb: None\n",
              " orig_img: array([[[111, 126, 129],\n",
              "         [115, 130, 133],\n",
              "         [120, 135, 138],\n",
              "         ...,\n",
              "         [186, 187, 183],\n",
              "         [172, 173, 169],\n",
              "         [166, 167, 163]],\n",
              " \n",
              "        [[112, 127, 130],\n",
              "         [118, 133, 136],\n",
              "         [120, 135, 138],\n",
              "         ...,\n",
              "         [182, 183, 179],\n",
              "         [168, 169, 165],\n",
              "         [164, 165, 161]],\n",
              " \n",
              "        [[116, 131, 134],\n",
              "         [121, 136, 139],\n",
              "         [122, 134, 138],\n",
              "         ...,\n",
              "         [181, 182, 178],\n",
              "         [167, 168, 164],\n",
              "         [165, 166, 162]],\n",
              " \n",
              "        ...,\n",
              " \n",
              "        [[ 16,  51,  37],\n",
              "         [ 22,  58,  44],\n",
              "         [ 12,  49,  39],\n",
              "         ...,\n",
              "         [ 75,  72,  74],\n",
              "         [ 74,  71,  73],\n",
              "         [ 75,  72,  74]],\n",
              " \n",
              "        [[ 17,  53,  39],\n",
              "         [ 24,  60,  46],\n",
              "         [ 13,  50,  40],\n",
              "         ...,\n",
              "         [ 76,  73,  75],\n",
              "         [ 75,  72,  74],\n",
              "         [ 73,  70,  72]],\n",
              " \n",
              "        [[ 18,  54,  40],\n",
              "         [ 22,  61,  46],\n",
              "         [ 11,  48,  38],\n",
              "         ...,\n",
              "         [ 75,  72,  74],\n",
              "         [ 74,  71,  73],\n",
              "         [ 70,  67,  69]]], dtype=uint8)\n",
              " orig_shape: (640, 640)\n",
              " path: '/content/drive/MyDrive/YOLO_Datasets/Drone-Object-Detection-2/test/images/0000073_jpg.rf.036b7e78f97437f44d6fa1f33496e9b4.jpg'\n",
              " probs: None\n",
              " save_dir: 'runs/detect/predict'\n",
              " speed: {'preprocess': 2.02061799996045, 'inference': 32.920562000072096, 'postprocess': 1.6410199998517783},\n",
              " ultralytics.engine.results.Results object with attributes:\n",
              " \n",
              " boxes: ultralytics.engine.results.Boxes object\n",
              " keypoints: None\n",
              " masks: None\n",
              " names: {0: 'bus', 1: 'car', 2: 'person', 3: 'traffic light', 4: 'tree', 5: 'truck'}\n",
              " obb: None\n",
              " orig_img: array([[[111, 128, 131],\n",
              "         [112, 129, 132],\n",
              "         [114, 131, 134],\n",
              "         ...,\n",
              "         [182, 186, 181],\n",
              "         [166, 172, 167],\n",
              "         [162, 168, 163]],\n",
              " \n",
              "        [[113, 130, 133],\n",
              "         [117, 134, 137],\n",
              "         [118, 135, 138],\n",
              "         ...,\n",
              "         [181, 185, 180],\n",
              "         [166, 172, 167],\n",
              "         [162, 168, 163]],\n",
              " \n",
              "        [[116, 133, 136],\n",
              "         [122, 139, 142],\n",
              "         [124, 139, 142],\n",
              "         ...,\n",
              "         [180, 184, 179],\n",
              "         [164, 170, 165],\n",
              "         [163, 169, 164]],\n",
              " \n",
              "        ...,\n",
              " \n",
              "        [[ 13,  49,  32],\n",
              "         [ 19,  56,  40],\n",
              "         [ 10,  49,  34],\n",
              "         ...,\n",
              "         [ 76,  71,  73],\n",
              "         [ 74,  69,  71],\n",
              "         [ 73,  68,  70]],\n",
              " \n",
              "        [[ 15,  53,  35],\n",
              "         [ 22,  59,  43],\n",
              "         [ 11,  50,  35],\n",
              "         ...,\n",
              "         [ 76,  71,  73],\n",
              "         [ 76,  71,  73],\n",
              "         [ 75,  70,  72]],\n",
              " \n",
              "        [[ 16,  54,  36],\n",
              "         [ 21,  60,  44],\n",
              "         [ 11,  50,  35],\n",
              "         ...,\n",
              "         [ 74,  69,  71],\n",
              "         [ 76,  71,  73],\n",
              "         [ 76,  71,  73]]], dtype=uint8)\n",
              " orig_shape: (640, 640)\n",
              " path: '/content/drive/MyDrive/YOLO_Datasets/Drone-Object-Detection-2/test/images/0000078_jpg.rf.58be3f0959c9dcad6b2366e6a5a50fa0.jpg'\n",
              " probs: None\n",
              " save_dir: 'runs/detect/predict'\n",
              " speed: {'preprocess': 2.017353999917759, 'inference': 32.8657199997906, 'postprocess': 1.8184230000315438},\n",
              " ultralytics.engine.results.Results object with attributes:\n",
              " \n",
              " boxes: ultralytics.engine.results.Boxes object\n",
              " keypoints: None\n",
              " masks: None\n",
              " names: {0: 'bus', 1: 'car', 2: 'person', 3: 'traffic light', 4: 'tree', 5: 'truck'}\n",
              " obb: None\n",
              " orig_img: array([[[116, 125, 135],\n",
              "         [121, 130, 140],\n",
              "         [122, 131, 140],\n",
              "         ...,\n",
              "         [183, 184, 180],\n",
              "         [169, 170, 166],\n",
              "         [166, 167, 163]],\n",
              " \n",
              "        [[121, 130, 140],\n",
              "         [124, 133, 143],\n",
              "         [125, 134, 143],\n",
              "         ...,\n",
              "         [182, 183, 179],\n",
              "         [169, 170, 166],\n",
              "         [166, 167, 163]],\n",
              " \n",
              "        [[125, 134, 143],\n",
              "         [125, 134, 143],\n",
              "         [127, 136, 145],\n",
              "         ...,\n",
              "         [180, 181, 177],\n",
              "         [167, 168, 164],\n",
              "         [167, 168, 164]],\n",
              " \n",
              "        ...,\n",
              " \n",
              "        [[ 12,  47,  33],\n",
              "         [ 19,  55,  41],\n",
              "         [ 10,  47,  37],\n",
              "         ...,\n",
              "         [ 77,  72,  73],\n",
              "         [ 79,  74,  75],\n",
              "         [ 79,  74,  75]],\n",
              " \n",
              "        [[ 14,  50,  36],\n",
              "         [ 22,  58,  44],\n",
              "         [ 12,  49,  39],\n",
              "         ...,\n",
              "         [ 77,  72,  73],\n",
              "         [ 80,  75,  76],\n",
              "         [ 78,  73,  74]],\n",
              " \n",
              "        [[ 14,  50,  36],\n",
              "         [ 19,  58,  43],\n",
              "         [ 10,  47,  37],\n",
              "         ...,\n",
              "         [ 75,  70,  71],\n",
              "         [ 74,  69,  70],\n",
              "         [ 68,  63,  64]]], dtype=uint8)\n",
              " orig_shape: (640, 640)\n",
              " path: '/content/drive/MyDrive/YOLO_Datasets/Drone-Object-Detection-2/test/images/0000085_jpg.rf.b5a78c4113d45ae5b49e354a268ea79d.jpg'\n",
              " probs: None\n",
              " save_dir: 'runs/detect/predict'\n",
              " speed: {'preprocess': 2.0157530000233237, 'inference': 32.87526799999796, 'postprocess': 1.8600460000470775},\n",
              " ultralytics.engine.results.Results object with attributes:\n",
              " \n",
              " boxes: ultralytics.engine.results.Boxes object\n",
              " keypoints: None\n",
              " masks: None\n",
              " names: {0: 'bus', 1: 'car', 2: 'person', 3: 'traffic light', 4: 'tree', 5: 'truck'}\n",
              " obb: None\n",
              " orig_img: array([[[107, 126, 134],\n",
              "         [112, 131, 139],\n",
              "         [114, 132, 139],\n",
              "         ...,\n",
              "         [184, 185, 181],\n",
              "         [174, 175, 171],\n",
              "         [162, 163, 159]],\n",
              " \n",
              "        [[113, 132, 140],\n",
              "         [115, 134, 142],\n",
              "         [117, 135, 142],\n",
              "         ...,\n",
              "         [185, 186, 182],\n",
              "         [173, 174, 170],\n",
              "         [161, 162, 158]],\n",
              " \n",
              "        [[117, 135, 142],\n",
              "         [117, 135, 142],\n",
              "         [121, 137, 144],\n",
              "         ...,\n",
              "         [185, 186, 182],\n",
              "         [171, 172, 168],\n",
              "         [159, 160, 156]],\n",
              " \n",
              "        ...,\n",
              " \n",
              "        [[ 15,  51,  34],\n",
              "         [ 22,  59,  43],\n",
              "         [  9,  48,  33],\n",
              "         ...,\n",
              "         [ 74,  69,  70],\n",
              "         [ 78,  73,  74],\n",
              "         [ 78,  73,  74]],\n",
              " \n",
              "        [[ 15,  53,  35],\n",
              "         [ 25,  62,  46],\n",
              "         [  8,  47,  32],\n",
              "         ...,\n",
              "         [ 76,  71,  72],\n",
              "         [ 79,  74,  75],\n",
              "         [ 77,  72,  73]],\n",
              " \n",
              "        [[ 12,  50,  32],\n",
              "         [ 22,  61,  45],\n",
              "         [  3,  42,  27],\n",
              "         ...,\n",
              "         [ 80,  75,  76],\n",
              "         [ 77,  72,  73],\n",
              "         [ 71,  66,  67]]], dtype=uint8)\n",
              " orig_shape: (640, 640)\n",
              " path: '/content/drive/MyDrive/YOLO_Datasets/Drone-Object-Detection-2/test/images/0000087_jpg.rf.75cd85cc93bf4f206a5be1059475fc0c.jpg'\n",
              " probs: None\n",
              " save_dir: 'runs/detect/predict'\n",
              " speed: {'preprocess': 1.96858100002828, 'inference': 32.86251200006518, 'postprocess': 1.708614000108355},\n",
              " ultralytics.engine.results.Results object with attributes:\n",
              " \n",
              " boxes: ultralytics.engine.results.Boxes object\n",
              " keypoints: None\n",
              " masks: None\n",
              " names: {0: 'bus', 1: 'car', 2: 'person', 3: 'traffic light', 4: 'tree', 5: 'truck'}\n",
              " obb: None\n",
              " orig_img: array([[[114, 126, 136],\n",
              "         [113, 125, 135],\n",
              "         [123, 136, 144],\n",
              "         ...,\n",
              "         [178, 179, 175],\n",
              "         [172, 173, 169],\n",
              "         [165, 166, 162]],\n",
              " \n",
              "        [[121, 133, 143],\n",
              "         [123, 135, 145],\n",
              "         [120, 133, 141],\n",
              "         ...,\n",
              "         [183, 184, 180],\n",
              "         [173, 174, 170],\n",
              "         [165, 166, 162]],\n",
              " \n",
              "        [[125, 138, 146],\n",
              "         [128, 141, 149],\n",
              "         [120, 131, 139],\n",
              "         ...,\n",
              "         [183, 184, 180],\n",
              "         [171, 172, 168],\n",
              "         [163, 164, 160]],\n",
              " \n",
              "        ...,\n",
              " \n",
              "        [[ 13,  48,  34],\n",
              "         [ 24,  60,  46],\n",
              "         [ 17,  54,  44],\n",
              "         ...,\n",
              "         [ 73,  68,  69],\n",
              "         [ 76,  71,  72],\n",
              "         [ 76,  71,  72]],\n",
              " \n",
              "        [[ 17,  53,  39],\n",
              "         [ 25,  61,  47],\n",
              "         [ 14,  51,  41],\n",
              "         ...,\n",
              "         [ 73,  68,  69],\n",
              "         [ 75,  70,  71],\n",
              "         [ 73,  68,  69]],\n",
              " \n",
              "        [[ 20,  56,  42],\n",
              "         [ 22,  61,  46],\n",
              "         [  9,  46,  36],\n",
              "         ...,\n",
              "         [ 80,  75,  76],\n",
              "         [ 76,  71,  72],\n",
              "         [ 69,  64,  65]]], dtype=uint8)\n",
              " orig_shape: (640, 640)\n",
              " path: '/content/drive/MyDrive/YOLO_Datasets/Drone-Object-Detection-2/test/images/0000088_jpg.rf.d5eede1e05fd8d6fc01b7273b85b59e7.jpg'\n",
              " probs: None\n",
              " save_dir: 'runs/detect/predict'\n",
              " speed: {'preprocess': 2.018902999907368, 'inference': 32.90516199990634, 'postprocess': 1.7246509999040427},\n",
              " ultralytics.engine.results.Results object with attributes:\n",
              " \n",
              " boxes: ultralytics.engine.results.Boxes object\n",
              " keypoints: None\n",
              " masks: None\n",
              " names: {0: 'bus', 1: 'car', 2: 'person', 3: 'traffic light', 4: 'tree', 5: 'truck'}\n",
              " obb: None\n",
              " orig_img: array([[[117, 132, 135],\n",
              "         [114, 129, 132],\n",
              "         [122, 137, 140],\n",
              "         ...,\n",
              "         [178, 179, 175],\n",
              "         [170, 171, 167],\n",
              "         [166, 167, 163]],\n",
              " \n",
              "        [[116, 131, 134],\n",
              "         [120, 135, 138],\n",
              "         [119, 134, 137],\n",
              "         ...,\n",
              "         [180, 181, 177],\n",
              "         [170, 171, 167],\n",
              "         [166, 167, 163]],\n",
              " \n",
              "        [[116, 131, 134],\n",
              "         [127, 142, 145],\n",
              "         [121, 133, 137],\n",
              "         ...,\n",
              "         [179, 180, 176],\n",
              "         [168, 169, 165],\n",
              "         [164, 165, 161]],\n",
              " \n",
              "        ...,\n",
              " \n",
              "        [[ 13,  48,  34],\n",
              "         [ 19,  55,  41],\n",
              "         [ 17,  54,  44],\n",
              "         ...,\n",
              "         [184, 172, 168],\n",
              "         [153, 141, 137],\n",
              "         [ 93,  81,  77]],\n",
              " \n",
              "        [[ 18,  54,  40],\n",
              "         [ 21,  57,  43],\n",
              "         [ 15,  52,  42],\n",
              "         ...,\n",
              "         [122, 110, 106],\n",
              "         [174, 162, 158],\n",
              "         [119, 107, 103]],\n",
              " \n",
              "        [[ 22,  58,  44],\n",
              "         [ 18,  57,  42],\n",
              "         [  9,  46,  36],\n",
              "         ...,\n",
              "         [165, 153, 149],\n",
              "         [173, 161, 157],\n",
              "         [195, 183, 179]]], dtype=uint8)\n",
              " orig_shape: (640, 640)\n",
              " path: '/content/drive/MyDrive/YOLO_Datasets/Drone-Object-Detection-2/test/images/0000091_jpg.rf.c3e3ef0c38b3c782b24fae268f7ff282.jpg'\n",
              " probs: None\n",
              " save_dir: 'runs/detect/predict'\n",
              " speed: {'preprocess': 2.0412360001955676, 'inference': 32.95516100001805, 'postprocess': 1.6856530000950443},\n",
              " ultralytics.engine.results.Results object with attributes:\n",
              " \n",
              " boxes: ultralytics.engine.results.Boxes object\n",
              " keypoints: None\n",
              " masks: None\n",
              " names: {0: 'bus', 1: 'car', 2: 'person', 3: 'traffic light', 4: 'tree', 5: 'truck'}\n",
              " obb: None\n",
              " orig_img: array([[[114, 129, 132],\n",
              "         [129, 144, 147],\n",
              "         [115, 127, 131],\n",
              "         ...,\n",
              "         [170, 172, 166],\n",
              "         [165, 167, 161],\n",
              "         [170, 172, 166]],\n",
              " \n",
              "        [[118, 133, 136],\n",
              "         [124, 139, 142],\n",
              "         [127, 139, 143],\n",
              "         ...,\n",
              "         [169, 171, 165],\n",
              "         [162, 164, 158],\n",
              "         [164, 166, 160]],\n",
              " \n",
              "        [[122, 137, 140],\n",
              "         [120, 135, 138],\n",
              "         [138, 150, 154],\n",
              "         ...,\n",
              "         [168, 170, 164],\n",
              "         [163, 165, 159],\n",
              "         [165, 167, 161]],\n",
              " \n",
              "        ...,\n",
              " \n",
              "        [[ 19,  58,  43],\n",
              "         [ 13,  54,  39],\n",
              "         [ 21,  61,  50],\n",
              "         ...,\n",
              "         [ 73,  68,  69],\n",
              "         [ 74,  69,  70],\n",
              "         [ 76,  71,  72]],\n",
              " \n",
              "        [[ 18,  57,  42],\n",
              "         [ 14,  55,  40],\n",
              "         [ 21,  61,  50],\n",
              "         ...,\n",
              "         [ 71,  66,  67],\n",
              "         [ 73,  68,  69],\n",
              "         [ 75,  70,  71]],\n",
              " \n",
              "        [[ 15,  54,  39],\n",
              "         [ 13,  54,  39],\n",
              "         [ 16,  56,  45],\n",
              "         ...,\n",
              "         [ 72,  67,  68],\n",
              "         [ 74,  69,  70],\n",
              "         [ 77,  72,  73]]], dtype=uint8)\n",
              " orig_shape: (640, 640)\n",
              " path: '/content/drive/MyDrive/YOLO_Datasets/Drone-Object-Detection-2/test/images/0000106_jpg.rf.b36328d6a1524b3ae9a1331a223d822f.jpg'\n",
              " probs: None\n",
              " save_dir: 'runs/detect/predict'\n",
              " speed: {'preprocess': 2.665933000116638, 'inference': 32.917631999907826, 'postprocess': 2.0480849998421036},\n",
              " ultralytics.engine.results.Results object with attributes:\n",
              " \n",
              " boxes: ultralytics.engine.results.Boxes object\n",
              " keypoints: None\n",
              " masks: None\n",
              " names: {0: 'bus', 1: 'car', 2: 'person', 3: 'traffic light', 4: 'tree', 5: 'truck'}\n",
              " obb: None\n",
              " orig_img: array([[[116, 131, 134],\n",
              "         [129, 144, 147],\n",
              "         [112, 127, 130],\n",
              "         ...,\n",
              "         [167, 168, 164],\n",
              "         [165, 166, 162],\n",
              "         [171, 172, 168]],\n",
              " \n",
              "        [[119, 134, 137],\n",
              "         [124, 139, 142],\n",
              "         [124, 139, 142],\n",
              "         ...,\n",
              "         [169, 170, 166],\n",
              "         [164, 165, 161],\n",
              "         [167, 168, 164]],\n",
              " \n",
              "        [[124, 139, 142],\n",
              "         [120, 135, 138],\n",
              "         [138, 150, 154],\n",
              "         ...,\n",
              "         [168, 169, 165],\n",
              "         [163, 164, 160],\n",
              "         [164, 165, 161]],\n",
              " \n",
              "        ...,\n",
              " \n",
              "        [[ 19,  57,  45],\n",
              "         [ 13,  53,  42],\n",
              "         [ 11,  50,  42],\n",
              "         ...,\n",
              "         [ 72,  70,  70],\n",
              "         [ 70,  68,  68],\n",
              "         [ 70,  68,  68]],\n",
              " \n",
              "        [[ 18,  56,  44],\n",
              "         [ 17,  57,  46],\n",
              "         [ 14,  53,  45],\n",
              "         ...,\n",
              "         [ 72,  70,  70],\n",
              "         [ 70,  68,  68],\n",
              "         [ 70,  68,  68]],\n",
              " \n",
              "        [[ 15,  53,  41],\n",
              "         [ 17,  57,  46],\n",
              "         [ 14,  53,  45],\n",
              "         ...,\n",
              "         [ 72,  70,  70],\n",
              "         [ 74,  72,  72],\n",
              "         [ 78,  76,  76]]], dtype=uint8)\n",
              " orig_shape: (640, 640)\n",
              " path: '/content/drive/MyDrive/YOLO_Datasets/Drone-Object-Detection-2/test/images/0000111_jpg.rf.bbda04d507fa460bd52fbba06f990339.jpg'\n",
              " probs: None\n",
              " save_dir: 'runs/detect/predict'\n",
              " speed: {'preprocess': 1.986572000078013, 'inference': 32.868817000007766, 'postprocess': 1.7205399999511428},\n",
              " ultralytics.engine.results.Results object with attributes:\n",
              " \n",
              " boxes: ultralytics.engine.results.Boxes object\n",
              " keypoints: None\n",
              " masks: None\n",
              " names: {0: 'bus', 1: 'car', 2: 'person', 3: 'traffic light', 4: 'tree', 5: 'truck'}\n",
              " obb: None\n",
              " orig_img: array([[[113, 128, 137],\n",
              "         [128, 143, 152],\n",
              "         [112, 128, 135],\n",
              "         ...,\n",
              "         [162, 169, 162],\n",
              "         [159, 166, 159],\n",
              "         [165, 172, 165]],\n",
              " \n",
              "        [[116, 131, 140],\n",
              "         [122, 137, 146],\n",
              "         [123, 139, 146],\n",
              "         ...,\n",
              "         [164, 171, 164],\n",
              "         [159, 166, 159],\n",
              "         [161, 168, 161]],\n",
              " \n",
              "        [[120, 136, 143],\n",
              "         [118, 134, 141],\n",
              "         [136, 149, 157],\n",
              "         ...,\n",
              "         [166, 170, 164],\n",
              "         [160, 164, 158],\n",
              "         [160, 164, 158]],\n",
              " \n",
              "        ...,\n",
              " \n",
              "        [[ 28,  56,  43],\n",
              "         [ 20,  53,  39],\n",
              "         [ 13,  50,  40],\n",
              "         ...,\n",
              "         [ 70,  68,  68],\n",
              "         [ 70,  68,  68],\n",
              "         [ 69,  67,  67]],\n",
              " \n",
              "        [[ 27,  55,  42],\n",
              "         [ 24,  57,  43],\n",
              "         [ 16,  53,  43],\n",
              "         ...,\n",
              "         [ 71,  69,  69],\n",
              "         [ 70,  68,  68],\n",
              "         [ 70,  68,  68]],\n",
              " \n",
              "        [[ 24,  52,  39],\n",
              "         [ 24,  57,  43],\n",
              "         [ 16,  53,  43],\n",
              "         ...,\n",
              "         [ 76,  74,  74],\n",
              "         [ 75,  73,  73],\n",
              "         [ 76,  74,  74]]], dtype=uint8)\n",
              " orig_shape: (640, 640)\n",
              " path: '/content/drive/MyDrive/YOLO_Datasets/Drone-Object-Detection-2/test/images/0000112_jpg.rf.51fd740be839e6c6b65542115be8fe98.jpg'\n",
              " probs: None\n",
              " save_dir: 'runs/detect/predict'\n",
              " speed: {'preprocess': 2.0791219999409805, 'inference': 32.907362999822, 'postprocess': 1.7583129999820812},\n",
              " ultralytics.engine.results.Results object with attributes:\n",
              " \n",
              " boxes: ultralytics.engine.results.Boxes object\n",
              " keypoints: None\n",
              " masks: None\n",
              " names: {0: 'bus', 1: 'car', 2: 'person', 3: 'traffic light', 4: 'tree', 5: 'truck'}\n",
              " obb: None\n",
              " orig_img: array([[[129, 138, 142],\n",
              "         [125, 134, 138],\n",
              "         [122, 131, 135],\n",
              "         ...,\n",
              "         [170, 169, 165],\n",
              "         [163, 162, 158],\n",
              "         [168, 167, 163]],\n",
              " \n",
              "        [[131, 140, 144],\n",
              "         [123, 132, 136],\n",
              "         [134, 143, 147],\n",
              "         ...,\n",
              "         [168, 167, 163],\n",
              "         [163, 162, 158],\n",
              "         [169, 168, 164]],\n",
              " \n",
              "        [[129, 138, 142],\n",
              "         [130, 139, 143],\n",
              "         [136, 145, 149],\n",
              "         ...,\n",
              "         [164, 163, 159],\n",
              "         [163, 162, 158],\n",
              "         [171, 170, 166]],\n",
              " \n",
              "        ...,\n",
              " \n",
              "        [[ 23,  65,  42],\n",
              "         [ 10,  52,  34],\n",
              "         [ 16,  56,  44],\n",
              "         ...,\n",
              "         [ 70,  68,  68],\n",
              "         [ 71,  69,  69],\n",
              "         [ 72,  70,  70]],\n",
              " \n",
              "        [[ 22,  64,  41],\n",
              "         [ 15,  57,  39],\n",
              "         [ 17,  57,  45],\n",
              "         ...,\n",
              "         [ 69,  67,  67],\n",
              "         [ 70,  68,  68],\n",
              "         [ 72,  70,  70]],\n",
              " \n",
              "        [[ 19,  61,  38],\n",
              "         [ 15,  57,  39],\n",
              "         [ 16,  56,  44],\n",
              "         ...,\n",
              "         [ 71,  69,  69],\n",
              "         [ 71,  69,  69],\n",
              "         [ 74,  72,  72]]], dtype=uint8)\n",
              " orig_shape: (640, 640)\n",
              " path: '/content/drive/MyDrive/YOLO_Datasets/Drone-Object-Detection-2/test/images/0000117_jpg.rf.d89976bd0c0ce8a8ad29f240ed563313.jpg'\n",
              " probs: None\n",
              " save_dir: 'runs/detect/predict'\n",
              " speed: {'preprocess': 2.1237700000256154, 'inference': 32.93711700007407, 'postprocess': 1.725640999893585},\n",
              " ultralytics.engine.results.Results object with attributes:\n",
              " \n",
              " boxes: ultralytics.engine.results.Boxes object\n",
              " keypoints: None\n",
              " masks: None\n",
              " names: {0: 'bus', 1: 'car', 2: 'person', 3: 'traffic light', 4: 'tree', 5: 'truck'}\n",
              " obb: None\n",
              " orig_img: array([[[128, 137, 141],\n",
              "         [125, 134, 138],\n",
              "         [123, 132, 136],\n",
              "         ...,\n",
              "         [168, 172, 167],\n",
              "         [158, 164, 159],\n",
              "         [158, 164, 159]],\n",
              " \n",
              "        [[131, 140, 144],\n",
              "         [123, 132, 136],\n",
              "         [136, 145, 149],\n",
              "         ...,\n",
              "         [165, 169, 164],\n",
              "         [158, 164, 159],\n",
              "         [160, 166, 161]],\n",
              " \n",
              "        [[130, 139, 143],\n",
              "         [131, 140, 144],\n",
              "         [136, 145, 149],\n",
              "         ...,\n",
              "         [161, 165, 160],\n",
              "         [158, 164, 159],\n",
              "         [163, 169, 164]],\n",
              " \n",
              "        ...,\n",
              " \n",
              "        [[ 18,  59,  38],\n",
              "         [  9,  51,  34],\n",
              "         [ 25,  64,  56],\n",
              "         ...,\n",
              "         [ 72,  70,  70],\n",
              "         [ 71,  69,  69],\n",
              "         [ 70,  68,  68]],\n",
              " \n",
              "        [[ 19,  59,  41],\n",
              "         [ 11,  53,  36],\n",
              "         [ 24,  63,  55],\n",
              "         ...,\n",
              "         [ 71,  69,  69],\n",
              "         [ 70,  68,  68],\n",
              "         [ 69,  67,  67]],\n",
              " \n",
              "        [[ 19,  59,  41],\n",
              "         [ 11,  52,  37],\n",
              "         [ 22,  61,  53],\n",
              "         ...,\n",
              "         [ 71,  69,  69],\n",
              "         [ 73,  71,  71],\n",
              "         [ 77,  75,  75]]], dtype=uint8)\n",
              " orig_shape: (640, 640)\n",
              " path: '/content/drive/MyDrive/YOLO_Datasets/Drone-Object-Detection-2/test/images/0000118_jpg.rf.feba2628cf48fe236e0d9d021a61a104.jpg'\n",
              " probs: None\n",
              " save_dir: 'runs/detect/predict'\n",
              " speed: {'preprocess': 2.0274790001622023, 'inference': 32.86540799990689, 'postprocess': 1.7363269998895703},\n",
              " ultralytics.engine.results.Results object with attributes:\n",
              " \n",
              " boxes: ultralytics.engine.results.Boxes object\n",
              " keypoints: None\n",
              " masks: None\n",
              " names: {0: 'bus', 1: 'car', 2: 'person', 3: 'traffic light', 4: 'tree', 5: 'truck'}\n",
              " obb: None\n",
              " orig_img: array([[[130, 136, 147],\n",
              "         [124, 130, 141],\n",
              "         [121, 128, 137],\n",
              "         ...,\n",
              "         [170, 171, 167],\n",
              "         [163, 164, 160],\n",
              "         [162, 163, 159]],\n",
              " \n",
              "        [[130, 136, 147],\n",
              "         [128, 134, 145],\n",
              "         [125, 132, 141],\n",
              "         ...,\n",
              "         [167, 168, 164],\n",
              "         [162, 163, 159],\n",
              "         [164, 165, 161]],\n",
              " \n",
              "        [[131, 138, 147],\n",
              "         [133, 140, 149],\n",
              "         [131, 138, 147],\n",
              "         ...,\n",
              "         [162, 163, 159],\n",
              "         [161, 162, 158],\n",
              "         [167, 168, 164]],\n",
              " \n",
              "        ...,\n",
              " \n",
              "        [[ 20,  61,  40],\n",
              "         [  6,  48,  30],\n",
              "         [ 21,  61,  50],\n",
              "         ...,\n",
              "         [ 57,  56,  52],\n",
              "         [ 72,  71,  67],\n",
              "         [ 64,  63,  59]],\n",
              " \n",
              "        [[ 24,  66,  43],\n",
              "         [ 13,  55,  37],\n",
              "         [ 23,  63,  52],\n",
              "         ...,\n",
              "         [ 79,  78,  74],\n",
              "         [ 69,  68,  64],\n",
              "         [ 66,  65,  61]],\n",
              " \n",
              "        [[ 25,  67,  44],\n",
              "         [ 15,  57,  39],\n",
              "         [ 23,  63,  51],\n",
              "         ...,\n",
              "         [ 73,  72,  68],\n",
              "         [ 63,  62,  58],\n",
              "         [ 76,  75,  71]]], dtype=uint8)\n",
              " orig_shape: (640, 640)\n",
              " path: '/content/drive/MyDrive/YOLO_Datasets/Drone-Object-Detection-2/test/images/0000122_jpg.rf.f74a60a34bd5555fa21b6afe7585681b.jpg'\n",
              " probs: None\n",
              " save_dir: 'runs/detect/predict'\n",
              " speed: {'preprocess': 1.9929330001104972, 'inference': 32.8729640000347, 'postprocess': 2.6158779999150283},\n",
              " ultralytics.engine.results.Results object with attributes:\n",
              " \n",
              " boxes: ultralytics.engine.results.Boxes object\n",
              " keypoints: None\n",
              " masks: None\n",
              " names: {0: 'bus', 1: 'car', 2: 'person', 3: 'traffic light', 4: 'tree', 5: 'truck'}\n",
              " obb: None\n",
              " orig_img: array([[[125, 134, 138],\n",
              "         [117, 126, 130],\n",
              "         [125, 134, 138],\n",
              "         ...,\n",
              "         [169, 170, 166],\n",
              "         [163, 164, 160],\n",
              "         [161, 162, 158]],\n",
              " \n",
              "        [[127, 136, 140],\n",
              "         [127, 136, 140],\n",
              "         [122, 131, 135],\n",
              "         ...,\n",
              "         [165, 166, 162],\n",
              "         [162, 163, 159],\n",
              "         [163, 164, 160]],\n",
              " \n",
              "        [[125, 134, 138],\n",
              "         [135, 144, 148],\n",
              "         [125, 134, 138],\n",
              "         ...,\n",
              "         [160, 161, 157],\n",
              "         [161, 162, 158],\n",
              "         [165, 166, 162]],\n",
              " \n",
              "        ...,\n",
              " \n",
              "        [[ 11,  57,  44],\n",
              "         [  0,  46,  34],\n",
              "         [ 14,  61,  52],\n",
              "         ...,\n",
              "         [ 71,  69,  69],\n",
              "         [ 72,  70,  70],\n",
              "         [ 73,  71,  71]],\n",
              " \n",
              "        [[ 11,  60,  46],\n",
              "         [  5,  53,  41],\n",
              "         [ 19,  66,  57],\n",
              "         ...,\n",
              "         [ 74,  72,  72],\n",
              "         [ 72,  70,  70],\n",
              "         [ 71,  69,  69]],\n",
              " \n",
              "        [[  8,  57,  43],\n",
              "         [  4,  52,  40],\n",
              "         [ 18,  65,  56],\n",
              "         ...,\n",
              "         [ 76,  74,  74],\n",
              "         [ 72,  70,  70],\n",
              "         [ 69,  67,  67]]], dtype=uint8)\n",
              " orig_shape: (640, 640)\n",
              " path: '/content/drive/MyDrive/YOLO_Datasets/Drone-Object-Detection-2/test/images/0000130_jpg.rf.05721e3a1a6b78a07a7af14efeac9e74.jpg'\n",
              " probs: None\n",
              " save_dir: 'runs/detect/predict'\n",
              " speed: {'preprocess': 2.070875000072192, 'inference': 32.88874300005773, 'postprocess': 1.7436040000120556},\n",
              " ultralytics.engine.results.Results object with attributes:\n",
              " \n",
              " boxes: ultralytics.engine.results.Boxes object\n",
              " keypoints: None\n",
              " masks: None\n",
              " names: {0: 'bus', 1: 'car', 2: 'person', 3: 'traffic light', 4: 'tree', 5: 'truck'}\n",
              " obb: None\n",
              " orig_img: array([[[116, 131, 140],\n",
              "         [108, 123, 132],\n",
              "         [116, 132, 139],\n",
              "         ...,\n",
              "         [169, 170, 166],\n",
              "         [164, 165, 161],\n",
              "         [163, 164, 160]],\n",
              " \n",
              "        [[118, 133, 142],\n",
              "         [116, 131, 140],\n",
              "         [111, 127, 134],\n",
              "         ...,\n",
              "         [165, 166, 162],\n",
              "         [163, 164, 160],\n",
              "         [164, 165, 161]],\n",
              " \n",
              "        [[124, 140, 147],\n",
              "         [130, 146, 153],\n",
              "         [119, 132, 140],\n",
              "         ...,\n",
              "         [161, 162, 158],\n",
              "         [162, 163, 159],\n",
              "         [166, 167, 163]],\n",
              " \n",
              "        ...,\n",
              " \n",
              "        [[ 14,  57,  44],\n",
              "         [  5,  48,  37],\n",
              "         [ 19,  64,  55],\n",
              "         ...,\n",
              "         [ 75,  70,  71],\n",
              "         [ 76,  71,  72],\n",
              "         [ 74,  69,  70]],\n",
              " \n",
              "        [[ 16,  60,  47],\n",
              "         [  8,  51,  40],\n",
              "         [ 21,  66,  57],\n",
              "         ...,\n",
              "         [ 73,  68,  69],\n",
              "         [ 74,  69,  70],\n",
              "         [ 72,  67,  68]],\n",
              " \n",
              "        [[ 13,  57,  44],\n",
              "         [  1,  47,  35],\n",
              "         [ 16,  61,  52],\n",
              "         ...,\n",
              "         [ 75,  70,  71],\n",
              "         [ 74,  69,  70],\n",
              "         [ 72,  67,  68]]], dtype=uint8)\n",
              " orig_shape: (640, 640)\n",
              " path: '/content/drive/MyDrive/YOLO_Datasets/Drone-Object-Detection-2/test/images/0000135_jpg.rf.7d7868f6f097391b069334ac3cf130d5.jpg'\n",
              " probs: None\n",
              " save_dir: 'runs/detect/predict'\n",
              " speed: {'preprocess': 2.838537999878099, 'inference': 32.91967099994508, 'postprocess': 2.110530999971161},\n",
              " ultralytics.engine.results.Results object with attributes:\n",
              " \n",
              " boxes: ultralytics.engine.results.Boxes object\n",
              " keypoints: None\n",
              " masks: None\n",
              " names: {0: 'bus', 1: 'car', 2: 'person', 3: 'traffic light', 4: 'tree', 5: 'truck'}\n",
              " obb: None\n",
              " orig_img: array([[[117, 129, 139],\n",
              "         [115, 127, 137],\n",
              "         [122, 133, 141],\n",
              "         ...,\n",
              "         [162, 163, 159],\n",
              "         [166, 167, 163],\n",
              "         [160, 161, 157]],\n",
              " \n",
              "        [[119, 131, 141],\n",
              "         [119, 131, 141],\n",
              "         [116, 127, 135],\n",
              "         ...,\n",
              "         [164, 165, 161],\n",
              "         [169, 170, 166],\n",
              "         [163, 164, 160]],\n",
              " \n",
              "        [[127, 140, 148],\n",
              "         [130, 143, 151],\n",
              "         [121, 132, 140],\n",
              "         ...,\n",
              "         [160, 161, 157],\n",
              "         [166, 167, 163],\n",
              "         [161, 162, 158]],\n",
              " \n",
              "        ...,\n",
              " \n",
              "        [[ 16,  55,  40],\n",
              "         [  5,  46,  31],\n",
              "         [ 20,  60,  49],\n",
              "         ...,\n",
              "         [ 73,  68,  70],\n",
              "         [ 71,  66,  68],\n",
              "         [ 69,  64,  66]],\n",
              " \n",
              "        [[ 21,  60,  45],\n",
              "         [  9,  50,  35],\n",
              "         [ 23,  63,  52],\n",
              "         ...,\n",
              "         [ 73,  68,  70],\n",
              "         [ 73,  68,  70],\n",
              "         [ 73,  68,  70]],\n",
              " \n",
              "        [[ 18,  57,  42],\n",
              "         [  6,  47,  32],\n",
              "         [ 19,  59,  48],\n",
              "         ...,\n",
              "         [ 74,  69,  71],\n",
              "         [ 75,  70,  72],\n",
              "         [ 77,  72,  74]]], dtype=uint8)\n",
              " orig_shape: (640, 640)\n",
              " path: '/content/drive/MyDrive/YOLO_Datasets/Drone-Object-Detection-2/test/images/0000136_jpg.rf.bc43548a2d18e256a62bbc1ab71ae622.jpg'\n",
              " probs: None\n",
              " save_dir: 'runs/detect/predict'\n",
              " speed: {'preprocess': 2.002073999847198, 'inference': 32.8902180001478, 'postprocess': 1.6909410001062497},\n",
              " ultralytics.engine.results.Results object with attributes:\n",
              " \n",
              " boxes: ultralytics.engine.results.Boxes object\n",
              " keypoints: None\n",
              " masks: None\n",
              " names: {0: 'bus', 1: 'car', 2: 'person', 3: 'traffic light', 4: 'tree', 5: 'truck'}\n",
              " obb: None\n",
              " orig_img: array([[[119, 131, 141],\n",
              "         [117, 129, 139],\n",
              "         [127, 138, 146],\n",
              "         ...,\n",
              "         [167, 168, 164],\n",
              "         [162, 163, 159],\n",
              "         [160, 161, 157]],\n",
              " \n",
              "        [[120, 132, 142],\n",
              "         [117, 129, 139],\n",
              "         [115, 126, 134],\n",
              "         ...,\n",
              "         [167, 168, 164],\n",
              "         [164, 165, 161],\n",
              "         [165, 166, 162]],\n",
              " \n",
              "        [[129, 142, 150],\n",
              "         [126, 139, 147],\n",
              "         [115, 126, 134],\n",
              "         ...,\n",
              "         [159, 160, 156],\n",
              "         [160, 161, 157],\n",
              "         [165, 166, 162]],\n",
              " \n",
              "        ...,\n",
              " \n",
              "        [[ 17,  58,  37],\n",
              "         [  7,  49,  32],\n",
              "         [ 22,  61,  53],\n",
              "         ...,\n",
              "         [ 71,  69,  69],\n",
              "         [ 72,  70,  70],\n",
              "         [ 72,  70,  70]],\n",
              " \n",
              "        [[ 21,  61,  43],\n",
              "         [ 10,  52,  35],\n",
              "         [ 24,  63,  55],\n",
              "         ...,\n",
              "         [ 73,  71,  71],\n",
              "         [ 73,  71,  71],\n",
              "         [ 71,  69,  69]],\n",
              " \n",
              "        [[ 18,  58,  40],\n",
              "         [  6,  47,  32],\n",
              "         [ 20,  59,  51],\n",
              "         ...,\n",
              "         [ 76,  74,  74],\n",
              "         [ 74,  72,  72],\n",
              "         [ 69,  67,  67]]], dtype=uint8)\n",
              " orig_shape: (640, 640)\n",
              " path: '/content/drive/MyDrive/YOLO_Datasets/Drone-Object-Detection-2/test/images/0000138_jpg.rf.7e4ff3495fe422a7509a406f97f1f04b.jpg'\n",
              " probs: None\n",
              " save_dir: 'runs/detect/predict'\n",
              " speed: {'preprocess': 2.150214000039341, 'inference': 32.928178000020125, 'postprocess': 1.8661460001112573},\n",
              " ultralytics.engine.results.Results object with attributes:\n",
              " \n",
              " boxes: ultralytics.engine.results.Boxes object\n",
              " keypoints: None\n",
              " masks: None\n",
              " names: {0: 'bus', 1: 'car', 2: 'person', 3: 'traffic light', 4: 'tree', 5: 'truck'}\n",
              " obb: None\n",
              " orig_img: array([[[124, 129, 144],\n",
              "         [120, 126, 139],\n",
              "         [128, 134, 147],\n",
              "         ...,\n",
              "         [161, 162, 158],\n",
              "         [168, 169, 165],\n",
              "         [167, 168, 164]],\n",
              " \n",
              "        [[120, 125, 140],\n",
              "         [118, 124, 137],\n",
              "         [117, 123, 134],\n",
              "         ...,\n",
              "         [159, 160, 156],\n",
              "         [167, 168, 164],\n",
              "         [164, 165, 161]],\n",
              " \n",
              "        [[125, 131, 144],\n",
              "         [127, 133, 146],\n",
              "         [118, 124, 135],\n",
              "         ...,\n",
              "         [160, 161, 157],\n",
              "         [167, 168, 164],\n",
              "         [162, 163, 159]],\n",
              " \n",
              "        ...,\n",
              " \n",
              "        [[ 17,  59,  36],\n",
              "         [  5,  47,  29],\n",
              "         [ 19,  59,  47],\n",
              "         ...,\n",
              "         [ 75,  73,  73],\n",
              "         [ 71,  69,  69],\n",
              "         [ 65,  63,  63]],\n",
              " \n",
              "        [[ 23,  65,  42],\n",
              "         [  9,  51,  33],\n",
              "         [ 21,  61,  49],\n",
              "         ...,\n",
              "         [ 76,  74,  74],\n",
              "         [ 71,  69,  69],\n",
              "         [ 65,  63,  63]],\n",
              " \n",
              "        [[ 22,  64,  41],\n",
              "         [  7,  49,  31],\n",
              "         [ 18,  58,  46],\n",
              "         ...,\n",
              "         [ 74,  72,  72],\n",
              "         [ 74,  72,  72],\n",
              "         [ 72,  70,  70]]], dtype=uint8)\n",
              " orig_shape: (640, 640)\n",
              " path: '/content/drive/MyDrive/YOLO_Datasets/Drone-Object-Detection-2/test/images/0000142_jpg.rf.93467af57edb95ca38f01c915ea2013b.jpg'\n",
              " probs: None\n",
              " save_dir: 'runs/detect/predict'\n",
              " speed: {'preprocess': 2.0088819999273255, 'inference': 32.86184500007039, 'postprocess': 1.8510459999561135},\n",
              " ultralytics.engine.results.Results object with attributes:\n",
              " \n",
              " boxes: ultralytics.engine.results.Boxes object\n",
              " keypoints: None\n",
              " masks: None\n",
              " names: {0: 'bus', 1: 'car', 2: 'person', 3: 'traffic light', 4: 'tree', 5: 'truck'}\n",
              " obb: None\n",
              " orig_img: array([[[112, 121, 131],\n",
              "         [124, 133, 143],\n",
              "         [118, 127, 136],\n",
              "         ...,\n",
              "         [160, 166, 161],\n",
              "         [159, 165, 160],\n",
              "         [163, 169, 164]],\n",
              " \n",
              "        [[125, 134, 144],\n",
              "         [122, 131, 141],\n",
              "         [122, 131, 140],\n",
              "         ...,\n",
              "         [162, 168, 163],\n",
              "         [162, 168, 163],\n",
              "         [166, 172, 167]],\n",
              " \n",
              "        [[132, 141, 150],\n",
              "         [123, 132, 141],\n",
              "         [129, 138, 147],\n",
              "         ...,\n",
              "         [158, 162, 157],\n",
              "         [161, 165, 160],\n",
              "         [166, 170, 165]],\n",
              " \n",
              "        ...,\n",
              " \n",
              "        [[ 11,  57,  44],\n",
              "         [  0,  45,  33],\n",
              "         [  9,  56,  47],\n",
              "         ...,\n",
              "         [ 73,  71,  71],\n",
              "         [ 72,  70,  70],\n",
              "         [ 71,  69,  69]],\n",
              " \n",
              "        [[ 14,  63,  49],\n",
              "         [  2,  50,  38],\n",
              "         [ 14,  61,  52],\n",
              "         ...,\n",
              "         [ 71,  69,  69],\n",
              "         [ 70,  68,  68],\n",
              "         [ 72,  70,  70]],\n",
              " \n",
              "        [[ 12,  61,  47],\n",
              "         [  0,  48,  36],\n",
              "         [ 12,  59,  50],\n",
              "         ...,\n",
              "         [ 69,  67,  67],\n",
              "         [ 70,  68,  68],\n",
              "         [ 73,  71,  71]]], dtype=uint8)\n",
              " orig_shape: (640, 640)\n",
              " path: '/content/drive/MyDrive/YOLO_Datasets/Drone-Object-Detection-2/test/images/0000147_jpg.rf.db6fa8f3c89ef511c24a52cacc73a172.jpg'\n",
              " probs: None\n",
              " save_dir: 'runs/detect/predict'\n",
              " speed: {'preprocess': 2.024596999945061, 'inference': 32.91376899983334, 'postprocess': 1.7800939999688126},\n",
              " ultralytics.engine.results.Results object with attributes:\n",
              " \n",
              " boxes: ultralytics.engine.results.Boxes object\n",
              " keypoints: None\n",
              " masks: None\n",
              " names: {0: 'bus', 1: 'car', 2: 'person', 3: 'traffic light', 4: 'tree', 5: 'truck'}\n",
              " obb: None\n",
              " orig_img: array([[[111, 123, 133],\n",
              "         [122, 134, 144],\n",
              "         [116, 127, 135],\n",
              "         ...,\n",
              "         [160, 161, 157],\n",
              "         [158, 159, 155],\n",
              "         [167, 168, 164]],\n",
              " \n",
              "        [[121, 133, 143],\n",
              "         [116, 128, 138],\n",
              "         [118, 129, 137],\n",
              "         ...,\n",
              "         [163, 164, 160],\n",
              "         [163, 164, 160],\n",
              "         [169, 170, 166]],\n",
              " \n",
              "        [[126, 139, 147],\n",
              "         [113, 126, 134],\n",
              "         [123, 134, 142],\n",
              "         ...,\n",
              "         [161, 162, 158],\n",
              "         [162, 163, 159],\n",
              "         [163, 164, 160]],\n",
              " \n",
              "        ...,\n",
              " \n",
              "        [[ 19,  59,  41],\n",
              "         [  8,  50,  33],\n",
              "         [  4,  47,  32],\n",
              "         ...,\n",
              "         [ 75,  70,  72],\n",
              "         [ 74,  69,  71],\n",
              "         [ 74,  69,  71]],\n",
              " \n",
              "        [[ 23,  62,  46],\n",
              "         [ 10,  52,  35],\n",
              "         [ 18,  61,  46],\n",
              "         ...,\n",
              "         [ 75,  70,  72],\n",
              "         [ 73,  68,  70],\n",
              "         [ 73,  68,  70]],\n",
              " \n",
              "        [[ 19,  58,  42],\n",
              "         [  4,  46,  29],\n",
              "         [ 27,  70,  57],\n",
              "         ...,\n",
              "         [ 75,  70,  72],\n",
              "         [ 73,  68,  70],\n",
              "         [ 72,  67,  69]]], dtype=uint8)\n",
              " orig_shape: (640, 640)\n",
              " path: '/content/drive/MyDrive/YOLO_Datasets/Drone-Object-Detection-2/test/images/0000151_jpg.rf.212aaba40cb0db53b5d5caf1b7ae22d7.jpg'\n",
              " probs: None\n",
              " save_dir: 'runs/detect/predict'\n",
              " speed: {'preprocess': 1.9948540000314097, 'inference': 32.879379999940284, 'postprocess': 2.16397400004098},\n",
              " ultralytics.engine.results.Results object with attributes:\n",
              " \n",
              " boxes: ultralytics.engine.results.Boxes object\n",
              " keypoints: None\n",
              " masks: None\n",
              " names: {0: 'bus', 1: 'car', 2: 'person', 3: 'traffic light', 4: 'tree', 5: 'truck'}\n",
              " obb: None\n",
              " orig_img: array([[[106, 123, 132],\n",
              "         [112, 129, 138],\n",
              "         [118, 131, 139],\n",
              "         ...,\n",
              "         [159, 165, 160],\n",
              "         [164, 170, 165],\n",
              "         [160, 166, 161]],\n",
              " \n",
              "        [[115, 132, 141],\n",
              "         [112, 129, 138],\n",
              "         [114, 127, 135],\n",
              "         ...,\n",
              "         [158, 164, 159],\n",
              "         [165, 171, 166],\n",
              "         [161, 167, 162]],\n",
              " \n",
              "        [[120, 138, 145],\n",
              "         [112, 130, 137],\n",
              "         [114, 127, 135],\n",
              "         ...,\n",
              "         [156, 160, 155],\n",
              "         [164, 168, 163],\n",
              "         [161, 165, 160]],\n",
              " \n",
              "        ...,\n",
              " \n",
              "        [[ 20,  51,  42],\n",
              "         [ 10,  44,  34],\n",
              "         [ 11,  45,  38],\n",
              "         ...,\n",
              "         [ 74,  72,  72],\n",
              "         [ 73,  71,  71],\n",
              "         [ 70,  68,  68]],\n",
              " \n",
              "        [[ 23,  57,  47],\n",
              "         [ 15,  49,  39],\n",
              "         [ 17,  51,  44],\n",
              "         ...,\n",
              "         [ 73,  71,  71],\n",
              "         [ 74,  72,  72],\n",
              "         [ 73,  71,  71]],\n",
              " \n",
              "        [[ 19,  53,  43],\n",
              "         [ 13,  48,  38],\n",
              "         [ 19,  53,  46],\n",
              "         ...,\n",
              "         [ 72,  70,  70],\n",
              "         [ 74,  72,  72],\n",
              "         [ 75,  73,  73]]], dtype=uint8)\n",
              " orig_shape: (640, 640)\n",
              " path: '/content/drive/MyDrive/YOLO_Datasets/Drone-Object-Detection-2/test/images/0000153_jpg.rf.c916a22b659006ca05b3cec663e50859.jpg'\n",
              " probs: None\n",
              " save_dir: 'runs/detect/predict'\n",
              " speed: {'preprocess': 2.036760000009963, 'inference': 32.883346999824425, 'postprocess': 1.7306140000528103},\n",
              " ultralytics.engine.results.Results object with attributes:\n",
              " \n",
              " boxes: ultralytics.engine.results.Boxes object\n",
              " keypoints: None\n",
              " masks: None\n",
              " names: {0: 'bus', 1: 'car', 2: 'person', 3: 'traffic light', 4: 'tree', 5: 'truck'}\n",
              " obb: None\n",
              " orig_img: array([[[108, 127, 135],\n",
              "         [112, 131, 139],\n",
              "         [115, 131, 138],\n",
              "         ...,\n",
              "         [169, 171, 165],\n",
              "         [165, 167, 161],\n",
              "         [164, 166, 160]],\n",
              " \n",
              "        [[112, 131, 139],\n",
              "         [112, 129, 138],\n",
              "         [114, 130, 137],\n",
              "         ...,\n",
              "         [167, 169, 163],\n",
              "         [165, 167, 161],\n",
              "         [167, 169, 163]],\n",
              " \n",
              "        [[120, 138, 145],\n",
              "         [113, 131, 138],\n",
              "         [116, 132, 139],\n",
              "         ...,\n",
              "         [160, 162, 156],\n",
              "         [162, 164, 158],\n",
              "         [166, 168, 162]],\n",
              " \n",
              "        ...,\n",
              " \n",
              "        [[ 21,  51,  40],\n",
              "         [ 11,  42,  33],\n",
              "         [ 14,  48,  41],\n",
              "         ...,\n",
              "         [ 74,  69,  70],\n",
              "         [ 75,  70,  71],\n",
              "         [ 76,  71,  72]],\n",
              " \n",
              "        [[ 25,  55,  44],\n",
              "         [ 15,  46,  37],\n",
              "         [ 19,  53,  46],\n",
              "         ...,\n",
              "         [ 76,  71,  72],\n",
              "         [ 76,  71,  72],\n",
              "         [ 76,  71,  72]],\n",
              " \n",
              "        [[ 22,  52,  41],\n",
              "         [ 15,  46,  37],\n",
              "         [ 23,  57,  50],\n",
              "         ...,\n",
              "         [ 75,  70,  71],\n",
              "         [ 74,  69,  70],\n",
              "         [ 73,  68,  69]]], dtype=uint8)\n",
              " orig_shape: (640, 640)\n",
              " path: '/content/drive/MyDrive/YOLO_Datasets/Drone-Object-Detection-2/test/images/0000157_jpg.rf.4b482ff0fb8fd61faf88cb37fa688d64.jpg'\n",
              " probs: None\n",
              " save_dir: 'runs/detect/predict'\n",
              " speed: {'preprocess': 2.7611770001385594, 'inference': 32.98991700012266, 'postprocess': 5.236334000073839},\n",
              " ultralytics.engine.results.Results object with attributes:\n",
              " \n",
              " boxes: ultralytics.engine.results.Boxes object\n",
              " keypoints: None\n",
              " masks: None\n",
              " names: {0: 'bus', 1: 'car', 2: 'person', 3: 'traffic light', 4: 'tree', 5: 'truck'}\n",
              " obb: None\n",
              " orig_img: array([[[109, 125, 137],\n",
              "         [109, 125, 137],\n",
              "         [115, 127, 137],\n",
              "         ...,\n",
              "         [165, 166, 162],\n",
              "         [160, 161, 157],\n",
              "         [165, 166, 162]],\n",
              " \n",
              "        [[110, 126, 138],\n",
              "         [112, 128, 140],\n",
              "         [118, 130, 140],\n",
              "         ...,\n",
              "         [161, 162, 158],\n",
              "         [159, 160, 156],\n",
              "         [162, 163, 159]],\n",
              " \n",
              "        [[114, 131, 140],\n",
              "         [118, 135, 144],\n",
              "         [123, 135, 145],\n",
              "         ...,\n",
              "         [159, 160, 156],\n",
              "         [160, 161, 157],\n",
              "         [162, 163, 159]],\n",
              " \n",
              "        ...,\n",
              " \n",
              "        [[ 21,  50,  35],\n",
              "         [ 11,  42,  27],\n",
              "         [ 13,  47,  36],\n",
              "         ...,\n",
              "         [ 70,  68,  68],\n",
              "         [ 69,  67,  67],\n",
              "         [ 70,  68,  68]],\n",
              " \n",
              "        [[ 26,  55,  40],\n",
              "         [ 15,  46,  31],\n",
              "         [ 19,  53,  42],\n",
              "         ...,\n",
              "         [ 73,  71,  71],\n",
              "         [ 71,  69,  69],\n",
              "         [ 71,  69,  69]],\n",
              " \n",
              "        [[ 25,  54,  39],\n",
              "         [ 17,  48,  33],\n",
              "         [ 23,  57,  46],\n",
              "         ...,\n",
              "         [ 75,  73,  73],\n",
              "         [ 73,  71,  71],\n",
              "         [ 72,  70,  70]]], dtype=uint8)\n",
              " orig_shape: (640, 640)\n",
              " path: '/content/drive/MyDrive/YOLO_Datasets/Drone-Object-Detection-2/test/images/0000160_jpg.rf.32ee0d592653b4c6a5b1f1ddbb689a58.jpg'\n",
              " probs: None\n",
              " save_dir: 'runs/detect/predict'\n",
              " speed: {'preprocess': 1.9886449999830802, 'inference': 32.92388399995616, 'postprocess': 1.6723849998925289},\n",
              " ultralytics.engine.results.Results object with attributes:\n",
              " \n",
              " boxes: ultralytics.engine.results.Boxes object\n",
              " keypoints: None\n",
              " masks: None\n",
              " names: {0: 'bus', 1: 'car', 2: 'person', 3: 'traffic light', 4: 'tree', 5: 'truck'}\n",
              " obb: None\n",
              " orig_img: array([[[124, 130, 141],\n",
              "         [112, 118, 129],\n",
              "         [127, 134, 143],\n",
              "         ...,\n",
              "         [169, 170, 166],\n",
              "         [164, 165, 161],\n",
              "         [166, 167, 163]],\n",
              " \n",
              "        [[122, 128, 139],\n",
              "         [118, 124, 135],\n",
              "         [125, 132, 141],\n",
              "         ...,\n",
              "         [164, 165, 161],\n",
              "         [162, 163, 159],\n",
              "         [166, 167, 163]],\n",
              " \n",
              "        [[121, 128, 137],\n",
              "         [128, 135, 144],\n",
              "         [122, 129, 138],\n",
              "         ...,\n",
              "         [160, 161, 157],\n",
              "         [161, 162, 158],\n",
              "         [168, 169, 165]],\n",
              " \n",
              "        ...,\n",
              " \n",
              "        [[ 20,  50,  31],\n",
              "         [ 14,  45,  30],\n",
              "         [  6,  39,  32],\n",
              "         ...,\n",
              "         [ 72,  70,  70],\n",
              "         [ 72,  70,  70],\n",
              "         [ 73,  71,  71]],\n",
              " \n",
              "        [[ 22,  51,  35],\n",
              "         [ 15,  46,  31],\n",
              "         [  8,  41,  34],\n",
              "         ...,\n",
              "         [ 74,  72,  72],\n",
              "         [ 72,  70,  70],\n",
              "         [ 72,  70,  70]],\n",
              " \n",
              "        [[ 25,  54,  38],\n",
              "         [ 19,  49,  36],\n",
              "         [ 15,  48,  41],\n",
              "         ...,\n",
              "         [ 75,  73,  73],\n",
              "         [ 72,  70,  70],\n",
              "         [ 71,  69,  69]]], dtype=uint8)\n",
              " orig_shape: (640, 640)\n",
              " path: '/content/drive/MyDrive/YOLO_Datasets/Drone-Object-Detection-2/test/images/0000169_jpg.rf.e0a06b5ba420fdb22b48b6566b8177d9.jpg'\n",
              " probs: None\n",
              " save_dir: 'runs/detect/predict'\n",
              " speed: {'preprocess': 2.0918039999742177, 'inference': 32.86878800008708, 'postprocess': 1.7061180001292087},\n",
              " ultralytics.engine.results.Results object with attributes:\n",
              " \n",
              " boxes: ultralytics.engine.results.Boxes object\n",
              " keypoints: None\n",
              " masks: None\n",
              " names: {0: 'bus', 1: 'car', 2: 'person', 3: 'traffic light', 4: 'tree', 5: 'truck'}\n",
              " obb: None\n",
              " orig_img: array([[[117, 126, 136],\n",
              "         [118, 127, 137],\n",
              "         [122, 131, 140],\n",
              "         ...,\n",
              "         [171, 172, 168],\n",
              "         [164, 165, 161],\n",
              "         [165, 166, 162]],\n",
              " \n",
              "        [[117, 126, 136],\n",
              "         [121, 130, 140],\n",
              "         [119, 128, 137],\n",
              "         ...,\n",
              "         [162, 163, 159],\n",
              "         [159, 160, 156],\n",
              "         [165, 166, 162]],\n",
              " \n",
              "        [[121, 130, 139],\n",
              "         [125, 134, 143],\n",
              "         [120, 129, 138],\n",
              "         ...,\n",
              "         [155, 156, 152],\n",
              "         [157, 158, 154],\n",
              "         [166, 167, 163]],\n",
              " \n",
              "        ...,\n",
              " \n",
              "        [[ 12,  48,  34],\n",
              "         [  0,  37,  25],\n",
              "         [ 16,  53,  43],\n",
              "         ...,\n",
              "         [ 76,  74,  74],\n",
              "         [ 75,  73,  73],\n",
              "         [ 75,  73,  73]],\n",
              " \n",
              "        [[ 18,  54,  40],\n",
              "         [  3,  41,  29],\n",
              "         [ 12,  49,  39],\n",
              "         ...,\n",
              "         [ 79,  77,  77],\n",
              "         [ 76,  74,  74],\n",
              "         [ 75,  73,  73]],\n",
              " \n",
              "        [[ 27,  63,  49],\n",
              "         [  8,  46,  34],\n",
              "         [  9,  46,  36],\n",
              "         ...,\n",
              "         [ 78,  76,  76],\n",
              "         [ 73,  71,  71],\n",
              "         [ 71,  69,  69]]], dtype=uint8)\n",
              " orig_shape: (640, 640)\n",
              " path: '/content/drive/MyDrive/YOLO_Datasets/Drone-Object-Detection-2/test/images/0000182_jpg.rf.ed863c015e405c5822712d19ed7024e3.jpg'\n",
              " probs: None\n",
              " save_dir: 'runs/detect/predict'\n",
              " speed: {'preprocess': 1.993951000031302, 'inference': 32.88184999996702, 'postprocess': 1.8285349999587197},\n",
              " ultralytics.engine.results.Results object with attributes:\n",
              " \n",
              " boxes: ultralytics.engine.results.Boxes object\n",
              " keypoints: None\n",
              " masks: None\n",
              " names: {0: 'bus', 1: 'car', 2: 'person', 3: 'traffic light', 4: 'tree', 5: 'truck'}\n",
              " obb: None\n",
              " orig_img: array([[[125, 128, 143],\n",
              "         [130, 133, 147],\n",
              "         [124, 127, 141],\n",
              "         ...,\n",
              "         [165, 165, 159],\n",
              "         [168, 168, 162],\n",
              "         [168, 168, 162]],\n",
              " \n",
              "        [[123, 126, 141],\n",
              "         [135, 138, 152],\n",
              "         [123, 127, 138],\n",
              "         ...,\n",
              "         [161, 161, 155],\n",
              "         [164, 164, 158],\n",
              "         [165, 165, 159]],\n",
              " \n",
              "        [[121, 124, 138],\n",
              "         [135, 138, 152],\n",
              "         [122, 126, 137],\n",
              "         ...,\n",
              "         [158, 158, 152],\n",
              "         [160, 160, 154],\n",
              "         [160, 160, 154]],\n",
              " \n",
              "        ...,\n",
              " \n",
              "        [[  6,  50,  37],\n",
              "         [ 10,  53,  42],\n",
              "         [ 27,  72,  63],\n",
              "         ...,\n",
              "         [ 79,  74,  75],\n",
              "         [ 75,  70,  71],\n",
              "         [ 72,  67,  68]],\n",
              " \n",
              "        [[  2,  48,  35],\n",
              "         [  0,  44,  32],\n",
              "         [ 17,  62,  53],\n",
              "         ...,\n",
              "         [ 81,  76,  77],\n",
              "         [ 78,  73,  74],\n",
              "         [ 76,  71,  72]],\n",
              " \n",
              "        [[  8,  54,  41],\n",
              "         [  0,  43,  31],\n",
              "         [ 14,  59,  50],\n",
              "         ...,\n",
              "         [ 82,  77,  78],\n",
              "         [ 80,  75,  76],\n",
              "         [ 80,  75,  76]]], dtype=uint8)\n",
              " orig_shape: (640, 640)\n",
              " path: '/content/drive/MyDrive/YOLO_Datasets/Drone-Object-Detection-2/test/images/0000210_jpg.rf.6acdb0ab8486101b7aaa076f08ff78e1.jpg'\n",
              " probs: None\n",
              " save_dir: 'runs/detect/predict'\n",
              " speed: {'preprocess': 2.0339569998668594, 'inference': 32.90338400006476, 'postprocess': 1.8570610000097076},\n",
              " ultralytics.engine.results.Results object with attributes:\n",
              " \n",
              " boxes: ultralytics.engine.results.Boxes object\n",
              " keypoints: None\n",
              " masks: None\n",
              " names: {0: 'bus', 1: 'car', 2: 'person', 3: 'traffic light', 4: 'tree', 5: 'truck'}\n",
              " obb: None\n",
              " orig_img: array([[[118, 121, 142],\n",
              "         [130, 134, 153],\n",
              "         [125, 130, 145],\n",
              "         ...,\n",
              "         [159, 160, 156],\n",
              "         [164, 165, 161],\n",
              "         [166, 167, 163]],\n",
              " \n",
              "        [[118, 121, 142],\n",
              "         [134, 138, 157],\n",
              "         [122, 127, 142],\n",
              "         ...,\n",
              "         [161, 162, 158],\n",
              "         [163, 164, 160],\n",
              "         [163, 164, 160]],\n",
              " \n",
              "        [[120, 124, 143],\n",
              "         [132, 136, 154],\n",
              "         [120, 126, 139],\n",
              "         ...,\n",
              "         [161, 162, 158],\n",
              "         [160, 161, 157],\n",
              "         [155, 156, 152]],\n",
              " \n",
              "        ...,\n",
              " \n",
              "        [[ 13,  54,  39],\n",
              "         [  8,  51,  38],\n",
              "         [ 22,  64,  53],\n",
              "         ...,\n",
              "         [ 68,  63,  60],\n",
              "         [ 75,  68,  65],\n",
              "         [ 70,  63,  60]],\n",
              " \n",
              "        [[ 11,  52,  37],\n",
              "         [  0,  43,  30],\n",
              "         [ 15,  57,  46],\n",
              "         ...,\n",
              "         [ 74,  69,  68],\n",
              "         [ 68,  63,  62],\n",
              "         [ 71,  66,  65]],\n",
              " \n",
              "        [[ 17,  58,  43],\n",
              "         [  3,  46,  33],\n",
              "         [ 19,  61,  50],\n",
              "         ...,\n",
              "         [ 79,  74,  73],\n",
              "         [ 91,  86,  85],\n",
              "         [ 69,  64,  63]]], dtype=uint8)\n",
              " orig_shape: (640, 640)\n",
              " path: '/content/drive/MyDrive/YOLO_Datasets/Drone-Object-Detection-2/test/images/0000216_jpg.rf.5f73ea44c445c75fe2196d06e803afa5.jpg'\n",
              " probs: None\n",
              " save_dir: 'runs/detect/predict'\n",
              " speed: {'preprocess': 2.9475380001713347, 'inference': 32.96107200003462, 'postprocess': 1.6646290000608133},\n",
              " ultralytics.engine.results.Results object with attributes:\n",
              " \n",
              " boxes: ultralytics.engine.results.Boxes object\n",
              " keypoints: None\n",
              " masks: None\n",
              " names: {0: 'bus', 1: 'car', 2: 'person', 3: 'traffic light', 4: 'tree', 5: 'truck'}\n",
              " obb: None\n",
              " orig_img: array([[[118, 128, 138],\n",
              "         [124, 134, 144],\n",
              "         [120, 129, 138],\n",
              "         ...,\n",
              "         [161, 160, 156],\n",
              "         [165, 164, 160],\n",
              "         [166, 165, 161]],\n",
              " \n",
              "        [[117, 127, 137],\n",
              "         [129, 139, 149],\n",
              "         [119, 128, 137],\n",
              "         ...,\n",
              "         [161, 160, 156],\n",
              "         [163, 162, 158],\n",
              "         [161, 160, 156]],\n",
              " \n",
              "        [[117, 128, 136],\n",
              "         [131, 142, 150],\n",
              "         [120, 129, 138],\n",
              "         ...,\n",
              "         [161, 160, 156],\n",
              "         [159, 158, 154],\n",
              "         [153, 152, 148]],\n",
              " \n",
              "        ...,\n",
              " \n",
              "        [[  8,  51,  42],\n",
              "         [  9,  52,  43],\n",
              "         [ 28,  72,  65],\n",
              "         ...,\n",
              "         [ 73,  71,  71],\n",
              "         [ 71,  69,  69],\n",
              "         [ 71,  69,  69]],\n",
              " \n",
              "        [[  3,  48,  39],\n",
              "         [  0,  45,  36],\n",
              "         [ 12,  56,  49],\n",
              "         ...,\n",
              "         [ 77,  75,  75],\n",
              "         [ 74,  72,  72],\n",
              "         [ 74,  72,  72]],\n",
              " \n",
              "        [[ 12,  57,  48],\n",
              "         [  6,  51,  42],\n",
              "         [ 11,  55,  49],\n",
              "         ...,\n",
              "         [ 80,  78,  78],\n",
              "         [ 78,  76,  76],\n",
              "         [ 75,  73,  73]]], dtype=uint8)\n",
              " orig_shape: (640, 640)\n",
              " path: '/content/drive/MyDrive/YOLO_Datasets/Drone-Object-Detection-2/test/images/0000220_jpg.rf.7f17bfc8e7e9aba0fa0a6da8022b612d.jpg'\n",
              " probs: None\n",
              " save_dir: 'runs/detect/predict'\n",
              " speed: {'preprocess': 2.761433000159741, 'inference': 32.9462899999271, 'postprocess': 1.802555000040229},\n",
              " ultralytics.engine.results.Results object with attributes:\n",
              " \n",
              " boxes: ultralytics.engine.results.Boxes object\n",
              " keypoints: None\n",
              " masks: None\n",
              " names: {0: 'bus', 1: 'car', 2: 'person', 3: 'traffic light', 4: 'tree', 5: 'truck'}\n",
              " obb: None\n",
              " orig_img: array([[[117, 132, 141],\n",
              "         [117, 132, 141],\n",
              "         [121, 137, 144],\n",
              "         ...,\n",
              "         [156, 162, 157],\n",
              "         [162, 168, 163],\n",
              "         [159, 165, 160]],\n",
              " \n",
              "        [[115, 130, 139],\n",
              "         [123, 138, 147],\n",
              "         [119, 135, 142],\n",
              "         ...,\n",
              "         [157, 163, 158],\n",
              "         [159, 165, 160],\n",
              "         [154, 160, 155]],\n",
              " \n",
              "        [[114, 130, 137],\n",
              "         [125, 141, 148],\n",
              "         [120, 133, 141],\n",
              "         ...,\n",
              "         [158, 162, 157],\n",
              "         [156, 160, 155],\n",
              "         [147, 151, 146]],\n",
              " \n",
              "        ...,\n",
              " \n",
              "        [[ 12,  47,  33],\n",
              "         [ 14,  50,  38],\n",
              "         [ 31,  68,  58],\n",
              "         ...,\n",
              "         [ 78,  76,  76],\n",
              "         [ 73,  71,  71],\n",
              "         [ 70,  68,  68]],\n",
              " \n",
              "        [[ 12,  47,  33],\n",
              "         [  5,  41,  29],\n",
              "         [ 20,  57,  47],\n",
              "         ...,\n",
              "         [ 81,  79,  79],\n",
              "         [ 77,  75,  75],\n",
              "         [ 73,  71,  71]],\n",
              " \n",
              "        [[ 26,  61,  47],\n",
              "         [ 12,  48,  36],\n",
              "         [ 25,  62,  52],\n",
              "         ...,\n",
              "         [ 83,  81,  81],\n",
              "         [ 81,  79,  79],\n",
              "         [ 77,  75,  75]]], dtype=uint8)\n",
              " orig_shape: (640, 640)\n",
              " path: '/content/drive/MyDrive/YOLO_Datasets/Drone-Object-Detection-2/test/images/0000224_jpg.rf.fdf2a39eb7cc0d34258e96a5042531eb.jpg'\n",
              " probs: None\n",
              " save_dir: 'runs/detect/predict'\n",
              " speed: {'preprocess': 2.122378999956709, 'inference': 32.93024899994634, 'postprocess': 1.9257260000813403},\n",
              " ultralytics.engine.results.Results object with attributes:\n",
              " \n",
              " boxes: ultralytics.engine.results.Boxes object\n",
              " keypoints: None\n",
              " masks: None\n",
              " names: {0: 'bus', 1: 'car', 2: 'person', 3: 'traffic light', 4: 'tree', 5: 'truck'}\n",
              " obb: None\n",
              " orig_img: array([[[121, 130, 140],\n",
              "         [128, 137, 147],\n",
              "         [124, 133, 142],\n",
              "         ...,\n",
              "         [157, 163, 158],\n",
              "         [162, 168, 163],\n",
              "         [159, 165, 160]],\n",
              " \n",
              "        [[119, 128, 138],\n",
              "         [123, 132, 142],\n",
              "         [127, 136, 145],\n",
              "         ...,\n",
              "         [157, 163, 158],\n",
              "         [159, 165, 160],\n",
              "         [153, 159, 154]],\n",
              " \n",
              "        [[120, 129, 138],\n",
              "         [121, 130, 139],\n",
              "         [129, 138, 147],\n",
              "         ...,\n",
              "         [158, 162, 157],\n",
              "         [155, 159, 154],\n",
              "         [146, 150, 145]],\n",
              " \n",
              "        ...,\n",
              " \n",
              "        [[  7,  52,  36],\n",
              "         [  6,  50,  37],\n",
              "         [ 19,  65,  53],\n",
              "         ...,\n",
              "         [ 72,  67,  68],\n",
              "         [ 76,  70,  71],\n",
              "         [ 82,  76,  77]],\n",
              " \n",
              "        [[  4,  51,  35],\n",
              "         [  0,  43,  30],\n",
              "         [ 14,  60,  48],\n",
              "         ...,\n",
              "         [ 79,  74,  75],\n",
              "         [ 82,  76,  77],\n",
              "         [ 84,  78,  79]],\n",
              " \n",
              "        [[  9,  56,  40],\n",
              "         [  0,  46,  33],\n",
              "         [ 17,  63,  51],\n",
              "         ...,\n",
              "         [ 90,  85,  86],\n",
              "         [ 82,  76,  77],\n",
              "         [ 69,  63,  64]]], dtype=uint8)\n",
              " orig_shape: (640, 640)\n",
              " path: '/content/drive/MyDrive/YOLO_Datasets/Drone-Object-Detection-2/test/images/0000233_jpg.rf.9bc12ece415b5d450325b95853247712.jpg'\n",
              " probs: None\n",
              " save_dir: 'runs/detect/predict'\n",
              " speed: {'preprocess': 2.828799000099025, 'inference': 32.95927099998153, 'postprocess': 2.4402999999892927},\n",
              " ultralytics.engine.results.Results object with attributes:\n",
              " \n",
              " boxes: ultralytics.engine.results.Boxes object\n",
              " keypoints: None\n",
              " masks: None\n",
              " names: {0: 'bus', 1: 'car', 2: 'person', 3: 'traffic light', 4: 'tree', 5: 'truck'}\n",
              " obb: None\n",
              " orig_img: array([[[113, 124, 138],\n",
              "         [128, 140, 152],\n",
              "         [126, 135, 148],\n",
              "         ...,\n",
              "         [158, 164, 159],\n",
              "         [159, 165, 160],\n",
              "         [154, 160, 155]],\n",
              " \n",
              "        [[118, 129, 143],\n",
              "         [121, 133, 145],\n",
              "         [126, 136, 146],\n",
              "         ...,\n",
              "         [158, 164, 159],\n",
              "         [156, 162, 157],\n",
              "         [149, 155, 150]],\n",
              " \n",
              "        [[123, 132, 145],\n",
              "         [115, 124, 137],\n",
              "         [124, 134, 144],\n",
              "         ...,\n",
              "         [158, 162, 157],\n",
              "         [152, 156, 151],\n",
              "         [143, 147, 142]],\n",
              " \n",
              "        ...,\n",
              " \n",
              "        [[  6,  52,  40],\n",
              "         [ 11,  57,  45],\n",
              "         [ 27,  74,  65],\n",
              "         ...,\n",
              "         [ 79,  77,  77],\n",
              "         [ 77,  75,  75],\n",
              "         [ 67,  65,  65]],\n",
              " \n",
              "        [[  0,  48,  36],\n",
              "         [  0,  46,  34],\n",
              "         [ 15,  62,  53],\n",
              "         ...,\n",
              "         [ 82,  80,  80],\n",
              "         [ 81,  79,  79],\n",
              "         [ 68,  66,  66]],\n",
              " \n",
              "        [[  8,  56,  44],\n",
              "         [  1,  49,  37],\n",
              "         [ 16,  63,  54],\n",
              "         ...,\n",
              "         [ 84,  82,  82],\n",
              "         [ 84,  82,  82],\n",
              "         [ 71,  69,  69]]], dtype=uint8)\n",
              " orig_shape: (640, 640)\n",
              " path: '/content/drive/MyDrive/YOLO_Datasets/Drone-Object-Detection-2/test/images/0000238_jpg.rf.7d07a4bd24603561ab0d79b55c4bc1ea.jpg'\n",
              " probs: None\n",
              " save_dir: 'runs/detect/predict'\n",
              " speed: {'preprocess': 2.09187599989491, 'inference': 32.92124900008275, 'postprocess': 1.6939899999215413},\n",
              " ultralytics.engine.results.Results object with attributes:\n",
              " \n",
              " boxes: ultralytics.engine.results.Boxes object\n",
              " keypoints: None\n",
              " masks: None\n",
              " names: {0: 'bus', 1: 'car', 2: 'person', 3: 'traffic light', 4: 'tree', 5: 'truck'}\n",
              " obb: None\n",
              " orig_img: array([[[114, 124, 134],\n",
              "         [134, 144, 154],\n",
              "         [122, 131, 140],\n",
              "         ...,\n",
              "         [160, 162, 156],\n",
              "         [160, 162, 156],\n",
              "         [156, 158, 152]],\n",
              " \n",
              "        [[117, 127, 137],\n",
              "         [120, 130, 140],\n",
              "         [132, 141, 150],\n",
              "         ...,\n",
              "         [161, 163, 157],\n",
              "         [159, 161, 155],\n",
              "         [153, 155, 149]],\n",
              " \n",
              "        [[124, 135, 143],\n",
              "         [115, 126, 134],\n",
              "         [133, 142, 151],\n",
              "         ...,\n",
              "         [165, 167, 161],\n",
              "         [162, 164, 158],\n",
              "         [154, 156, 150]],\n",
              " \n",
              "        ...,\n",
              " \n",
              "        [[  7,  51,  44],\n",
              "         [ 30,  74,  68],\n",
              "         [ 35,  80,  77],\n",
              "         ...,\n",
              "         [ 83,  81,  81],\n",
              "         [ 77,  75,  75],\n",
              "         [ 73,  71,  71]],\n",
              " \n",
              "        [[  0,  43,  37],\n",
              "         [ 12,  58,  52],\n",
              "         [ 36,  81,  78],\n",
              "         ...,\n",
              "         [ 86,  84,  84],\n",
              "         [ 84,  82,  82],\n",
              "         [ 79,  77,  77]],\n",
              " \n",
              "        [[  7,  53,  47],\n",
              "         [ 14,  60,  54],\n",
              "         [ 42,  87,  84],\n",
              "         ...,\n",
              "         [ 85,  83,  83],\n",
              "         [ 86,  84,  84],\n",
              "         [ 82,  80,  80]]], dtype=uint8)\n",
              " orig_shape: (640, 640)\n",
              " path: '/content/drive/MyDrive/YOLO_Datasets/Drone-Object-Detection-2/test/images/0000246_jpg.rf.ecc114313376074c3126a63e7d7cc2cc.jpg'\n",
              " probs: None\n",
              " save_dir: 'runs/detect/predict'\n",
              " speed: {'preprocess': 2.641544000198337, 'inference': 37.120377000064764, 'postprocess': 12.046082000097158},\n",
              " ultralytics.engine.results.Results object with attributes:\n",
              " \n",
              " boxes: ultralytics.engine.results.Boxes object\n",
              " keypoints: None\n",
              " masks: None\n",
              " names: {0: 'bus', 1: 'car', 2: 'person', 3: 'traffic light', 4: 'tree', 5: 'truck'}\n",
              " obb: None\n",
              " orig_img: array([[[128, 131, 129],\n",
              "         [138, 141, 139],\n",
              "         [133, 136, 134],\n",
              "         ...,\n",
              "         [170, 176, 171],\n",
              "         [161, 167, 162],\n",
              "         [161, 167, 162]],\n",
              " \n",
              "        [[132, 135, 133],\n",
              "         [134, 137, 135],\n",
              "         [127, 130, 128],\n",
              "         ...,\n",
              "         [172, 178, 173],\n",
              "         [163, 169, 164],\n",
              "         [163, 169, 164]],\n",
              " \n",
              "        [[136, 139, 137],\n",
              "         [127, 130, 128],\n",
              "         [117, 120, 118],\n",
              "         ...,\n",
              "         [171, 177, 172],\n",
              "         [162, 168, 163],\n",
              "         [162, 168, 163]],\n",
              " \n",
              "        ...,\n",
              " \n",
              "        [[ 30,  74,  75],\n",
              "         [ 29,  73,  74],\n",
              "         [ 27,  71,  72],\n",
              "         ...,\n",
              "         [ 80,  78,  78],\n",
              "         [ 80,  78,  78],\n",
              "         [ 82,  80,  80]],\n",
              " \n",
              "        [[ 33,  79,  80],\n",
              "         [ 31,  77,  78],\n",
              "         [ 29,  73,  74],\n",
              "         ...,\n",
              "         [ 82,  80,  80],\n",
              "         [ 82,  80,  80],\n",
              "         [ 85,  83,  83]],\n",
              " \n",
              "        [[ 37,  83,  84],\n",
              "         [ 34,  80,  81],\n",
              "         [ 31,  75,  76],\n",
              "         ...,\n",
              "         [ 82,  80,  80],\n",
              "         [ 83,  81,  81],\n",
              "         [ 86,  84,  84]]], dtype=uint8)\n",
              " orig_shape: (640, 640)\n",
              " path: '/content/drive/MyDrive/YOLO_Datasets/Drone-Object-Detection-2/test/images/0000256_jpg.rf.5e09703dc23f207bb83ff14b73f6e5fc.jpg'\n",
              " probs: None\n",
              " save_dir: 'runs/detect/predict'\n",
              " speed: {'preprocess': 2.060593000123845, 'inference': 32.94345700010126, 'postprocess': 2.0391379998727643},\n",
              " ultralytics.engine.results.Results object with attributes:\n",
              " \n",
              " boxes: ultralytics.engine.results.Boxes object\n",
              " keypoints: None\n",
              " masks: None\n",
              " names: {0: 'bus', 1: 'car', 2: 'person', 3: 'traffic light', 4: 'tree', 5: 'truck'}\n",
              " obb: None\n",
              " orig_img: array([[[126, 129, 127],\n",
              "         [131, 134, 132],\n",
              "         [127, 130, 128],\n",
              "         ...,\n",
              "         [175, 178, 176],\n",
              "         [165, 168, 166],\n",
              "         [164, 167, 165]],\n",
              " \n",
              "        [[134, 137, 135],\n",
              "         [128, 131, 129],\n",
              "         [119, 122, 120],\n",
              "         ...,\n",
              "         [176, 179, 177],\n",
              "         [165, 168, 166],\n",
              "         [164, 167, 165]],\n",
              " \n",
              "        [[139, 142, 140],\n",
              "         [123, 126, 124],\n",
              "         [109, 112, 110],\n",
              "         ...,\n",
              "         [176, 177, 175],\n",
              "         [163, 166, 164],\n",
              "         [162, 165, 163]],\n",
              " \n",
              "        ...,\n",
              " \n",
              "        [[ 22,  72,  72],\n",
              "         [ 21,  71,  71],\n",
              "         [ 20,  68,  69],\n",
              "         ...,\n",
              "         [ 80,  78,  78],\n",
              "         [ 81,  79,  79],\n",
              "         [ 81,  79,  79]],\n",
              " \n",
              "        [[ 26,  78,  78],\n",
              "         [ 25,  75,  75],\n",
              "         [ 22,  70,  71],\n",
              "         ...,\n",
              "         [ 82,  80,  80],\n",
              "         [ 84,  82,  82],\n",
              "         [ 83,  81,  81]],\n",
              " \n",
              "        [[ 30,  82,  82],\n",
              "         [ 29,  79,  79],\n",
              "         [ 25,  73,  74],\n",
              "         ...,\n",
              "         [ 81,  79,  79],\n",
              "         [ 82,  80,  80],\n",
              "         [ 81,  79,  79]]], dtype=uint8)\n",
              " orig_shape: (640, 640)\n",
              " path: '/content/drive/MyDrive/YOLO_Datasets/Drone-Object-Detection-2/test/images/0000257_jpg.rf.3b68a828e7d3c44cceacb87ec222115d.jpg'\n",
              " probs: None\n",
              " save_dir: 'runs/detect/predict'\n",
              " speed: {'preprocess': 2.0625119998385344, 'inference': 32.91387100011889, 'postprocess': 1.7015089999858901},\n",
              " ultralytics.engine.results.Results object with attributes:\n",
              " \n",
              " boxes: ultralytics.engine.results.Boxes object\n",
              " keypoints: None\n",
              " masks: None\n",
              " names: {0: 'bus', 1: 'car', 2: 'person', 3: 'traffic light', 4: 'tree', 5: 'truck'}\n",
              " obb: None\n",
              " orig_img: array([[[142, 145, 143],\n",
              "         [124, 127, 125],\n",
              "         [111, 114, 112],\n",
              "         ...,\n",
              "         [189, 192, 190],\n",
              "         [171, 173, 173],\n",
              "         [166, 168, 168]],\n",
              " \n",
              "        [[145, 148, 146],\n",
              "         [125, 128, 126],\n",
              "         [111, 114, 112],\n",
              "         ...,\n",
              "         [187, 190, 188],\n",
              "         [168, 170, 170],\n",
              "         [164, 166, 166]],\n",
              " \n",
              "        [[138, 141, 139],\n",
              "         [119, 122, 120],\n",
              "         [108, 111, 109],\n",
              "         ...,\n",
              "         [184, 185, 183],\n",
              "         [165, 167, 167],\n",
              "         [161, 163, 163]],\n",
              " \n",
              "        ...,\n",
              " \n",
              "        [[ 27,  69,  74],\n",
              "         [ 28,  70,  75],\n",
              "         [ 24,  67,  70],\n",
              "         ...,\n",
              "         [ 80,  75,  76],\n",
              "         [ 80,  75,  76],\n",
              "         [ 82,  77,  78]],\n",
              " \n",
              "        [[ 34,  79,  83],\n",
              "         [ 28,  73,  77],\n",
              "         [ 24,  67,  70],\n",
              "         ...,\n",
              "         [ 80,  75,  76],\n",
              "         [ 81,  76,  77],\n",
              "         [ 84,  79,  80]],\n",
              " \n",
              "        [[ 40,  85,  89],\n",
              "         [ 29,  74,  78],\n",
              "         [ 25,  68,  71],\n",
              "         ...,\n",
              "         [ 82,  77,  78],\n",
              "         [ 83,  78,  79],\n",
              "         [ 87,  82,  83]]], dtype=uint8)\n",
              " orig_shape: (640, 640)\n",
              " path: '/content/drive/MyDrive/YOLO_Datasets/Drone-Object-Detection-2/test/images/0000258_jpg.rf.2b6b8810329dd61dad892af98cefb810.jpg'\n",
              " probs: None\n",
              " save_dir: 'runs/detect/predict'\n",
              " speed: {'preprocess': 2.737207000109265, 'inference': 34.601925000060874, 'postprocess': 1.86090600004718},\n",
              " ultralytics.engine.results.Results object with attributes:\n",
              " \n",
              " boxes: ultralytics.engine.results.Boxes object\n",
              " keypoints: None\n",
              " masks: None\n",
              " names: {0: 'bus', 1: 'car', 2: 'person', 3: 'traffic light', 4: 'tree', 5: 'truck'}\n",
              " obb: None\n",
              " orig_img: array([[[137, 140, 138],\n",
              "         [119, 122, 120],\n",
              "         [109, 112, 110],\n",
              "         ...,\n",
              "         [191, 195, 189],\n",
              "         [186, 185, 181],\n",
              "         [165, 164, 160]],\n",
              " \n",
              "        [[129, 132, 130],\n",
              "         [115, 118, 116],\n",
              "         [109, 112, 110],\n",
              "         ...,\n",
              "         [190, 194, 188],\n",
              "         [180, 179, 175],\n",
              "         [166, 165, 161]],\n",
              " \n",
              "        [[118, 121, 119],\n",
              "         [111, 114, 112],\n",
              "         [110, 113, 111],\n",
              "         ...,\n",
              "         [190, 194, 189],\n",
              "         [173, 171, 170],\n",
              "         [169, 167, 166]],\n",
              " \n",
              "        ...,\n",
              " \n",
              "        [[ 26,  72,  73],\n",
              "         [ 21,  67,  68],\n",
              "         [ 20,  64,  65],\n",
              "         ...,\n",
              "         [ 75,  70,  72],\n",
              "         [ 79,  74,  76],\n",
              "         [ 83,  78,  80]],\n",
              " \n",
              "        [[ 26,  74,  76],\n",
              "         [ 22,  67,  70],\n",
              "         [ 19,  63,  64],\n",
              "         ...,\n",
              "         [ 75,  70,  72],\n",
              "         [ 78,  73,  75],\n",
              "         [ 80,  75,  77]],\n",
              " \n",
              "        [[ 28,  76,  78],\n",
              "         [ 20,  68,  70],\n",
              "         [ 18,  62,  63],\n",
              "         ...,\n",
              "         [ 82,  77,  79],\n",
              "         [ 82,  77,  79],\n",
              "         [ 80,  75,  77]]], dtype=uint8)\n",
              " orig_shape: (640, 640)\n",
              " path: '/content/drive/MyDrive/YOLO_Datasets/Drone-Object-Detection-2/test/images/0000260_jpg.rf.3f818bc84622d75661fb38c2fcae26c3.jpg'\n",
              " probs: None\n",
              " save_dir: 'runs/detect/predict'\n",
              " speed: {'preprocess': 2.104601000155526, 'inference': 32.89825899992138, 'postprocess': 1.7032300002028933},\n",
              " ultralytics.engine.results.Results object with attributes:\n",
              " \n",
              " boxes: ultralytics.engine.results.Boxes object\n",
              " keypoints: None\n",
              " masks: None\n",
              " names: {0: 'bus', 1: 'car', 2: 'person', 3: 'traffic light', 4: 'tree', 5: 'truck'}\n",
              " obb: None\n",
              " orig_img: array([[[111, 114, 112],\n",
              "         [113, 116, 114],\n",
              "         [116, 119, 117],\n",
              "         ...,\n",
              "         [197, 200, 184],\n",
              "         [185, 187, 168],\n",
              "         [171, 173, 154]],\n",
              " \n",
              "        [[109, 112, 110],\n",
              "         [112, 115, 113],\n",
              "         [115, 118, 116],\n",
              "         ...,\n",
              "         [196, 199, 183],\n",
              "         [180, 181, 165],\n",
              "         [166, 168, 149]],\n",
              " \n",
              "        [[109, 112, 110],\n",
              "         [111, 114, 112],\n",
              "         [115, 118, 116],\n",
              "         ...,\n",
              "         [191, 196, 181],\n",
              "         [175, 178, 163],\n",
              "         [165, 168, 152]],\n",
              " \n",
              "        ...,\n",
              " \n",
              "        [[ 30,  68,  70],\n",
              "         [ 28,  66,  68],\n",
              "         [ 26,  64,  66],\n",
              "         ...,\n",
              "         [ 77,  72,  73],\n",
              "         [ 78,  73,  74],\n",
              "         [ 79,  74,  75]],\n",
              " \n",
              "        [[ 32,  69,  73],\n",
              "         [ 30,  67,  71],\n",
              "         [ 26,  64,  66],\n",
              "         ...,\n",
              "         [ 77,  72,  73],\n",
              "         [ 80,  75,  76],\n",
              "         [ 82,  77,  78]],\n",
              " \n",
              "        [[ 32,  69,  73],\n",
              "         [ 29,  66,  70],\n",
              "         [ 25,  63,  65],\n",
              "         ...,\n",
              "         [ 78,  73,  74],\n",
              "         [ 81,  76,  77],\n",
              "         [ 85,  80,  81]]], dtype=uint8)\n",
              " orig_shape: (640, 640)\n",
              " path: '/content/drive/MyDrive/YOLO_Datasets/Drone-Object-Detection-2/test/images/0000261_jpg.rf.99da704df8f93756ed13a0e5fc9820cc.jpg'\n",
              " probs: None\n",
              " save_dir: 'runs/detect/predict'\n",
              " speed: {'preprocess': 2.780992999987575, 'inference': 32.98534300006395, 'postprocess': 2.1379439999691385},\n",
              " ultralytics.engine.results.Results object with attributes:\n",
              " \n",
              " boxes: ultralytics.engine.results.Boxes object\n",
              " keypoints: None\n",
              " masks: None\n",
              " names: {0: 'bus', 1: 'car', 2: 'person', 3: 'traffic light', 4: 'tree', 5: 'truck'}\n",
              " obb: None\n",
              " orig_img: array([[[121, 124, 122],\n",
              "         [122, 125, 123],\n",
              "         [123, 126, 124],\n",
              "         ...,\n",
              "         [186, 190, 184],\n",
              "         [194, 200, 199],\n",
              "         [178, 188, 188]],\n",
              " \n",
              "        [[121, 124, 122],\n",
              "         [122, 125, 123],\n",
              "         [123, 126, 124],\n",
              "         ...,\n",
              "         [175, 177, 171],\n",
              "         [173, 180, 177],\n",
              "         [171, 179, 179]],\n",
              " \n",
              "        [[121, 124, 122],\n",
              "         [122, 125, 123],\n",
              "         [123, 126, 124],\n",
              "         ...,\n",
              "         [185, 186, 177],\n",
              "         [177, 180, 178],\n",
              "         [182, 188, 187]],\n",
              " \n",
              "        ...,\n",
              " \n",
              "        [[ 26,  57,  54],\n",
              "         [ 24,  55,  52],\n",
              "         [ 24,  53,  50],\n",
              "         ...,\n",
              "         [ 78,  73,  74],\n",
              "         [ 76,  71,  72],\n",
              "         [ 74,  69,  70]],\n",
              " \n",
              "        [[ 20,  51,  48],\n",
              "         [ 19,  50,  47],\n",
              "         [ 19,  50,  47],\n",
              "         ...,\n",
              "         [ 82,  77,  78],\n",
              "         [ 80,  75,  76],\n",
              "         [ 78,  73,  74]],\n",
              " \n",
              "        [[ 26,  57,  54],\n",
              "         [ 25,  56,  53],\n",
              "         [ 24,  55,  52],\n",
              "         ...,\n",
              "         [ 85,  80,  81],\n",
              "         [ 84,  79,  80],\n",
              "         [ 82,  77,  78]]], dtype=uint8)\n",
              " orig_shape: (640, 640)\n",
              " path: '/content/drive/MyDrive/YOLO_Datasets/Drone-Object-Detection-2/test/images/0000273_jpg.rf.1fb29e1e2b4aa0c7555e47df564d1320.jpg'\n",
              " probs: None\n",
              " save_dir: 'runs/detect/predict'\n",
              " speed: {'preprocess': 2.0767029998296493, 'inference': 32.868757999949594, 'postprocess': 1.7360780000217346},\n",
              " ultralytics.engine.results.Results object with attributes:\n",
              " \n",
              " boxes: ultralytics.engine.results.Boxes object\n",
              " keypoints: None\n",
              " masks: None\n",
              " names: {0: 'bus', 1: 'car', 2: 'person', 3: 'traffic light', 4: 'tree', 5: 'truck'}\n",
              " obb: None\n",
              " orig_img: array([[[123, 126, 124],\n",
              "         [126, 129, 127],\n",
              "         [125, 128, 126],\n",
              "         ...,\n",
              "         [186, 170, 171],\n",
              "         [213, 195, 194],\n",
              "         [197, 179, 178]],\n",
              " \n",
              "        [[124, 127, 125],\n",
              "         [126, 129, 127],\n",
              "         [125, 128, 126],\n",
              "         ...,\n",
              "         [141, 124, 121],\n",
              "         [176, 157, 154],\n",
              "         [184, 165, 160]],\n",
              " \n",
              "        [[124, 127, 125],\n",
              "         [126, 129, 127],\n",
              "         [125, 128, 126],\n",
              "         ...,\n",
              "         [119, 100,  92],\n",
              "         [143, 122, 114],\n",
              "         [153, 133, 122]],\n",
              " \n",
              "        ...,\n",
              " \n",
              "        [[ 22,  55,  48],\n",
              "         [ 20,  53,  46],\n",
              "         [ 20,  51,  42],\n",
              "         ...,\n",
              "         [ 75,  70,  71],\n",
              "         [ 75,  70,  71],\n",
              "         [ 75,  70,  71]],\n",
              " \n",
              "        [[ 19,  53,  46],\n",
              "         [ 18,  51,  44],\n",
              "         [ 17,  50,  43],\n",
              "         ...,\n",
              "         [ 76,  71,  72],\n",
              "         [ 76,  71,  72],\n",
              "         [ 76,  71,  72]],\n",
              " \n",
              "        [[ 17,  51,  44],\n",
              "         [ 15,  49,  42],\n",
              "         [ 16,  49,  42],\n",
              "         ...,\n",
              "         [ 77,  72,  73],\n",
              "         [ 77,  72,  73],\n",
              "         [ 77,  72,  73]]], dtype=uint8)\n",
              " orig_shape: (640, 640)\n",
              " path: '/content/drive/MyDrive/YOLO_Datasets/Drone-Object-Detection-2/test/images/0000276_jpg.rf.0211cb784bdb20edc5f2c8687d7dcca0.jpg'\n",
              " probs: None\n",
              " save_dir: 'runs/detect/predict'\n",
              " speed: {'preprocess': 2.7402250000250206, 'inference': 32.922239000072295, 'postprocess': 2.0757009999670117},\n",
              " ultralytics.engine.results.Results object with attributes:\n",
              " \n",
              " boxes: ultralytics.engine.results.Boxes object\n",
              " keypoints: None\n",
              " masks: None\n",
              " names: {0: 'bus', 1: 'car', 2: 'person', 3: 'traffic light', 4: 'tree', 5: 'truck'}\n",
              " obb: None\n",
              " orig_img: array([[[125, 128, 126],\n",
              "         [125, 128, 126],\n",
              "         [125, 128, 126],\n",
              "         ...,\n",
              "         [149, 132, 105],\n",
              "         [162, 143, 110],\n",
              "         [137, 117,  82]],\n",
              " \n",
              "        [[122, 125, 123],\n",
              "         [122, 125, 123],\n",
              "         [122, 125, 123],\n",
              "         ...,\n",
              "         [145, 128, 101],\n",
              "         [181, 161, 130],\n",
              "         [151, 131,  96]],\n",
              " \n",
              "        [[121, 124, 122],\n",
              "         [121, 124, 122],\n",
              "         [121, 124, 122],\n",
              "         ...,\n",
              "         [155, 141, 113],\n",
              "         [205, 187, 156],\n",
              "         [194, 175, 142]],\n",
              " \n",
              "        ...,\n",
              " \n",
              "        [[ 26,  47,  39],\n",
              "         [ 20,  41,  33],\n",
              "         [ 17,  36,  27],\n",
              "         ...,\n",
              "         [ 75,  70,  71],\n",
              "         [ 75,  70,  71],\n",
              "         [ 76,  71,  72]],\n",
              " \n",
              "        [[ 23,  44,  36],\n",
              "         [ 26,  47,  39],\n",
              "         [ 27,  46,  37],\n",
              "         ...,\n",
              "         [ 75,  70,  71],\n",
              "         [ 75,  70,  71],\n",
              "         [ 76,  71,  72]],\n",
              " \n",
              "        [[ 24,  45,  37],\n",
              "         [ 35,  56,  48],\n",
              "         [ 38,  57,  48],\n",
              "         ...,\n",
              "         [ 75,  70,  71],\n",
              "         [ 75,  70,  71],\n",
              "         [ 76,  71,  72]]], dtype=uint8)\n",
              " orig_shape: (640, 640)\n",
              " path: '/content/drive/MyDrive/YOLO_Datasets/Drone-Object-Detection-2/test/images/0000280_jpg.rf.844a76794ed9ba52f11dad6b68fe693f.jpg'\n",
              " probs: None\n",
              " save_dir: 'runs/detect/predict'\n",
              " speed: {'preprocess': 2.304218000062974, 'inference': 32.89384000004247, 'postprocess': 1.692112000000634},\n",
              " ultralytics.engine.results.Results object with attributes:\n",
              " \n",
              " boxes: ultralytics.engine.results.Boxes object\n",
              " keypoints: None\n",
              " masks: None\n",
              " names: {0: 'bus', 1: 'car', 2: 'person', 3: 'traffic light', 4: 'tree', 5: 'truck'}\n",
              " obb: None\n",
              " orig_img: array([[[120, 121, 119],\n",
              "         [121, 122, 120],\n",
              "         [122, 123, 121],\n",
              "         ...,\n",
              "         [ 61,  55,  60],\n",
              "         [ 81,  75,  80],\n",
              "         [116, 110, 115]],\n",
              " \n",
              "        [[123, 124, 122],\n",
              "         [124, 125, 123],\n",
              "         [124, 125, 123],\n",
              "         ...,\n",
              "         [140, 134, 139],\n",
              "         [127, 121, 126],\n",
              "         [140, 134, 139]],\n",
              " \n",
              "        [[127, 128, 126],\n",
              "         [127, 128, 126],\n",
              "         [127, 128, 126],\n",
              "         ...,\n",
              "         [159, 154, 156],\n",
              "         [141, 136, 138],\n",
              "         [161, 156, 158]],\n",
              " \n",
              "        ...,\n",
              " \n",
              "        [[ 31,  54,  39],\n",
              "         [ 25,  48,  33],\n",
              "         [ 16,  42,  26],\n",
              "         ...,\n",
              "         [ 77,  72,  73],\n",
              "         [ 77,  72,  73],\n",
              "         [ 74,  69,  70]],\n",
              " \n",
              "        [[ 22,  45,  31],\n",
              "         [ 20,  43,  29],\n",
              "         [ 18,  41,  26],\n",
              "         ...,\n",
              "         [ 76,  71,  72],\n",
              "         [ 77,  72,  73],\n",
              "         [ 73,  68,  69]],\n",
              " \n",
              "        [[ 18,  41,  27],\n",
              "         [ 20,  43,  29],\n",
              "         [ 21,  44,  29],\n",
              "         ...,\n",
              "         [ 74,  69,  70],\n",
              "         [ 75,  70,  71],\n",
              "         [ 71,  66,  67]]], dtype=uint8)\n",
              " orig_shape: (640, 640)\n",
              " path: '/content/drive/MyDrive/YOLO_Datasets/Drone-Object-Detection-2/test/images/0000291_jpg.rf.b0b5dd411e3c539ba616d7dc9e2459da.jpg'\n",
              " probs: None\n",
              " save_dir: 'runs/detect/predict'\n",
              " speed: {'preprocess': 2.1494309999070538, 'inference': 32.869598999923255, 'postprocess': 1.7117069999130763},\n",
              " ultralytics.engine.results.Results object with attributes:\n",
              " \n",
              " boxes: ultralytics.engine.results.Boxes object\n",
              " keypoints: None\n",
              " masks: None\n",
              " names: {0: 'bus', 1: 'car', 2: 'person', 3: 'traffic light', 4: 'tree', 5: 'truck'}\n",
              " obb: None\n",
              " orig_img: array([[[127, 128, 126],\n",
              "         [127, 128, 126],\n",
              "         [126, 127, 125],\n",
              "         ...,\n",
              "         [176, 180, 175],\n",
              "         [213, 220, 213],\n",
              "         [209, 216, 209]],\n",
              " \n",
              "        [[127, 128, 126],\n",
              "         [127, 128, 126],\n",
              "         [126, 127, 125],\n",
              "         ...,\n",
              "         [148, 152, 147],\n",
              "         [182, 189, 182],\n",
              "         [188, 195, 188]],\n",
              " \n",
              "        [[127, 128, 126],\n",
              "         [127, 128, 126],\n",
              "         [126, 127, 125],\n",
              "         ...,\n",
              "         [123, 127, 122],\n",
              "         [143, 147, 141],\n",
              "         [162, 166, 160]],\n",
              " \n",
              "        ...,\n",
              " \n",
              "        [[ 13,  42,  17],\n",
              "         [ 15,  45,  20],\n",
              "         [ 18,  50,  25],\n",
              "         ...,\n",
              "         [ 73,  70,  72],\n",
              "         [ 74,  71,  73],\n",
              "         [ 74,  71,  73]],\n",
              " \n",
              "        [[ 15,  41,  17],\n",
              "         [ 14,  43,  18],\n",
              "         [ 15,  45,  20],\n",
              "         ...,\n",
              "         [ 73,  70,  72],\n",
              "         [ 74,  71,  73],\n",
              "         [ 74,  71,  73]],\n",
              " \n",
              "        [[ 19,  45,  21],\n",
              "         [ 15,  44,  19],\n",
              "         [ 14,  43,  18],\n",
              "         ...,\n",
              "         [ 72,  69,  71],\n",
              "         [ 73,  70,  72],\n",
              "         [ 74,  71,  73]]], dtype=uint8)\n",
              " orig_shape: (640, 640)\n",
              " path: '/content/drive/MyDrive/YOLO_Datasets/Drone-Object-Detection-2/test/images/0000295_jpg.rf.1d9a7d46b1fcc89711208104000b510a.jpg'\n",
              " probs: None\n",
              " save_dir: 'runs/detect/predict'\n",
              " speed: {'preprocess': 2.1893190000810137, 'inference': 32.89803499978916, 'postprocess': 1.7805869999847346},\n",
              " ultralytics.engine.results.Results object with attributes:\n",
              " \n",
              " boxes: ultralytics.engine.results.Boxes object\n",
              " keypoints: None\n",
              " masks: None\n",
              " names: {0: 'bus', 1: 'car', 2: 'person', 3: 'traffic light', 4: 'tree', 5: 'truck'}\n",
              " obb: None\n",
              " orig_img: array([[[120, 122, 123],\n",
              "         [122, 124, 125],\n",
              "         [125, 127, 128],\n",
              "         ...,\n",
              "         [164, 161, 156],\n",
              "         [100,  97,  92],\n",
              "         [128, 125, 120]],\n",
              " \n",
              "        [[121, 123, 124],\n",
              "         [123, 125, 126],\n",
              "         [124, 126, 127],\n",
              "         ...,\n",
              "         [162, 159, 154],\n",
              "         [104, 101,  96],\n",
              "         [134, 131, 126]],\n",
              " \n",
              "        [[123, 125, 126],\n",
              "         [124, 126, 127],\n",
              "         [124, 126, 127],\n",
              "         ...,\n",
              "         [141, 138, 133],\n",
              "         [ 93,  90,  85],\n",
              "         [125, 122, 117]],\n",
              " \n",
              "        ...,\n",
              " \n",
              "        [[ 12,  66,  29],\n",
              "         [ 18,  72,  35],\n",
              "         [ 21,  78,  40],\n",
              "         ...,\n",
              "         [ 77,  72,  73],\n",
              "         [ 75,  70,  71],\n",
              "         [ 74,  69,  70]],\n",
              " \n",
              "        [[ 10,  64,  27],\n",
              "         [ 16,  70,  33],\n",
              "         [ 19,  76,  38],\n",
              "         ...,\n",
              "         [ 79,  74,  75],\n",
              "         [ 78,  73,  74],\n",
              "         [ 76,  71,  72]],\n",
              " \n",
              "        [[ 10,  64,  27],\n",
              "         [ 15,  69,  32],\n",
              "         [ 17,  74,  36],\n",
              "         ...,\n",
              "         [ 78,  73,  74],\n",
              "         [ 76,  71,  72],\n",
              "         [ 74,  69,  70]]], dtype=uint8)\n",
              " orig_shape: (640, 640)\n",
              " path: '/content/drive/MyDrive/YOLO_Datasets/Drone-Object-Detection-2/test/images/0000300_jpg.rf.3b98c7435ca49d3caec6dcd38869508a.jpg'\n",
              " probs: None\n",
              " save_dir: 'runs/detect/predict'\n",
              " speed: {'preprocess': 2.2136339998723997, 'inference': 32.95033299991701, 'postprocess': 1.7084109999814245},\n",
              " ultralytics.engine.results.Results object with attributes:\n",
              " \n",
              " boxes: ultralytics.engine.results.Boxes object\n",
              " keypoints: None\n",
              " masks: None\n",
              " names: {0: 'bus', 1: 'car', 2: 'person', 3: 'traffic light', 4: 'tree', 5: 'truck'}\n",
              " obb: None\n",
              " orig_img: array([[[118, 120, 120],\n",
              "         [122, 124, 124],\n",
              "         [124, 129, 128],\n",
              "         ...,\n",
              "         [193, 193, 187],\n",
              "         [184, 180, 175],\n",
              "         [124, 120, 115]],\n",
              " \n",
              "        [[121, 123, 123],\n",
              "         [121, 123, 123],\n",
              "         [119, 124, 123],\n",
              "         ...,\n",
              "         [188, 188, 182],\n",
              "         [179, 176, 172],\n",
              "         [129, 125, 120]],\n",
              " \n",
              "        [[127, 129, 129],\n",
              "         [124, 126, 126],\n",
              "         [119, 124, 123],\n",
              "         ...,\n",
              "         [186, 185, 181],\n",
              "         [174, 170, 169],\n",
              "         [105, 102,  98]],\n",
              " \n",
              "        ...,\n",
              " \n",
              "        [[ 18,  76,  41],\n",
              "         [ 20,  78,  43],\n",
              "         [ 22,  80,  45],\n",
              "         ...,\n",
              "         [ 77,  72,  73],\n",
              "         [ 76,  71,  72],\n",
              "         [ 74,  69,  70]],\n",
              " \n",
              "        [[ 19,  77,  42],\n",
              "         [ 20,  78,  43],\n",
              "         [ 22,  80,  45],\n",
              "         ...,\n",
              "         [ 76,  71,  72],\n",
              "         [ 75,  70,  71],\n",
              "         [ 73,  68,  69]],\n",
              " \n",
              "        [[ 21,  79,  44],\n",
              "         [ 21,  79,  44],\n",
              "         [ 22,  80,  45],\n",
              "         ...,\n",
              "         [ 77,  72,  73],\n",
              "         [ 75,  70,  71],\n",
              "         [ 73,  68,  69]]], dtype=uint8)\n",
              " orig_shape: (640, 640)\n",
              " path: '/content/drive/MyDrive/YOLO_Datasets/Drone-Object-Detection-2/test/images/0000303_jpg.rf.a6786ba58122284268c0696e2b3c1cf7.jpg'\n",
              " probs: None\n",
              " save_dir: 'runs/detect/predict'\n",
              " speed: {'preprocess': 2.869348999865906, 'inference': 32.93268800007354, 'postprocess': 2.132295000137674},\n",
              " ultralytics.engine.results.Results object with attributes:\n",
              " \n",
              " boxes: ultralytics.engine.results.Boxes object\n",
              " keypoints: None\n",
              " masks: None\n",
              " names: {0: 'bus', 1: 'car', 2: 'person', 3: 'traffic light', 4: 'tree', 5: 'truck'}\n",
              " obb: None\n",
              " orig_img: array([[[122, 124, 125],\n",
              "         [123, 125, 126],\n",
              "         [120, 124, 125],\n",
              "         ...,\n",
              "         [218, 215, 211],\n",
              "         [178, 175, 170],\n",
              "         [178, 175, 170]],\n",
              " \n",
              "        [[122, 124, 125],\n",
              "         [124, 126, 127],\n",
              "         [123, 127, 128],\n",
              "         ...,\n",
              "         [200, 197, 193],\n",
              "         [183, 180, 175],\n",
              "         [185, 182, 177]],\n",
              " \n",
              "        [[122, 124, 125],\n",
              "         [123, 125, 126],\n",
              "         [121, 125, 126],\n",
              "         ...,\n",
              "         [196, 193, 189],\n",
              "         [187, 184, 180],\n",
              "         [161, 158, 154]],\n",
              " \n",
              "        ...,\n",
              " \n",
              "        [[ 19,  76,  38],\n",
              "         [ 23,  80,  42],\n",
              "         [ 26,  83,  45],\n",
              "         ...,\n",
              "         [ 72,  67,  68],\n",
              "         [ 73,  68,  69],\n",
              "         [ 74,  69,  70]],\n",
              " \n",
              "        [[ 19,  76,  38],\n",
              "         [ 24,  81,  43],\n",
              "         [ 27,  84,  46],\n",
              "         ...,\n",
              "         [ 74,  69,  70],\n",
              "         [ 74,  69,  70],\n",
              "         [ 74,  69,  70]],\n",
              " \n",
              "        [[ 22,  79,  41],\n",
              "         [ 26,  83,  45],\n",
              "         [ 29,  86,  48],\n",
              "         ...,\n",
              "         [ 77,  72,  73],\n",
              "         [ 78,  73,  74],\n",
              "         [ 77,  72,  73]]], dtype=uint8)\n",
              " orig_shape: (640, 640)\n",
              " path: '/content/drive/MyDrive/YOLO_Datasets/Drone-Object-Detection-2/test/images/0000305_jpg.rf.a6984011c1f01537169091d4fda0e172.jpg'\n",
              " probs: None\n",
              " save_dir: 'runs/detect/predict'\n",
              " speed: {'preprocess': 2.0558579999487847, 'inference': 32.88829300004181, 'postprocess': 1.8025029999080289},\n",
              " ultralytics.engine.results.Results object with attributes:\n",
              " \n",
              " boxes: ultralytics.engine.results.Boxes object\n",
              " keypoints: None\n",
              " masks: None\n",
              " names: {0: 'bus', 1: 'car', 2: 'person', 3: 'traffic light', 4: 'tree', 5: 'truck'}\n",
              " obb: None\n",
              " orig_img: array([[[121, 127, 126],\n",
              "         [117, 123, 122],\n",
              "         [121, 127, 126],\n",
              "         ...,\n",
              "         [199, 197, 196],\n",
              "         [187, 187, 187],\n",
              "         [180, 180, 180]],\n",
              " \n",
              "        [[127, 133, 132],\n",
              "         [120, 126, 125],\n",
              "         [121, 127, 126],\n",
              "         ...,\n",
              "         [189, 187, 186],\n",
              "         [183, 181, 181],\n",
              "         [163, 163, 163]],\n",
              " \n",
              "        [[127, 132, 131],\n",
              "         [121, 126, 125],\n",
              "         [124, 129, 128],\n",
              "         ...,\n",
              "         [137, 135, 134],\n",
              "         [130, 128, 128],\n",
              "         [142, 140, 140]],\n",
              " \n",
              "        ...,\n",
              " \n",
              "        [[ 15,  75,  41],\n",
              "         [ 21,  81,  47],\n",
              "         [ 26,  83,  52],\n",
              "         ...,\n",
              "         [ 72,  67,  68],\n",
              "         [ 72,  67,  68],\n",
              "         [ 75,  70,  71]],\n",
              " \n",
              "        [[ 15,  76,  42],\n",
              "         [ 21,  82,  48],\n",
              "         [ 23,  82,  51],\n",
              "         ...,\n",
              "         [ 73,  68,  69],\n",
              "         [ 72,  67,  68],\n",
              "         [ 73,  68,  69]],\n",
              " \n",
              "        [[ 16,  77,  43],\n",
              "         [ 22,  83,  49],\n",
              "         [ 21,  80,  49],\n",
              "         ...,\n",
              "         [ 75,  70,  71],\n",
              "         [ 73,  68,  69],\n",
              "         [ 75,  70,  71]]], dtype=uint8)\n",
              " orig_shape: (640, 640)\n",
              " path: '/content/drive/MyDrive/YOLO_Datasets/Drone-Object-Detection-2/test/images/0000306_jpg.rf.b602a553e3e79d33f502fe9cf113b517.jpg'\n",
              " probs: None\n",
              " save_dir: 'runs/detect/predict'\n",
              " speed: {'preprocess': 2.1857219999219524, 'inference': 32.908527000017784, 'postprocess': 1.6846579999310052},\n",
              " ultralytics.engine.results.Results object with attributes:\n",
              " \n",
              " boxes: ultralytics.engine.results.Boxes object\n",
              " keypoints: None\n",
              " masks: None\n",
              " names: {0: 'bus', 1: 'car', 2: 'person', 3: 'traffic light', 4: 'tree', 5: 'truck'}\n",
              " obb: None\n",
              " orig_img: array([[[117, 126, 130],\n",
              "         [116, 125, 129],\n",
              "         [116, 125, 129],\n",
              "         ...,\n",
              "         [126, 123, 119],\n",
              "         [120, 115, 114],\n",
              "         [124, 119, 118]],\n",
              " \n",
              "        [[ 94, 103, 107],\n",
              "         [ 89,  98, 102],\n",
              "         [ 93, 102, 106],\n",
              "         ...,\n",
              "         [165, 162, 158],\n",
              "         [146, 141, 140],\n",
              "         [115, 110, 109]],\n",
              " \n",
              "        [[ 79,  88,  92],\n",
              "         [ 71,  80,  84],\n",
              "         [ 80,  86,  91],\n",
              "         ...,\n",
              "         [203, 203, 197],\n",
              "         [191, 188, 184],\n",
              "         [143, 140, 136]],\n",
              " \n",
              "        ...,\n",
              " \n",
              "        [[ 22,  82,  48],\n",
              "         [ 21,  81,  47],\n",
              "         [ 22,  79,  46],\n",
              "         ...,\n",
              "         [ 71,  66,  67],\n",
              "         [ 70,  65,  66],\n",
              "         [ 71,  66,  67]],\n",
              " \n",
              "        [[ 24,  85,  51],\n",
              "         [ 22,  83,  49],\n",
              "         [ 22,  82,  48],\n",
              "         ...,\n",
              "         [ 71,  66,  67],\n",
              "         [ 71,  66,  67],\n",
              "         [ 72,  67,  68]],\n",
              " \n",
              "        [[ 16,  77,  43],\n",
              "         [ 15,  76,  42],\n",
              "         [ 16,  76,  42],\n",
              "         ...,\n",
              "         [ 76,  71,  72],\n",
              "         [ 77,  72,  73],\n",
              "         [ 78,  73,  74]]], dtype=uint8)\n",
              " orig_shape: (640, 640)\n",
              " path: '/content/drive/MyDrive/YOLO_Datasets/Drone-Object-Detection-2/test/images/0000311_jpg.rf.847af2777260a6232a9dbd35300ad201.jpg'\n",
              " probs: None\n",
              " save_dir: 'runs/detect/predict'\n",
              " speed: {'preprocess': 2.0571660002133285, 'inference': 32.909642000049644, 'postprocess': 1.797889000044961},\n",
              " ultralytics.engine.results.Results object with attributes:\n",
              " \n",
              " boxes: ultralytics.engine.results.Boxes object\n",
              " keypoints: None\n",
              " masks: None\n",
              " names: {0: 'bus', 1: 'car', 2: 'person', 3: 'traffic light', 4: 'tree', 5: 'truck'}\n",
              " obb: None\n",
              " orig_img: array([[[103,  81,  75],\n",
              "         [ 90,  71,  64],\n",
              "         [154, 133, 131],\n",
              "         ...,\n",
              "         [ 32,  55,  47],\n",
              "         [ 30,  54,  44],\n",
              "         [ 24,  49,  39]],\n",
              " \n",
              "        [[109,  87,  81],\n",
              "         [145, 126, 119],\n",
              "         [178, 159, 156],\n",
              "         ...,\n",
              "         [ 28,  51,  43],\n",
              "         [ 21,  46,  36],\n",
              "         [ 16,  41,  31]],\n",
              " \n",
              "        [[150, 131, 124],\n",
              "         [212, 193, 186],\n",
              "         [202, 183, 180],\n",
              "         ...,\n",
              "         [ 23,  46,  38],\n",
              "         [ 20,  45,  35],\n",
              "         [ 21,  46,  36]],\n",
              " \n",
              "        ...,\n",
              " \n",
              "        [[ 30,  70,  45],\n",
              "         [ 36,  76,  51],\n",
              "         [ 42,  77,  57],\n",
              "         ...,\n",
              "         [ 75,  70,  71],\n",
              "         [ 74,  69,  70],\n",
              "         [ 73,  68,  69]],\n",
              " \n",
              "        [[ 32,  72,  47],\n",
              "         [ 37,  77,  52],\n",
              "         [ 44,  79,  59],\n",
              "         ...,\n",
              "         [ 73,  68,  69],\n",
              "         [ 73,  68,  69],\n",
              "         [ 73,  68,  69]],\n",
              " \n",
              "        [[ 13,  53,  28],\n",
              "         [ 17,  57,  32],\n",
              "         [ 27,  62,  42],\n",
              "         ...,\n",
              "         [ 71,  66,  67],\n",
              "         [ 73,  68,  69],\n",
              "         [ 74,  69,  70]]], dtype=uint8)\n",
              " orig_shape: (640, 640)\n",
              " path: '/content/drive/MyDrive/YOLO_Datasets/Drone-Object-Detection-2/test/images/0000324_jpg.rf.40279f3b745e587bf4acc98e2708c867.jpg'\n",
              " probs: None\n",
              " save_dir: 'runs/detect/predict'\n",
              " speed: {'preprocess': 2.0425449999947887, 'inference': 32.84763200008456, 'postprocess': 1.6747529998610844},\n",
              " ultralytics.engine.results.Results object with attributes:\n",
              " \n",
              " boxes: ultralytics.engine.results.Boxes object\n",
              " keypoints: None\n",
              " masks: None\n",
              " names: {0: 'bus', 1: 'car', 2: 'person', 3: 'traffic light', 4: 'tree', 5: 'truck'}\n",
              " obb: None\n",
              " orig_img: array([[[ 72,  72,  72],\n",
              "         [ 77,  77,  77],\n",
              "         [ 76,  76,  76],\n",
              "         ...,\n",
              "         [ 16,  27,  25],\n",
              "         [ 26,  32,  31],\n",
              "         [ 23,  30,  27]],\n",
              " \n",
              "        [[ 74,  74,  74],\n",
              "         [ 77,  77,  77],\n",
              "         [ 80,  80,  80],\n",
              "         ...,\n",
              "         [ 24,  35,  33],\n",
              "         [ 33,  41,  40],\n",
              "         [ 32,  39,  36]],\n",
              " \n",
              "        [[ 80,  80,  80],\n",
              "         [ 72,  72,  72],\n",
              "         [ 79,  79,  79],\n",
              "         ...,\n",
              "         [ 27,  38,  36],\n",
              "         [ 38,  46,  45],\n",
              "         [ 34,  43,  40]],\n",
              " \n",
              "        ...,\n",
              " \n",
              "        [[ 38,  57,  54],\n",
              "         [ 86, 105, 102],\n",
              "         [124, 141, 138],\n",
              "         ...,\n",
              "         [220, 209, 205],\n",
              "         [244, 233, 229],\n",
              "         [249, 238, 234]],\n",
              " \n",
              "        [[ 38,  57,  54],\n",
              "         [ 79,  98,  95],\n",
              "         [112, 129, 126],\n",
              "         ...,\n",
              "         [161, 150, 146],\n",
              "         [211, 200, 196],\n",
              "         [204, 193, 189]],\n",
              " \n",
              "        [[ 45,  64,  61],\n",
              "         [ 80,  99,  96],\n",
              "         [108, 125, 122],\n",
              "         ...,\n",
              "         [ 63,  52,  48],\n",
              "         [ 91,  80,  76],\n",
              "         [ 86,  75,  71]]], dtype=uint8)\n",
              " orig_shape: (640, 640)\n",
              " path: '/content/drive/MyDrive/YOLO_Datasets/Drone-Object-Detection-2/test/images/0000329_jpg.rf.bb7d2bfec8d47559dd769ea95fa44fae.jpg'\n",
              " probs: None\n",
              " save_dir: 'runs/detect/predict'\n",
              " speed: {'preprocess': 2.083793000110745, 'inference': 32.86175700009153, 'postprocess': 1.7323350000424398},\n",
              " ultralytics.engine.results.Results object with attributes:\n",
              " \n",
              " boxes: ultralytics.engine.results.Boxes object\n",
              " keypoints: None\n",
              " masks: None\n",
              " names: {0: 'bus', 1: 'car', 2: 'person', 3: 'traffic light', 4: 'tree', 5: 'truck'}\n",
              " obb: None\n",
              " orig_img: array([[[ 86,  80,  81],\n",
              "         [ 77,  71,  72],\n",
              "         [ 83,  77,  78],\n",
              "         ...,\n",
              "         [ 22,  41,  44],\n",
              "         [ 17,  32,  34],\n",
              "         [ 25,  40,  42]],\n",
              " \n",
              "        [[ 82,  76,  77],\n",
              "         [ 77,  71,  72],\n",
              "         [ 86,  80,  81],\n",
              "         ...,\n",
              "         [ 22,  41,  44],\n",
              "         [ 20,  38,  39],\n",
              "         [ 24,  39,  41]],\n",
              " \n",
              "        [[ 80,  75,  76],\n",
              "         [ 81,  76,  77],\n",
              "         [ 93,  88,  89],\n",
              "         ...,\n",
              "         [ 20,  39,  42],\n",
              "         [ 26,  44,  45],\n",
              "         [ 21,  39,  40]],\n",
              " \n",
              "        ...,\n",
              " \n",
              "        [[106, 119, 117],\n",
              "         [134, 147, 145],\n",
              "         [141, 154, 152],\n",
              "         ...,\n",
              "         [176, 165, 161],\n",
              "         [ 98,  88,  81],\n",
              "         [ 64,  54,  47]],\n",
              " \n",
              "        [[ 99, 112, 110],\n",
              "         [129, 142, 140],\n",
              "         [139, 152, 150],\n",
              "         ...,\n",
              "         [185, 174, 170],\n",
              "         [177, 166, 162],\n",
              "         [148, 137, 133]],\n",
              " \n",
              "        [[ 86,  99,  97],\n",
              "         [118, 131, 129],\n",
              "         [131, 144, 142],\n",
              "         ...,\n",
              "         [ 73,  62,  58],\n",
              "         [128, 117, 113],\n",
              "         [215, 204, 200]]], dtype=uint8)\n",
              " orig_shape: (640, 640)\n",
              " path: '/content/drive/MyDrive/YOLO_Datasets/Drone-Object-Detection-2/test/images/0000331_jpg.rf.863f827419582d7596e6c5985c9b81e9.jpg'\n",
              " probs: None\n",
              " save_dir: 'runs/detect/predict'\n",
              " speed: {'preprocess': 2.844230999926367, 'inference': 34.10297799996442, 'postprocess': 2.4229030000242346},\n",
              " ultralytics.engine.results.Results object with attributes:\n",
              " \n",
              " boxes: ultralytics.engine.results.Boxes object\n",
              " keypoints: None\n",
              " masks: None\n",
              " names: {0: 'bus', 1: 'car', 2: 'person', 3: 'traffic light', 4: 'tree', 5: 'truck'}\n",
              " obb: None\n",
              " orig_img: array([[[ 70,  72,  80],\n",
              "         [ 72,  74,  82],\n",
              "         [ 74,  74,  80],\n",
              "         ...,\n",
              "         [ 40,  59,  66],\n",
              "         [ 18,  37,  44],\n",
              "         [ 20,  40,  45]],\n",
              " \n",
              "        [[ 74,  76,  84],\n",
              "         [ 76,  78,  86],\n",
              "         [ 76,  76,  82],\n",
              "         ...,\n",
              "         [ 33,  52,  59],\n",
              "         [ 14,  33,  40],\n",
              "         [ 20,  40,  45]],\n",
              " \n",
              "        [[ 75,  74,  83],\n",
              "         [ 79,  78,  87],\n",
              "         [ 78,  78,  84],\n",
              "         ...,\n",
              "         [ 23,  45,  51],\n",
              "         [ 11,  30,  37],\n",
              "         [ 22,  42,  47]],\n",
              " \n",
              "        ...,\n",
              " \n",
              "        [[129, 145, 144],\n",
              "         [126, 142, 141],\n",
              "         [124, 138, 137],\n",
              "         ...,\n",
              "         [112, 108, 107],\n",
              "         [176, 173, 169],\n",
              "         [228, 225, 221]],\n",
              " \n",
              "        [[125, 141, 140],\n",
              "         [123, 139, 138],\n",
              "         [121, 135, 134],\n",
              "         ...,\n",
              "         [ 69,  65,  64],\n",
              "         [125, 122, 118],\n",
              "         [183, 180, 176]],\n",
              " \n",
              "        [[113, 129, 128],\n",
              "         [113, 129, 128],\n",
              "         [113, 127, 126],\n",
              "         ...,\n",
              "         [ 43,  39,  38],\n",
              "         [ 72,  69,  65],\n",
              "         [119, 116, 112]]], dtype=uint8)\n",
              " orig_shape: (640, 640)\n",
              " path: '/content/drive/MyDrive/YOLO_Datasets/Drone-Object-Detection-2/test/images/0000333_jpg.rf.fdf97b385a19412d6496582b7208e936.jpg'\n",
              " probs: None\n",
              " save_dir: 'runs/detect/predict'\n",
              " speed: {'preprocess': 2.7114410002013756, 'inference': 32.9002789999322, 'postprocess': 2.051493999942977},\n",
              " ultralytics.engine.results.Results object with attributes:\n",
              " \n",
              " boxes: ultralytics.engine.results.Boxes object\n",
              " keypoints: None\n",
              " masks: None\n",
              " names: {0: 'bus', 1: 'car', 2: 'person', 3: 'traffic light', 4: 'tree', 5: 'truck'}\n",
              " obb: None\n",
              " orig_img: array([[[ 89,  86,  95],\n",
              "         [ 77,  75,  81],\n",
              "         [ 75,  73,  79],\n",
              "         ...,\n",
              "         [ 26,  46,  51],\n",
              "         [ 20,  41,  43],\n",
              "         [ 19,  40,  42]],\n",
              " \n",
              "        [[ 82,  79,  88],\n",
              "         [ 80,  78,  84],\n",
              "         [ 76,  75,  79],\n",
              "         ...,\n",
              "         [ 24,  44,  49],\n",
              "         [ 20,  41,  43],\n",
              "         [ 20,  41,  43]],\n",
              " \n",
              "        [[ 75,  73,  79],\n",
              "         [ 86,  84,  90],\n",
              "         [ 81,  77,  82],\n",
              "         ...,\n",
              "         [ 21,  43,  48],\n",
              "         [ 23,  44,  46],\n",
              "         [ 22,  43,  45]],\n",
              " \n",
              "        ...,\n",
              " \n",
              "        [[137, 149, 149],\n",
              "         [130, 142, 142],\n",
              "         [122, 134, 134],\n",
              "         ...,\n",
              "         [ 67,  58,  61],\n",
              "         [ 62,  53,  56],\n",
              "         [ 57,  48,  51]],\n",
              " \n",
              "        [[124, 136, 136],\n",
              "         [124, 136, 136],\n",
              "         [123, 135, 135],\n",
              "         ...,\n",
              "         [ 67,  58,  61],\n",
              "         [ 63,  54,  57],\n",
              "         [ 60,  51,  54]],\n",
              " \n",
              "        [[111, 123, 123],\n",
              "         [118, 130, 130],\n",
              "         [123, 135, 135],\n",
              "         ...,\n",
              "         [ 67,  58,  61],\n",
              "         [ 65,  56,  59],\n",
              "         [ 64,  55,  58]]], dtype=uint8)\n",
              " orig_shape: (640, 640)\n",
              " path: '/content/drive/MyDrive/YOLO_Datasets/Drone-Object-Detection-2/test/images/0000334_jpg.rf.0167af1740f341e6903b3dd2fa3a1fd5.jpg'\n",
              " probs: None\n",
              " save_dir: 'runs/detect/predict'\n",
              " speed: {'preprocess': 2.046193000069252, 'inference': 32.9117999999653, 'postprocess': 2.4955439998848306},\n",
              " ultralytics.engine.results.Results object with attributes:\n",
              " \n",
              " boxes: ultralytics.engine.results.Boxes object\n",
              " keypoints: None\n",
              " masks: None\n",
              " names: {0: 'bus', 1: 'car', 2: 'person', 3: 'traffic light', 4: 'tree', 5: 'truck'}\n",
              " obb: None\n",
              " orig_img: array([[[ 80,  83,  81],\n",
              "         [ 79,  81,  81],\n",
              "         [ 72,  76,  77],\n",
              "         ...,\n",
              "         [ 38,  51,  65],\n",
              "         [ 22,  34,  46],\n",
              "         [ 20,  32,  44]],\n",
              " \n",
              "        [[ 84,  87,  85],\n",
              "         [ 79,  81,  81],\n",
              "         [ 67,  71,  72],\n",
              "         ...,\n",
              "         [ 39,  52,  66],\n",
              "         [ 23,  35,  47],\n",
              "         [ 23,  35,  47]],\n",
              " \n",
              "        [[ 89,  92,  90],\n",
              "         [ 84,  86,  86],\n",
              "         [ 70,  72,  73],\n",
              "         ...,\n",
              "         [ 37,  50,  64],\n",
              "         [ 22,  36,  48],\n",
              "         [ 23,  37,  49]],\n",
              " \n",
              "        ...,\n",
              " \n",
              "        [[125, 138, 136],\n",
              "         [117, 130, 128],\n",
              "         [111, 124, 122],\n",
              "         ...,\n",
              "         [ 77,  72,  73],\n",
              "         [ 80,  75,  76],\n",
              "         [ 82,  77,  78]],\n",
              " \n",
              "        [[133, 146, 144],\n",
              "         [122, 135, 133],\n",
              "         [114, 127, 125],\n",
              "         ...,\n",
              "         [ 75,  70,  71],\n",
              "         [ 77,  72,  73],\n",
              "         [ 79,  74,  75]],\n",
              " \n",
              "        [[140, 153, 151],\n",
              "         [128, 141, 139],\n",
              "         [118, 131, 129],\n",
              "         ...,\n",
              "         [ 76,  71,  72],\n",
              "         [ 77,  72,  73],\n",
              "         [ 77,  72,  73]]], dtype=uint8)\n",
              " orig_shape: (640, 640)\n",
              " path: '/content/drive/MyDrive/YOLO_Datasets/Drone-Object-Detection-2/test/images/0000337_jpg.rf.704cbef20758bd1f94e667fad827b153.jpg'\n",
              " probs: None\n",
              " save_dir: 'runs/detect/predict'\n",
              " speed: {'preprocess': 1.9965940000474802, 'inference': 32.86024399994858, 'postprocess': 1.6755089998241601},\n",
              " ultralytics.engine.results.Results object with attributes:\n",
              " \n",
              " boxes: ultralytics.engine.results.Boxes object\n",
              " keypoints: None\n",
              " masks: None\n",
              " names: {0: 'bus', 1: 'car', 2: 'person', 3: 'traffic light', 4: 'tree', 5: 'truck'}\n",
              " obb: None\n",
              " orig_img: array([[[ 85,  86,  84],\n",
              "         [ 81,  81,  81],\n",
              "         [ 74,  76,  77],\n",
              "         ...,\n",
              "         [ 56,  72,  78],\n",
              "         [ 19,  33,  39],\n",
              "         [ 24,  39,  42]],\n",
              " \n",
              "        [[ 84,  85,  83],\n",
              "         [ 77,  77,  77],\n",
              "         [ 66,  68,  69],\n",
              "         ...,\n",
              "         [ 52,  68,  74],\n",
              "         [ 21,  35,  41],\n",
              "         [ 24,  39,  42]],\n",
              " \n",
              "        [[ 87,  88,  86],\n",
              "         [ 80,  80,  80],\n",
              "         [ 68,  67,  69],\n",
              "         ...,\n",
              "         [ 43,  59,  65],\n",
              "         [ 22,  38,  44],\n",
              "         [ 21,  38,  41]],\n",
              " \n",
              "        ...,\n",
              " \n",
              "        [[127, 141, 139],\n",
              "         [120, 134, 132],\n",
              "         [115, 128, 126],\n",
              "         ...,\n",
              "         [ 78,  73,  74],\n",
              "         [ 82,  77,  78],\n",
              "         [ 84,  79,  80]],\n",
              " \n",
              "        [[131, 145, 143],\n",
              "         [122, 136, 134],\n",
              "         [116, 129, 127],\n",
              "         ...,\n",
              "         [ 76,  71,  72],\n",
              "         [ 78,  73,  74],\n",
              "         [ 79,  74,  75]],\n",
              " \n",
              "        [[134, 148, 146],\n",
              "         [123, 137, 135],\n",
              "         [117, 130, 128],\n",
              "         ...,\n",
              "         [ 76,  71,  72],\n",
              "         [ 75,  70,  71],\n",
              "         [ 74,  69,  70]]], dtype=uint8)\n",
              " orig_shape: (640, 640)\n",
              " path: '/content/drive/MyDrive/YOLO_Datasets/Drone-Object-Detection-2/test/images/0000339_jpg.rf.a75c41fd6b82454c79737ac57f1f173b.jpg'\n",
              " probs: None\n",
              " save_dir: 'runs/detect/predict'\n",
              " speed: {'preprocess': 2.050009000186037, 'inference': 32.88082000017312, 'postprocess': 1.7285720000472793},\n",
              " ultralytics.engine.results.Results object with attributes:\n",
              " \n",
              " boxes: ultralytics.engine.results.Boxes object\n",
              " keypoints: None\n",
              " masks: None\n",
              " names: {0: 'bus', 1: 'car', 2: 'person', 3: 'traffic light', 4: 'tree', 5: 'truck'}\n",
              " obb: None\n",
              " orig_img: array([[[105,  94,  96],\n",
              "         [ 80,  69,  72],\n",
              "         [ 79,  69,  75],\n",
              "         ...,\n",
              "         [ 35,  53,  64],\n",
              "         [ 22,  41,  49],\n",
              "         [ 22,  41,  49]],\n",
              " \n",
              "        [[ 93,  82,  84],\n",
              "         [ 86,  77,  80],\n",
              "         [ 79,  69,  75],\n",
              "         ...,\n",
              "         [ 38,  56,  67],\n",
              "         [ 18,  37,  45],\n",
              "         [ 15,  34,  42]],\n",
              " \n",
              "        [[ 83,  75,  76],\n",
              "         [ 97,  88,  91],\n",
              "         [ 80,  70,  76],\n",
              "         ...,\n",
              "         [ 32,  52,  63],\n",
              "         [ 17,  36,  44],\n",
              "         [ 15,  34,  42]],\n",
              " \n",
              "        ...,\n",
              " \n",
              "        [[121, 130, 133],\n",
              "         [136, 145, 148],\n",
              "         [117, 124, 127],\n",
              "         ...,\n",
              "         [ 77,  72,  73],\n",
              "         [ 77,  72,  73],\n",
              "         [ 78,  73,  74]],\n",
              " \n",
              "        [[129, 138, 142],\n",
              "         [141, 150, 153],\n",
              "         [121, 128, 131],\n",
              "         ...,\n",
              "         [ 76,  71,  72],\n",
              "         [ 76,  71,  72],\n",
              "         [ 76,  71,  72]],\n",
              " \n",
              "        [[142, 151, 155],\n",
              "         [128, 137, 141],\n",
              "         [113, 120, 123],\n",
              "         ...,\n",
              "         [ 75,  70,  71],\n",
              "         [ 75,  70,  71],\n",
              "         [ 75,  70,  71]]], dtype=uint8)\n",
              " orig_shape: (640, 640)\n",
              " path: '/content/drive/MyDrive/YOLO_Datasets/Drone-Object-Detection-2/test/images/0000345_jpg.rf.7b4cd5e55888290968ea20b541d4385f.jpg'\n",
              " probs: None\n",
              " save_dir: 'runs/detect/predict'\n",
              " speed: {'preprocess': 2.056862000017645, 'inference': 32.87714299995059, 'postprocess': 1.6639240000131394},\n",
              " ultralytics.engine.results.Results object with attributes:\n",
              " \n",
              " boxes: ultralytics.engine.results.Boxes object\n",
              " keypoints: None\n",
              " masks: None\n",
              " names: {0: 'bus', 1: 'car', 2: 'person', 3: 'traffic light', 4: 'tree', 5: 'truck'}\n",
              " obb: None\n",
              " orig_img: array([[[ 72,  70,  76],\n",
              "         [ 79,  78,  82],\n",
              "         [ 87,  86,  90],\n",
              "         ...,\n",
              "         [ 43,  59,  71],\n",
              "         [ 37,  52,  61],\n",
              "         [ 33,  48,  57]],\n",
              " \n",
              "        [[ 78,  76,  82],\n",
              "         [ 81,  80,  84],\n",
              "         [ 85,  84,  86],\n",
              "         ...,\n",
              "         [ 47,  63,  75],\n",
              "         [ 44,  61,  70],\n",
              "         [ 39,  56,  65]],\n",
              " \n",
              "        [[ 81,  80,  84],\n",
              "         [ 78,  77,  81],\n",
              "         [ 82,  79,  81],\n",
              "         ...,\n",
              "         [ 42,  60,  71],\n",
              "         [ 48,  67,  75],\n",
              "         [ 43,  62,  70]],\n",
              " \n",
              "        ...,\n",
              " \n",
              "        [[170, 159, 151],\n",
              "         [139, 128, 120],\n",
              "         [107,  94,  86],\n",
              "         ...,\n",
              "         [ 71,  66,  67],\n",
              "         [ 70,  65,  66],\n",
              "         [ 69,  64,  65]],\n",
              " \n",
              "        [[171, 158, 150],\n",
              "         [109,  96,  88],\n",
              "         [108,  96,  86],\n",
              "         ...,\n",
              "         [ 73,  68,  69],\n",
              "         [ 72,  67,  68],\n",
              "         [ 70,  65,  66]],\n",
              " \n",
              "        [[194, 181, 173],\n",
              "         [106,  93,  85],\n",
              "         [109,  97,  87],\n",
              "         ...,\n",
              "         [ 77,  72,  73],\n",
              "         [ 76,  71,  72],\n",
              "         [ 75,  70,  71]]], dtype=uint8)\n",
              " orig_shape: (640, 640)\n",
              " path: '/content/drive/MyDrive/YOLO_Datasets/Drone-Object-Detection-2/test/images/0000364_jpg.rf.de160e3c3b6d61162c5dce911964a539.jpg'\n",
              " probs: None\n",
              " save_dir: 'runs/detect/predict'\n",
              " speed: {'preprocess': 2.134522000005745, 'inference': 32.858968000027744, 'postprocess': 1.6625340001610311},\n",
              " ultralytics.engine.results.Results object with attributes:\n",
              " \n",
              " boxes: ultralytics.engine.results.Boxes object\n",
              " keypoints: None\n",
              " masks: None\n",
              " names: {0: 'bus', 1: 'car', 2: 'person', 3: 'traffic light', 4: 'tree', 5: 'truck'}\n",
              " obb: None\n",
              " orig_img: array([[[ 64,  62,  68],\n",
              "         [ 88,  87,  91],\n",
              "         [ 83,  82,  86],\n",
              "         ...,\n",
              "         [ 41,  64,  79],\n",
              "         [ 32,  55,  70],\n",
              "         [ 20,  43,  58]],\n",
              " \n",
              "        [[ 71,  69,  75],\n",
              "         [ 89,  88,  92],\n",
              "         [ 83,  82,  84],\n",
              "         ...,\n",
              "         [ 38,  61,  76],\n",
              "         [ 34,  57,  72],\n",
              "         [ 25,  48,  63]],\n",
              " \n",
              "        [[ 75,  74,  78],\n",
              "         [ 84,  83,  87],\n",
              "         [ 79,  76,  78],\n",
              "         ...,\n",
              "         [ 39,  65,  77],\n",
              "         [ 43,  69,  81],\n",
              "         [ 40,  66,  78]],\n",
              " \n",
              "        ...,\n",
              " \n",
              "        [[127, 128, 118],\n",
              "         [192, 193, 183],\n",
              "         [ 89,  88,  78],\n",
              "         ...,\n",
              "         [ 75,  70,  71],\n",
              "         [ 75,  70,  71],\n",
              "         [ 75,  70,  71]],\n",
              " \n",
              "        [[129, 128, 118],\n",
              "         [155, 154, 144],\n",
              "         [ 90,  88,  77],\n",
              "         ...,\n",
              "         [ 74,  69,  70],\n",
              "         [ 74,  69,  70],\n",
              "         [ 74,  69,  70]],\n",
              " \n",
              "        [[162, 161, 151],\n",
              "         [128, 127, 117],\n",
              "         [ 91,  89,  78],\n",
              "         ...,\n",
              "         [ 74,  69,  70],\n",
              "         [ 74,  69,  70],\n",
              "         [ 74,  69,  70]]], dtype=uint8)\n",
              " orig_shape: (640, 640)\n",
              " path: '/content/drive/MyDrive/YOLO_Datasets/Drone-Object-Detection-2/test/images/0000366_jpg.rf.b7e396744e6797a54e5641dc081c9092.jpg'\n",
              " probs: None\n",
              " save_dir: 'runs/detect/predict'\n",
              " speed: {'preprocess': 2.0756240000991966, 'inference': 32.87130200010324, 'postprocess': 1.7254510000839218},\n",
              " ultralytics.engine.results.Results object with attributes:\n",
              " \n",
              " boxes: ultralytics.engine.results.Boxes object\n",
              " keypoints: None\n",
              " masks: None\n",
              " names: {0: 'bus', 1: 'car', 2: 'person', 3: 'traffic light', 4: 'tree', 5: 'truck'}\n",
              " obb: None\n",
              " orig_img: array([[[ 69,  67,  73],\n",
              "         [ 85,  84,  88],\n",
              "         [ 87,  86,  90],\n",
              "         ...,\n",
              "         [ 32,  60,  71],\n",
              "         [ 26,  56,  67],\n",
              "         [ 20,  50,  61]],\n",
              " \n",
              "        [[ 77,  75,  81],\n",
              "         [ 87,  86,  90],\n",
              "         [ 87,  86,  88],\n",
              "         ...,\n",
              "         [ 39,  68,  77],\n",
              "         [ 33,  63,  74],\n",
              "         [ 24,  55,  64]],\n",
              " \n",
              "        [[ 76,  75,  79],\n",
              "         [ 80,  79,  83],\n",
              "         [ 78,  75,  77],\n",
              "         ...,\n",
              "         [ 43,  72,  79],\n",
              "         [ 42,  73,  82],\n",
              "         [ 35,  67,  73]],\n",
              " \n",
              "        ...,\n",
              " \n",
              "        [[118, 113, 110],\n",
              "         [189, 186, 182],\n",
              "         [227, 222, 219],\n",
              "         ...,\n",
              "         [ 72,  67,  68],\n",
              "         [ 71,  66,  67],\n",
              "         [ 71,  66,  67]],\n",
              " \n",
              "        [[115, 109, 104],\n",
              "         [207, 203, 198],\n",
              "         [240, 234, 229],\n",
              "         ...,\n",
              "         [ 75,  70,  71],\n",
              "         [ 75,  70,  71],\n",
              "         [ 74,  69,  70]],\n",
              " \n",
              "        [[128, 122, 117],\n",
              "         [227, 221, 216],\n",
              "         [243, 237, 232],\n",
              "         ...,\n",
              "         [ 77,  72,  73],\n",
              "         [ 78,  73,  74],\n",
              "         [ 78,  73,  74]]], dtype=uint8)\n",
              " orig_shape: (640, 640)\n",
              " path: '/content/drive/MyDrive/YOLO_Datasets/Drone-Object-Detection-2/test/images/0000368_jpg.rf.4de5fdae35612af89d4be00f81bda2ba.jpg'\n",
              " probs: None\n",
              " save_dir: 'runs/detect/predict'\n",
              " speed: {'preprocess': 2.644572999997763, 'inference': 32.94798900014939, 'postprocess': 4.9512799998865376},\n",
              " ultralytics.engine.results.Results object with attributes:\n",
              " \n",
              " boxes: ultralytics.engine.results.Boxes object\n",
              " keypoints: None\n",
              " masks: None\n",
              " names: {0: 'bus', 1: 'car', 2: 'person', 3: 'traffic light', 4: 'tree', 5: 'truck'}\n",
              " obb: None\n",
              " orig_img: array([[[ 70,  72,  66],\n",
              "         [ 86,  87,  83],\n",
              "         [ 88,  88,  88],\n",
              "         ...,\n",
              "         [ 32,  59,  73],\n",
              "         [ 28,  55,  69],\n",
              "         [ 28,  55,  69]],\n",
              " \n",
              "        [[ 74,  76,  70],\n",
              "         [ 85,  86,  82],\n",
              "         [ 84,  84,  84],\n",
              "         ...,\n",
              "         [ 39,  66,  80],\n",
              "         [ 35,  62,  76],\n",
              "         [ 28,  55,  69]],\n",
              " \n",
              "        [[ 76,  78,  72],\n",
              "         [ 81,  82,  78],\n",
              "         [ 79,  77,  76],\n",
              "         ...,\n",
              "         [ 44,  72,  83],\n",
              "         [ 45,  73,  84],\n",
              "         [ 35,  63,  74]],\n",
              " \n",
              "        ...,\n",
              " \n",
              "        [[102, 107, 105],\n",
              "         [125, 130, 128],\n",
              "         [145, 148, 146],\n",
              "         ...,\n",
              "         [ 77,  72,  73],\n",
              "         [ 75,  70,  71],\n",
              "         [ 73,  68,  69]],\n",
              " \n",
              "        [[105, 109, 104],\n",
              "         [171, 175, 170],\n",
              "         [224, 225, 221],\n",
              "         ...,\n",
              "         [ 77,  72,  73],\n",
              "         [ 75,  70,  71],\n",
              "         [ 72,  67,  68]],\n",
              " \n",
              "        [[106, 110, 105],\n",
              "         [188, 192, 187],\n",
              "         [240, 241, 237],\n",
              "         ...,\n",
              "         [ 77,  72,  73],\n",
              "         [ 74,  69,  70],\n",
              "         [ 72,  67,  68]]], dtype=uint8)\n",
              " orig_shape: (640, 640)\n",
              " path: '/content/drive/MyDrive/YOLO_Datasets/Drone-Object-Detection-2/test/images/0000369_jpg.rf.d5a528a066a75649006fbe7638e61adf.jpg'\n",
              " probs: None\n",
              " save_dir: 'runs/detect/predict'\n",
              " speed: {'preprocess': 2.0336269999461365, 'inference': 32.879203999982565, 'postprocess': 1.932264000060968}]"
            ]
          },
          "metadata": {},
          "execution_count": 3
        }
      ]
    }
  ]
}